{
 "cells": [
  {
   "cell_type": "code",
   "execution_count": 3,
   "metadata": {},
   "outputs": [],
   "source": [
    "from wand.image import Image as WImage\n",
    "from typing import List"
   ]
  },
  {
   "cell_type": "markdown",
   "metadata": {},
   "source": [
    "# Лабораторная работа 2. Методы поиска\n",
    "**Цель работы**: ознакомление с алгоритмами поиска в линейных и нелинейных структурах и оценкой эффективности алгоритмов."
   ]
  },
  {
   "cell_type": "markdown",
   "metadata": {},
   "source": [
    "## Поиск по последовательности\n",
    "### Бинарный поиск\n",
    "Бинарный поиск - это алгоритм поиска элемента в заранее упорядоченной по возростанию последовательности. На каждом этапе поиска происходит отсечение непрегодных элементов в зависимости от того больше ли искомый элемент серединного элемента или меньше(при условии что они не равны). За счет такого алгоритма достигается максимальная скорость поиска нужных элементов в очень больших последовательностях.\n",
    "  - В худшем случае: $O(log(n))$\n",
    "  - В лучшем случае: $O(1)$\n",
    "  - В среднем: $O(log(n))$"
   ]
  },
  {
   "cell_type": "markdown",
   "metadata": {},
   "source": [
    "### Блок-схема"
   ]
  },
  {
   "cell_type": "code",
   "execution_count": 4,
   "metadata": {},
   "outputs": [
    {
     "data": {
      "image/png": "[encoded data removed]",
      "text/plain": [
       "<wand.image.Image: b79db1d 'PDF' (338x533)>"
      ]
     },
     "execution_count": 4,
     "metadata": {},
     "output_type": "execute_result"
    }
   ],
   "source": [
    "from wand.image import Image as WImage\n",
    "img = WImage(filename='diagram.pdf')\n",
    "img"
   ]
  },
  {
   "cell_type": "markdown",
   "metadata": {},
   "source": [
    "### Псевдокод\n",
    "\n",
    "```\n",
    "int binary_search(int *X, int a) {\n",
    "    size = sizeof(X)/sizeof(X[0])\n",
    "    int mid_idx, left_idx, right_idx = nullptr, 0, size - 1\n",
    "    while (true) {\n",
    "        if (left_idx > right_idx) {\n",
    "            return nullptr;\n",
    "        }\n",
    "        mid_idx = left_idx + (right_idx - left_idx) / 2\n",
    "        if (X[mid_idx] < a) {\n",
    "            left_idx = mid_idx + 1;\n",
    "        }\n",
    "        if (X[mid_idx] > a) {\n",
    "            right_idx = mid_idx - 1;\n",
    "        }\n",
    "        if (X[mid_idxmi] == a) {\n",
    "            return X[mid_idx]\n",
    "        }\n",
    "    }\n",
    "}\n",
    "```"
   ]
  },
  {
   "cell_type": "markdown",
   "metadata": {},
   "source": [
    "### Особенности\n",
    "\n",
    "Достоинства алгоритма:\n",
    "\n",
    "    -- простота реализации\n",
    "    -- очень высокая скорость поиска в больших последовательностях\n",
    "\n",
    "Недостатки:\n",
    "\n",
    "    -- подходит только для поиска по упорядоченной по возростанию последовательности"
   ]
  },
  {
   "cell_type": "markdown",
   "metadata": {},
   "source": [
    "### Реализация"
   ]
  },
  {
   "cell_type": "code",
   "execution_count": 5,
   "metadata": {},
   "outputs": [],
   "source": [
    "def binary_search(X: List, a):\n",
    "    mid_idx, left_idx, right_idx = None, 0, len(X) - 1\n",
    "    while True:\n",
    "        if left_idx > right_idx:\n",
    "            return None\n",
    "        mid_idx = left_idx + (right_idx - left_idx) // 2\n",
    "        if X[mid_idx] < a:\n",
    "            left_idx = mid_idx + 1\n",
    "        if X[mid_idx] > a:\n",
    "            right_idx = mid_idx - 1\n",
    "        if X[mid_idx] == a:\n",
    "            return X[mid_idx]\n"
   ]
  },
  {
   "cell_type": "markdown",
   "metadata": {},
   "source": [
    "### Тестирование"
   ]
  },
  {
   "cell_type": "code",
   "execution_count": 6,
   "metadata": {},
   "outputs": [],
   "source": [
    "assert binary_search([1, 2, 3, 4, 5], 4) == 4, 'Ошибка при нахождении входящего значения'\n",
    "\n",
    "assert not binary_search([1, 2, 3, 4, 5], 0), 'Ошибка при не нахождении не входящего значения'"
   ]
  },
  {
   "cell_type": "code",
   "execution_count": 33,
   "metadata": {},
   "outputs": [
    {
     "name": "stdout",
     "output_type": "stream",
     "text": [
      "{100000: '00', 1000000: '00', 10000000: '00', 100000000: '00.014561'}\n"
     ]
    }
   ],
   "source": [
    "from datetime import datetime\n",
    "from random import randint\n",
    "import time\n",
    "\n",
    "sizes = [100_000, 1_000_000, 10_000_000, 100_000_000]\n",
    "\n",
    "relation = {}\n",
    "\n",
    "for size in sizes:\n",
    "    nums = list(range(size))\n",
    "    n = (size // 2) + 2\n",
    "    start_time = datetime.now()\n",
    "    a = binary_search(nums, n)\n",
    "    delta = datetime.now() - start_time\n",
    "    relation[size] = str(delta).split(':')[2]\n",
    "print(relation)"
   ]
  },
  {
   "cell_type": "markdown",
   "metadata": {},
   "source": [
    "Вывод: бинарный поиск очень быстрый, время поиска элемента занимает наносекунды!"
   ]
  },
  {
   "cell_type": "markdown",
   "metadata": {},
   "source": [
    "## Поиск подстроки в строке\n",
    "### Алгоритм Бойера — Мура\n",
    "Это уникальный алгоритм, который считается наиболее быстрым среди алгоритмов общего назначения, предназначенных для поиска подстроки в строке. Важной особенностью алгоритма является то, что он выполняет сравнения в шаблоне справа налево в отличие от многих других алгоритмов.\n",
    "\n",
    "Предварительно требуется составить таблицу смещений для алфавита символов и суффиксов искомой строки (до последнего вхождения). Если смещение по таблице символов отрицательное(происходит влево), то применяется смещение из таблицы суффиксов. Сущевствуют различные модификации данного алгоритма, но они превосходят по скорости только при случайной строке.\n",
    "\n",
    "Алгоритм Бойера-Мура считается наиболее эффективным алгоритмом поиска шаблонов в стандартных приложениях и командах, таких как Ctrl+F в браузерах и текстовых редакторах. \n"
   ]
  },
  {
   "cell_type": "markdown",
   "metadata": {},
   "source": [
    "### Блок-схема"
   ]
  },
  {
   "cell_type": "code",
   "execution_count": 5,
   "metadata": {},
   "outputs": [
    {
     "data": {
      "image/png": "[encoded data removed]",
      "text/plain": [
       "<wand.image.Image: 56bd7f4 'PDF' (377x720)>"
      ]
     },
     "execution_count": 5,
     "metadata": {},
     "output_type": "execute_result"
    }
   ],
   "source": [
    "from wand.image import Image as WImage\n",
    "img = WImage(filename='./diagram(2).pdf')\n",
    "img"
   ]
  },
  {
   "cell_type": "markdown",
   "metadata": {},
   "source": [
    "### Псевдокод\n",
    "\n",
    "```\n",
    "int find(const string pattern, const string &text){\n",
    "    size_t pattern_counter = 0\n",
    "    map symbols_shifts = create_symbol_shift_table(pattern)\n",
    "    map suffs_shifts = create_suff_shift_table(pattern)\n",
    "    int shift;\n",
    "    for(int i = 0; i < text.size() - pattern.size() + 1; i+=shift){\n",
    "        shift = 1\n",
    "        for(int j = pattern.size() - 1; j > -1; j--){\n",
    "            int k = i + j\n",
    "            if(text[k] != pattern[j]){\n",
    "               shift = j - symbols_shifts[text[k]]\n",
    "               if(shift > 0){\n",
    "                   break\n",
    "               }\n",
    "               if(shift < 0){\n",
    "                   string suff = substr(j, pattern.size())\n",
    "                   if(suff){\n",
    "                       shift = suffs_shifts[]\n",
    "                   }\n",
    "                   break\n",
    "               }\n",
    "            else if(j == 0 && text[k] == pattern[j]){\n",
    "                   pattern_counter++\n",
    "            }\n",
    "        }\n",
    "    }\n",
    "}\n",
    "```"
   ]
  },
  {
   "cell_type": "markdown",
   "metadata": {},
   "source": [
    "### Особенности\n",
    "Достоинства алгоритма:\n",
    "\n",
    "    -- в среднем самый быстрый алгоритм поиска подстрок\n",
    "    -- широко распространен\n",
    "\n",
    "Недостатки:\n",
    "\n",
    "    -- предварительные расчены перед непосредственным поиском"
   ]
  },
  {
   "cell_type": "markdown",
   "metadata": {},
   "source": [
    "### Реализация"
   ]
  },
  {
   "cell_type": "code",
   "execution_count": 7,
   "metadata": {},
   "outputs": [],
   "source": [
    "def create_symbol_shift_table(pattern: str) -> dict:\n",
    "    symbol_shift_table = dict()\n",
    "    for code in range(0, 256):\n",
    "        letter = chr(code)\n",
    "        if letter in pattern:\n",
    "            for i in range(len(pattern) - 1, -1, -1):\n",
    "                if pattern[i] == letter:\n",
    "                    symbol_shift_table[letter] = i\n",
    "                    break\n",
    "        else:\n",
    "            symbol_shift_table[letter] = -1\n",
    "    return symbol_shift_table\n",
    "\n",
    "\n",
    "def create_suff_shift_table(pattern: str) -> dict:\n",
    "    suff_shift_table = dict()\n",
    "    begin_suff = None\n",
    "    for j in range(len(pattern) - 1, -1, -1):\n",
    "        suff = pattern[j:len(pattern)]\n",
    "        patt = pattern[0:len(pattern) - 1]\n",
    "        if suff in patt:\n",
    "            suff_shift_table[suff] = j - patt.rfind(suff)\n",
    "        else:\n",
    "            subsuff = pattern[j + 1:len(pattern)]\n",
    "            if subsuff == pattern[0:len(subsuff)]:\n",
    "                begin_suff = subsuff\n",
    "            if begin_suff and begin_suff in suff:\n",
    "                suff_shift_table[suff] = suff_shift_table[subsuff]\n",
    "            else:\n",
    "                suff_shift_table[suff] = len(pattern)\n",
    "    return suff_shift_table\n",
    "\n",
    "\n",
    "def find(pattern: str, text: str) -> list:\n",
    "    finded = []\n",
    "    symbols_shifts = create_symbol_shift_table(pattern)\n",
    "    suffs_shifts = create_suff_shift_table(pattern)\n",
    "    i = 0\n",
    "    while i < len(text) - len(pattern) + 1:\n",
    "        shift = 1\n",
    "        for j in range(len(pattern) - 1, -1, -1):\n",
    "            k = i + j\n",
    "            if text[k] != pattern[j]:\n",
    "                shift = j - symbols_shifts[text[k]]\n",
    "                if shift > 0:\n",
    "                    break\n",
    "                if shift < 0:\n",
    "                    suff = pattern[j: len(pattern)]\n",
    "                    if suff:\n",
    "                        shift = suffs_shifts[suff]\n",
    "                    break\n",
    "            elif j == 0 and text[k] == pattern[j]:\n",
    "                finded.append(i)\n",
    "        i += shift\n",
    "    return finded"
   ]
  },
  {
   "cell_type": "markdown",
   "metadata": {},
   "source": [
    "### Тестирование"
   ]
  },
  {
   "cell_type": "code",
   "execution_count": 8,
   "metadata": {},
   "outputs": [
    {
     "name": "stdout",
     "output_type": "stream",
     "text": [
      "Total:132\n",
      "\n",
      "In positions:\n",
      "[4472, 4489, 4999, 5737, 6569, 6900, 6913, 7055, 7064, 7643, 8998, 9410, 9517, 9900, 10856, 10890, 12181, 14973, 16036, 16628, 17512, 18251, 19684, 19796, 22615, 22676, 23434, 24233, 24775, 25761, 27720, 27916, 28476, 30403, 30740, 31393, 40156, 40471, 40734, 41640, 42033, 43595, 46554, 47967, 48091, 50154, 50257, 52927, 53361, 54580, 55538, 56479, 56528, 58057, 60188, 60398, 62006, 62346, 69695, 69737, 70300, 71431, 72618, 72735, 104648, 106014, 106204, 107632, 108022, 108901, 109176, 109848, 109954, 112053, 113028, 113994, 115651, 115982, 117296, 117682, 121987, 122096, 122640, 125447, 125638, 125910, 126501, 128808, 129727, 133401, 134955, 135100, 135353, 135486, 137164, 137657, 138424, 139335, 139439, 139856, 141402, 141532, 141546, 142180, 142518, 142719, 143609, 147850, 152318, 153117, 154378, 154524, 155003, 187314, 298245, 298422, 301249, 301514, 303058, 307232, 307734, 307874, 308885, 310540, 314794, 317236, 317625, 321218, 324890, 325123, 326243, 327828]\n"
     ]
    }
   ],
   "source": [
    "with open(\"Hobbit_or_There_and_Back_Again-J_R_R_Tolkien.txt\") as file:\n",
    "    text = file.read()\n",
    "\n",
    "finded = find('Gandalf', text)\n",
    "print(f'Total:{len(finded)}', '', 'In positions:', finded, sep='\\n')"
   ]
  }
 ],
 "metadata": {
  "kernelspec": {
   "display_name": "Python 3 (ipykernel)",
   "language": "python",
   "name": "python3"
  },
  "language_info": {
   "codemirror_mode": {
    "name": "ipython",
    "version": 3
   },
   "file_extension": ".py",
   "mimetype": "text/x-python",
   "name": "python",
   "nbconvert_exporter": "python",
   "pygments_lexer": "ipython3",
   "version": "3.10.6"
  }
 },
 "nbformat": 4,
 "nbformat_minor": 1
}
