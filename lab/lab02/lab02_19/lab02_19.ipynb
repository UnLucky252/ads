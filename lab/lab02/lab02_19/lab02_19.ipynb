{
 "cells": [
  {
   "cell_type": "code",
   "execution_count": 155,
   "id": "c9da293b-c90b-48b7-a396-b2cf8aac7fac",
   "metadata": {},
   "outputs": [],
   "source": [
    "import time\n",
    "import pylab\n",
    "import numpy"
   ]
  },
  {
   "cell_type": "markdown",
   "id": "df9a96de-8b17-47b4-a13d-dcd013d27eab",
   "metadata": {},
   "source": [
    "# Лабораторная работа 2. Методы поиска\n",
    "\n",
    "**Цель работы:** ознакомление с алгоритмами поиска в линейных  и нелинейных структурах  и  оценкой эффективности алгоритмов."
   ]
  },
  {
   "cell_type": "markdown",
   "id": "7a5c3474-b84b-4a23-a092-bf409deca0e4",
   "metadata": {},
   "source": [
    "### Вариант 19"
   ]
  },
  {
   "cell_type": "markdown",
   "id": "7325711a-0916-49c2-b9b7-5d94b3925e17",
   "metadata": {
    "tags": []
   },
   "source": [
    "# Задание 1"
   ]
  },
  {
   "cell_type": "markdown",
   "id": "ab4f7e84-a8d3-41c4-9bcc-88a44230c563",
   "metadata": {
    "tags": []
   },
   "source": [
    "### Тема:\"Поиск корней уравнений (Метод Бисекции)\""
   ]
  },
  {
   "cell_type": "markdown",
   "id": "e4508a0a-3ecf-4f1b-9b7f-df98898e8677",
   "metadata": {},
   "source": [
    "**Метод бисекции** или **метод деления отрезка пополам** — простейший численный метод для решения нелинейных уравнений вида f(x)=0. Предполагается только непрерывность функции f(x). Поиск основывается на теореме о промежуточных значениях."
   ]
  },
  {
   "cell_type": "markdown",
   "id": "e9c792df-c957-4704-858f-93c3e4b31b23",
   "metadata": {
    "tags": []
   },
   "source": [
    "Алгоритм основан на следствии из теоремы **Больцано — Коши**:\n",
    "Если мы ищем ноль, то на концах отрезка функция должна быть противоположных знаков. Разделим отрезок пополам и возьмём ту из половинок, на концах которой функция по-прежнему принимает значения противоположных знаков. Если значение функции в серединной точке оказалось искомым нулём, то процесс завершается."
   ]
  },
  {
   "cell_type": "markdown",
   "id": "8ab9f9f0-fb7e-4fa9-88af-3d70cb2ee7c7",
   "metadata": {
    "tags": []
   },
   "source": [
    "Точность вычислений задаётся одним из двух способов:\n",
    "- ${\\displaystyle \\varepsilon _{f(x)}}$ по оси $y$, что ближе к условию $f(x)=0$ из описания алгоритма; или\n",
    "- ${\\displaystyle \\varepsilon _{f(x)}}$, по оси $x$, что может оказаться удобным в некоторых случаях.\n",
    "\n",
    "Процедуру следует продолжать до достижения заданной точности.\n",
    "\n",
    "Для поиска произвольного значения достаточно вычесть из значения функции искомое значение и искать ноль получившейся функции"
   ]
  },
  {
   "cell_type": "markdown",
   "id": "6c8bfe8d-23f5-480a-8d97-12e227c995c0",
   "metadata": {},
   "source": [
    "### Сложность\n",
    "- в лучшем случае: $O(n)$\n",
    "- в худшем случае: $O(N^2)$\n",
    "- в среднем: $O(Nlog_2N)$\n",
    "- поиск M элементов в среднем случае $O(max(N,M)∗log_2N)$ \n",
    "- Затраты памяти $O(N)$"
   ]
  },
  {
   "cell_type": "markdown",
   "id": "c2ee7f38-ebc4-44fd-8c8e-9973b1b30f37",
   "metadata": {
    "jp-MarkdownHeadingCollapsed": true,
    "tags": []
   },
   "source": [
    "### Блок-схема агоритма"
   ]
  },
  {
   "cell_type": "markdown",
   "id": "c0ca94fe-6aab-46d7-b0d2-d56fbee72cce",
   "metadata": {},
   "source": [
    "![img](divide.jpg)"
   ]
  },
  {
   "cell_type": "markdown",
   "id": "b1a73cf8-cd76-4810-997e-c4e2fcb7c0f4",
   "metadata": {},
   "source": [
    "### Псевдокод алгоритма"
   ]
  },
  {
   "cell_type": "code",
   "execution_count": null,
   "id": "9ecea891-ff0a-42ad-bff0-8d560d6f56cc",
   "metadata": {
    "tags": []
   },
   "outputs": [],
   "source": [
    "леваяГраница = левГран\n",
    "праваяГраница = правГран\n",
    "while (праваяГраница - леваяГраница > 1) {\n",
    "   длинаОтрезка = правГран - левГран\n",
    "   половинаОтрезка = int(длинаОтрезка / 2) \n",
    "   середина = леваяГраница + половинаОтрезка\n",
    "   if (sign(массив[леваяГраница]) ≠ sign(массив[середина]))\n",
    "      праваяГраница = середина\n",
    "   else\n",
    "      леваяГраница = середина\n",
    "}\n",
    "printf середина"
   ]
  },
  {
   "cell_type": "markdown",
   "id": "7e8265e6-ea7c-4e4a-8a5e-9e0765f8dbd9",
   "metadata": {},
   "source": [
    "### Реализация алгоритма"
   ]
  },
  {
   "cell_type": "code",
   "execution_count": null,
   "id": "11184813-0e38-4e1e-91e9-694cda76f28d",
   "metadata": {
    "tags": []
   },
   "outputs": [],
   "source": [
    "import math\n",
    "\n",
    "func_glob =  lambda x: 2 * x ** 3 - 3 * x ** 2 - 12 * x - 5\n",
    "# a1, b1 - левая и правая границы\n",
    "a1, b1 = 0.0, 10.0\n",
    "# e - заданная точность\n",
    "# метод половинного деления (бисекции)\n",
    "def half_divide_method(a, b, f, e = 0.001):\n",
    "    x = (a + b) / 2\n",
    "    while math.fabs(f(x)) >= e:\n",
    "        x = (a + b) / 2\n",
    "        a, b = (a, x) if f(a) * f(x) < 0 else (x, b)\n",
    "    return (a + b) / 2\n",
    "\n",
    "X = numpy.arange(-2.0, 4.0, 0.1)\n",
    "pylab.plot([x for x in X], [func_glob(x) for x in X])\n",
    "pylab.grid(True)\n",
    "#pylab.show()\n",
    "\n",
    "print ('Корень уравнения, найденный по методу бисекции: %s' % half_divide_method(a1, b1, func_glob))"
   ]
  },
  {
   "cell_type": "markdown",
   "id": "0b600442-f1bb-442e-912e-9044f418df5d",
   "metadata": {},
   "source": [
    "### Тесты"
   ]
  },
  {
   "cell_type": "code",
   "execution_count": null,
   "id": "dcd1977e-3fc7-405c-bae8-c85052eac439",
   "metadata": {
    "tags": []
   },
   "outputs": [],
   "source": [
    "assert half_divide_method(a1, b1, func_glob) == 3.4495162963867188, 'Ошибка при поиске'\n",
    "\n",
    "assert half_divide_method(-2.0, -2.1, func_glob) == 0, 'Ошибка при поиске в интервале без решения'\n",
    "\n",
    "assert half_divide_method(0, 0, func_glob) == 0, 'Ошибка при поиске в нулевом интервале'"
   ]
  },
  {
   "cell_type": "markdown",
   "id": "7825e435-3446-41df-9af7-ef21382f3bd7",
   "metadata": {},
   "source": [
    "**Время**"
   ]
  },
  {
   "cell_type": "code",
   "execution_count": 149,
   "id": "a5e7a419-ce3a-451f-8035-212f4a58c003",
   "metadata": {
    "tags": []
   },
   "outputs": [],
   "source": [
    "times = {}\n",
    "t = 0"
   ]
  },
  {
   "cell_type": "code",
   "execution_count": 172,
   "id": "7e9dc22c-8ba6-4588-897a-f6690044a74d",
   "metadata": {},
   "outputs": [
    {
     "name": "stdout",
     "output_type": "stream",
     "text": [
      "998.5\n"
     ]
    }
   ],
   "source": [
    "times.clear()\n",
    "eps1 = 10**(-200)\n",
    "start = time.time()\n",
    "half_divide_method(a1, b1, func_glob, e = eps1)\n",
    "\n",
    "end = time.time()\n",
    "t = end * 10**6 - start * 10**6\n",
    "times[1] = t\n",
    "print(t)"
   ]
  },
  {
   "cell_type": "code",
   "execution_count": 173,
   "id": "9f80515b-cafe-4816-b742-8e349f39e6f0",
   "metadata": {
    "tags": []
   },
   "outputs": [
    {
     "name": "stdout",
     "output_type": "stream",
     "text": [
      "996.5\n"
     ]
    }
   ],
   "source": [
    "eps2 = 10**(-300)\n",
    "start = time.time()\n",
    "half_divide_method(a1, b1, func_glob, e = eps2)\n",
    "\n",
    "end = time.time()\n",
    "t = end * 10**6 - start * 10**6\n",
    "times[2] = t\n",
    "print(t)"
   ]
  },
  {
   "cell_type": "code",
   "execution_count": 175,
   "id": "aff2560b-f7ee-42d9-b460-b0d01822dbec",
   "metadata": {
    "tags": []
   },
   "outputs": [
    {
     "name": "stdout",
     "output_type": "stream",
     "text": [
      "1033.25\n"
     ]
    }
   ],
   "source": [
    "start = time.time()\n",
    "eps3 = 10**(-320.5)\n",
    "half_divide_method(a1, b1, func_glob, e = eps3)\n",
    "\n",
    "end = time.time()\n",
    "t = end * 10**6 - start * 10**6\n",
    "times[3] = t\n",
    "print(t)"
   ]
  },
  {
   "cell_type": "code",
   "execution_count": 254,
   "id": "7d716a6b-a97e-490a-a392-451942f2fb6d",
   "metadata": {
    "tags": []
   },
   "outputs": [
    {
     "name": "stdout",
     "output_type": "stream",
     "text": [
      "997.25\n"
     ]
    }
   ],
   "source": [
    "start = time.time()\n",
    "eps4 = 10**(-322)\n",
    "half_divide_method(a1, b1, func_glob, e = eps4)\n",
    "\n",
    "end = time.time()\n",
    "t = end * 10**6 - start * 10**6\n",
    "times[4] = t\n",
    "print(t)"
   ]
  },
  {
   "cell_type": "markdown",
   "id": "75bf2839-7967-46bc-b049-fecfb222f7ef",
   "metadata": {},
   "source": [
    "**График**"
   ]
  },
  {
   "cell_type": "code",
   "execution_count": 255,
   "id": "ba61b5e5-870c-43f1-9a66-65185eab776c",
   "metadata": {
    "tags": []
   },
   "outputs": [
    {
     "data": {
      "image/png": "[encoded data removed]",
      "text/plain": [
       "<Figure size 640x480 with 1 Axes>"
      ]
     },
     "metadata": {},
     "output_type": "display_data"
    }
   ],
   "source": [
    "import matplotlib.pyplot as plt\n",
    "import numpy as np\n",
    "plt.plot(times.keys(), times.values())\n",
    "plt.ylabel('time, ms')\n",
    "plt.xlabel('epsilon')\n",
    "plt.grid(True)\n",
    "plt.show()"
   ]
  },
  {
   "cell_type": "markdown",
   "id": "887f7d14-387e-4c54-8cf1-919318adc037",
   "metadata": {},
   "source": [
    "https://ru.wikipedia.org/wiki/Метод_бисекции\n",
    "https://ru.zahn-info-portal.de/wiki/Bisection_method\n",
    "https://fadeevlecturer.github.io/python_lectures\n",
    "https://icpc.appmat.ru/presentation?filename=26feb2019#/6"
   ]
  },
  {
   "cell_type": "markdown",
   "id": "358af2f0-bf60-4315-ae87-8833cffdfe76",
   "metadata": {},
   "source": [
    "# Задание 2"
   ]
  },
  {
   "cell_type": "markdown",
   "id": "27720f05-639a-4966-bc9d-89374742dc23",
   "metadata": {},
   "source": [
    "### Тема:\"Поиск подстроки в строке (Алгоритм Кнута — Морриса — Пратта)\""
   ]
  },
  {
   "cell_type": "markdown",
   "id": "6ef196b3-7e2a-419b-bcf5-bf783e8938df",
   "metadata": {},
   "source": [
    "**Алгоритм Кнута — Морриса — Пратта** (КМП-алгоритм) — эффективный алгоритм, осуществляющий поиск подстроки в строке. Время работы алгоритма линейно зависит от объёма входных данных, то есть разработать асимптотически более эффективный алгоритм невозможно.\n",
    "\n",
    "Алгоритм был разработан Д. Кнутом и В. Праттом и, независимо от них, Д. Моррисом. Результаты своей работы они опубликовали совместно в 1977 году.\n",
    "\n",
    "КМП позволяет находить префикс-функцию от строки за линейное время, и имеет достаточно лаконичную реализацию, по длине не превышающую наивный алгоритм.\n",
    "\n",
    "Дана цепочка $T$ и образец $P$. Требуется найти все позиции, начиная с которых $P$ входит в $T$. Построим строку $S=P#T$, где # — любой символ, не входящий в алфавит P и T. Посчитаем на ней значение префикс-функции $p$. Благодаря разделительному символу #, выполняется $∀i:p[i]⩽|P|$. Заметим, что по определению префикс-функции при $i>|P|$ и $p[i]=|P|$ подстроки длины $P$, начинающиеся с позиций 0 и $i−|P|+1$, совпадают. Соберем все такие позиции $i−|P|+1$ строки $S$, вычтем из каждой позиции $|P|+1$, это и будет ответ. Другими словами, если в какой-то позиции $i$ выполняется условие $p[i]=|P|$, то в этой позиции начинается очередное вхождение образца в цепочку.\n"
   ]
  },
  {
   "cell_type": "markdown",
   "id": "5f26d930-0126-4926-ad08-8440fb730d65",
   "metadata": {
    "jp-MarkdownHeadingCollapsed": true,
    "tags": []
   },
   "source": [
    "### Сложность\n",
    "- в худшем случае:$O(m) - препроцессинг, O(n) - подбор$\n",
    "- Сложность по затратам памяти в худшем случае - $O(m)$"
   ]
  },
  {
   "cell_type": "markdown",
   "id": "ff429d42-d5f8-4d77-878e-2be0e8bcb514",
   "metadata": {
    "tags": []
   },
   "source": [
    "### Блок-схема агоритма"
   ]
  },
  {
   "cell_type": "markdown",
   "id": "100df21c-834b-4144-ad14-fa3df07708f7",
   "metadata": {},
   "source": [
    "![img](str.jpg)"
   ]
  },
  {
   "cell_type": "markdown",
   "id": "4cd92197-4ee4-489a-8310-eb3adf7f18b8",
   "metadata": {},
   "source": [
    "### Псевдокод алгоритма"
   ]
  },
  {
   "cell_type": "markdown",
   "id": "9fb86f8b-c466-43d1-a56b-b294f6394d9b",
   "metadata": {
    "tags": []
   },
   "source": [
    "```\n",
    "algorithm kmp_table:\n",
    "    input:\n",
    "        an array of characters, W (the word to be analyzed)\n",
    "    output:\n",
    "        an array of integers, T (the table to be filled)\n",
    "\n",
    "    define variables:\n",
    "        an integer, pos ← 1 (the current position we are computing in T)\n",
    "        an integer, cnd ← 0 (the zero-based index in W of the next character of the current candidate substring)\n",
    "\n",
    "    let T[0] ← -1\n",
    "\n",
    "    while pos < length(W) do\n",
    "        if W[pos] = W[cnd] then\n",
    "            let T[pos] ← T[cnd]\n",
    "        else\n",
    "            let T[pos] ← cnd\n",
    "            while cnd ≥ 0 and W[pos] ≠ W[cnd] do\n",
    "                let cnd ← T[cnd]\n",
    "        let pos ← pos + 1, cnd ← cnd + 1\n",
    "\n",
    "    let T[pos] ← cnd (only needed when all word occurrences are searched)\n",
    "```\n"
   ]
  },
  {
   "cell_type": "markdown",
   "id": "7bfc8e75-5347-4139-bfa5-865eaa067f7f",
   "metadata": {},
   "source": [
    "### Реализация алгоритма"
   ]
  },
  {
   "cell_type": "code",
   "execution_count": 164,
   "id": "045c5c43-ab0d-4129-b811-ab384f56d124",
   "metadata": {
    "tags": []
   },
   "outputs": [],
   "source": [
    "def prefix(s):\n",
    "    v = [0] * len(s)\n",
    "    for i in range(1, len(s)):\n",
    "        k = v[i - 1]\n",
    "        while k > 0 and s[k] != s[i]:\n",
    "            k = v[k - 1]\n",
    "        if s[k] == s[i]:\n",
    "            k = k + 1\n",
    "        v[i] = k\n",
    "    return v\n",
    "\n",
    "\n",
    "def kmp(s, t, start_index):\n",
    "    index = -1\n",
    "    f = prefix(s)\n",
    "    k = 0\n",
    "    for i in range(start_index, len(t)):\n",
    "        while k > 0 and s[k] != t[i]:\n",
    "            k = f[k - 1]\n",
    "        if s[k] == t[i]:\n",
    "            k = k + 1\n",
    "        if k == len(s):\n",
    "            index = i - len(s) + 1\n",
    "            break\n",
    "    return index\n",
    "\n",
    "\n",
    "def kmp_start(s, t):\n",
    "    index = -len(s)\n",
    "    found_indexes = []\n",
    "    while True:\n",
    "        index = kmp(s, t, index + 3)\n",
    "        if index == -1:\n",
    "            break\n",
    "        else:\n",
    "            found_indexes.append(index)\n",
    "    return found_indexes\n"
   ]
  },
  {
   "cell_type": "markdown",
   "id": "f84d630c-a515-45a2-a4e4-2c3aaeb9da24",
   "metadata": {},
   "source": [
    "### Тесты"
   ]
  },
  {
   "cell_type": "code",
   "execution_count": null,
   "id": "59c5daf0-7637-4798-92b8-7e4c790f96c1",
   "metadata": {},
   "outputs": [],
   "source": [
    "assert kmp_start('aba', 'abacaba') == [0, 4], 'Ошибка в тесте на несколько встреч'\n",
    "\n",
    "assert kmp_start('aba', 'cabaca') == [1], 'Ошибка в тесте на среднее значение'\n",
    "\n",
    "assert kmp_start('aba', 'acacaba') == [4], 'Ошибка в тесте последнее значение'\n",
    "\n",
    "assert kmp_start('aba', 'aaaaaaaa') == [], 'Ошибка в тесте на отсутствие присутствий :)'"
   ]
  },
  {
   "cell_type": "code",
   "execution_count": null,
   "id": "d94af11d-9d8c-4900-aafa-d89daba36f9b",
   "metadata": {},
   "outputs": [],
   "source": [
    "file = open('src/harry.txt', 'r')\n",
    "text = file.read()\n",
    "\n",
    "assert len(kmp_start('harry', text.lower())) == 1327, 'Ошибка в подсчетах количества встреченных случаев'\n",
    "print(len(kmp_start('harry', text.lower())), '- количество встреченных \\\"Harry\\\"')"
   ]
  },
  {
   "cell_type": "markdown",
   "id": "25f72033-0837-4e2d-b982-db79bcd24fd5",
   "metadata": {},
   "source": [
    "https://ru.wikipedia.org/wiki/Алгоритм_Кнута_—_Морриса_—_Пратта\n",
    "https://e-maxx.ru/algo/prefix_function"
   ]
  }
 ],
 "metadata": {
  "kernelspec": {
   "display_name": "Python 3 (ipykernel)",
   "language": "python",
   "name": "python3"
  },
  "language_info": {
   "codemirror_mode": {
    "name": "ipython",
    "version": 3
   },
   "file_extension": ".py",
   "mimetype": "text/x-python",
   "name": "python",
   "nbconvert_exporter": "python",
   "pygments_lexer": "ipython3",
   "version": "3.11.1"
  }
 },
 "nbformat": 4,
 "nbformat_minor": 5
}
