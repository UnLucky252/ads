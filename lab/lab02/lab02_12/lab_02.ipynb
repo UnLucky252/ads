{
 "cells": [
  {
   "cell_type": "code",
   "execution_count": 105,
   "id": "8fb5086f",
   "metadata": {},
   "outputs": [],
   "source": [
    "import math\n",
    "import numpy as np\n",
    "import matplotlib.pyplot as plt\n",
    "from typing import List, Tuple"
   ]
  },
  {
   "cell_type": "markdown",
   "id": "dd6a0f77",
   "metadata": {},
   "source": [
    "# Лабораторная работа №2. Методы поиска"
   ]
  },
  {
   "cell_type": "markdown",
   "id": "67016ef7",
   "metadata": {},
   "source": [
    "Вариант 12"
   ]
  },
  {
   "cell_type": "markdown",
   "id": "15a9bbe8",
   "metadata": {},
   "source": [
    "## Задание 1 (15. Алгоритм имитации отжига)"
   ]
  },
  {
   "cell_type": "markdown",
   "id": "277b96da",
   "metadata": {},
   "source": [
    "### Классификация алгоритма\n",
    "\n",
    "* По типу алгоритма: гибридный\n",
    "* По устойчивости: неустойчивый\n",
    "* По месту хранения данных: может хранить данные на месте или выделять доп. пространство\n",
    "* По выделению дополнительного места: использует\n",
    "* По адаптивности: может быть адаптивным, если использует изменяемые параметры. в остальных случаях - неадаптивный\n",
    "* По сложности: \n",
    "    * Худшее значение: O(2^n)\n",
    "    * Среднее значение: O(m*n)\n",
    "    * Лучшее значение: O(log n)"
   ]
  },
  {
   "cell_type": "markdown",
   "id": "17a92f0f",
   "metadata": {},
   "source": [
    "### Описание алгоритма\n",
    "\n",
    "Алгоритм имитации отжига (simulated annealing) — это стохастический метод оптимизации, используемый для нахождения глобального минимума или максимума некоторой функции. Определяется начальное решение и температура, выбирается случайное решение в окрестности текущего решения и рассчитывается изменение функции цели между текущим и новым решением. Если изменение положительное (новое решение хуже), то оно принимается с определенной вероятностью, зависящей от температуры. Если изменение отрицательное (новое решение лучше), то принимают его. Температура уменьшается по заранее заданной функции. Действия повторяются до тех пор, пока температура не станет равной нулю."
   ]
  },
  {
   "cell_type": "markdown",
   "id": "33d194ac",
   "metadata": {},
   "source": [
    "### Псевдокод"
   ]
  },
  {
   "cell_type": "code",
   "execution_count": null,
   "id": "28a97350",
   "metadata": {},
   "outputs": [],
   "source": [
    "current_state := initial_state()\n",
    "current_energy := energy(current_state)\n",
    "T := initial_temperature()\n",
    "T_min := final_temperature()\n",
    "L := iterations_per_temperature()\n",
    "alpha := cooling_factor()\n",
    "iteration_counter := 0\n",
    "best_state := current_state\n",
    "best_energy := current_energy\n",
    "\n",
    "while T > T_min do\n",
    "    for i in range(L) do\n",
    "        new_state := random_move(current_state)\n",
    "        new_energy := energy(new_state)\n",
    "        if new_energy < current_energy do\n",
    "            current_state := new_state\n",
    "            current_energy := new_energy\n",
    "        end if\n",
    "        else do\n",
    "            probability := exp((current_energy - new_energy) / T)\n",
    "            if random() < probability do\n",
    "                current_state := new_state\n",
    "                current_energy := new_energy\n",
    "            end if\n",
    "    end for\n",
    "    if current_energy < best_energy do\n",
    "        best_state := current_state\n",
    "        best_energy := current_energy\n",
    "    end if\n",
    "    T := T * alpha\n",
    "    iteration_counter += L\n",
    "end while\n",
    "\n",
    "return best_state, best_energy"
   ]
  },
  {
   "cell_type": "markdown",
   "id": "b56169e0",
   "metadata": {},
   "source": [
    "### Достоинства и недостатки"
   ]
  },
  {
   "cell_type": "markdown",
   "id": "701ce49f",
   "metadata": {},
   "source": [
    "* Достоинства:\n",
    "    * Может работать на любых типах задач и не требует знания градиентов\n",
    "    * Является глобальной оптимизационной стратегией, что позволяет находить глобальные экстремумы в сложных функциях\n",
    "    * Может работать в реальном времени и адаптироваться к изменениям в функции стоимости\n",
    "* Недостатки:\n",
    "    * Требуется настройка большого количества параметров, таких как начальная температура, скорость охлаждения и длина каждой итерации\n",
    "    * Не гарантирует нахождение оптимального решения, только приближение к нему\n",
    "    * Время работы может быть довольно длительным для сложных задач, особенно при больших размерностях"
   ]
  },
  {
   "cell_type": "markdown",
   "id": "96e98bf4",
   "metadata": {},
   "source": [
    "### Реализация сортировки"
   ]
  },
  {
   "cell_type": "code",
   "execution_count": 65,
   "id": "5cc2684d",
   "metadata": {},
   "outputs": [
    {
     "name": "stdout",
     "output_type": "stream",
     "text": [
      "Лучшее состояние: [0, 1, 2, 3, 4]\n",
      "Лучшая стоимость: 10\n"
     ]
    }
   ],
   "source": [
    "import math\n",
    "import random\n",
    "\n",
    "def simulated_annealing(initial_state, cost_func, neighbors_func, temperature, cooling_rate):\n",
    "    current_state = initial_state\n",
    "    current_cost = cost_func(current_state)\n",
    "    best_state = current_state\n",
    "    best_cost = current_cost\n",
    "    while temperature > 0.1:\n",
    "        neighbor_state = random.choice(neighbors_func(current_state))\n",
    "        neighbor_cost = cost_func(neighbor_state)\n",
    "        delta_cost = neighbor_cost - current_cost\n",
    "        if delta_cost < 0 or math.exp(-delta_cost / temperature) > random.random():\n",
    "            current_state = neighbor_state\n",
    "            current_cost = neighbor_cost\n",
    "        if current_cost < best_cost:\n",
    "            best_state = current_state\n",
    "            best_cost = current_cost\n",
    "        temperature *= 1 - cooling_rate\n",
    "    return best_state, best_cost\n",
    "\n",
    "initial_state = [0, 1, 2, 3, 4]\n",
    "\n",
    "# определение функции стоимости\n",
    "def cost_func(state):\n",
    "    return sum(state)\n",
    "\n",
    "# определение функции соседних состояний\n",
    "def neighbors_func(state):\n",
    "    neighbors = []\n",
    "    for i in range(len(state)):\n",
    "        for j in range(i+1, len(state)):\n",
    "            neighbor = state.copy()\n",
    "            neighbor[i], neighbor[j] = neighbor[j], neighbor[i]\n",
    "            neighbors.append(neighbor)\n",
    "    return neighbors\n",
    "\n",
    "# запуск алгоритма имитации отжига\n",
    "best_state, best_cost = simulated_annealing(initial_state, cost_func, neighbors_func, 1000, 0.03)\n",
    "\n",
    "print(\"Лучшее состояние:\", best_state)\n",
    "print(\"Лучшая стоимость:\", best_cost)"
   ]
  },
  {
   "cell_type": "markdown",
   "id": "3a67dd2b",
   "metadata": {},
   "source": [
    "### Тест"
   ]
  },
  {
   "cell_type": "code",
   "execution_count": 11,
   "id": "ef8b1162",
   "metadata": {},
   "outputs": [],
   "source": [
    "def test_simulated_annealing():\n",
    "    def cost_func(x): # Тест на квадратичной функции\n",
    "        return x**2\n",
    "    \n",
    "    def neighbors_func(x): # Тест на ф-ции соседних состояний\n",
    "        return [x-1, x+1]\n",
    "\n",
    "    initial_state = 5\n",
    "\n",
    "    best_state, best_cost = simulated_annealing(initial_state, cost_func, neighbors_func, 100, 0.03)\n",
    "\n",
    "    assert abs(best_state) < 0.1 #Ошибка при тестировании на квадратичной функции: best_state слишком далеко от минимума\n",
    "\n",
    "    def cost_func(x): # Тест на ф-ции с множеством локальных минимумов\n",
    "        return math.sin(5 * x) + math.sin(x)\n",
    "\n",
    "    def neighbors_func(x): # Ф-ция соседних состояний\n",
    "        return [x + random.uniform(-0.1, 0.1)]\n",
    "\n",
    "    initial_state = random.uniform(-10, 10)\n",
    "\n",
    "    best_state, best_cost = simulated_annealing(initial_state, cost_func, neighbors_func, 1000, 0.03)\n",
    "\n",
    "    assert abs(best_state - (-1.39)) < 0.1 #Ошибка при тестировании на функции с множеством локальных минимумов: best_state слишком далеко от глобального минимума\n",
    "    \n",
    "    # Тест на задаче коммивояжера\n",
    "    distances = [\n",
    "        [0, 2, 5, 7],\n",
    "        [2, 0, 6, 3],\n",
    "        [5, 6, 0, 1],\n",
    "        [7, 3, 1, 0]\n",
    "    ]\n",
    "\n",
    "    def cost_func(route): # Ф-ция стоимости\n",
    "        cost = 0\n",
    "        for i in range(len(route)):\n",
    "            cost += distances[route[i-1]][route[i]]\n",
    "        return cost\n",
    "\n",
    "    def neighbors_func(route): # Ф-ция соседних состояний\n",
    "        neighbors = []\n",
    "        for i in range(len(route)):\n",
    "            for j in range(i+1, len(route)):\n",
    "                neighbor = route.copy()\n",
    "                neighbor[i], neighbor[j] = neighbor[j], neighbor[i]\n",
    "                neighbors.append(neighbor)\n",
    "        return neighbors\n",
    "\n",
    "    initial_state"
   ]
  },
  {
   "cell_type": "markdown",
   "id": "12ace9b1",
   "metadata": {},
   "source": [
    "### Поиск экстремума функции"
   ]
  },
  {
   "cell_type": "code",
   "execution_count": 61,
   "id": "6131ced2",
   "metadata": {},
   "outputs": [
    {
     "name": "stdout",
     "output_type": "stream",
     "text": [
      "Лучшее состояние:  -9.699999999999982\n",
      "Лучшая стоимость:  -9822.995999999941\n"
     ]
    }
   ],
   "source": [
    "import math\n",
    "import random\n",
    "\n",
    "def simulated_annealing(initial_state, cost_func, neighbors_func, temperature, cooling_rate):\n",
    "    current_state = initial_state\n",
    "    current_cost = cost_func(current_state)\n",
    "    best_state = current_state\n",
    "    best_cost = current_cost\n",
    "    while temperature > 0.1:\n",
    "        neighbor_state = random.choice(neighbors_func(current_state))\n",
    "        neighbor_cost = cost_func(neighbor_state)\n",
    "        delta_cost = neighbor_cost - current_cost\n",
    "        if delta_cost < 0 or math.exp(-delta_cost / temperature) > random.random():\n",
    "            current_state = neighbor_state\n",
    "            current_cost = neighbor_cost\n",
    "        if current_cost < best_cost:\n",
    "            best_state = current_state\n",
    "            best_cost = current_cost\n",
    "        temperature *= 1 - cooling_rate\n",
    "    return best_state, best_cost\n",
    "\n",
    "# Определение ф-ции стоимости\n",
    "def cost_func(x):\n",
    "    return 12*x**3+12*x**2\n",
    "\n",
    "# Определение ф-ции соседних состояний\n",
    "def neighbors_func(x):\n",
    "    delta = 0.1\n",
    "    return [x + delta, x - delta]\n",
    "\n",
    "# Запуск алгоритма имитации отжига\n",
    "initial_state = 0\n",
    "best_state, best_cost = simulated_annealing(initial_state, cost_func, neighbors_func, 1000, 0.03)\n",
    "\n",
    "print(\"Лучшее состояние: \", best_state)\n",
    "print(\"Лучшая стоимость: \", best_cost)"
   ]
  },
  {
   "cell_type": "markdown",
   "id": "53c74902",
   "metadata": {},
   "source": [
    "## Задание 2 (4. Фибоначчиев поиск)"
   ]
  },
  {
   "cell_type": "markdown",
   "id": "354c3959",
   "metadata": {},
   "source": [
    "### Классификация алгоритма\n",
    "\n",
    "* По типу алгоритма: гибридный\n",
    "* По устойчивости: неустойчивый\n",
    "* По месту хранения данных: не на месте\n",
    "* По выделению дополнительного места: без выделения\n",
    "* По адаптивности: адаптивный\n",
    "* По сложности: \n",
    "    * Худшее значение: O(log n)\n",
    "    * Среднее значение: O(log n)\n",
    "    * Лучшее значение: O(log n) "
   ]
  },
  {
   "cell_type": "markdown",
   "id": "68abcd2f",
   "metadata": {},
   "source": [
    "### Описание алгоритма\n",
    "\n",
    "Метод поиска Фибоначчи аналогичен основной идее бинарного поиска, который заключается в уменьшении длины последовательности поиска и поиске ключевых слов (последующее число равно сумме двух предыдущих чисел). Его процесс поиска заключается в следующем: сначала определить область записи для поиска, а затем постепенно сужать область поиска, пока не найден интервал между двумя ключами, где может располагаться отыскиваемый ключ (поиск также может завершиться неудачно)."
   ]
  },
  {
   "cell_type": "markdown",
   "id": "d4a67ca2",
   "metadata": {},
   "source": [
    "### Псевдокод"
   ]
  },
  {
   "cell_type": "code",
   "execution_count": null,
   "id": "7a360f1e",
   "metadata": {},
   "outputs": [],
   "source": [
    "function fibonacci_search(arr, x)\n",
    "    fib_k := 0\n",
    "    fib_k1 := 1\n",
    "    fib_k2 := 1\n",
    "    while fib_k2 < length(arr) do\n",
    "        fib_k := fib_k1\n",
    "        fib_k1 := fib_k2\n",
    "        fib_k2 := fib_k + fib_k1\n",
    "\n",
    "    offset := 0\n",
    "    while fib_k > 0 do\n",
    "        i := min(offset + fib_k1, length(arr)) - 1\n",
    "        if arr[i] < x then\n",
    "            fib_k := fib_k2 - fib_k1\n",
    "            fib_k2 := fib_k1\n",
    "            fib_k1 := fib_k - fib_k1\n",
    "            offset := i\n",
    "        else if arr[i] > x then\n",
    "            fib_k := fib_k1 - fib_k\n",
    "            fib_k1 := fib_k2 - fib_k1\n",
    "            fib_k2 := fib_k - fib_k1\n",
    "        else\n",
    "            return i\n",
    "    end while\n",
    "    return -1\n",
    "end function"
   ]
  },
  {
   "cell_type": "markdown",
   "id": "18757bc1",
   "metadata": {},
   "source": [
    "### Достоинства и недостатки\n",
    "\n",
    "* Достоинства:\n",
    "    * Более эффективен, чем простой линейный поиск, особенно при работе с большими упорядоченными списками.\n",
    "    * Имеет меньшее число сравнений, чем бинарный поиск в некоторых случаях.\n",
    "    * В отличие от бинарного поиска не требует вычисления среднего элемента и может быть реализован на массивах с неизвестной длиной.\n",
    "* Недостатки:\n",
    "    * Не обладает гарантированным лучшим временем выполнения, как у бинарного поиска, и может выполняться медленнее в некоторых случаях.\n",
    "    * Не позволяет быстро находить максимальный или минимальный элемент в списке, так как он использует пропорции чисел Фибоначчи для разбиения интервалов.\n",
    "    * Реализация алгоритма может быть сложнее, чем простой линейный поиск или бинарный поиск."
   ]
  },
  {
   "cell_type": "markdown",
   "id": "5917a097",
   "metadata": {},
   "source": [
    "### Реализация сортировки"
   ]
  },
  {
   "cell_type": "code",
   "execution_count": 70,
   "id": "48d7b7cf",
   "metadata": {},
   "outputs": [],
   "source": [
    "def fibonacci_search(arr, x):\n",
    "    fib_k = 0\n",
    "    fib_k1 = 1\n",
    "    fib_k2 = 1\n",
    "    while fib_k2 < len(arr):\n",
    "        fib_k = fib_k1\n",
    "        fib_k1 = fib_k2\n",
    "        fib_k2 = fib_k + fib_k1\n",
    "\n",
    "    offset = 0\n",
    "    while fib_k > 0:\n",
    "        i = min(offset + fib_k1, len(arr)) - 1\n",
    "        if arr[i] < x:\n",
    "            fib_k = fib_k2 - fib_k1\n",
    "            fib_k2 = fib_k1\n",
    "            fib_k1 = fib_k - fib_k1\n",
    "            offset = i\n",
    "        elif arr[i] > x:\n",
    "            fib_k = fib_k1 - fib_k\n",
    "            fib_k1 = fib_k2 - fib_k1\n",
    "            fib_k2 = fib_k - fib_k1\n",
    "        else:\n",
    "            return i\n",
    "    return -1"
   ]
  },
  {
   "cell_type": "markdown",
   "id": "cbfde515",
   "metadata": {},
   "source": [
    "### Тест"
   ]
  },
  {
   "cell_type": "code",
   "execution_count": 67,
   "id": "fe52e720",
   "metadata": {},
   "outputs": [],
   "source": [
    "def test_fibonacci_search():\n",
    "    arr = [1, 3, 4, 6, 7, 9, 11]\n",
    "    \n",
    "    # Проверяем, что элемент, присутствующий в массиве, находится правильно\n",
    "    assert fibonacci_search(arr, 7) == 4\n",
    "    \n",
    "    # Проверяем, что элемент, отсутствующий в массиве, не находится\n",
    "    assert fibonacci_search(arr, 5) == -1\n",
    "    \n",
    "    # Проверяем, что элемент в начале массива находится правильно\n",
    "    assert fibonacci_search(arr, 1) == 0\n",
    "    \n",
    "    # Проверяем, что элемент в конце массива находится правильно\n",
    "    assert fibonacci_search(arr, 11) == 6\n",
    "    \n",
    "    # Проверяем, что функция возвращает -1 при пустом массиве\n",
    "    assert fibonacci_search([], 1) == -1"
   ]
  },
  {
   "cell_type": "markdown",
   "id": "f73bab76",
   "metadata": {},
   "source": [
    "### Сравнение указанных алгоритмов поиска для массивов, содержащих n1, n2, n3, n4 элементов"
   ]
  },
  {
   "cell_type": "code",
   "execution_count": 104,
   "id": "56fb5309",
   "metadata": {},
   "outputs": [
    {
     "name": "stdout",
     "output_type": "stream",
     "text": [
      "Значение 999 найдено в индексе 999 для массива размером 1000 за 0.0000 секунд\n",
      "Значение 4999 найдено в индексе 4999 для массива размером 5000 за 0.0000 секунд\n",
      "Значение 9999 найдено в индексе 9999 для массива размером 10000 за 0.0000 секунд\n",
      "Значение 99999 найдено в индексе 99999 для массива размером 100000 за 0.0000 секунд\n"
     ]
    }
   ],
   "source": [
    "import time\n",
    "import random\n",
    "\n",
    "arr_sizes = [1000, 5000, 10000, 100000]\n",
    "for n in arr_sizes:\n",
    "    arr = list(range(n))\n",
    "    x = n - 1\n",
    "    start_time = time.time()\n",
    "    index = fibonacci_search(arr, x)\n",
    "    end_time = time.time()\n",
    "    elapsed_time = \"{:.4f}\".format(end_time - start_time)\n",
    "    if index != -1:\n",
    "        print(\"Значение\", x, \"найдено в индексе\", index, \"для массива размером\", n, \"за\", elapsed_time, \"секунд\")\n",
    "    else:\n",
    "        print(\"Значение\", x, \"не найдено в массиве размером\", n, \"за\", elapsed_time, \"секунд\")"
   ]
  }
 ],
 "metadata": {
  "kernelspec": {
   "display_name": "Python 3 (ipykernel)",
   "language": "python",
   "name": "python3"
  },
  "language_info": {
   "codemirror_mode": {
    "name": "ipython",
    "version": 3
   },
   "file_extension": ".py",
   "mimetype": "text/x-python",
   "name": "python",
   "nbconvert_exporter": "python",
   "pygments_lexer": "ipython3",
   "version": "3.10.9"
  }
 },
 "nbformat": 4,
 "nbformat_minor": 5
}
