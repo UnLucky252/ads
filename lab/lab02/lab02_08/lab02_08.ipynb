{
 "cells": [
  {
   "cell_type": "code",
   "execution_count": 70,
   "id": "33f79480",
   "metadata": {},
   "outputs": [],
   "source": [
    "import random\n",
    "import math\n",
    "\n",
    "from typing import List, Tuple"
   ]
  },
  {
   "cell_type": "markdown",
   "id": "793f5ac9",
   "metadata": {},
   "source": [
    "# Лабораторная работа 2. Методы поиска\n",
    "\n",
    "### Вариант: 8"
   ]
  },
  {
   "cell_type": "markdown",
   "id": "7968eed3",
   "metadata": {},
   "source": [
    "## Алгоритм Ахо-Карасик\n",
    "\n",
    "Другие названия:\n",
    "- Алгоритм АС-автомата\n",
    "- Алгоритм поиска подстроки в строке с помощью автомата"
   ]
  },
  {
   "cell_type": "markdown",
   "id": "4faabc08",
   "metadata": {},
   "source": [
    "### Классификация алгоритма:\n",
    "- По типу алгоритма: на основе построения детерминированного конечного автомата (DFA) для множества образцов (строк)\n",
    "- По устойчивости: устойчивый\n",
    "- По месту хранения данных: бор(tier), преффиксная ссылка(suffic link), дополнительная структура данных(стек, очередь)\n",
    "- По выделению дополнительного пространства: массив fail и массив output для суффиксных ссылок\n",
    "- По дополнительным затратам памяти: $O(NL)$ где N - кол-во слов, L - длина слов\n",
    "- Время выполнения:\n",
    "    - В лучшем случае: $O(n+m+z)$ где n - кол-во шаблонов, m - длина текста, z - общее кол-во совпадений шаблонов в тексте\n",
    "    - В худшем случае: $O(nm)$\n",
    "    - В среднем: $O(n+m+z)$"
   ]
  },
  {
   "cell_type": "markdown",
   "id": "14e1a2fe",
   "metadata": {},
   "source": [
    "### Описание алгоритма:\n",
    "\n",
    "Основная идея алгоритма Ахо-Карасика состоит в том, чтобы создать бор ключевых слов из всех шаблонов, которые нужно найти в тексте, и использовать его для эффективного поиска всех шаблонов в тексте.\n",
    "\n",
    "Алгоритм состоит из двух этапов:\n",
    "1. Построение бора ключевых слов:\n",
    "- Создать корневой узел бора.\n",
    "- Для каждого шаблона вставить его символы в бор, начиная с корневого узла и двигаясь вниз по дереву в соответствии с символами шаблона.\n",
    "- Для каждого узла в боре, кроме корневого, найти его суффиксную ссылку, которая указывает на ближайший узел, являющийся суффиксом данного узла и имеющий тот же символ, что и данный узел. Это позволяет быстро переходить к следующему совпадению шаблона в тексте, если текущее совпадение не было найдено.\n",
    "- Для каждого узла в боре, кроме корневого, найти его ссылку на вывод, которая указывает на ближайший узел, являющийся префиксом данного узла и имеющий метку, соответствующую шаблону. Это позволяет быстро определять, какой шаблон был найден в тексте.\n",
    "2. Поиск паттернов в тексте:\n",
    "- Начать поиск в тексте с корневого узла дерева ключевых слов.\n",
    "- Для каждого символа в тексте перейти к следующему узлу дерева ключевых слов, который соответствует этому символу.\n",
    "- Если текущий узел имеет выходную ссылку, добавить соответствующий паттерн в список найденных паттернов.\n",
    "- Если текущий узел имеет суффиксную ссылку, перейти к следующему совпадению шаблонов в тексте, начиная с узла, на который указывает суффиксная ссылка.\n",
    "- Повторять этот процесс до тех пор, пока не будут перебраны все символы в тексте."
   ]
  },
  {
   "cell_type": "markdown",
   "id": "744bb72b",
   "metadata": {},
   "source": [
    "### Блок-схема алгоритма"
   ]
  },
  {
   "cell_type": "code",
   "execution_count": 71,
   "id": "83190e4f",
   "metadata": {
    "scrolled": true
   },
   "outputs": [
    {
     "data": {
      "image/png": "[encoded data removed]",
      "text/plain": [
       "<IPython.core.display.Image object>"
      ]
     },
     "execution_count": 71,
     "metadata": {},
     "output_type": "execute_result"
    }
   ],
   "source": [
    "from IPython.display import Image\n",
    "Image(filename = 'img/popo.png')"
   ]
  },
  {
   "cell_type": "markdown",
   "id": "59b610fe",
   "metadata": {},
   "source": [
    "### Псевдо-код алгоритма (Код на языке С++)"
   ]
  },
  {
   "cell_type": "code",
   "execution_count": 72,
   "id": "26719c17",
   "metadata": {},
   "outputs": [
    {
     "data": {
      "text/plain": [
       "\"\\nclass BorNode;\\ntypedef map<const char, BorNode *> LinksMap;\\n\\nclass BorNode {\\npublic:<br>\\n    LinksMap links;\\n    BorNode *fail;\\n    BorNode *term;\\n    int out;\\n\\npublic:<br>\\n    BorNode(BorNode *fail_node = NULL) : fail(fail_node), term(NULL), out(-1) { }\\n\\n    BorNode* getLink(const char c) const {\\n        LinksMap::const_iterator iter = links.find(c);\\n        if (iter != links.cend()) {\\n            return iter->second;\\n        }\\n        else {\\n            return nullptr;\\n        }\\n    }\\n\\n    bool isTerminal() const {\\n        return (out >= 0);\\n    }\\n};\\n\\nclass AhoCorasick {\\npublic:<br>\\n    typedef void (*Callback) (const char* substr);\\n    BorNode root;\\n    vector<string> words;\\n    BorNode* current_state;\\n\\npublic:\\n    void addString(const char* const str) {\\n        BorNode *current_node = &root;\\n        for(const char *cp = str; *cp; ++cp) {\\n            BorNode *child_node = current_node->getLink(*cp);\\n            if (!child_node) {\\n                child_node = new BorNode(&root);\\n                current_node->links[*cp] = child_node;\\n            }\\n            current_node = child_node;\\n        }\\n        current_node->out = words.size();\\n        words.push_back(str);\\n    }\\n\\n    void init() {\\n        queue<BorNode *> q;\\n        q.push(&root);\\n        while (!q.empty()) {\\n            BorNode *current_node = q.front();\\n            q.pop();\\n            for (LinksMap::const_iterator iter = current_node->links.cbegin(); iter != current_node->links.cend(); ++iter) {\\n                const char symbol = iter->first;\\n                BorNode *child = iter->second;\\n                BorNode *temp_node = current_node->fail;\\n                while (temp_node) {\\n                    BorNode *fail_candidate = temp_node->getLink(symbol);\\n                    if (fail_candidate) {\\n                        child->fail = fail_candidate;\\n                        break;\\n                    }\\n                    temp_node = temp_node->fail;\\n                }\\n                    if (child->fail->isTerminal()) {\\n                        child->term = child->fail;\\n                    }\\n                    else {\\n                        child->term = child->fail->term;\\n                    }\\n                q.push(child);\\n            }\\n        }\\n    }\\n\\n    void step(const char c) {\\n        while (current_state) {\\n            BorNode *candidate = current_state->getLink(c);\\n            if (candidate) {\\n                current_state = candidate;\\n                return;\\n            }\\n            current_state = current_state->fail;\\n        }\\n        current_state = &root;\\n    }\\n\\n    void printTermsForCurrentState(Callback callback) const {\\n        if (current_state->isTerminal()) {\\n            callback(words[current_state->out].c_str());\\n        }\\n        BorNode *temp_node = current_state->term;\\n        while (temp_node) {\\n            callback(words[temp_node->out].c_str()); \\n            temp_node = temp_node->term;\\n        }\\n    }\\n\\n    void search(const char* str, Callback callback) {\\n        current_state = &root;\\n        for(; *str; ++str) {\\n            cout << *str << ':' << endl;\\n            step(*str);\\n            printTermsForCurrentState(callback);\\n         }\\n    }\\n};\\n\""
      ]
     },
     "execution_count": 72,
     "metadata": {},
     "output_type": "execute_result"
    }
   ],
   "source": [
    "'''\n",
    "class BorNode;\n",
    "typedef map<const char, BorNode *> LinksMap;\n",
    "\n",
    "class BorNode {\n",
    "public:<br>\n",
    "    LinksMap links;\n",
    "    BorNode *fail;\n",
    "    BorNode *term;\n",
    "    int out;\n",
    "\n",
    "public:<br>\n",
    "    BorNode(BorNode *fail_node = NULL) : fail(fail_node), term(NULL), out(-1) { }\n",
    "\n",
    "    BorNode* getLink(const char c) const {\n",
    "        LinksMap::const_iterator iter = links.find(c);\n",
    "        if (iter != links.cend()) {\n",
    "            return iter->second;\n",
    "        }\n",
    "        else {\n",
    "            return nullptr;\n",
    "        }\n",
    "    }\n",
    "\n",
    "    bool isTerminal() const {\n",
    "        return (out >= 0);\n",
    "    }\n",
    "};\n",
    "\n",
    "class AhoCorasick {\n",
    "public:<br>\n",
    "    typedef void (*Callback) (const char* substr);\n",
    "    BorNode root;\n",
    "    vector<string> words;\n",
    "    BorNode* current_state;\n",
    "\n",
    "public:\n",
    "    void addString(const char* const str) {\n",
    "        BorNode *current_node = &root;\n",
    "        for(const char *cp = str; *cp; ++cp) {\n",
    "            BorNode *child_node = current_node->getLink(*cp);\n",
    "            if (!child_node) {\n",
    "                child_node = new BorNode(&root);\n",
    "                current_node->links[*cp] = child_node;\n",
    "            }\n",
    "            current_node = child_node;\n",
    "        }\n",
    "        current_node->out = words.size();\n",
    "        words.push_back(str);\n",
    "    }\n",
    "\n",
    "    void init() {\n",
    "        queue<BorNode *> q;\n",
    "        q.push(&root);\n",
    "        while (!q.empty()) {\n",
    "            BorNode *current_node = q.front();\n",
    "            q.pop();\n",
    "            for (LinksMap::const_iterator iter = current_node->links.cbegin(); iter != current_node->links.cend(); ++iter) {\n",
    "                const char symbol = iter->first;\n",
    "                BorNode *child = iter->second;\n",
    "                BorNode *temp_node = current_node->fail;\n",
    "                while (temp_node) {\n",
    "                    BorNode *fail_candidate = temp_node->getLink(symbol);\n",
    "                    if (fail_candidate) {\n",
    "                        child->fail = fail_candidate;\n",
    "                        break;\n",
    "                    }\n",
    "                    temp_node = temp_node->fail;\n",
    "                }\n",
    "                    if (child->fail->isTerminal()) {\n",
    "                        child->term = child->fail;\n",
    "                    }\n",
    "                    else {\n",
    "                        child->term = child->fail->term;\n",
    "                    }\n",
    "                q.push(child);\n",
    "            }\n",
    "        }\n",
    "    }\n",
    "\n",
    "    void step(const char c) {\n",
    "        while (current_state) {\n",
    "            BorNode *candidate = current_state->getLink(c);\n",
    "            if (candidate) {\n",
    "                current_state = candidate;\n",
    "                return;\n",
    "            }\n",
    "            current_state = current_state->fail;\n",
    "        }\n",
    "        current_state = &root;\n",
    "    }\n",
    "\n",
    "    void printTermsForCurrentState(Callback callback) const {\n",
    "        if (current_state->isTerminal()) {\n",
    "            callback(words[current_state->out].c_str());\n",
    "        }\n",
    "        BorNode *temp_node = current_state->term;\n",
    "        while (temp_node) {\n",
    "            callback(words[temp_node->out].c_str()); \n",
    "            temp_node = temp_node->term;\n",
    "        }\n",
    "    }\n",
    "\n",
    "    void search(const char* str, Callback callback) {\n",
    "        current_state = &root;\n",
    "        for(; *str; ++str) {\n",
    "            cout << *str << ':' << endl;\n",
    "            step(*str);\n",
    "            printTermsForCurrentState(callback);\n",
    "         }\n",
    "    }\n",
    "};\n",
    "'''"
   ]
  },
  {
   "cell_type": "markdown",
   "id": "5adba345",
   "metadata": {},
   "source": [
    "### Реализация алгоритма"
   ]
  },
  {
   "cell_type": "markdown",
   "id": "b270b3e4",
   "metadata": {},
   "source": [
    "Достоинства алгоритма:\n",
    "- Эффективность\n",
    "- Возможность поиска всех совпадений\n",
    "- Гибкость\n",
    "- Масштабируемость\n",
    "\n",
    "Недостатки алгоритма:\n",
    "- Неэффективность для одного паттерна\n",
    "- Потребление памяти\n",
    "- Сложность реализации\n",
    "- Неэффективность при изменении паттерна"
   ]
  },
  {
   "cell_type": "code",
   "execution_count": 73,
   "id": "7088f0de",
   "metadata": {
    "scrolled": true
   },
   "outputs": [],
   "source": [
    "### Реализация алгоритма|\n",
    "\n",
    "# Класс узла дерева\n",
    "class Node:\n",
    "    def __init__(self, char):\n",
    "        self.char = char\n",
    "        self.children = {}\n",
    "        self.fail_node = None\n",
    "        self.word_endings = []\n",
    "\n",
    "# Алгоритм Ахо-Корасик\n",
    "class AhoCorasick:\n",
    "    def __init__(self):\n",
    "        self.root = Node(None)\n",
    "    \n",
    "    # Добавление нового слова в дерево\n",
    "    def add_word(self, word):\n",
    "        node = self.root\n",
    "        for char in word:\n",
    "            if char in node.children:\n",
    "                node = node.children[char]\n",
    "            else:\n",
    "                new_node = Node(char)\n",
    "                node.children[char] = new_node\n",
    "                node = new_node\n",
    "        node.word_endings.append(word)\n",
    "        \n",
    "    # Нахождение связей fail_node\n",
    "    def find_fail_nodes(self):\n",
    "        queue = []\n",
    "        for child in self.root.children.values():\n",
    "            queue.append(child)\n",
    "            child.fail_node = self.root\n",
    "        \n",
    "        while queue:\n",
    "            curr_node = queue.pop(0)\n",
    "            for char, child_node in curr_node.children.items():\n",
    "                queue.append(child_node)\n",
    "                fail_node = curr_node.fail_node\n",
    "                \n",
    "                while fail_node and char not in fail_node.children:\n",
    "                    fail_node = fail_node.fail_node\n",
    "                child_node.fail_node = fail_node.children[char] if fail_node else self.root\n",
    "                child_node.word_endings += child_node.fail_node.word_endings\n",
    "            \n",
    "    # Поиск вхождений шаблонов в тексте\n",
    "    def search(self, text) -> int:\n",
    "        count = 0\n",
    "        results = {}\n",
    "        results['Total number of occurrences'] = []\n",
    "        curr_node = self.root\n",
    "        \n",
    "        for i, char in enumerate(text):\n",
    "            while curr_node and char not in curr_node.children:\n",
    "                curr_node = curr_node.fail_node\n",
    "                \n",
    "            if not curr_node:\n",
    "                curr_node = self.root\n",
    "                continue\n",
    "                \n",
    "            curr_node = curr_node.children[char]\n",
    "            \n",
    "            for word in curr_node.word_endings:\n",
    "                if word not in results:\n",
    "                    results[word] = []\n",
    "                results[word].append(i - len(word) + 1)\n",
    "                count = count + 1\n",
    "        \n",
    "        results['Total number of occurrences'].append(count)\n",
    "        \n",
    "        return results"
   ]
  },
  {
   "cell_type": "code",
   "execution_count": 74,
   "id": "698edb5c",
   "metadata": {},
   "outputs": [
    {
     "name": "stdout",
     "output_type": "stream",
     "text": [
      "{'Total number of occurrences': [4], 'hey': [0, 10], 'there': [4, 20]}\n"
     ]
    }
   ],
   "source": [
    "### Тестирование программы\n",
    "\n",
    "ac = AhoCorasick()\n",
    "ac.add_word(\"hey\")\n",
    "ac.add_word(\"there\")\n",
    "ac.find_fail_nodes()\n",
    "\n",
    "text = \"hey there hey hello there\"\n",
    "results = ac.search(text)\n",
    "\n",
    "assert(results['Total number of occurrences'] == [4])\n",
    "print(results)"
   ]
  },
  {
   "cell_type": "code",
   "execution_count": 75,
   "id": "26483912",
   "metadata": {},
   "outputs": [],
   "source": [
    "ac = AhoCorasick()\n",
    "ac.add_word(\"animals\")\n",
    "ac.find_fail_nodes()\n",
    "s = {}\n",
    "\n",
    "with open('Files/Words.txt', 'r', encoding='utf-8') as f:\n",
    "    s = f.read()\n",
    "\n",
    "results = ac.search(s)\n",
    "\n",
    "assert(results['Total number of occurrences'] == [8])"
   ]
  },
  {
   "cell_type": "code",
   "execution_count": 76,
   "id": "5ac9495d",
   "metadata": {},
   "outputs": [],
   "source": [
    "### Тестирование на книге Гадкий Утенок\n",
    "\n",
    "ac = AhoCorasick()\n",
    "ac.add_word(\"ugly\")\n",
    "ac.add_word(\"duckling\")\n",
    "ac.find_fail_nodes()\n",
    "s = {}\n",
    "\n",
    "with open('Files/The-Ugly-Duckling.txt', 'r', encoding='utf-8') as f:\n",
    "    s = f.read()\n",
    "\n",
    "results = ac.search(s)\n",
    "\n",
    "assert(results['Total number of occurrences'] == [49])"
   ]
  },
  {
   "cell_type": "markdown",
   "id": "bb5b5b93",
   "metadata": {},
   "source": [
    "# ---------------------------------------------------------------------------------------------------------------"
   ]
  },
  {
   "cell_type": "markdown",
   "id": "8d319e6b",
   "metadata": {},
   "source": [
    "## Метод золотого сечения"
   ]
  },
  {
   "cell_type": "markdown",
   "id": "6cf87dd0",
   "metadata": {},
   "source": [
    "### Классификация алгоритма:\n",
    "- По типу алгоритма: алгоритм поиска с использованием деления интервала и принципа золотого сечения\n",
    "- По устойчивости: устойчивый\n",
    "- По месту хранения данных: на месте\n",
    "- По выделению дополнительного пространства: не выделяет дополнительного пространства\n",
    "- По дополнительным затратам памяти: $O(1)$\n",
    "- Время выполнения:\n",
    "    - В лучшем случае: $O(1)$ в начале интервала\n",
    "    - В худшем случае: $O(log(phi, epsilon))$ phi - золотое сечени, epsilon - желаемый уровень точности\n",
    "    - В среднем: Трудно определить, поскольку зависит от распределения минимумов и максимумов функции на интервале"
   ]
  },
  {
   "cell_type": "markdown",
   "id": "2aace71e",
   "metadata": {},
   "source": [
    "### Описание алгоритма:"
   ]
  },
  {
   "cell_type": "markdown",
   "id": "2828587a",
   "metadata": {},
   "source": [
    "Метод золотого сечения - это алгоритм численной оптимизации, используемый для нахождения минимума или максимума унимодальной функции в заданном интервале. Он работает путем деления интервала на две части на основе золотого сечения, которое составляет приблизительно 1,618.\n",
    "\n",
    "На каждой итерации алгоритма выбираются две точки в интервале на основе золотого сечения, и функция оценивается в этих точках. Затем интервал обновляется, чтобы исключить точку, которая дает большее значение функции, и процесс повторяется до тех пор, пока интервал не станет достаточно маленьким или не будет достигнут желаемый уровень точности.\n",
    "\n",
    "Преимущество метода золотого сечения в том, что он относительно прост в реализации и требует только оценки функции, что делает его подходящим для ситуаций, когда оценка функции требует больших вычислительных затрат или когда функция не может быть дифференцирована. Однако он может быть медленнее, чем другие методы оптимизации, особенно когда количество итераций, необходимых для достижения желаемой точности, велико."
   ]
  },
  {
   "cell_type": "markdown",
   "id": "efbabfd4",
   "metadata": {},
   "source": [
    "### Блок-схема алгоритма"
   ]
  },
  {
   "cell_type": "code",
   "execution_count": 81,
   "id": "daced980",
   "metadata": {},
   "outputs": [
    {
     "data": {
      "image/png": "[encoded data removed]",
      "text/plain": [
       "<IPython.core.display.Image object>"
      ]
     },
     "execution_count": 81,
     "metadata": {},
     "output_type": "execute_result"
    }
   ],
   "source": [
    "Image(filename = 'img/golden.png')"
   ]
  },
  {
   "cell_type": "markdown",
   "id": "ff52e96e",
   "metadata": {},
   "source": [
    "### Псевдо-код алгоритма (Код на языке С++)"
   ]
  },
  {
   "cell_type": "code",
   "execution_count": 77,
   "id": "d7cc22e8",
   "metadata": {},
   "outputs": [
    {
     "data": {
      "text/plain": [
       "'\\n#include <iostream>\\n#include <cmath>\\n\\ndouble goldenRatioMethod(double (*f)(double), double a, double b, double epsilon) {\\n    const double phi = (1 + std::sqrt(5)) / 2; // golden ratio\\n    double c = b - (b - a) / phi;\\n    double d = a + (b - a) / phi;\\n    while (std::abs(b - a) > epsilon) {\\n        if (f(c) < f(d)) {\\n            b = d;\\n            d = c;\\n            c = b - (b - a) / phi;\\n        } else {\\n            a = c;\\n            c = d;\\n            d = a + (b - a) / phi;\\n        }\\n    }\\n    return (a + b) / 2;\\n}\\n\\ndouble f(double x) {\\n    return std::pow(x, 2) - 4 * x + 5;\\n}\\n'"
      ]
     },
     "execution_count": 77,
     "metadata": {},
     "output_type": "execute_result"
    }
   ],
   "source": [
    "'''\n",
    "#include <iostream>\n",
    "#include <cmath>\n",
    "\n",
    "double goldenRatioMethod(double (*f)(double), double a, double b, double epsilon) {\n",
    "    const double phi = (1 + std::sqrt(5)) / 2; // golden ratio\n",
    "    double c = b - (b - a) / phi;\n",
    "    double d = a + (b - a) / phi;\n",
    "    while (std::abs(b - a) > epsilon) {\n",
    "        if (f(c) < f(d)) {\n",
    "            b = d;\n",
    "            d = c;\n",
    "            c = b - (b - a) / phi;\n",
    "        } else {\n",
    "            a = c;\n",
    "            c = d;\n",
    "            d = a + (b - a) / phi;\n",
    "        }\n",
    "    }\n",
    "    return (a + b) / 2;\n",
    "}\n",
    "\n",
    "double f(double x) {\n",
    "    return std::pow(x, 2) - 4 * x + 5;\n",
    "}\n",
    "'''"
   ]
  },
  {
   "cell_type": "markdown",
   "id": "b6a3b502",
   "metadata": {},
   "source": [
    "### Реализация алгоритма"
   ]
  },
  {
   "cell_type": "markdown",
   "id": "8b4f017f",
   "metadata": {},
   "source": [
    "Преимущества метода золотого сечения:\n",
    "- Гарантированная сходимость: Метод золотого сечения гарантированно сходится к минимуму унимодальной функции в заданном интервале, при условии, что функция непрерывна, а интервал хорошо определен.\n",
    "- Требуется только оценка функций: Алгоритм требует оценки функции только в двух точках на каждой итерации, что делает его подходящим для ситуаций, когда функция не может быть дифференцирована или когда стоимость оценки функции высока.\n",
    "- Простота реализации: Алгоритм относительно прост в реализации, требуя только базовых арифметических операций и оценки функций.\n",
    "- Подходит для узких интервалов: Метод золотого сечения особенно эффективен, когда исходный интервал узкий и когда минимум расположен вблизи одной из конечных точек интервала.\n",
    "\n",
    "Недостатки метода золотого сечения:\n",
    "- Медленная сходимость: Алгоритм может быть медленнее, чем другие методы оптимизации, особенно когда количество итераций, необходимых для достижения желаемого уровня точности, велико.\n",
    "- Работает только для унимодальных функций: Метод золотого сечения можно использовать только для нахождения минимума унимодальной функции, то есть функции с единственным локальным минимумом.\n",
    "- Интервал должен быть четко определен: Алгоритм требует начального интервала, который содержит минимум функции, и минимум должен быть расположен внутри интервала. Если интервал плохо определен или минимум находится вне интервала, алгоритм может не сходиться или сходиться к неоптимальной точке.\n",
    "- Чувствительность к начальному интервалу: Производительность алгоритма может быть чувствительна к выбору начального интервала, и выбор плохого начального интервала может привести к медленной сходимости или не сходимости."
   ]
  },
  {
   "cell_type": "code",
   "execution_count": 78,
   "id": "7999e500",
   "metadata": {},
   "outputs": [],
   "source": [
    "def golden_section_search(f, a, b, epsilon=0.0001):\n",
    "    func = lambda x: f(x)\n",
    "    \n",
    "    golden_ratio = (1 + 5 ** 0.5) / 2\n",
    "    \n",
    "    #Текущий размер поиска\n",
    "    L = b - a\n",
    "    \n",
    "    # Первая точка на отрезке\n",
    "    x1 = b - (b - a) / golden_ratio\n",
    "    \n",
    "    # Вторая точка на отрезке\n",
    "    x2 = a + (b - a) / golden_ratio\n",
    "    \n",
    "    # Значение функции в первой точке разбиения\n",
    "    f1 = func(x1)\n",
    "    # Значение функции во второй точке разбиения\n",
    "    f2 = func(x2)\n",
    "    \n",
    "    # Пока расстояние между точками разбиения не меньше точности eps\n",
    "    while abs(x2 - x1) >= epsilon:\n",
    "        # Если во второй точке разбиения функция больше\n",
    "        if f1 < f2:\n",
    "            # Меняем интервал поиска, откидывая самую правую часть\n",
    "            b = x2\n",
    "            x2 = x1\n",
    "            x1 = b - (b - a) / golden_ratio\n",
    "            f2 = f1\n",
    "            f1 = f(x1)\n",
    "        else:\n",
    "            # Меняем интервал поиска, откидывая самую левую часть\n",
    "            a = x1\n",
    "            x1 = x2\n",
    "            x2 = a + (b - a) / golden_ratio\n",
    "            f1 = f2\n",
    "            f2 = f(x2)\n",
    "            \n",
    "    return (a + b) / 2"
   ]
  },
  {
   "cell_type": "code",
   "execution_count": 79,
   "id": "1fd116f5",
   "metadata": {},
   "outputs": [
    {
     "name": "stdout",
     "output_type": "stream",
     "text": [
      "Minimum of f(x) at x = -1.652674033793898e-05\n",
      "Maximum of f(x) at x = -0.6665471015029412\n"
     ]
    }
   ],
   "source": [
    "def f(x):\n",
    "    return 12 * x**3 + 12 * x**2\n",
    "\n",
    "x_min = golden_section_search(f, -0.5, 1, 0.0001)\n",
    "\n",
    "f_neg = lambda x: -f(x)\n",
    "\n",
    "x_max = golden_section_search(f_neg, -1, -0.1, 0.0001)\n",
    "\n",
    "print(\"Minimum of f(x) at x =\", x_min)\n",
    "print(\"Maximum of f(x) at x =\", x_max)"
   ]
  }
 ],
 "metadata": {
  "kernelspec": {
   "display_name": "Python 3 (ipykernel)",
   "language": "python",
   "name": "python3"
  },
  "language_info": {
   "codemirror_mode": {
    "name": "ipython",
    "version": 3
   },
   "file_extension": ".py",
   "mimetype": "text/x-python",
   "name": "python",
   "nbconvert_exporter": "python",
   "pygments_lexer": "ipython3",
   "version": "3.11.2"
  }
 },
 "nbformat": 4,
 "nbformat_minor": 5
}
