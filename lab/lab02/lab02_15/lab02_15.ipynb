{
 "cells": [
  {
   "cell_type": "code",
   "execution_count": 1,
   "id": "694ed57e-0535-44a3-8f3f-79957133f303",
   "metadata": {},
   "outputs": [],
   "source": [
    "import math\n",
    "import random\n",
    "import numpy as np\n",
    "import matplotlib.pyplot as plt\n",
    "from typing import List, Tuple"
   ]
  },
  {
   "cell_type": "markdown",
   "id": "793b6f17-6532-4b2f-8a92-fb3bf3950160",
   "metadata": {
    "tags": []
   },
   "source": [
    "# Лабораторная работа №2. Методы поиска"
   ]
  },
  {
   "cell_type": "markdown",
   "id": "8faade04-12d4-421d-b4fc-ff4562d6d338",
   "metadata": {},
   "source": [
    "Вариант: 15"
   ]
  },
  {
   "cell_type": "markdown",
   "id": "7663eaac-6b36-4331-9c54-534c460f36d0",
   "metadata": {},
   "source": [
    "## Алгоритм Ахо — Корасик(Aho – Corasick algorithm)"
   ]
  },
  {
   "cell_type": "markdown",
   "id": "f801f6db-64c8-46e7-9970-5ca35079dd19",
   "metadata": {},
   "source": [
    "### Классификация алгоритма:\n",
    "\n",
    "- По типу алгоритма: алгоритм поиска подстроки\n",
    "\n",
    "- По устойчивости: устойчивый\n",
    "\n",
    "- По месту хранения данных: выделяет память для создания бора и инициализации узлов\n",
    "\n",
    "- По выделению дополнительного места: использует\n",
    "\n",
    "- По дополнительным затратам памяти: \n",
    "  - Если таблицу переходов автомата хранить как индексный массив: $O(nq)$\n",
    "  \n",
    "  - Если таблицу переходов автомата хранить как красно-черное дерево: $O(n)$\n",
    "   \n",
    "- Время выполнения: \n",
    "  - Индексный массив: $O(nq + H + k)$, где H - длина текста, n - общая длина слов в словаре, q - размер алфавита и k - общая длина всех совпадений\n",
    "    \n",
    "  -  Красно-черное дерево: $O((H + n)logq + k)$"
   ]
  },
  {
   "cell_type": "markdown",
   "id": "27b64aa0-dcdb-4aa4-b984-ff82e5047db5",
   "metadata": {},
   "source": [
    "### Описание алгоритма:\n",
    "\n",
    "Алгоритм строит конечный автомат, которому затем передаёт строку поиска. Автомат получает по очереди все символы строки и переходит по соответствующим рёбрам. Если автомат пришёл в конечное состояние, соответствующая строка словаря присутствует в строке поиска.\n",
    "\n",
    "Несколько строк поиска можно объединить в дерево поиска, так называемый бор (префиксное дерево). Бор является конечным автоматом, распознающим одну строку из m — но при условии, что начало строки известно.\n",
    "\n",
    "Первая задача в алгоритме — научить автомат «самовосстанавливаться», если подстрока не совпала. При этом перевод автомата в начальное состояние при любой неподходящей букве не подходит, так как это может привести к пропуску подстроки (например, при поиске строки aabab, попадается aabaabab, после считывания пятого символа перевод автомата в исходное состояние приведёт к пропуску подстроки — верно было бы перейти в состояние a, а потом снова обработать пятый символ). Чтобы автомат самовосстанавливался, к нему добавляются суффиксные ссылки, нагруженные пустым символом ⌀ (так что детерминированный автомат превращается в недетерминированный). Например, если разобрана строка aaba, то бору предлагаются суффиксы aba, ba, a. Суффиксная ссылка — это ссылка на узел, соответствующий самому длинному суффиксу, который не заводит бор в тупик (в данном случае a).\n",
    "\n",
    "Для корневого узла суффиксная ссылка — петля. Для остальных правило таково: если последний распознанный символ — c, то осуществляется обход по суффиксной ссылке родителя, если оттуда есть дуга, нагруженная символом c, суффиксная ссылка направляется в тот узел, куда эта дуга ведёт. Иначе — алгоритм проходит по суффиксной ссылке ещё и ещё раз, пока либо не пройдёт по корневой ссылке-петле, либо не найдёт дугу, нагруженную символом c.\n",
    "\n",
    "![img](./src/diagram.svg.png)"
   ]
  },
  {
   "cell_type": "markdown",
   "id": "8e390936-da45-4175-a23b-8a8a652f8685",
   "metadata": {},
   "source": [
    "### Блок-схема алгоритма"
   ]
  },
  {
   "cell_type": "markdown",
   "id": "3944f5b4-ab18-49d7-aa9d-f5775d9fb596",
   "metadata": {},
   "source": [
    "![img](./src/Aho-Korasik.png)"
   ]
  },
  {
   "cell_type": "markdown",
   "id": "40db58ae-5857-43a7-8872-2654e6275a5d",
   "metadata": {},
   "source": [
    "### Псевдокод"
   ]
  },
  {
   "cell_type": "code",
   "execution_count": null,
   "id": "93aab337-b931-43ef-910a-24b7da06b1fc",
   "metadata": {
    "tags": []
   },
   "outputs": [],
   "source": [
    "function build_trie(patterns):\n",
    "    trie = create_empty_trie()\n",
    "    for pattern in patterns:\n",
    "        add_pattern_to_trie(trie, pattern)\n",
    "    return trie\n",
    "\n",
    "function build_aho_corasick(trie):\n",
    "    queue = initialize_queue(trie)\n",
    "    while queue is not empty:\n",
    "        node = queue.pop()\n",
    "        for edge in node.edges:\n",
    "            child = edge.target\n",
    "            queue.push(child)\n",
    "            calculate_suffix_link(trie, child, edge.symbol)\n",
    "            calculate_output(trie, child)\n",
    "\n",
    "function search_aho_corasick(text, trie):\n",
    "    state = trie.root\n",
    "    for i in range(len(text)):\n",
    "        state = get_next_state(trie, state, text[i])\n",
    "        if state.output:\n",
    "            for pattern in state.output:\n",
    "                print(\"found pattern\", pattern, \"at index\", i - len(pattern) + 1)"
   ]
  },
  {
   "cell_type": "markdown",
   "id": "989e3462-1c15-4423-ad30-338cfc8bae82",
   "metadata": {},
   "source": [
    "### Достоинства и недостатки"
   ]
  },
  {
   "cell_type": "markdown",
   "id": "e4eac2b6-4452-4d53-869f-ebf5220a42d8",
   "metadata": {},
   "source": [
    "Достоинства:\n",
    "\n",
    "- Эффективный поиск множества подстрок в строке (линейное время)\n",
    "- Не требует дополнительной памяти для хранения промежуточных результатов\n",
    "- Однократное сканирование текста\n",
    "\n",
    "Недостатки:\n",
    "\n",
    "- Построение бора и автомата может занять много времени и памяти\n",
    "- Не эффективен для поиска одной подстроки"
   ]
  },
  {
   "cell_type": "markdown",
   "id": "a7b81b7c-bee0-4150-b1ac-e4e87df5a9be",
   "metadata": {},
   "source": [
    "### Реализация алгоритма"
   ]
  },
  {
   "cell_type": "code",
   "execution_count": 2,
   "id": "f945a294-1c2d-44bf-9d7e-76542a111f0d",
   "metadata": {
    "tags": []
   },
   "outputs": [],
   "source": [
    "class TrieNode:\n",
    "    def __init__(self):\n",
    "        self.children = {}\n",
    "        self.output = []\n",
    "        self.fail = None\n",
    "\n",
    "class AhoCorasick:\n",
    "    def __init__(self, patterns):\n",
    "        self.root = TrieNode()\n",
    "        self.build_trie(patterns)\n",
    "        self.build_automaton()\n",
    "\n",
    "    def build_trie(self, patterns):\n",
    "        for pattern in patterns:\n",
    "            node = self.root\n",
    "            for char in pattern:\n",
    "                if char not in node.children:\n",
    "                    node.children[char] = TrieNode()\n",
    "                node = node.children[char]\n",
    "            node.output.append(pattern)\n",
    "\n",
    "    def build_automaton(self):\n",
    "        queue = [self.root]\n",
    "        while queue:\n",
    "            node = queue.pop(0)\n",
    "            for char, child in node.children.items():\n",
    "                queue.append(child)\n",
    "                fail = node.fail\n",
    "                while fail and char not in fail.children:\n",
    "                    fail = fail.fail\n",
    "                child.fail = fail.children[char] if fail else self.root\n",
    "                child.output.extend(child.fail.output)\n",
    "\n",
    "    def search(self, text):\n",
    "        results = []\n",
    "        node = self.root\n",
    "        for i, char in enumerate(text):\n",
    "            while node and char not in node.children:\n",
    "                node = node.fail\n",
    "            if not node:\n",
    "                node = self.root\n",
    "            else:\n",
    "                node = node.children[char]\n",
    "                for pattern in node.output:\n",
    "                    results.append((i - len(pattern) + 1, pattern))\n",
    "        return results"
   ]
  },
  {
   "cell_type": "markdown",
   "id": "1c23f8a5-b0fa-4641-b930-e03d76a66806",
   "metadata": {},
   "source": [
    "### Демонстрация работы алгоритма"
   ]
  },
  {
   "cell_type": "code",
   "execution_count": 3,
   "id": "8c77a3f6-90c0-4260-afba-2345330e7972",
   "metadata": {
    "tags": []
   },
   "outputs": [
    {
     "name": "stdout",
     "output_type": "stream",
     "text": [
      "Found pattern 'a' at index 0\n",
      "Found pattern 'ab' at index 0\n",
      "Found pattern 'abc' at index 0\n",
      "Found pattern 'bc' at index 1\n",
      "Found pattern 'c' at index 2\n",
      "Found pattern 'a' at index 4\n",
      "Found pattern 'a' at index 5\n",
      "Found pattern 'ab' at index 5\n",
      "Found pattern 'a' at index 7\n",
      "Found pattern 'a' at index 8\n",
      "Found pattern 'c' at index 9\n"
     ]
    }
   ],
   "source": [
    "patterns = [\"a\", \"ab\", \"abc\", \"bc\", \"c\", \"cba\"]\n",
    "aho_corasick = AhoCorasick(patterns)\n",
    "text = \"abcdaabaacbd\"\n",
    "results = aho_corasick.search(text)\n",
    "\n",
    "for index, pattern in results:\n",
    "    print(f\"Found pattern '{pattern}' at index {index}\")"
   ]
  },
  {
   "cell_type": "markdown",
   "id": "e5d4aade-38b4-43dd-89ae-e7aefa1592e6",
   "metadata": {},
   "source": [
    "### Тестирование"
   ]
  },
  {
   "cell_type": "code",
   "execution_count": 4,
   "id": "f611f2b1-af8d-49ab-8343-990d43e5552a",
   "metadata": {
    "tags": []
   },
   "outputs": [
    {
     "name": "stdout",
     "output_type": "stream",
     "text": [
      "Тест 1: [(0, 'a'), (0, 'ab'), (1, 'bc'), (4, 'a'), (5, 'a'), (4, 'aab'), (5, 'ab'), (7, 'a'), (8, 'a'), (7, 'aac'), (10, 'bd')]\n",
      "Тест 2: []\n",
      "Тест 3: [(0, 'a'), (0, 'ab'), (1, 'bc'), (5, 'a'), (6, 'a'), (5, 'aac')]\n",
      "Тест 4: [(0, 'a'), (0, 'ab'), (2, 'a'), (2, 'ab'), (4, 'a')]\n",
      "Тест 5: [(0, 'a')]\n",
      "All tests passed!\n"
     ]
    }
   ],
   "source": [
    "patterns = [\"a\", \"ab\", \"bc\", \"aab\", \"aac\", \"bd\"]\n",
    "aho_corasick = AhoCorasick(patterns)\n",
    "\n",
    "# Тест 1: все образцы найдены\n",
    "text = \"abcdaabaacbd\"\n",
    "results = aho_corasick.search(text)\n",
    "print(f\"Тест 1: {results}\")\n",
    "assert len(results) == 11\n",
    "\n",
    "# Тест 2: нет совпадений\n",
    "text = \"defg\"\n",
    "results = aho_corasick.search(text)\n",
    "print(f\"Тест 2: {results}\")\n",
    "assert len(results) == 0\n",
    "\n",
    "# Тест 3: найдены только некоторые образцы\n",
    "text = \"abcdeaac\"\n",
    "results = aho_corasick.search(text)\n",
    "print(f\"Тест 3: {results}\")\n",
    "assert len(results) == 6\n",
    "\n",
    "# Тест 4: строка содержит повторяющиеся образцы\n",
    "text = \"ababa\"\n",
    "results = aho_corasick.search(text)\n",
    "print(f\"Тест 4: {results}\")\n",
    "assert len(results) == 5\n",
    "\n",
    "# Тест 5: строка состоит только из одного образца\n",
    "text = \"a\"\n",
    "results = aho_corasick.search(text)\n",
    "print(f\"Тест 5: {results}\")\n",
    "assert len(results) == 1\n",
    "\n",
    "print(\"All tests passed!\")"
   ]
  },
  {
   "cell_type": "markdown",
   "id": "3241d340-5dd5-41e5-b95e-b9ddd29333a4",
   "metadata": {},
   "source": [
    "### Все вхождения имени главного героя в любимом литературном произведении"
   ]
  },
  {
   "cell_type": "code",
   "execution_count": 5,
   "id": "bb7ae3be-57e9-4be7-a806-b845184f4204",
   "metadata": {
    "tags": []
   },
   "outputs": [
    {
     "name": "stdout",
     "output_type": "stream",
     "text": [
      "Имя 'Сашка' найдено 56 раз.\n",
      "Позиция: 3079, Совпадение: Сашка\n",
      "Позиция: 3322, Совпадение: Сашка\n",
      "Позиция: 9579, Совпадение: Сашка\n",
      "Позиция: 10016, Совпадение: Сашка\n",
      "Позиция: 10377, Совпадение: Сашка\n",
      "Позиция: 10595, Совпадение: Сашка\n",
      "Позиция: 11911, Совпадение: Сашка\n",
      "Позиция: 12222, Совпадение: Сашка\n",
      "Позиция: 13813, Совпадение: Сашка\n",
      "Позиция: 13941, Совпадение: Сашка\n",
      "Позиция: 14056, Совпадение: Сашка\n",
      "Позиция: 14079, Совпадение: Сашка\n",
      "Позиция: 14112, Совпадение: Сашка\n",
      "Позиция: 14246, Совпадение: Сашка\n",
      "Позиция: 14739, Совпадение: Сашка\n",
      "Позиция: 15080, Совпадение: Сашка\n",
      "Позиция: 16153, Совпадение: Сашка\n",
      "Позиция: 17091, Совпадение: Сашка\n",
      "Позиция: 17299, Совпадение: Сашка\n",
      "Позиция: 17708, Совпадение: Сашка\n",
      "Позиция: 18362, Совпадение: Сашка\n",
      "Позиция: 20994, Совпадение: Сашка\n",
      "Позиция: 21175, Совпадение: Сашка\n",
      "Позиция: 22393, Совпадение: Сашка\n",
      "Позиция: 23461, Совпадение: Сашка\n",
      "Позиция: 25073, Совпадение: Сашка\n",
      "Позиция: 25990, Совпадение: Сашка\n",
      "Позиция: 26009, Совпадение: Сашка\n",
      "Позиция: 28733, Совпадение: Сашка\n",
      "Позиция: 29588, Совпадение: Сашка\n",
      "Позиция: 30005, Совпадение: Сашка\n",
      "Позиция: 30946, Совпадение: Сашка\n",
      "Позиция: 36112, Совпадение: Сашка\n",
      "Позиция: 36419, Совпадение: Сашка\n",
      "Позиция: 36611, Совпадение: Сашка\n",
      "Позиция: 36788, Совпадение: Сашка\n",
      "Позиция: 37177, Совпадение: Сашка\n",
      "Позиция: 37518, Совпадение: Сашка\n",
      "Позиция: 38359, Совпадение: Сашка\n",
      "Позиция: 39243, Совпадение: Сашка\n",
      "Позиция: 41117, Совпадение: Сашка\n",
      "Позиция: 41644, Совпадение: Сашка\n",
      "Позиция: 42183, Совпадение: Сашка\n",
      "Позиция: 42392, Совпадение: Сашка\n",
      "Позиция: 43728, Совпадение: Сашка\n",
      "Позиция: 44035, Совпадение: Сашка\n",
      "Позиция: 44166, Совпадение: Сашка\n",
      "Позиция: 44654, Совпадение: Сашка\n",
      "Позиция: 44827, Совпадение: Сашка\n",
      "Позиция: 44888, Совпадение: Сашка\n",
      "Позиция: 45450, Совпадение: Сашка\n",
      "Позиция: 46360, Совпадение: Сашка\n",
      "Позиция: 46440, Совпадение: Сашка\n",
      "Позиция: 46969, Совпадение: Сашка\n",
      "Позиция: 47118, Совпадение: Сашка\n",
      "Позиция: 47309, Совпадение: Сашка\n"
     ]
    }
   ],
   "source": [
    "# Загрузить текст книги\n",
    "with open(\"./src/Gambrinus.txt\", encoding=\"utf-8\") as file:\n",
    "    book_text = file.read()\n",
    "\n",
    "# Создать экземпляр алгоритма с именем \"Сашка\" в качестве образца\n",
    "patterns = [\"Сашка\"]\n",
    "aho_corasick = AhoCorasick(patterns)\n",
    "\n",
    "# Применить алгоритм к тексту книги\n",
    "results = aho_corasick.search(book_text)\n",
    "\n",
    "# Вывести результаты\n",
    "print(f\"Имя 'Сашка' найдено {len(results)} раз.\")\n",
    "for result in results:\n",
    "    print(f\"Позиция: {result[0]}, Совпадение: {result[1]}\")"
   ]
  },
  {
   "cell_type": "markdown",
   "id": "37510375-32e8-41cd-9d4a-366d1b96bbb1",
   "metadata": {
    "tags": []
   },
   "source": [
    "## Алгоритм имитации отжига(Simulated annealing)"
   ]
  },
  {
   "cell_type": "markdown",
   "id": "6125ca0f-64cd-4683-93de-8638388190b4",
   "metadata": {},
   "source": [
    "### Классификация алгоритма:\n",
    "\n",
    "- По типу алгоритма: гибридный\n",
    "\n",
    "- По устойчивости: неустойчивый\n",
    "\n",
    "- По месту хранения данных: может хранить данные на месте или выделять дополнительное пространство\n",
    "\n",
    "- По выделению дополнительного места: использует\n",
    "\n",
    "- По адаптивности: может быть адаптивным, если использует изменяемые параметры. в остальных случаях - неадаптивный\n",
    "   \n",
    "- Время выполнения: \n",
    "  - В худшем случае: $O(2^n)$\n",
    "    \n",
    "  - В среднем: $O(m * n)$\n",
    "  \n",
    "  - В лучшем случае: $O(logn)$"
   ]
  },
  {
   "cell_type": "markdown",
   "id": "4489b692-1e79-42ea-a499-a8da0e96917a",
   "metadata": {},
   "source": [
    "### Описание алгоритма:\n",
    "Алгоритм основывается на имитации физического процесса, который происходит при кристаллизации вещества, в том числе при отжиге металлов. \n",
    "Предполагается, что атомы вещества уже почти выстроены в кристаллическую решётку, но ещё допустимы переходы отдельных атомов из одной ячейки в другую. \n",
    "Активность атомов тем больше, чем выше температура, которую постепенно понижают, что приводит к тому, что вероятность переходов в состояния с большей энергией уменьшается. Устойчивая кристаллическая решётка соответствует минимуму энергии атомов, поэтому атом либо переходит в состояние с меньшим уровнем энергии, либо остаётся на месте. (Этот алгоритм также называется алгоритмом Н. Метрополиса, по имени его автора).\n",
    "\n",
    "![SegmentLocal](src/Annealing.gif \"segment\")"
   ]
  },
  {
   "cell_type": "markdown",
   "id": "8e551179-0880-40b7-91c7-d9290a543037",
   "metadata": {},
   "source": [
    "## Блок-схема алгоритма\n",
    "\n",
    "![img](./src/Annealing.png)"
   ]
  },
  {
   "cell_type": "markdown",
   "id": "529439b3-b994-4d47-a143-aa1e083c48a0",
   "metadata": {},
   "source": [
    "## Псевдокод"
   ]
  },
  {
   "cell_type": "code",
   "execution_count": null,
   "id": "caa70c0e-5c81-4e93-97f7-93079143fc83",
   "metadata": {},
   "outputs": [],
   "source": [
    "current_state := initial_state()\n",
    "current_energy := energy(current_state)\n",
    "T := initial_temperature()\n",
    "T_min := final_temperature()\n",
    "L := iterations_per_temperature()\n",
    "alpha := cooling_factor()\n",
    "iteration_counter := 0\n",
    "best_state := current_state\n",
    "best_energy := current_energy\n",
    "\n",
    "while T > T_min do\n",
    "    for i in range(L) do\n",
    "        new_state := random_move(current_state)\n",
    "        new_energy := energy(new_state)\n",
    "        if new_energy < current_energy do\n",
    "            current_state := new_state\n",
    "            current_energy := new_energy\n",
    "        end if\n",
    "        else do\n",
    "            probability := exp((current_energy - new_energy) / T)\n",
    "            if random() < probability do\n",
    "                current_state := new_state\n",
    "                current_energy := new_energy\n",
    "            end if\n",
    "    end for\n",
    "    if current_energy < best_energy do\n",
    "        best_state := current_state\n",
    "        best_energy := current_energy\n",
    "    end if\n",
    "    T := T * alpha\n",
    "    iteration_counter += L\n",
    "end while\n",
    "\n",
    "return best_state, best_energy"
   ]
  },
  {
   "cell_type": "markdown",
   "id": "983431ba-4408-4a06-9c8d-66b5d3e42f86",
   "metadata": {},
   "source": [
    "## Достоинства и недостатки\n",
    "\n",
    "Достоинства:\n",
    "\n",
    "- Может работать на любых типах задач и не требует знания градиентов\n",
    "- Является глобальной оптимизационной стратегией, что позволяет находить глобальные экстремумы в сложных функциях\n",
    "- Может работать в реальном времени и адаптироваться к изменениям в функции стоимости\n",
    "\n",
    "Недостатки:\n",
    "\n",
    "- Требуется настройка большого количества параметров, таких как начальная температура, скорость охлаждения и длина каждой итерации\n",
    "- Не гарантирует нахождение оптимального решения, только приближение к нему\n",
    "- Время работы может быть довольно длительным для сложных задач, особенно при больших размерностях"
   ]
  },
  {
   "cell_type": "markdown",
   "id": "57763c9a-4ca1-44cf-9098-3df0cb43003e",
   "metadata": {},
   "source": [
    "## Реализация алгоритма"
   ]
  },
  {
   "cell_type": "code",
   "execution_count": 6,
   "id": "3b5c13f1-d464-4107-9c32-ba9408e22f8e",
   "metadata": {
    "tags": []
   },
   "outputs": [
    {
     "name": "stdout",
     "output_type": "stream",
     "text": [
      "Лучшее состояние: [0, 1, 2, 3, 4]\n",
      "Лучшая стоимость: 10\n"
     ]
    }
   ],
   "source": [
    "def simulated_annealing(initial_state, cost_func, neighbors_func, temperature, cooling_rate):\n",
    "    current_state = initial_state\n",
    "    current_cost = cost_func(current_state)\n",
    "    best_state = current_state\n",
    "    best_cost = current_cost\n",
    "    while temperature > 0.1:\n",
    "        neighbor_state = random.choice(neighbors_func(current_state))\n",
    "        neighbor_cost = cost_func(neighbor_state)\n",
    "        delta_cost = neighbor_cost - current_cost\n",
    "        if delta_cost < 0 or math.exp(-delta_cost / temperature) > random.random():\n",
    "            current_state = neighbor_state\n",
    "            current_cost = neighbor_cost\n",
    "        if current_cost < best_cost:\n",
    "            best_state = current_state\n",
    "            best_cost = current_cost\n",
    "        temperature *= 1 - cooling_rate\n",
    "    return best_state, best_cost\n",
    "\n",
    "initial_state = [0, 1, 2, 3, 4]\n",
    "\n",
    "# определение функции стоимости\n",
    "def cost_func(state):\n",
    "    return sum(state)\n",
    "\n",
    "# определение функции соседних состояний\n",
    "def neighbors_func(state):\n",
    "    neighbors = []\n",
    "    for i in range(len(state)):\n",
    "        for j in range(i+1, len(state)):\n",
    "            neighbor = state.copy()\n",
    "            neighbor[i], neighbor[j] = neighbor[j], neighbor[i]\n",
    "            neighbors.append(neighbor)\n",
    "    return neighbors\n",
    "\n",
    "# запуск алгоритма имитации отжига\n",
    "best_state, best_cost = simulated_annealing(initial_state, cost_func, neighbors_func, 1000, 0.03)\n",
    "\n",
    "print(\"Лучшее состояние:\", best_state)\n",
    "print(\"Лучшая стоимость:\", best_cost)"
   ]
  },
  {
   "cell_type": "markdown",
   "id": "31623999-ba20-420e-a5df-d05e3231e306",
   "metadata": {},
   "source": [
    "## Тестирование"
   ]
  },
  {
   "cell_type": "code",
   "execution_count": 7,
   "id": "6c69f4d8-13ed-4089-b4c4-9f16e633fca5",
   "metadata": {
    "tags": []
   },
   "outputs": [],
   "source": [
    "def test_simulated_annealing():\n",
    "    def cost_func(x): # Тест на квадратичной функции\n",
    "        return x**2\n",
    "    \n",
    "    def neighbors_func(x): # Тест на ф-ции соседних состояний\n",
    "        return [x-1, x+1]\n",
    "\n",
    "    initial_state = 5\n",
    "\n",
    "    best_state, best_cost = simulated_annealing(initial_state, cost_func, neighbors_func, 100, 0.03)\n",
    "\n",
    "    assert abs(best_state) < 0.1 #Ошибка при тестировании на квадратичной функции: best_state слишком далеко от минимума\n",
    "\n",
    "    def cost_func(x): # Тест на ф-ции с множеством локальных минимумов\n",
    "        return math.sin(5 * x) + math.sin(x)\n",
    "\n",
    "    def neighbors_func(x): # Ф-ция соседних состояний\n",
    "        return [x + random.uniform(-0.1, 0.1)]\n",
    "\n",
    "    initial_state = random.uniform(-10, 10)\n",
    "\n",
    "    best_state, best_cost = simulated_annealing(initial_state, cost_func, neighbors_func, 1000, 0.03)\n",
    "\n",
    "    assert abs(best_state - (-1.39)) < 0.1 #Ошибка при тестировании на функции с множеством локальных минимумов: best_state слишком далеко от глобального минимума\n",
    "    \n",
    "    # Тест на задаче коммивояжера\n",
    "    distances = [\n",
    "        [0, 2, 5, 7],\n",
    "        [2, 0, 6, 3],\n",
    "        [5, 6, 0, 1],\n",
    "        [7, 3, 1, 0]\n",
    "    ]\n",
    "\n",
    "    def cost_func(route): # Ф-ция стоимости\n",
    "        cost = 0\n",
    "        for i in range(len(route)):\n",
    "            cost += distances[route[i-1]][route[i]]\n",
    "        return cost\n",
    "\n",
    "    def neighbors_func(route): # Ф-ция соседних состояний\n",
    "        neighbors = []\n",
    "        for i in range(len(route)):\n",
    "            for j in range(i+1, len(route)):\n",
    "                neighbor = route.copy()\n",
    "                neighbor[i], neighbor[j] = neighbor[j], neighbor[i]\n",
    "                neighbors.append(neighbor)\n",
    "        return neighbors\n",
    "\n",
    "    initial_state"
   ]
  },
  {
   "cell_type": "markdown",
   "id": "eeaa079f-f52a-4b27-967b-5fe088fa8ca4",
   "metadata": {},
   "source": [
    "## Поиск экстремума функции"
   ]
  },
  {
   "cell_type": "code",
   "execution_count": 8,
   "id": "96fbade7-6a5d-4fdf-af4e-4a4db7d10aff",
   "metadata": {
    "tags": []
   },
   "outputs": [
    {
     "name": "stdout",
     "output_type": "stream",
     "text": [
      "Лучшее состояние:  -4.999999999999998\n",
      "Лучшая стоимость:  -1199.9999999999986\n"
     ]
    }
   ],
   "source": [
    "def simulated_annealing(initial_state, cost_func, neighbors_func, temperature, cooling_rate):\n",
    "    current_state = initial_state\n",
    "    current_cost = cost_func(current_state)\n",
    "    best_state = current_state\n",
    "    best_cost = current_cost\n",
    "    while temperature > 0.1:\n",
    "        neighbor_state = random.choice(neighbors_func(current_state))\n",
    "        neighbor_cost = cost_func(neighbor_state)\n",
    "        delta_cost = neighbor_cost - current_cost\n",
    "        if delta_cost < 0 or math.exp(-delta_cost / temperature) > random.random():\n",
    "            current_state = neighbor_state\n",
    "            current_cost = neighbor_cost\n",
    "        if current_cost < best_cost:\n",
    "            best_state = current_state\n",
    "            best_cost = current_cost\n",
    "        temperature *= 1 - cooling_rate\n",
    "    return best_state, best_cost\n",
    "\n",
    "# Определение ф-ции стоимости\n",
    "def cost_func(x):\n",
    "    return 12*x**3+12*x**2\n",
    "\n",
    "# Определение ф-ции соседних состояний\n",
    "def neighbors_func(x):\n",
    "    delta = 0.1\n",
    "    return [x + delta, x - delta]\n",
    "\n",
    "# Запуск алгоритма имитации отжига\n",
    "initial_state = 0\n",
    "best_state, best_cost = simulated_annealing(initial_state, cost_func, neighbors_func, 1000, 0.03)\n",
    "\n",
    "print(\"Лучшее состояние: \", best_state)\n",
    "print(\"Лучшая стоимость: \", best_cost)"
   ]
  },
  {
   "cell_type": "markdown",
   "id": "10c74615-9632-4374-b357-e6e0550811e5",
   "metadata": {},
   "source": [
    "## Литература\n",
    "\n",
    "Дональд Э. Кнут. Искусство программирования, том 2. Получисленные алгоритмы = The Art of Computer Programming, vol.2. Seminumerical Algorithms, 3-ed. — Вильямс, 2007. — С. 832. — ISBN 978-5-8459-0081-4.\n",
    "\n",
    "Роберт Седжвик. Фундаментальные алгоритмы на C. Анализ/Структуры данных/Сортировка/Поиск = Algorithms in C. Fundamentals/Data Structures/Sorting/Searching. — СПб.: ДиаСофтЮП, 2003. — С. 672. — ISBN 5-93772-081-4."
   ]
  }
 ],
 "metadata": {
  "kernelspec": {
   "display_name": "Python 3 (ipykernel)",
   "language": "python",
   "name": "python3"
  },
  "language_info": {
   "codemirror_mode": {
    "name": "ipython",
    "version": 3
   },
   "file_extension": ".py",
   "mimetype": "text/x-python",
   "name": "python",
   "nbconvert_exporter": "python",
   "pygments_lexer": "ipython3",
   "version": "3.11.1"
  }
 },
 "nbformat": 4,
 "nbformat_minor": 5
}
