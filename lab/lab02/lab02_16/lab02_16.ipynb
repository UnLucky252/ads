{
 "cells": [
  {
   "cell_type": "markdown",
   "id": "0193d968-c370-4c90-8f59-c79ff49a75e6",
   "metadata": {},
   "source": [
    "# Лабораторная работа 1. Методы поиска\n",
    "\n",
    "Вариант: 16"
   ]
  },
  {
   "cell_type": "code",
   "execution_count": 1,
   "id": "18a6b030-043b-4a51-9227-7c34c0d88b6a",
   "metadata": {
    "tags": []
   },
   "outputs": [],
   "source": [
    "import time\n",
    "from typing import List\n",
    "import random"
   ]
  },
  {
   "cell_type": "markdown",
   "id": "5d43a001-534a-45aa-a5c9-9530fce6f156",
   "metadata": {
    "jp-MarkdownHeadingCollapsed": true,
    "tags": []
   },
   "source": [
    "## Задание 1. Алгоритм Рабина — Карпа (9)"
   ]
  },
  {
   "cell_type": "markdown",
   "id": "eae92133-e06c-4cb8-b9b2-38deb01747d7",
   "metadata": {
    "tags": []
   },
   "source": [
    "Алгоритм Рабина — Карпа — это алгоритм поиска строки, который ищет шаблон, то есть подстроку, в тексте, используя хеширование. Он был разработан в 1987 году Михаэлем Рабином и Ричардом Карпом.\n",
    "\n",
    "Алгоритм редко используется для поиска одиночного шаблона, но имеет значительную теоретическую важность и очень эффективен в поиске совпадений множественных шаблонов одинаковой длины. Для текста длины n и шаблона длины m его среднее и лучшее время исполнения равно $O(n)$ при правильном выборе хеш-функции, но в худшем случае он имеет эффективность $O(nm)$, что является одной из причин того, почему он не слишком широко используется. Для приложений, в которых допустимы ложные срабатывания при поиске, то есть, когда некоторые из найденных вхождений шаблона на самом деле могут не соответствовать шаблону, алгоритм Рабина — Карпа работает за гарантированное время $O(n)$ и при подходящем выборе рандомизированной хеш-функции вероятность ошибки можно сделать очень малой. Также алгоритм имеет уникальную особенность находить любую из заданных k строк одинаковой длины в среднем (при правильном выборе хеш-функции) за время $O(n)$ независимо от размера k."
   ]
  },
  {
   "cell_type": "markdown",
   "id": "334556af-70cf-4fe1-81eb-a51d2ed0247d",
   "metadata": {},
   "source": [
    "### Сложность\n",
    "- в лучшем случае: $O(n)$\n",
    "- в худшем случае: $O(nm)$\n",
    "- в среднем: $O(n)$"
   ]
  },
  {
   "cell_type": "markdown",
   "id": "543bf9aa-ed45-4040-9a5e-d19479c23d3a",
   "metadata": {},
   "source": [
    "### Преимущества:\n",
    "Одно из простейших практических применений алгоритма Рабина — Карпа состоит в определении плагиата. Скажем, например, что студент пишет работу по Моби Дику. Коварный профессор находит различные исходные материалы по Моби Дику и автоматически извлекает список предложений в этих материалах. Затем алгоритм Рабина — Карпа может быстро найти в проверяемой статье примеры вхождения некоторых предложений из исходных материалов. Для устранения чувствительности алгоритма к небольшим различиям можно игнорировать детали, такие как регистр или пунктуация, при помощи их удаления. Поскольку количество строк, которые мы ищем, k, очень большое, обычные алгоритмы поиска одиночных строк становятся неэффективными."
   ]
  },
  {
   "cell_type": "markdown",
   "id": "b413bd62-2c51-4925-a8fd-780a76d96b67",
   "metadata": {
    "jp-MarkdownHeadingCollapsed": true,
    "tags": []
   },
   "source": [
    "### Недостатки:\n",
    "Алгоритм совершенно неэффективен, например, на поиске строки из 10 тысяч символов «a», за которыми следует «b», в строке из 10 миллионов символов «a». В этом случае он показывает своё худшее время исполнения $O(mn)$."
   ]
  },
  {
   "cell_type": "markdown",
   "id": "1656877d-218b-4d9b-a236-65d72b59e672",
   "metadata": {
    "jp-MarkdownHeadingCollapsed": true,
    "tags": []
   },
   "source": [
    "### Использование хэш-функции в алгоритме:"
   ]
  },
  {
   "cell_type": "markdown",
   "id": "fb785288-f908-4de5-bd0d-597ded2ee2a5",
   "metadata": {},
   "source": [
    "Вместо того, чтобы использовать более умный пропуск, алгоритм Рабина — Карпа пытается ускорить проверку эквивалентности образца с подстроками в тексте, используя хеш-функцию. Хеш-функция — это функция, преобразующая каждую строку в числовое значение, называемое хеш-значением (хеш); например, мы можем иметь хеш от строки «hello» равным 5. Алгоритм использует тот факт, что если две строки одинаковы, то и их хеш-значения также одинаковы. Таким образом, всё, что нам нужно, это посчитать хеш-значение искомой подстроки и затем найти подстроку с таким же хеш-значением.\n",
    "\n",
    "Однако существуют две проблемы, связанные с этим. Первая состоит в том, что, так как существует очень много различных строк, между двумя различными строками может произойти коллизия — совпадение их хешей. В таких случаях необходимо посимвольно проверять совпадение самих подстрок, что занимает достаточно много времени, если данные подстроки имеют большую длину (эту проверку делать не нужно, если ваше приложение допускает ложные срабатывания). При использовании достаточно хороших хеш-функций коллизии случаются крайне редко, и в результате среднее время поиска оказывается невелико."
   ]
  },
  {
   "cell_type": "markdown",
   "id": "b59ed016-8726-4c54-a1fe-290968007cd8",
   "metadata": {
    "tags": []
   },
   "source": [
    "### Блок-схема агоритма"
   ]
  },
  {
   "cell_type": "markdown",
   "id": "3479c08b-db76-495c-ad9e-6f3071ede086",
   "metadata": {},
   "source": [
    "![img](./block.jpg)"
   ]
  },
  {
   "cell_type": "markdown",
   "id": "8fe53d4e-2a12-4ccc-84b4-761858b33c65",
   "metadata": {
    "tags": []
   },
   "source": [
    "### Псевдокод алгоритма"
   ]
  },
  {
   "cell_type": "markdown",
   "id": "96a3f1dd-a582-42c5-9934-3b9cf0eeb399",
   "metadata": {},
   "source": [
    " ```\n",
    "  function RabinKarp(string s[1..n], string sub[1..m])\n",
    "      hsub := hash(sub[1..m])\n",
    "      hs := hash(s[1..m])\n",
    "      for i from 1 to (n-m+1)\n",
    "          if hs = hsub\n",
    "              if s[i..i+m-1] = sub\n",
    "                  return i\n",
    "          hs := hash(s[i+1..i+m])\n",
    "      return not found\n",
    " ```"
   ]
  },
  {
   "cell_type": "markdown",
   "id": "216f8e03-20f2-422b-9e1f-ffc64dfc3948",
   "metadata": {
    "tags": []
   },
   "source": [
    "### Реализация алгоритма"
   ]
  },
  {
   "cell_type": "code",
   "execution_count": 2,
   "id": "8a4065ad-7ce5-4985-a94d-a116b34c7db4",
   "metadata": {
    "tags": []
   },
   "outputs": [
    {
     "data": {
      "text/plain": [
       "1326"
      ]
     },
     "execution_count": 2,
     "metadata": {},
     "output_type": "execute_result"
    }
   ],
   "source": [
    "# Following program is the python implementation of\n",
    "# Rabin Karp Algorithm given in CLRS book\n",
    "\n",
    "# d is the number of characters in the input alphabet\n",
    "d = 256\n",
    "\n",
    "# pat -> pattern\n",
    "# txt -> text\n",
    "# q -> A prime number\n",
    "\n",
    "def search(pat, q, txt=\"\", file_name=\"\"):\n",
    "    results = []\n",
    "    if file_name != \"\":\n",
    "        #open file\n",
    "        f = open(file_name, 'r')\n",
    "        try:\n",
    "            txt = f.read()\n",
    "        finally:\n",
    "            f.close()\n",
    "    \n",
    "    if txt == \"\":\n",
    "        return results\n",
    "    M = len(pat)\n",
    "    N = len(txt)\n",
    "    i = 0\n",
    "    j = 0\n",
    "    p = 0 # hash value for pattern\n",
    "    t = 0 # hash value for txt\n",
    "    h = 1\n",
    "\n",
    "    # The value of h would be \"pow(d, M-1)% q\"\n",
    "    for i in range(M-1):\n",
    "        h = (h * d)% q\n",
    "\n",
    "    # Calculate the hash value of pattern and first window\n",
    "    # of text\n",
    "    for i in range(M):\n",
    "        p = (d * p + ord(pat[i]))% q\n",
    "        t = (d * t + ord(txt[i]))% q\n",
    "\n",
    "    # Slide the pattern over text one by one\n",
    "    for i in range(N-M + 1):\n",
    "        # Check the hash values of current window of text and\n",
    "        # pattern if the hash values match then only check\n",
    "        # for characters one by one\n",
    "        if p == t:\n",
    "            # Check for characters one by one\n",
    "            for j in range(M):\n",
    "                if txt[i + j] != pat[j]:\n",
    "                    break\n",
    "\n",
    "            j+= 1\n",
    "            # if p == t and pat[0...M-1] = txt[i, i + 1, ...i + M-1]\n",
    "            if j == M:\n",
    "                results.append(i)\n",
    "                # print(\"Pattern found at index\", str(i))\n",
    "\n",
    "        # Calculate hash value for next window of text: Remove\n",
    "        # leading digit, add trailing digit\n",
    "        if i < N-M:\n",
    "            t = (d*(t-ord(txt[i])*h) + ord(txt[i + M]))% q\n",
    "\n",
    "            # We might get negative values of t, converting it to\n",
    "            # positive\n",
    "            if t < 0:\n",
    "                t = t + q\n",
    "    return results\n",
    "# Driver program to test the above function\n",
    "pat = \"Harry\"\n",
    "q = 101 # A prime number\n",
    "len(search(pat, q, file_name=\"Harry.txt\"))"
   ]
  },
  {
   "cell_type": "markdown",
   "id": "cc335700-ef82-4d68-9485-1d53f4b4b8dd",
   "metadata": {
    "tags": []
   },
   "source": [
    "### Тесты"
   ]
  },
  {
   "cell_type": "code",
   "execution_count": 3,
   "id": "e6e0d093-d91a-496e-b3ba-4a07dd247b1a",
   "metadata": {
    "tags": []
   },
   "outputs": [],
   "source": [
    "assert search(\"aba\", q, \"abacaba\") == [0, 4], 'Ошибка при поиске'\n",
    "\n",
    "assert search(\"aba\", q, \"zzzzzz\") == [], 'Ошибка при поиске несуществующей строки'\n",
    "\n",
    "assert search(\"\", q, \"zzzzzz\") == [], 'Ошибка при поиске пустой строки'\n",
    "\n",
    "assert search(\"asd\", q, \"\") == [], 'Ошибка при поиске в пустой строке'"
   ]
  },
  {
   "cell_type": "markdown",
   "id": "ff2fff8c-1659-46c8-a133-1965c02b496c",
   "metadata": {
    "tags": []
   },
   "source": [
    "**Время**"
   ]
  },
  {
   "cell_type": "code",
   "execution_count": 47,
   "id": "6c82532e-9b1c-4a22-9aca-7421da35f2ac",
   "metadata": {
    "tags": []
   },
   "outputs": [],
   "source": [
    "times = {}"
   ]
  },
  {
   "cell_type": "code",
   "execution_count": 48,
   "id": "7303d04d-d548-4bff-9b01-f3924c53857b",
   "metadata": {
    "tags": []
   },
   "outputs": [
    {
     "name": "stdout",
     "output_type": "stream",
     "text": [
      "172.06\n"
     ]
    }
   ],
   "source": [
    "# 1 size\n",
    "start = time.time()\n",
    "\n",
    "len(search(\"Harry\", 101, file_name=\"files/Harry.txt\"))\n",
    "\n",
    "end = time.time()\n",
    "t = round((end - start) * 10**3, 2)\n",
    "times[1] = t\n",
    "print(t)"
   ]
  },
  {
   "cell_type": "code",
   "execution_count": 49,
   "id": "0e4a56be-c10c-4b7c-9760-caee7f55abb4",
   "metadata": {
    "tags": []
   },
   "outputs": [
    {
     "name": "stdout",
     "output_type": "stream",
     "text": [
      "344.07\n"
     ]
    }
   ],
   "source": [
    "# 2 size\n",
    "start = time.time()\n",
    "\n",
    "len(search(\"Harry\", 101, file_name=\"Harry2.txt\"))\n",
    "\n",
    "end = time.time()\n",
    "t = round((end - start) * 10**3, 2)\n",
    "times[2] = t\n",
    "print(t)"
   ]
  },
  {
   "cell_type": "code",
   "execution_count": 50,
   "id": "d3c4dd96-0fdb-44b0-abec-8d195ee6b174",
   "metadata": {
    "tags": []
   },
   "outputs": [
    {
     "name": "stdout",
     "output_type": "stream",
     "text": [
      "696.16\n"
     ]
    }
   ],
   "source": [
    "# 4 size\n",
    "start = time.time()\n",
    "\n",
    "len(search(\"Harry\", 101, file_name=\"Harry4.txt\"))\n",
    "\n",
    "end = time.time()\n",
    "t = round((end - start) * 10**3, 2)\n",
    "times[4] = t\n",
    "print(t)"
   ]
  },
  {
   "cell_type": "code",
   "execution_count": 51,
   "id": "3ae8f8f3-efba-43bf-bdf1-c9e864310e1d",
   "metadata": {
    "tags": []
   },
   "outputs": [
    {
     "name": "stdout",
     "output_type": "stream",
     "text": [
      "2760.72\n"
     ]
    }
   ],
   "source": [
    "# 16 size\n",
    "start = time.time()\n",
    "\n",
    "len(search(\"Harry\", 101, file_name=\"Harry16.txt\"))\n",
    "\n",
    "end = time.time()\n",
    "t = round((end - start) * 10**3, 2)\n",
    "times[16] = t\n",
    "print(t)"
   ]
  },
  {
   "cell_type": "code",
   "execution_count": 52,
   "id": "1da52fef-f12a-477c-9876-e974fda36b69",
   "metadata": {
    "tags": []
   },
   "outputs": [
    {
     "name": "stdout",
     "output_type": "stream",
     "text": [
      "5525.64\n"
     ]
    }
   ],
   "source": [
    "# 32 size\n",
    "start = time.time()\n",
    "\n",
    "len(search(\"Harry\", 101, file_name=\"Harry32.txt\"))\n",
    "\n",
    "end = time.time()\n",
    "t = round((end - start) * 10**3, 2)\n",
    "times[32] = t\n",
    "print(t)"
   ]
  },
  {
   "cell_type": "markdown",
   "id": "9ede8da7-e941-4d42-8446-3787986e8e95",
   "metadata": {},
   "source": [
    "**График**"
   ]
  },
  {
   "cell_type": "code",
   "execution_count": 53,
   "id": "b16bfcd3-5fdf-4ecb-8ad2-82490f025724",
   "metadata": {
    "tags": []
   },
   "outputs": [
    {
     "data": {
      "image/png": "[encoded data removed]",
      "text/plain": [
       "<Figure size 640x480 with 1 Axes>"
      ]
     },
     "metadata": {},
     "output_type": "display_data"
    }
   ],
   "source": [
    "import matplotlib.pyplot as plt\n",
    "import numpy as np\n",
    "plt.plot(times.keys(), times.values())\n",
    "plt.ylabel('time, ms')\n",
    "plt.xlabel('number of elements')\n",
    "plt.grid(True)\n",
    "plt.show()"
   ]
  },
  {
   "cell_type": "markdown",
   "id": "11b309ec-cfa5-4678-be99-da8421a1277b",
   "metadata": {
    "jp-MarkdownHeadingCollapsed": true,
    "tags": []
   },
   "source": [
    "### Литература"
   ]
  },
  {
   "cell_type": "markdown",
   "id": "8923b0e2-db5c-4456-847c-90832af03f4a",
   "metadata": {
    "tags": []
   },
   "source": [
    "https://ru.wikipedia.org/wiki/Алгоритм_Рабина_—_Карпа\n",
    "\n",
    "https://www.geeksforgeeks.org/python-program-for-rabin-karp-algorithm-for-pattern-searching/"
   ]
  },
  {
   "cell_type": "markdown",
   "id": "2b088616-f476-4a92-beea-5b37818fc54f",
   "metadata": {
    "jp-MarkdownHeadingCollapsed": true,
    "tags": []
   },
   "source": [
    "## Задание 2. Интерполяционный поиск"
   ]
  },
  {
   "cell_type": "markdown",
   "id": "92750b34-7294-4012-bfdb-33bc302ff53e",
   "metadata": {
    "jp-MarkdownHeadingCollapsed": true,
    "tags": []
   },
   "source": [
    "### Описание алгоритма"
   ]
  },
  {
   "cell_type": "markdown",
   "id": "11211fcc-bd93-478c-a568-c5e8b2e8736b",
   "metadata": {},
   "source": [
    "Интерполяционный поиск (интерполирующий поиск) основан на принципе поиска в телефонной книге или, например, в словаре. Вместо сравнения каждого элемента с искомым, как при линейном поиске, данный алгоритм производит предсказание местонахождения элемента: поиск происходит подобно двоичному поиску, но вместо деления области поиска на две части, интерполирующий поиск производит оценку новой области поиска по расстоянию между ключом и текущим значением элемента. Другими словами, бинарный поиск учитывает лишь знак разности между ключом и текущим значением, а интерполирующий ещё учитывает и модуль этой разности и по данному значению производит предсказание позиции следующего элемента для проверки. В среднем интерполирующий поиск производит $O(log(log(n)))$ операций, где n есть число элементов, среди которых производится поиск. Число необходимых операций зависит от равномерности распределения значений среди элементов. В плохом случае (например, когда значения элементов экспоненциально возрастают) интерполяционный поиск может потребовать до $O(n)$ операций."
   ]
  },
  {
   "cell_type": "markdown",
   "id": "b5081c98-a24c-43af-b052-11d4972977ba",
   "metadata": {},
   "source": [
    "На практике интерполяционный поиск часто быстрее бинарного, так как с вычислительной стороны их отличают лишь применяемые арифметические операции: интерполирование — в интерполирующем поиске и деление на два — в двоичном, а скорость их вычисления отличается незначительно, с другой стороны интерполирующий поиск использует такое принципиальное свойство данных, как однородность распределения значений. Ключом может быть не только номер, число, но и, например, текстовая строка, тогда становится понятна аналогия с телефонной книгой: если мы ищем имя в телефонной книге, начинающееся на «А», следовательно, нужно искать его в начале, но никак не в середине. В принципе, ключом может быть всё что угодно, так как те же строки, например, запросто кодируются посимвольно, в простейшем случае символ можно закодировать значением от 1 до 33 (только русские символы) или, например, от 1 до 26 (только латинский алфавит) и т. д.\n",
    "\n",
    "Интерполяция может производиться на основе функции, аппроксимирующей распределение значений, либо набора кривых, выполняющих аппроксимацию на отдельных участках. В этом случае поиск может завершиться за несколько проверок. Преимущества этого метода состоят в уменьшении запросов на чтение медленной памяти (такой, как, например, жесткий диск), если запросы происходят часто. Такой подход становится похожим на частный случай поиска с использованием хеш-таблицы.\n",
    "\n",
    "Часто анализ и построение аппроксимирующих кривых не требуется, показательный случай здесь — когда все элементы отсортированы по возрастанию. В таком списке минимальное значение будет по индексу 1, а максимальное по индексу n. В этом случае аппроксимирующую кривую можно принять за прямую и применять линейную интерполяцию."
   ]
  },
  {
   "cell_type": "markdown",
   "id": "db85d984-f2c6-4ec0-8599-302aceef5a87",
   "metadata": {
    "jp-MarkdownHeadingCollapsed": true,
    "tags": []
   },
   "source": [
    "### Сложность"
   ]
  },
  {
   "cell_type": "markdown",
   "id": "7a0dda95-e79c-46b2-878f-e5e0e5c6f522",
   "metadata": {},
   "source": [
    "- в лучшем случае: $O(1)$\n",
    "- в худшем случае: $O(n)$\n",
    "- в среднем: $O(log(log(n)))$"
   ]
  },
  {
   "cell_type": "markdown",
   "id": "28bfbf2c-8a0d-4de0-83a9-0a7b5a839d97",
   "metadata": {
    "jp-MarkdownHeadingCollapsed": true,
    "tags": []
   },
   "source": [
    "### Преимущества:"
   ]
  },
  {
   "cell_type": "markdown",
   "id": "fb5d0d73-c961-4409-ac0b-c98588cd67b7",
   "metadata": {},
   "source": [
    "Когда все элементы в списке отсортированы и равномерно распределены, время выполнения алгоритма поиска с интерполяцией составляет log (log n). То есть в лучшем случае."
   ]
  },
  {
   "cell_type": "markdown",
   "id": "f5723ec4-8a28-4503-81f7-8ce487c3fca3",
   "metadata": {
    "jp-MarkdownHeadingCollapsed": true,
    "tags": []
   },
   "source": [
    "### Недостатки:"
   ]
  },
  {
   "cell_type": "markdown",
   "id": "4b05761c-8369-4c12-8f61-939da4aaf3ea",
   "metadata": {},
   "source": [
    "Когда элементы в списке увеличиваются экспоненциально, время выполнения алгоритма поиска с интерполяцией составляет O (n). т.е. худший случай"
   ]
  },
  {
   "cell_type": "markdown",
   "id": "d4fc6d72-f819-4d6d-b513-34fbd46e42dc",
   "metadata": {
    "jp-MarkdownHeadingCollapsed": true,
    "tags": []
   },
   "source": [
    "### Блок-схема"
   ]
  },
  {
   "cell_type": "markdown",
   "id": "6afc7d1e-cbca-4209-ac7d-df7c4f60453a",
   "metadata": {},
   "source": [
    "![img](./sort.jpg)"
   ]
  },
  {
   "cell_type": "markdown",
   "id": "dee8ae28-a622-4c72-a1b7-f6ef4ce507a2",
   "metadata": {
    "tags": []
   },
   "source": [
    "### Псевдокод алгоритма"
   ]
  },
  {
   "cell_type": "code",
   "execution_count": 6,
   "id": "2eef7731-dc5f-4a73-9022-582fb4ce75b8",
   "metadata": {
    "tags": []
   },
   "outputs": [
    {
     "ename": "SyntaxError",
     "evalue": "invalid syntax (363596321.py, line 1)",
     "output_type": "error",
     "traceback": [
      "\u001b[1;36m  Cell \u001b[1;32mIn[6], line 1\u001b[1;36m\u001b[0m\n\u001b[1;33m    int interpolationSearch(a : int[], key : int)  // a должен быть отсортирован\u001b[0m\n\u001b[1;37m        ^\u001b[0m\n\u001b[1;31mSyntaxError\u001b[0m\u001b[1;31m:\u001b[0m invalid syntax\n"
     ]
    }
   ],
   "source": [
    "int interpolationSearch(a : int[], key : int)  // a должен быть отсортирован \n",
    "  left = 0  // левая граница поиска (будем считать, что элементы массива нумеруются с нуля) \n",
    "  right = a.length - 1  // правая граница поиска \n",
    "\n",
    "  while a[left] < key and key < a[right]\n",
    "    mid = left + (key - a[left]) * (right - left) / (a[right] - a[left])  // индекс элемента, с которым будем проводить сравнение \n",
    "    if a[mid] < key\n",
    "      left = mid + 1\n",
    "    else if a[mid] > key\n",
    "      right = mid - 1\n",
    "    else\n",
    "      return mid\n",
    "\n",
    "  if a[left] == key\n",
    "    return left\n",
    "  else if a[right] == key\n",
    "    return right\n",
    "  else\n",
    "    return -1 // если такого элемента в массиве нет "
   ]
  },
  {
   "cell_type": "markdown",
   "id": "67e7df36-72fc-4f58-9aa9-ea67bcf78065",
   "metadata": {
    "jp-MarkdownHeadingCollapsed": true,
    "tags": []
   },
   "source": [
    "### Реализация алгоритма"
   ]
  },
  {
   "cell_type": "code",
   "execution_count": 20,
   "id": "e221fddd-9442-4bd0-a66d-db2c9bccf73a",
   "metadata": {
    "tags": []
   },
   "outputs": [
    {
     "name": "stdout",
     "output_type": "stream",
     "text": [
      "Element found at index 3\n"
     ]
    }
   ],
   "source": [
    "# Функция для определения, существует ли цель в отсортированном списке `A` или нет\n",
    "# с использованием алгоритма интерполяционного поиска\n",
    "def interpolationSearch(A, target):\n",
    " \n",
    "    # Базовый вариант\n",
    "    if not A:\n",
    "        return -1\n",
    "    # пространство поиска A[left…right]\n",
    "    (left, right) = (0, len(A) - 1)\n",
    " \n",
    "    while A[right] != A[left] and A[left] <= target <= A[right]:\n",
    " \n",
    "        # оценка средняя\n",
    "        mid = left + (target - A[left]) * (right - left) // (A[right] - A[left])\n",
    " \n",
    "        # Ключ # найден\n",
    "        if target == A[mid]:\n",
    "            return mid\n",
    "        # отбрасывает все элементы в правом пространстве поиска, включая средний элемент\n",
    "        elif target < A[mid]:\n",
    "            right = mid - 1\n",
    "        # отбрасывает все элементы в левой области поиска, включая средний элемент\n",
    "        else:\n",
    "            left = mid + 1\n",
    " \n",
    "    # если ключ найден\n",
    "    if target == A[left]:\n",
    "        return left\n",
    " \n",
    "    # Цель # не существует в списке\n",
    "    return -1\n",
    " \n",
    " \n",
    "if __name__ == '__main__':\n",
    " \n",
    "    A = [2, 5, 6, 8, 9, 10]\n",
    "    key = 8\n",
    " \n",
    "    index = interpolationSearch(A, key)\n",
    " \n",
    "    if index != -1:\n",
    "        print('Element found at index', index)\n",
    "    else:\n",
    "        print('Element found not in the list')"
   ]
  },
  {
   "cell_type": "markdown",
   "id": "abcae49d-5cfa-4a1e-a2af-39d86c54d1a8",
   "metadata": {
    "jp-MarkdownHeadingCollapsed": true,
    "tags": []
   },
   "source": [
    "### Тесты"
   ]
  },
  {
   "cell_type": "code",
   "execution_count": 29,
   "id": "8a3f565e-79ea-47e8-a5f9-6ea2d25ab863",
   "metadata": {
    "tags": []
   },
   "outputs": [],
   "source": [
    "assert interpolationSearch([1, 2, 3, 4, 5], 2) == 1, 'Ошибка при поиске'\n",
    "\n",
    "assert interpolationSearch([1, 2, 3, 4, 5], 6) == -1, 'Ошибка при поиске несуществующей строки'\n",
    "\n",
    "assert interpolationSearch([], 2) == -1, 'Ошибка при поиске пустой строки'"
   ]
  },
  {
   "cell_type": "markdown",
   "id": "5a4cc390-a3b0-4124-9478-f43486abf645",
   "metadata": {},
   "source": [
    "**Время**"
   ]
  },
  {
   "cell_type": "code",
   "execution_count": 78,
   "id": "e011dae9-91ab-4a90-ba5a-bc230ff89cd6",
   "metadata": {
    "tags": []
   },
   "outputs": [],
   "source": [
    "times = {}\n",
    "def get_sort_array(n:int)->List:\n",
    "    '''Возвращает отсортированный массив'''\n",
    "    return list(range(n))"
   ]
  },
  {
   "cell_type": "code",
   "execution_count": 79,
   "id": "2139bb1f-db8a-4512-aae3-ad507cfce5d2",
   "metadata": {
    "tags": []
   },
   "outputs": [
    {
     "name": "stdout",
     "output_type": "stream",
     "text": [
      "26\n",
      "0.0\n"
     ]
    }
   ],
   "source": [
    "# 100 size\n",
    "n = 100\n",
    "arr = get_sort_array(n)\n",
    "rnd = int(random.random() * n)\n",
    "print(rnd)\n",
    "start = time.time()\n",
    "\n",
    "interpolationSearch(arr, rnd)\n",
    "\n",
    "end = time.time()\n",
    "t = round((end - start) * 10**3, 2)\n",
    "times[100] = t\n",
    "print(t)"
   ]
  },
  {
   "cell_type": "code",
   "execution_count": 80,
   "id": "0940408b-54c5-4559-8771-b846f2ebe180",
   "metadata": {
    "tags": []
   },
   "outputs": [
    {
     "name": "stdout",
     "output_type": "stream",
     "text": [
      "0.0\n"
     ]
    }
   ],
   "source": [
    "# 1000 size\n",
    "n = 1000\n",
    "arr = get_sort_array(n)\n",
    "rnd = int(random.random() * n)\n",
    "start = time.time()\n",
    "\n",
    "interpolationSearch(arr, rnd)\n",
    "\n",
    "end = time.time()\n",
    "t = round((end - start) * 10**3, 2)\n",
    "times[1000] = t\n",
    "print(t)"
   ]
  },
  {
   "cell_type": "code",
   "execution_count": 81,
   "id": "a7132c16-5027-422f-ad18-86c860af379e",
   "metadata": {
    "tags": []
   },
   "outputs": [
    {
     "name": "stdout",
     "output_type": "stream",
     "text": [
      "0.0\n"
     ]
    }
   ],
   "source": [
    "# 10000 size\n",
    "n = 10000\n",
    "arr = get_sort_array(n)\n",
    "rnd = int(random.random() * n)\n",
    "start = time.time()\n",
    "\n",
    "interpolationSearch(arr, rnd)\n",
    "\n",
    "end = time.time()\n",
    "t = round((end - start) * 10**3, 2)\n",
    "times[10000] = t\n",
    "print(t)"
   ]
  },
  {
   "cell_type": "code",
   "execution_count": 82,
   "id": "51956670-96e3-4239-be96-edf14ef8c53e",
   "metadata": {
    "tags": []
   },
   "outputs": [
    {
     "name": "stdout",
     "output_type": "stream",
     "text": [
      "0.0\n"
     ]
    }
   ],
   "source": [
    "# 100000 size\n",
    "n = 100000\n",
    "arr = get_sort_array(n)\n",
    "rnd = int(random.random() * n)\n",
    "start = time.time()\n",
    "\n",
    "interpolationSearch(arr, rnd)\n",
    "\n",
    "end = time.time()\n",
    "t = round((end - start) * 10**3, 2)\n",
    "times[100000] = t\n",
    "print(t)"
   ]
  },
  {
   "cell_type": "code",
   "execution_count": 83,
   "id": "c84fca24-9168-4b26-ba9e-84ac9cb8241c",
   "metadata": {
    "tags": []
   },
   "outputs": [
    {
     "name": "stdout",
     "output_type": "stream",
     "text": [
      "135161\n",
      "0.0\n"
     ]
    }
   ],
   "source": [
    "# 1000000 size\n",
    "n = 1000000\n",
    "arr = get_sort_array(n)\n",
    "rnd = int(random.random() * n)\n",
    "print(rnd)\n",
    "start = time.time()\n",
    "\n",
    "interpolationSearch(arr, rnd)\n",
    "\n",
    "end = time.time()\n",
    "t = round((end - start) * 10**3, 2)\n",
    "times[1000000] = t\n",
    "print(t)"
   ]
  },
  {
   "cell_type": "code",
   "execution_count": 84,
   "id": "42336b37-3920-4332-9946-f67e7c9caba4",
   "metadata": {
    "tags": []
   },
   "outputs": [
    {
     "ename": "SyntaxError",
     "evalue": "invalid syntax (620917977.py, line 1)",
     "output_type": "error",
     "traceback": [
      "\u001b[1;36m  Cell \u001b[1;32mIn[84], line 1\u001b[1;36m\u001b[0m\n\u001b[1;33m    **График**\u001b[0m\n\u001b[1;37m    ^\u001b[0m\n\u001b[1;31mSyntaxError\u001b[0m\u001b[1;31m:\u001b[0m invalid syntax\n"
     ]
    }
   ],
   "source": [
    "**График**"
   ]
  },
  {
   "cell_type": "code",
   "execution_count": 85,
   "id": "61f459d9-511d-481c-9fa7-0cb13870e06d",
   "metadata": {
    "tags": []
   },
   "outputs": [
    {
     "data": {
      "image/png": "[encoded data removed]",
      "text/plain": [
       "<Figure size 640x480 with 1 Axes>"
      ]
     },
     "metadata": {},
     "output_type": "display_data"
    }
   ],
   "source": [
    "import matplotlib.pyplot as plt\n",
    "import numpy as np\n",
    "plt.plot(times.keys(), times.values())\n",
    "plt.ylabel('time, ms')\n",
    "plt.xlabel('number of elements')\n",
    "plt.grid(True)\n",
    "plt.show()"
   ]
  },
  {
   "cell_type": "markdown",
   "id": "2d1b0c12-d8a1-4547-800c-bf7878d25dcf",
   "metadata": {
    "jp-MarkdownHeadingCollapsed": true,
    "tags": []
   },
   "source": [
    "### Литература"
   ]
  },
  {
   "cell_type": "markdown",
   "id": "61e9c579-4fbd-41cb-8c5a-8da91accd02d",
   "metadata": {
    "tags": []
   },
   "source": [
    "https://ru.wikipedia.org/wiki/Интерполяционный_поиск\n",
    "\n",
    "https://translated.turbopages.org/proxy_u/en-ru.ru.462b41d8-641d5feb-178ac6b2-74722d776562/https/en.wikipedia.org/wiki/Interpolation_search\n",
    "\n",
    "https://digitrain.ru/articles/21606/\n",
    "\n",
    "https://www.techiedelight.com/ru/interpolation-search/\n",
    "\n",
    "https://neerc.ifmo.ru/wiki/index.php?title=Интерполяционный_поиск"
   ]
  },
  {
   "cell_type": "code",
   "execution_count": null,
   "id": "0a1ce08b-c1da-47c9-adaa-3f0b82483df1",
   "metadata": {},
   "outputs": [],
   "source": []
  }
 ],
 "metadata": {
  "kernelspec": {
   "display_name": "Python 3 (ipykernel)",
   "language": "python",
   "name": "python3"
  },
  "language_info": {
   "codemirror_mode": {
    "name": "ipython",
    "version": 3
   },
   "file_extension": ".py",
   "mimetype": "text/x-python",
   "name": "python",
   "nbconvert_exporter": "python",
   "pygments_lexer": "ipython3",
   "version": "3.11.1"
  }
 },
 "nbformat": 4,
 "nbformat_minor": 5
}
