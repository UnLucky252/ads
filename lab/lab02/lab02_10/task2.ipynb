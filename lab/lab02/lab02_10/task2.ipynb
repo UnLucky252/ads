{
 "cells": [
  {
   "cell_type": "markdown",
   "id": "b326174e-a91c-4191-9889-b4e08028e025",
   "metadata": {},
   "source": [
    "# Лабораторная работа 2. Методы поиска\n",
    "\n",
    "Вариант: 10"
   ]
  },
  {
   "cell_type": "markdown",
   "id": "40305152-e350-480e-9025-bcd657cf3e4a",
   "metadata": {
    "tags": []
   },
   "source": [
    "## Метод хорд"
   ]
  },
  {
   "cell_type": "markdown",
   "id": "7ebbd73d-c2bd-4dcf-a13c-a4ea1f7f600a",
   "metadata": {},
   "source": [
    "### Классификация алгоритма:\n",
    "\n",
    "- **Класс** - поиск корней уравнений\n",
    "\n",
    "- **Структуры данных** - функция и числа\n",
    "\n",
    "- **Алгоритмическая сложность**:\n",
    "\n",
    "    - **в худшем случае** - $O(n^2)$\n",
    "    \n",
    "    - **в среднем случае** - $O(n)$\n",
    "    \n",
    "    - **в лучшем случае** - $O(1)$\n",
    "    \n",
    "    - **Комментарий к алгоритмической сложности** - Алгоритмическая сложность может зависеть от конкретной функции и диапазона начальных значений, выбранных для алгоритма. В целом, сложность метода хорд является некоторым компромиссом между скоростью сходимости и устойчивостью к различным типам функций. Этот метод может быть полезен для решения некоторых классов уравнений, но не всегда является оптимальным выбором для всех задач.\n",
    "\n",
    "\n",
    "- **Сложность по затратам памяти в худшем случае** - $O(1)$"
   ]
  },
  {
   "cell_type": "markdown",
   "id": "59808f24-7abb-49fa-b08e-b00497f3124c",
   "metadata": {
    "tags": []
   },
   "source": [
    "### Описание алгоритма"
   ]
  },
  {
   "cell_type": "markdown",
   "id": "1f813bae-a575-412c-a723-03ef3430769d",
   "metadata": {},
   "source": [
    "Метод хорд - это процедура поиска корней в математическом анализе, которая использует серию корней хордовых линий, чтобы сильее приблизиится к корню функции f. В отличие от метода половинного деления, метод хорд предлагает, что деление рассматриваемого интервала будет выполняться не в его середине, а в точке пересечения хорды с осью абсцисс (ось - Х). Следует отметить, что под хордой понимается отрезок, который проведен через точки рассматриваемой функции по концам рассматриваемого интервала. Рассматриваемый метод обеспечивает более быстрое нахождение корня, чем метод половинного деления, при условии задания одинакового рассматриваемого интервала."
   ]
  },
  {
   "cell_type": "markdown",
   "id": "0489262d-7178-4b12-9856-bab248fa9b83",
   "metadata": {
    "tags": []
   },
   "source": [
    "### Блок-схема алгоритма"
   ]
  },
  {
   "cell_type": "markdown",
   "id": "5dfc14a2-dc40-4842-aa48-85be7b93d3ac",
   "metadata": {},
   "source": [
    "![task2_flowchart](src/task2.jpg)"
   ]
  },
  {
   "cell_type": "markdown",
   "id": "14b6c31d-f3ff-40f5-b898-c88d56fd578e",
   "metadata": {},
   "source": [
    "### Псевдокод алгоритма"
   ]
  },
  {
   "cell_type": "markdown",
   "id": "9b0e48ba-5c6a-4763-bde4-1f76e1811bc4",
   "metadata": {},
   "source": [
    "Input:\n",
    "\n",
    "    a. Initial guess x0, x1\n",
    "    b. Tolerable Error e\n",
    "    c. Maximum Iteration N\n",
    "\n",
    "Do: \n",
    "\n",
    "    If f(x0) = f(x1)\n",
    "        Print \"Mathematical Error\"\n",
    "        Stop\n",
    "    End If\n",
    "\n",
    "    x2 = x1 - (x1 - x0) * f(x1) / ( f(x1) - f(x0) )\n",
    "    x0 = x1\n",
    "    x1 = x2\n",
    "    step = step + 1\n",
    "    If step > N\n",
    "        Print \"Not Convergent\"\n",
    "        Stop\n",
    "    End If\n",
    "\n",
    "    While abs f(x2) > e \n",
    "\n",
    "Return:\n",
    "\n",
    "    root as x2\n",
    "\n"
   ]
  },
  {
   "cell_type": "markdown",
   "id": "1f4f835e-58af-454b-8611-2ee115fdb8ac",
   "metadata": {},
   "source": [
    "### Реализация алгоритма"
   ]
  },
  {
   "cell_type": "code",
   "execution_count": 1,
   "id": "9c61cad1-d81c-450e-964a-80f388e57992",
   "metadata": {},
   "outputs": [],
   "source": [
    "def secant_method(f, x0, x1, tol=1e-6, max_iter=200):\n",
    "    i = 0\n",
    "    while i < max_iter:\n",
    "        try:\n",
    "            x2 = x1 - f(x1) * (x1 - x0) / (f(x1) - f(x0))\n",
    "        except:\n",
    "            print(\"Exception called, finishing earlier\")\n",
    "            return x1\n",
    "        if abs(x2 - x1) < tol:\n",
    "            return x2\n",
    "        x0 = x1\n",
    "        x1 = x2\n",
    "        i += 1\n",
    "    raise ValueError(f\"Secant method failed to converge after {max_iter} iterations.\")"
   ]
  },
  {
   "cell_type": "markdown",
   "id": "37fea1c0-e620-4f18-9bb9-923e46ecc4d8",
   "metadata": {},
   "source": [
    "### Тестирование алгоритма"
   ]
  },
  {
   "cell_type": "markdown",
   "id": "53eb2bbe-a388-4502-ac67-ab0385737aaa",
   "metadata": {},
   "source": [
    "#### Обычные тесты"
   ]
  },
  {
   "cell_type": "code",
   "execution_count": 2,
   "id": "4a92b99f-0e2c-4c25-8912-5e7a2d95727f",
   "metadata": {},
   "outputs": [],
   "source": [
    "def f_test1(x): # Корни: x = 2\n",
    "    return x**2 - 4 * x + 4\n",
    "\n",
    "# res1 = secant_method(f_test1, 0, 7, tol=1e-3)\n",
    "# res2 = secant_method(f_test1, 0, 7, tol=1e-4)\n",
    "# res3 = secant_method(f_test1, 0, 7, tol=1e-5)\n",
    "\n",
    "assert 1.99 < secant_method(f_test1, 0, 7, tol=1e-3) < 2.01, 'Ошибка в тесте 1 с погреностью e-3'\n",
    "assert 1.999 < secant_method(f_test1, 0, 7, tol=1e-4) < 2.001, 'Ошибка в тесте 1 с погреностью e-4'\n",
    "assert 1.9999 < secant_method(f_test1, 0, 7, tol=1e-5) < 2.0001, 'Ошибка в тесте 1 с погреностью e-5'"
   ]
  },
  {
   "cell_type": "code",
   "execution_count": 3,
   "id": "dc1012db-b41b-4589-baf3-ab493fde6fec",
   "metadata": {},
   "outputs": [],
   "source": [
    "def f_test2(x): # Корни: x = 2 и x = 3\n",
    "    return x**2 - 5 * x + 6\n",
    "\n",
    "# Тест2 предусматривает проверку на нахождения 1-го корня x = 2 данного уравнения\n",
    "assert 1.99 < secant_method(f_test2, 0, 7, tol=1e-3) < 2.01, 'Ошибка в тесте 2 с погреностью e-3'\n",
    "assert 1.999 < secant_method(f_test2, 0, 7, tol=1e-4) < 2.001, 'Ошибка в тесте 2 с погреностью e-4'\n",
    "assert 1.9999 < secant_method(f_test2, 0, 7, tol=1e-5) < 2.0001, 'Ошибка в тесте 2 с погреностью e-5'\n",
    "\n",
    "# Тест3 предусматривает проверку на нахождения 2-го корня x = 2 данного уравнения\n",
    "assert 2.99 < secant_method(f_test2, 2.5, 4, tol=1e-3) < 3.01, 'Ошибка в тесте 3 с погреностью e-3'\n",
    "assert 2.999 < secant_method(f_test2, 2.5, 4, tol=1e-4) < 3.001, 'Ошибка в тесте 3 с погреностью e-4'\n",
    "assert 2.9999 < secant_method(f_test2, 2.5, 4, tol=1e-5) < 3.0001, 'Ошибка в тесте 3 с погреностью e-5'"
   ]
  },
  {
   "cell_type": "markdown",
   "id": "6930aac6-f53c-4a20-b206-83ea234e7e1c",
   "metadata": {},
   "source": [
    "#### Специальный тест, указанный в задании"
   ]
  },
  {
   "cell_type": "markdown",
   "id": "1010284b-cf88-47d2-bfa7-33f18871948a",
   "metadata": {},
   "source": [
    "Найти с точностью до $10^{-4}$ меньший из корней уравнения $x^2 + 4x + 2 = 0$"
   ]
  },
  {
   "cell_type": "code",
   "execution_count": 4,
   "id": "c01dddc5-0a58-4d31-8aa2-3fd3f3551d92",
   "metadata": {},
   "outputs": [],
   "source": [
    "def f_main(x):\n",
    "    return x ** 2 + 4 * x + 2\n",
    "\n",
    "assert -3.415 < secant_method(f_main, -5, 5, tol=1e-4) < -3.413, 'Ошибка в специальном тесте'"
   ]
  }
 ],
 "metadata": {
  "kernelspec": {
   "display_name": "Python 3 (ipykernel)",
   "language": "python",
   "name": "python3"
  },
  "language_info": {
   "codemirror_mode": {
    "name": "ipython",
    "version": 3
   },
   "file_extension": ".py",
   "mimetype": "text/x-python",
   "name": "python",
   "nbconvert_exporter": "python",
   "pygments_lexer": "ipython3",
   "version": "3.10.9"
  }
 },
 "nbformat": 4,
 "nbformat_minor": 5
}
