{
 "cells": [
  {
   "cell_type": "markdown",
   "id": "b326174e-a91c-4191-9889-b4e08028e025",
   "metadata": {},
   "source": [
    "# Лабораторная работа 2. Методы поиска\n",
    "\n",
    "Вариант: 10"
   ]
  },
  {
   "cell_type": "markdown",
   "id": "40305152-e350-480e-9025-bcd657cf3e4a",
   "metadata": {},
   "source": [
    "## Алгоритм Кнута — Морриса — Пратта"
   ]
  },
  {
   "cell_type": "markdown",
   "id": "7ebbd73d-c2bd-4dcf-a13c-a4ea1f7f600a",
   "metadata": {
    "jp-MarkdownHeadingCollapsed": true,
    "tags": []
   },
   "source": [
    "### Классификация алгоритма:\n",
    "\n",
    "- **Класс** - поиск по строке\n",
    "\n",
    "- **Структура данных** - строки\n",
    "\n",
    "- **Алгоритмическая сложность в худшем случае** - $O(m) - препроцессинг, O(n) - подбор$\n",
    "\n",
    "- **Сложность по затратам памяти в худшем случае** - $O(m)$"
   ]
  },
  {
   "cell_type": "markdown",
   "id": "59808f24-7abb-49fa-b08e-b00497f3124c",
   "metadata": {
    "tags": []
   },
   "source": [
    "### Описание алгоритма"
   ]
  },
  {
   "cell_type": "markdown",
   "id": "8ffa83fb-ad87-44ce-8298-c3aab99c7a49",
   "metadata": {},
   "source": [
    "Алгоритм Кнута-Морриса-Пратта (КМП) позволяет находить префикс-функцию от строки за линейное время, и имеет достаточно лаконичную реализацию, по длине не превышающую наивный алгоритм.\n",
    "\n",
    "Дана цепочка T и образец P. Требуется найти все позиции, начиная с которых P входит в T. Построим строку S=P#T, где # — любой символ, не входящий в алфавит P и T. Посчитаем на ней значение префикс-функции p. Благодаря разделительному символу #, выполняется ∀i:p[i]⩽|P|. Заметим, что по определению префикс-функции при i>|P| и p[i]=|P| подстроки длины P, начинающиеся с позиций 0 и i−|P|+1, совпадают. Соберем все такие позиции i−|P|+1 строки S, вычтем из каждой позиции |P|+1, это и будет ответ. Другими словами, если в какой-то позиции i выполняется условие p[i]=|P|, то в этой позиции начинается очередное вхождение образца в цепочку.\n",
    "\n",
    "![Визуализация алгоритма](src/decription.png)"
   ]
  },
  {
   "cell_type": "markdown",
   "id": "0489262d-7178-4b12-9856-bab248fa9b83",
   "metadata": {
    "tags": []
   },
   "source": [
    "### Блок-схема алгоритма"
   ]
  },
  {
   "cell_type": "markdown",
   "id": "1a083627",
   "metadata": {},
   "source": [
    "![Блок-схема](src/task1.jpg)"
   ]
  },
  {
   "cell_type": "markdown",
   "id": "14b6c31d-f3ff-40f5-b898-c88d56fd578e",
   "metadata": {
    "tags": []
   },
   "source": [
    "### Псевдокод алгоритма"
   ]
  },
  {
   "cell_type": "markdown",
   "id": "343cd452-2d06-472c-bb20-5b7bae6171e9",
   "metadata": {},
   "source": [
    "```\n",
    "algorithm kmp_table:\n",
    "    input:\n",
    "        an array of characters, W (the word to be analyzed)\n",
    "    output:\n",
    "        an array of integers, T (the table to be filled)\n",
    "\n",
    "    define variables:\n",
    "        an integer, pos ← 1 (the current position we are computing in T)\n",
    "        an integer, cnd ← 0 (the zero-based index in W of the next character of the current candidate substring)\n",
    "\n",
    "    let T[0] ← -1\n",
    "\n",
    "    while pos < length(W) do\n",
    "        if W[pos] = W[cnd] then\n",
    "            let T[pos] ← T[cnd]\n",
    "        else\n",
    "            let T[pos] ← cnd\n",
    "            while cnd ≥ 0 and W[pos] ≠ W[cnd] do\n",
    "                let cnd ← T[cnd]\n",
    "        let pos ← pos + 1, cnd ← cnd + 1\n",
    "\n",
    "    let T[pos] ← cnd (only needed when all word occurrences are searched)\n",
    "```\n"
   ]
  },
  {
   "cell_type": "markdown",
   "id": "1f4f835e-58af-454b-8611-2ee115fdb8ac",
   "metadata": {
    "tags": []
   },
   "source": [
    "### Реализация алгоритма"
   ]
  },
  {
   "cell_type": "code",
   "execution_count": 1,
   "id": "76960063-fae5-475d-a491-3a332353a9b4",
   "metadata": {},
   "outputs": [],
   "source": [
    "def prefix(s):\n",
    "    v = [0] * len(s)\n",
    "    for i in range(1, len(s)):\n",
    "        k = v[i - 1]\n",
    "        while k > 0 and s[k] != s[i]:\n",
    "            k = v[k - 1]\n",
    "        if s[k] == s[i]:\n",
    "            k = k + 1\n",
    "        v[i] = k\n",
    "    return v\n",
    "\n",
    "\n",
    "def kmp(s, t, start_index):\n",
    "    index = -1\n",
    "    f = prefix(s)\n",
    "    k = 0\n",
    "    for i in range(start_index, len(t)):\n",
    "        while k > 0 and s[k] != t[i]:\n",
    "            k = f[k - 1]\n",
    "        if s[k] == t[i]:\n",
    "            k = k + 1\n",
    "        if k == len(s):\n",
    "            index = i - len(s) + 1\n",
    "            break\n",
    "    return index\n",
    "\n",
    "\n",
    "def kmp_start(s, t):\n",
    "    index = -len(s)\n",
    "    found_indexes = []\n",
    "    while True:\n",
    "        index = kmp(s, t, index + 3)\n",
    "        if index == -1:\n",
    "            break\n",
    "        else:\n",
    "            found_indexes.append(index)\n",
    "    return found_indexes\n"
   ]
  },
  {
   "cell_type": "markdown",
   "id": "37fea1c0-e620-4f18-9bb9-923e46ecc4d8",
   "metadata": {
    "tags": []
   },
   "source": [
    "### Тестирование алгоритма\n"
   ]
  },
  {
   "cell_type": "markdown",
   "id": "9c6124ed-23b8-41bf-8cca-4a42fba6d1f7",
   "metadata": {
    "jp-MarkdownHeadingCollapsed": true,
    "tags": []
   },
   "source": [
    "#### Обычные тесты"
   ]
  },
  {
   "cell_type": "code",
   "execution_count": 2,
   "id": "f9064294-5ca3-426b-9bc6-394fd94879cf",
   "metadata": {},
   "outputs": [],
   "source": [
    "assert kmp_start('aba', 'abacaba') == [0, 4], 'Ошибка в тесте на несколько встреч'\n",
    "\n",
    "assert kmp_start('aba', 'cabaca') == [1], 'Ошибка в тесте на среднее значение'\n",
    "\n",
    "assert kmp_start('aba', 'acacaba') == [4], 'Ошибка в тесте последнее значение'\n",
    "\n",
    "assert kmp_start('aba', 'aaaaaaaa') == [], 'Ошибка в тесте на отсутствие встреч'"
   ]
  },
  {
   "cell_type": "markdown",
   "id": "4ec23224-d407-4819-af36-38870ee2f341",
   "metadata": {
    "tags": []
   },
   "source": [
    "#### Тест на Гарри Поттере"
   ]
  },
  {
   "cell_type": "code",
   "execution_count": 3,
   "id": "fefcef8f-65b5-4a65-bd23-27530ddae09e",
   "metadata": {},
   "outputs": [
    {
     "name": "stdout",
     "output_type": "stream",
     "text": [
      "1327 - количество встреченных \"Harry\"\n"
     ]
    }
   ],
   "source": [
    "file = open('src/harry.txt', 'r')\n",
    "text = file.read()\n",
    "\n",
    "assert len(kmp_start('harry', text.lower())) == 1327, 'Ошибка в подсчетах количества встреченных случаев'\n",
    "print(len(kmp_start('harry', text.lower())), '- количество встреченных \\\"Harry\\\"')"
   ]
  }
 ],
 "metadata": {
  "kernelspec": {
   "display_name": "Python 3 (ipykernel)",
   "language": "python",
   "name": "python3"
  },
  "language_info": {
   "codemirror_mode": {
    "name": "ipython",
    "version": 3
   },
   "file_extension": ".py",
   "mimetype": "text/x-python",
   "name": "python",
   "nbconvert_exporter": "python",
   "pygments_lexer": "ipython3",
   "version": "3.10.9"
  }
 },
 "nbformat": 4,
 "nbformat_minor": 5
}
