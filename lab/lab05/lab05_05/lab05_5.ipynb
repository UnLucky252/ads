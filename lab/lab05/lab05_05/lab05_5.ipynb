{
 "cells": [
  {
   "cell_type": "markdown",
   "id": "d3d67758",
   "metadata": {
    "slideshow": {
     "slide_type": "slide"
    }
   },
   "source": [
    "# Лабораторная работа 5.  Эвристические алгоритмы\n",
    "\n",
    "**Цель работы:** ознакомление с  эвристическими алгоритмами  и методикой оценки  их эффективности.\n",
    "\n",
    "**Барышев Михаил, Вариант - 5**\n",
    "\n"
   ]
  },
  {
   "attachments": {
    "cf2fc3b8-30eb-4e74-a7ce-83c0ea4a5bae.png": {
     "image/png": "[encoded data removed]"
    }
   },
   "cell_type": "markdown",
   "id": "d56d6f7a",
   "metadata": {},
   "source": [
    "## Задание 1.\n",
    "\n",
    "Дан либиринт. Вход в лабиринт находится сверху слева, выход - снизу справа.  \n",
    "\n",
    "![maze05_05.png](attachment:cf2fc3b8-30eb-4e74-a7ce-83c0ea4a5bae.png)\n",
    "\n",
    "\n",
    "а) Используя волновой алгоритм вручную построить оптимальный путь через лабиринт.\n",
    "\n",
    "б) Используя маршрутный алгоритм вручную построить оптимальный путь через лабиринт.\n",
    "\n"
   ]
  },
  {
   "attachments": {
    "24208cd5-7a1a-446e-bffc-da89c021188e.png": {
     "image/png": "[encoded data removed]"
    }
   },
   "cell_type": "markdown",
   "id": "27249fb9-518d-49b1-bfb6-61fb6f959306",
   "metadata": {},
   "source": [
    "![Снимок экрана 2023-05-18 153928.png](attachment:24208cd5-7a1a-446e-bffc-da89c021188e.png)"
   ]
  },
  {
   "cell_type": "code",
   "execution_count": 7,
   "id": "c0d2eb5a-0587-4d73-9496-6845e3662a29",
   "metadata": {
    "tags": []
   },
   "outputs": [
    {
     "name": "stdout",
     "output_type": "stream",
     "text": [
      "Optimal path: [(1, 0), (1, 1), (2, 1), (3, 1), (4, 1), (5, 1), (6, 1), (7, 1), (7, 2), (7, 3), (7, 4), (7, 5), (7, 6), (7, 7), (7, 8)]\n"
     ]
    }
   ],
   "source": [
    "## Wave_algorithm\n",
    "\n",
    "maze = [\n",
    "    [1, 1, 1, 1, 1, 1, 1, 1, 1], #1\n",
    "    [0, 0, 1, 0, 0, 0, 0, 0, 1], #2\n",
    "    [1, 0, 1, 0, 1, 1, 1, 0, 1], #3\n",
    "    [1, 0, 1, 0, 1, 0, 1, 0, 1], #4\n",
    "    [1, 0, 1, 0, 1, 0, 1, 0, 1], #5\n",
    "    [1, 0, 1, 0, 0, 0, 1, 0, 1], #6\n",
    "    [1, 0, 1, 1, 1, 0, 1, 1, 1], #7\n",
    "    [1, 0, 0, 0, 0, 0, 0, 0, 0], #8\n",
    "    [1, 1, 1, 1, 1, 1, 1, 1, 1], #9\n",
    "]\n",
    "\n",
    "start = (1, 0)\n",
    "end = (7, 8)\n",
    "\n",
    "### Creating wave-map\n",
    "wave = [[-1 for j in range(len(maze[0]))] for i in range(len(maze))]\n",
    "wave[start[0]][start[1]] = 0\n",
    "\n",
    "queue = [start]\n",
    "\n",
    "while queue:\n",
    "    x, y = queue.pop(0)\n",
    "    for dx, dy in [(0, 1), (1, 0), (0, -1), (-1, 0)]:\n",
    "        nx, ny = x + dx, y + dy\n",
    "        if 0 <= nx < len(maze) and 0 <= ny < len(maze[0]) and wave[nx][ny] == -1 and maze[nx][ny] == 0:\n",
    "            wave[nx][ny] = wave[x][y] + 1\n",
    "            queue.append((nx, ny))\n",
    "\n",
    "### Creating a path\n",
    "path = [end]\n",
    "x, y = end\n",
    "while wave[x][y] != 0:\n",
    "    for dx, dy in [(0, 1), (1, 0), (0, -1), (-1, 0)]:\n",
    "        nx, ny = x + dx, y + dy\n",
    "        if 0 <= nx < len(maze) and 0 <= ny < len(maze[0]) and wave[nx][ny] == wave[x][y] - 1:\n",
    "            x, y = nx, ny\n",
    "            path.append((x, y))\n",
    "            break\n",
    "\n",
    "path.reverse()\n",
    "\n",
    "if path is None:\n",
    "    print(\"Error in path\")\n",
    "else:\n",
    "    print(\"Optimal path:\", path)"
   ]
  },
  {
   "cell_type": "code",
   "execution_count": 8,
   "id": "9532cf28-8e3d-4f06-a271-1914b0777d16",
   "metadata": {
    "tags": []
   },
   "outputs": [
    {
     "name": "stdout",
     "output_type": "stream",
     "text": [
      "Optimal path: [(1, 0), (1, 1), (2, 1), (3, 1), (4, 1), (5, 1), (6, 1), (7, 1), (7, 2), (7, 3), (7, 4), (7, 5), (7, 6), (7, 7), (7, 8)]\n"
     ]
    }
   ],
   "source": [
    "## Route algorithm\n",
    "\n",
    "from queue import Queue\n",
    "\n",
    "maze = [\n",
    "    [1, 1, 1, 1, 1, 1, 1, 1, 1], #1\n",
    "    [0, 0, 1, 0, 0, 0, 0, 0, 1], #2\n",
    "    [1, 0, 1, 0, 1, 1, 1, 0, 1], #3\n",
    "    [1, 0, 1, 0, 1, 0, 1, 0, 1], #4\n",
    "    [1, 0, 1, 0, 1, 0, 1, 0, 1], #5\n",
    "    [1, 0, 1, 0, 0, 0, 1, 0, 1], #6\n",
    "    [1, 0, 1, 1, 1, 0, 1, 1, 1], #7\n",
    "    [1, 0, 0, 0, 0, 0, 0, 0, 0], #8\n",
    "    [1, 1, 1, 1, 1, 1, 1, 1, 1], #9\n",
    "]\n",
    "\n",
    "def find_path(maze):\n",
    "    start = (1, 0)\n",
    "    end = (7, 8)\n",
    "    q = Queue()\n",
    "    q.put(start)\n",
    "    visited = set()\n",
    "    prev = {}\n",
    "    while not q.empty():\n",
    "        curr = q.get()\n",
    "        if curr == end:\n",
    "            break\n",
    "        neighbors = [(curr[0]-1, curr[1]), (curr[0]+1, curr[1]), (curr[0], curr[1]-1), (curr[0], curr[1]+1)]\n",
    "        for neighbor in neighbors:\n",
    "            if neighbor[0] < 0 or neighbor[0] >= len(maze) or neighbor[1] < 0 or neighbor[1] >= len(maze[0]):\n",
    "                continue\n",
    "            if maze[neighbor[0]][neighbor[1]] == 1:\n",
    "                continue\n",
    "            if neighbor in visited:\n",
    "                continue\n",
    "            visited.add(neighbor)\n",
    "            q.put(neighbor)\n",
    "            prev[neighbor] = curr\n",
    "    if end not in prev:\n",
    "        return None\n",
    "    path = []\n",
    "    curr = end\n",
    "    while curr != start:\n",
    "        path.append(curr)\n",
    "        curr = prev[curr]\n",
    "    path.append(start)\n",
    "    path.reverse()\n",
    "    return path\n",
    "\n",
    "path = find_path(maze)\n",
    "\n",
    "if path is None:\n",
    "    print(\"Error in path\")\n",
    "else:\n",
    "    print(\"Optimal path:\", path)\n"
   ]
  },
  {
   "attachments": {
    "64aaad88-d747-4195-9ddf-3bc9c6e04546.png": {
     "image/png": "[encoded data removed]"
    }
   },
   "cell_type": "markdown",
   "id": "d568a975",
   "metadata": {},
   "source": [
    "## Задание 2.\n",
    "\n",
    "Дан либиринт. Вход в лабиринт находится сверху слева, выход - снизу справа. \n",
    "Реализовав алгоритм в соответствии с заданием построить оптимальный путь через лабиринт.\n",
    "\n",
    "![Снимок экрана 2023-05-18 135815.png](attachment:64aaad88-d747-4195-9ddf-3bc9c6e04546.png)\n",
    "\n",
    "\n",
    "Евклидово расстояние: $d = \\sqrt{(x_2 - x_1)^2 + (y_2 - y_1)^2 }$ (Двигаться можно по ветрикали, горизонтали и диагонали)\n",
    "\n",
    "Манхэттенское расстояние:  $d = |x_2 - x_1| + |y_2 - y_1| $ (Двигаться можно только по горизонтали и вертикали)\n",
    "\n",
    "\n",
    "\n"
   ]
  },
  {
   "cell_type": "code",
   "execution_count": 33,
   "id": "19ef6ef2-b6f4-4424-bde3-cf4a10cee90b",
   "metadata": {
    "tags": []
   },
   "outputs": [
    {
     "name": "stdout",
     "output_type": "stream",
     "text": [
      "   0  1  2  3  4  5  6  7  8  9  10 11 12 13 14 15 16 17 18 19 20\n",
      "0   1  1  1  1  1  1  1  1  1  1  1  1  1  1  1  1  1  1  1  1  1\n",
      "1   +  +  0  0  0  0  0  0  1  0  1  0  0  0  0  0  0  0  0  0  1\n",
      "2   1  +  1  1  1  1  1  0  1  0  1  0  1  0  1  1  1  1  1  0  1\n",
      "3   1  +  1  0  0  0  1  0  1  0  1  0  1  0  0  0  0  0  1  0  1\n",
      "4   1  +  1  1  1  0  1  0  1  0  1  1  1  0  1  1  1  0  1  0  1\n",
      "5   1  +  +  +  1  0  0  0  1  0  0  0  1  0  1  0  0  0  1  0  1\n",
      "6   1  1  1  +  1  0  1  1  1  1  1  0  1  0  1  0  1  1  1  0  1\n",
      "7   1  +  +  +  1  0  0  0  0  0  1  0  1  0  1  0  1  0  0  0  1\n",
      "8   1  +  1  1  1  1  1  1  1  0  1  0  1  1  1  0  1  1  1  0  1\n",
      "9   1  +  1  0  0  0  0  0  0  0  1  0  0  0  1  0  0  0  1  0  1\n",
      "10  1  +  1  1  1  0  1  1  1  1  1  1  1  0  1  0  1  0  1  0  1\n",
      "11  1  +  0  0  1  0  1  0  0  0  0  0  1  0  1  0  1  0  1  0  1\n",
      "12  1  +  1  0  1  0  1  0  1  1  1  0  1  0  1  0  1  0  1  1  1\n",
      "13  1  +  1  0  1  0  1  0  1  0  1  0  0  0  1  0  1  0  0  0  1\n",
      "14  1  +  1  0  1  0  1  0  1  0  1  1  1  1  1  1  1  1  1  0  1\n",
      "15  1  +  1  0  1  0  1  0  0  0  1  +  +  +  +  +  +  +  1  0  1\n",
      "16  1  +  1  0  1  1  1  1  1  0  1  +  1  1  1  1  1  +  1  0  1\n",
      "17  1  +  1  0  0  0  0  0  0  0  1  +  +  +  +  +  1  +  +  +  1\n",
      "18  1  +  1  1  1  1  1  1  1  1  1  1  1  1  1  +  1  1  1  +  1\n",
      "19  1  +  +  +  +  +  +  +  +  +  +  +  +  +  +  +  1  0  0  +  +\n",
      "20  1  1  1  1  1  1  1  1  1  1  1  1  1  1  1  1  1  1  1  1  1\n",
      "distance = 58\n"
     ]
    }
   ],
   "source": [
    "import pandas as pd\n",
    "import copy\n",
    "from collections import deque\n",
    "from math import inf\n",
    "\n",
    "# given data\n",
    "LABIRINTH = [\n",
    "       [1, 1, 1, 1, 1, 1, 1, 1, 1, 1, 1, 1, 1, 1, 1, 1, 1, 1, 1, 1, 1], #0\n",
    "       [0, 0, 0, 0, 0, 0, 0, 0, 1, 0, 1, 0, 0, 0, 0, 0, 0, 0, 0, 0, 1], #1\n",
    "       [1, 0, 1, 1, 1, 1, 1, 0, 1, 0, 1, 0, 1, 0, 1, 1, 1, 1, 1, 0, 1], #2\n",
    "       [1, 0, 1, 0, 0, 0, 1, 0, 1, 0, 1, 0, 1, 0, 0, 0, 0, 0, 1, 0, 1], #3\n",
    "       [1, 0, 1, 1, 1, 0, 1, 0, 1, 0, 1, 1, 1, 0, 1, 1, 1, 0, 1, 0, 1], #4\n",
    "       [1, 0, 0, 0, 1, 0, 0, 0, 1, 0, 0, 0, 1, 0, 1, 0, 0, 0, 1, 0, 1], #5\n",
    "       [1, 1, 1, 0, 1, 0, 1, 1, 1, 1, 1, 0, 1, 0, 1, 0, 1, 1, 1, 0, 1], #6\n",
    "       [1, 0, 0, 0, 1, 0, 0, 0, 0, 0, 1, 0, 1, 0, 1, 0, 1, 0, 0, 0, 1], #7\n",
    "       [1, 0, 1, 1, 1, 1, 1, 1, 1, 0, 1, 0, 1, 1, 1, 0, 1, 1, 1, 0, 1], #8\n",
    "       [1, 0, 1, 0, 0, 0, 0, 0, 0, 0, 1, 0, 0, 0, 1, 0, 0, 0, 1, 0, 1], #9\n",
    "       [1, 0, 1, 1, 1, 0, 1, 1, 1, 1, 1, 1, 1, 0, 1, 0, 1, 0, 1, 0, 1], #10\n",
    "       [1, 0, 0, 0, 1, 0, 1, 0, 0, 0, 0, 0, 1, 0, 1, 0, 1, 0, 1, 0, 1], #11\n",
    "       [1, 0, 1, 0, 1, 0, 1, 0, 1, 1, 1, 0, 1, 0, 1, 0, 1, 0, 1, 1, 1], #12\n",
    "       [1, 0, 1, 0, 1, 0, 1, 0, 1, 0, 1, 0, 0, 0, 1, 0, 1, 0, 0, 0, 1], #13\n",
    "       [1, 0, 1, 0, 1, 0, 1, 0, 1, 0, 1, 1, 1, 1, 1, 1, 1, 1, 1, 0, 1], #14\n",
    "       [1, 0, 1, 0, 1, 0, 1, 0, 0, 0, 1, 0, 0, 0, 0, 0, 0, 0, 1, 0, 1], #15\n",
    "       [1, 0, 1, 0, 1, 1, 1, 1, 1, 0, 1, 0, 1, 1, 1, 1, 1, 0, 1, 0, 1], #16\n",
    "       [1, 0, 1, 0, 0, 0, 0, 0, 0, 0, 1, 0, 0, 0, 0, 0, 1, 0, 0, 0, 1], #17\n",
    "       [1, 0, 1, 1, 1, 1, 1, 1, 1, 1, 1, 1, 1, 1, 1, 0, 1, 1, 1, 0, 1], #18\n",
    "       [1, 0, 0, 0, 0, 0, 0, 0, 0, 0, 0, 0, 0, 0, 0, 0, 1, 0, 0, 0, 0], #19\n",
    "       [1, 1, 1, 1, 1, 1, 1, 1, 1, 1, 1, 1, 1, 1, 1, 1, 1, 1, 1, 1, 1], #20\n",
    "\n",
    "]\n",
    "\n",
    "START = (1, 0)\n",
    "END = (19, 20)\n",
    "\n",
    "# CONST list for finding 4 neighbours of point aka VonNeuman...\n",
    "DELTA = [(-1, 0), (1, 0), (0, 1), (0, -1)] \n",
    "\n",
    "\n",
    "ALPHA_VISITED = 'alpha'\n",
    "BETA_VISITED = 'beta'\n",
    "\n",
    "# Solving path with knowing of 2 ends\n",
    "def solve_path(path, end_a, end_b):\n",
    "    result = []\n",
    "    cur_a = end_a\n",
    "    cur_b = end_b\n",
    "    while cur_a is not None:\n",
    "        result.append(cur_a)\n",
    "        cur_a = path[cur_a[0]][cur_a[1]]\n",
    "    while cur_b is not None:\n",
    "        result.append(cur_b)\n",
    "        cur_b = path[cur_b[0]][cur_b[1]]\n",
    "    return result\n",
    "\n",
    "def print_lab(lab):\n",
    "    for i in range(len(lab)):\n",
    "        for j in range(len(lab)):\n",
    "            if lab[i][j] == inf:\n",
    "                lab[i][j] = 0\n",
    "    for row in lab:\n",
    "        print(row)\n",
    "\n",
    "# Optional for printing path in labirinh\n",
    "def print_path_labirinth(labirinth, path):\n",
    "    result = copy.deepcopy(labirinth)\n",
    "    for y, x in path:\n",
    "        result[y][x] = '+'\n",
    "    print(pd.DataFrame(result).to_string())\n",
    "    \n",
    "\n",
    "# main func aka wave func to solve labirinth\n",
    "def solveLabrinth(labrinth, start, end, print_path=False):\n",
    "    n = len(labrinth)\n",
    "    m = len(labrinth[0])\n",
    "    distances = [[inf] * m for _ in range(n)]\n",
    "    visited_points = [[ None ] * m for _ in range(n)]\n",
    "    paths = [[None] * m for _ in range(n)]\n",
    "    queue_alpha, queue_beta = deque(), deque()\n",
    "\n",
    "    distances[start[0]][start[1]] = 0\n",
    "    distances[end[0]][end[1]] = 1\n",
    "\n",
    "    visited_points[start[1]][start[0]] = ALPHA_VISITED\n",
    "    visited_points[end[0]][end[1]] = BETA_VISITED\n",
    "\n",
    "    queue_alpha.append(start)\n",
    "    queue_beta.append(end)\n",
    "\n",
    "    while True:\n",
    "        y_a, x_a = queue_alpha.popleft()\n",
    "        y_b, x_b = queue_beta.popleft()\n",
    "\n",
    "        for dy, dx in DELTA:\n",
    "            ny_a, nx_a = y_a + dy, x_a + dx\n",
    "            if 0 < nx_a < m and 0 < ny_a < n and labrinth[ny_a][nx_a] != 1:\n",
    "\n",
    "                if visited_points[ny_a][nx_a] == BETA_VISITED:\n",
    "                    if print_path:\n",
    "                       print_path_labirinth(labrinth, solve_path(paths, end_a=(y_a, x_a), end_b=(ny_a, nx_a)))\n",
    "                    return distances[y_a][x_a] +  distances[ny_a][nx_a]\n",
    "                if visited_points[ny_a][nx_a] is None:\n",
    "                    distances[ny_a][nx_a] = distances[y_a][x_a] + 1\n",
    "                    queue_alpha.append((ny_a, nx_a))\n",
    "                    visited_points[ny_a][nx_a] = ALPHA_VISITED\n",
    "                    paths[ny_a][nx_a] = (y_a, x_a)\n",
    "        \n",
    "        for dy, dx in DELTA:\n",
    "            ny_b, nx_b = y_b + dy, x_b + dx\n",
    "            if 0 < nx_b < m and 0 < ny_b < n and labrinth[ny_b][nx_b] != 1:\n",
    "\n",
    "                if visited_points[ny_b][nx_b] == ALPHA_VISITED:\n",
    "                    if print_path:\n",
    "                        print_path_labirinth(labrinth, solve_path(paths, end_a=(ny_b, nx_b), end_b=(y_b, x_b)))\n",
    "                    return distances[y_b][x_b] +  distances[ny_b][nx_b]\n",
    "                \n",
    "                if visited_points[ny_b][nx_b] is None:\n",
    "                    distances[ny_b][nx_b] = distances[y_b][x_b] + 1\n",
    "                    queue_beta.append((ny_b, nx_b))\n",
    "                    visited_points[ny_b][nx_b] = BETA_VISITED\n",
    "                    paths[ny_b][nx_b] = (y_b, x_b)\n",
    "\n",
    "# result\n",
    "print(f'distance = {solveLabrinth(LABIRINTH, START, END, print_path=True)}')"
   ]
  },
  {
   "attachments": {
    "3ffdcd13-b8d0-4a19-9bdd-e01b9d99da26.png": {
     "image/png": "[encoded data removed]"
    }
   },
   "cell_type": "markdown",
   "id": "5f1162c8-cf72-4d9f-8e08-77b4bec1c665",
   "metadata": {},
   "source": [
    "![Снимок экрана 2023-05-18 154317.png](attachment:3ffdcd13-b8d0-4a19-9bdd-e01b9d99da26.png)"
   ]
  },
  {
   "cell_type": "markdown",
   "id": "3d264181",
   "metadata": {},
   "source": [
    "## Литература\n",
    "\n",
    "Дональд Э. Кнут. Искусство программирования, том 2. Получисленные алгоритмы = The Art of Computer Programming, vol.2. Seminumerical Algorithms, 3-ed. — Вильямс, 2007. — С. 832. — ISBN 978-5-8459-0081-4.\n",
    "\n",
    "Роберт Седжвик. Фундаментальные алгоритмы на C. Анализ/Структуры данных/Сортировка/Поиск = Algorithms in C. Fundamentals/Data Structures/Sorting/Searching. — СПб.: ДиаСофтЮП, 2003. — С. 672. — ISBN 5-93772-081-4."
   ]
  }
 ],
 "metadata": {
  "celltoolbar": "Slideshow",
  "kernelspec": {
   "display_name": "Python 3 (ipykernel)",
   "language": "python",
   "name": "python3"
  },
  "language_info": {
   "codemirror_mode": {
    "name": "ipython",
    "version": 3
   },
   "file_extension": ".py",
   "mimetype": "text/x-python",
   "name": "python",
   "nbconvert_exporter": "python",
   "pygments_lexer": "ipython3",
   "version": "3.10.9"
  }
 },
 "nbformat": 4,
 "nbformat_minor": 5
}
