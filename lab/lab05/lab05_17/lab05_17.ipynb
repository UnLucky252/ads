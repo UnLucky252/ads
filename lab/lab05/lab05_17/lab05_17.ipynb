{
 "cells": [
  {
   "cell_type": "markdown",
   "id": "065dd0e1",
   "metadata": {},
   "source": [
    "# Лабораторная работа 5. Эвристические алгоритмы"
   ]
  },
  {
   "cell_type": "markdown",
   "id": "59c775cf",
   "metadata": {},
   "source": [
    "## Задание 1"
   ]
  },
  {
   "cell_type": "code",
   "execution_count": 9,
   "id": "6d0d65fa",
   "metadata": {},
   "outputs": [
    {
     "data": {
      "image/png": "[encoded data removed]",
      "text/plain": [
       "<IPython.core.display.Image object>"
      ]
     },
     "execution_count": 9,
     "metadata": {},
     "output_type": "execute_result"
    }
   ],
   "source": [
    "from IPython.display import Image\n",
    "Image(filename='Downloads/lab_05_17.png')"
   ]
  },
  {
   "cell_type": "markdown",
   "id": "e933a6ff",
   "metadata": {},
   "source": [
    "#### а) Используя волновой алгоритм вручную построить оптимальный путь через лабиринт.\n",
    "\n"
   ]
  },
  {
   "cell_type": "code",
   "execution_count": 10,
   "id": "1f41f806",
   "metadata": {},
   "outputs": [
    {
     "ename": "SyntaxError",
     "evalue": "invalid syntax (6961691.py, line 1)",
     "output_type": "error",
     "traceback": [
      "\u001b[0;36m  Cell \u001b[0;32mIn[10], line 1\u001b[0;36m\u001b[0m\n\u001b[0;31m    по принципу волнового алгоритма:\u001b[0m\n\u001b[0m       ^\u001b[0m\n\u001b[0;31mSyntaxError\u001b[0m\u001b[0;31m:\u001b[0m invalid syntax\n"
     ]
    }
   ],
   "source": [
    "по принципу волнового алгоритма:\n",
    "\n",
    "#########\n",
    "S1  #   #\n",
    "# # ### #\n",
    "# # #   #\n",
    "# ### ###\n",
    "#   #   #\n",
    "### ### #\n",
    "#       E\n",
    "#########\n",
    "\n",
    "#########\n",
    "S12 #   #\n",
    "#2# ### #\n",
    "# # #   #\n",
    "# ### ###\n",
    "#   #   #\n",
    "### ### #\n",
    "#       E\n",
    "#########\n",
    "\n",
    "#########\n",
    "S123#   #\n",
    "#2# ### #\n",
    "#3# #   #\n",
    "# ### ###\n",
    "#   #   #\n",
    "### ### #\n",
    "#       E\n",
    "#########\n",
    "\n",
    "#########\n",
    "S123#   #\n",
    "#2#4### #\n",
    "#3# #   #\n",
    "#4### ###\n",
    "#   #   #\n",
    "### ### #\n",
    "#       E\n",
    "#########\n",
    "\n",
    "и так далее, конечный вид будет такой:\n",
    "    \n",
    "#########\n",
    "S123#   #\n",
    "#2#4### #\n",
    "#3#5#   #\n",
    "#4### ###\n",
    "#567#   #\n",
    "###8### #\n",
    "#1090123E\n",
    "#########\n",
    "\n",
    "так мы дошли до конца (E) за 13 шагов это будет наикратчайший путь"
   ]
  },
  {
   "cell_type": "markdown",
   "id": "d9054d9d",
   "metadata": {},
   "source": [
    "#### б) Используя маршрутный алгоритм вручную построить оптимальный путь через лабиринт."
   ]
  },
  {
   "cell_type": "code",
   "execution_count": 12,
   "id": "54ddcdbb",
   "metadata": {},
   "outputs": [
    {
     "ename": "SyntaxError",
     "evalue": "invalid syntax (1516850567.py, line 1)",
     "output_type": "error",
     "traceback": [
      "\u001b[0;36m  Cell \u001b[0;32mIn[12], line 1\u001b[0;36m\u001b[0m\n\u001b[0;31m    маршрутный алгоритм работает следующим образом:\u001b[0m\n\u001b[0m               ^\u001b[0m\n\u001b[0;31mSyntaxError\u001b[0m\u001b[0;31m:\u001b[0m invalid syntax\n"
     ]
    }
   ],
   "source": [
    "маршрутный алгоритм работает следующим образом:\n",
    "    вокруг старта рассматривается область из 8 клеток, и в какой расстояние до финиша будет ближе, туда и идем\n",
    "    таким образом с единицы можно пойти в двух направлениях и после того, как алгоритм поймет, что верхний путь не ведет то финиша\n",
    "    он пойдет по нижнему\n",
    "    далее дойдя до 8 алгоритм поймет, что 10 вправую сторону (на примере обозначен цифрой 0) ближе 10 влевую и пойдет направо\n",
    "    и дойдя до 13 он придет к финишу\n",
    "#########\n",
    "S123#   #\n",
    "#2#4### #\n",
    "#3#5#   #\n",
    "#4### ###\n",
    "#567#   #\n",
    "###8### #\n",
    "#1090123E\n",
    "#########"
   ]
  },
  {
   "cell_type": "markdown",
   "id": "327077f4",
   "metadata": {},
   "source": [
    "## Задание 2."
   ]
  },
  {
   "cell_type": "markdown",
   "id": "3e8901a4",
   "metadata": {},
   "source": [
    "#### Дан либиринт. Вход в лабиринт находится сверху слева, выход - снизу справа. Реализовать волновой алгоритм"
   ]
  },
  {
   "cell_type": "markdown",
   "id": "2b5f0fc8",
   "metadata": {},
   "source": [
    "### исходный лабиринт"
   ]
  },
  {
   "cell_type": "code",
   "execution_count": 13,
   "id": "4a046f86",
   "metadata": {},
   "outputs": [
    {
     "data": {
      "image/png": "[encoded data removed]",
      "text/plain": [
       "<IPython.core.display.Image object>"
      ]
     },
     "execution_count": 13,
     "metadata": {},
     "output_type": "execute_result"
    }
   ],
   "source": [
    "from IPython.display import Image\n",
    "Image(filename='Downloads/lab_05_17(2).png')"
   ]
  },
  {
   "cell_type": "code",
   "execution_count": 14,
   "id": "2de7b01e",
   "metadata": {},
   "outputs": [
    {
     "name": "stdout",
     "output_type": "stream",
     "text": [
      "Original Maze:\n",
      "# # # # # # # # # # # # # # # # # # # # # \n",
      "                #                       # \n",
      "#   # # # # #   #   # # #   # # # # #   # \n",
      "#   #           #       #   #       #   # \n",
      "#   #   # # #   # # #   #   #   # # #   # \n",
      "#   #   #           #   #   #           # \n",
      "#   #   # # # # # # #   #   #   # # # # # \n",
      "#   #                   #   #   #       # \n",
      "# # # # # # # # # # # # #   #   #   #   # \n",
      "#   #       #               #   #   #   # \n",
      "#   #   #   #   # # # # # # #   #   # # # \n",
      "#       #       #   #           #       # \n",
      "# # # # # # # # #   #   # # # # # # #   # \n",
      "#           #       #   #           #   # \n",
      "#   # # #   #   #   #   #   #   #   #   # \n",
      "#   #           #   #   #   #   #   #   # \n",
      "#   # # # # # # # # #   #   #   #   #   # \n",
      "#   #       #       #   #   #   #   #   # \n",
      "#   #   #   #   #   #   # # #   #   #   # \n",
      "#       #       #               #         \n",
      "# # # # # # # # # # # # # # # # # # # # # \n",
      "\n",
      "Maze with Optimal Path:\n",
      "# # # # # # # # # # # # # # # # # # # # # \n",
      "S * * * * * * * # * * * * * * * * * * * # \n",
      "#   # # # # # * # * # # #   # # # # # * # \n",
      "#   # * * * * * # * * * #   #       # * # \n",
      "#   # * # # #   # # # * #   #   # # # * # \n",
      "#   # * #           # * #   # * * * * * # \n",
      "#   # * # # # # # # # * #   # * # # # # # \n",
      "#   # * * * * * * * * * #   # * #       # \n",
      "# # # # # # # # # # # # #   # * #   #   # \n",
      "#   #       #               # * #   #   # \n",
      "#   #   #   #   # # # # # # # * #   # # # \n",
      "#       #       #   # * * * * * #       # \n",
      "# # # # # # # # #   # * # # # # # # #   # \n",
      "#           #       # * #     * * * #   # \n",
      "#   # # #   #   #   # * #   # * # * #   # \n",
      "#   #           #   # * #   # * # * #   # \n",
      "#   # # # # # # # # # * #   # * # * #   # \n",
      "#   #       #       # * #   # * # * #   # \n",
      "#   #   #   #   #   # * # # # * # * #   # \n",
      "#       #       #     * * * * * # * * * E \n",
      "# # # # # # # # # # # # # # # # # # # # # \n"
     ]
    }
   ],
   "source": [
    "import sys\n",
    "from collections import deque\n",
    "\n",
    "def find_shortest_path(maze, start, end):\n",
    "    rows = len(maze)\n",
    "    cols = len(maze[0])\n",
    "\n",
    "    # Создаем массив с расстояниями от старта до каждой ячейки\n",
    "    distance = [[sys.maxsize] * cols for _ in range(rows)]\n",
    "    distance[start[0]][start[1]] = 0\n",
    "\n",
    "    # Создаем очередь для обхода ячеек волновым алгоритмом\n",
    "    queue = deque([start])\n",
    "\n",
    "    # Волновой алгоритм\n",
    "    while queue:\n",
    "        row, col = queue.popleft()\n",
    "\n",
    "        # Проверяем соседние ячейки\n",
    "        for dx, dy in [(-1, 0), (1, 0), (0, -1), (0, 1)]:\n",
    "            new_row, new_col = row + dx, col + dy\n",
    "\n",
    "            # Проверяем границы лабиринта и доступность ячейки\n",
    "            if 0 <= new_row < rows and 0 <= new_col < cols and maze[new_row][new_col] == 0:\n",
    "                # Проверяем, если новое расстояние меньше текущего, обновляем его и добавляем ячейку в очередь\n",
    "                if distance[new_row][new_col] == sys.maxsize:\n",
    "                    distance[new_row][new_col] = distance[row][col] + 1\n",
    "                    queue.append((new_row, new_col))\n",
    "\n",
    "    # Проверяем, достигли ли мы выхода\n",
    "    if distance[end[0]][end[1]] == sys.maxsize:\n",
    "        return None  # Выход недостижим\n",
    "\n",
    "    # Восстанавливаем путь от выхода до входа\n",
    "    path = []\n",
    "    row, col = end\n",
    "    while (row, col) != start:\n",
    "        path.append((row, col))\n",
    "        for dx, dy in [(-1, 0), (1, 0), (0, -1), (0, 1)]:\n",
    "            prev_row, prev_col = row + dx, col + dy\n",
    "            if 0 <= prev_row < rows and 0 <= prev_col < cols and distance[prev_row][prev_col] == distance[row][col] - 1:\n",
    "                row, col = prev_row, prev_col\n",
    "                break\n",
    "\n",
    "    # Добавляем вход в начало пути\n",
    "    path.append(start)\n",
    "\n",
    "    return path[::-1]  # Инвертируем путь\n",
    "\n",
    "def display_maze(maze):\n",
    "    for row in maze:\n",
    "        for cell in row:\n",
    "            if cell == 1:\n",
    "                print('#', end=' ')\n",
    "            elif cell == 0:\n",
    "                print(' ', end=' ')\n",
    "            elif cell == 'S':\n",
    "                print('S', end=' ')\n",
    "            elif cell == 'E':\n",
    "                print('E', end=' ')\n",
    "            elif cell == '*':\n",
    "                print('*', end=' ')\n",
    "        print()\n",
    "\n",
    "def display_path(maze, path):\n",
    "    maze_copy = [row[:] for row in maze]  # Создаем копию лабиринта\n",
    "    start, end = path[0], path[-1]\n",
    "    maze_copy[start[0]][start[1]] = 'S'\n",
    "    maze_copy[end[0]][end[1]] = 'E'\n",
    "\n",
    "    # Проходимся по оптимальному пути и отмечаем его на копии лабиринта\n",
    "    for row, col in path[1:-1]:\n",
    "        maze_copy[row][col] = '*'\n",
    "\n",
    "    print(\"Original Maze:\")\n",
    "    display_maze(maze)\n",
    "    print(\"\\nMaze with Optimal Path:\")\n",
    "    display_maze(maze_copy)\n",
    "# Лабиринт\n",
    "maze = [\n",
    "    [1, 1, 1, 1, 1, 1, 1, 1, 1, 1, 1, 1, 1, 1, 1, 1, 1, 1, 1, 1, 1],\n",
    "    [0, 0, 0, 0, 0, 0, 0, 0, 1, 0, 0, 0, 0, 0, 0, 0, 0, 0, 0, 0, 1],\n",
    "    [1, 0, 1, 1, 1, 1, 1, 0, 1, 0, 1, 1, 1, 0, 1, 1, 1, 1, 1, 0, 1],\n",
    "    [1, 0, 1, 0, 0, 0, 0, 0, 1, 0, 0, 0, 1, 0, 1, 0, 0, 0, 1, 0, 1],\n",
    "    [1, 0, 1, 0, 1, 1, 1, 0, 1, 1, 1, 0, 1, 0, 1, 0, 1, 1, 1, 0, 1],\n",
    "    [1, 0, 1, 0, 1, 0, 0, 0, 0, 0, 1, 0, 1, 0, 1, 0, 0, 0, 0, 0, 1],\n",
    "    [1, 0, 1, 0, 1, 1, 1, 1, 1, 1, 1, 0, 1, 0, 1, 0, 1, 1, 1, 1, 1],\n",
    "    [1, 0, 1, 0, 0, 0, 0, 0, 0, 0, 0, 0, 1, 0, 1, 0, 1, 0, 0, 0, 1],\n",
    "    [1, 1, 1, 1, 1, 1, 1, 1, 1, 1, 1, 1, 1, 0, 1, 0, 1, 0, 1, 0, 1],\n",
    "    [1, 0, 1, 0, 0, 0, 1, 0, 0, 0, 0, 0, 0, 0, 1, 0, 1, 0, 1, 0, 1],\n",
    "    [1, 0, 1, 0, 1, 0, 1, 0, 1, 1, 1, 1, 1, 1, 1, 0, 1, 0, 1, 1, 1],\n",
    "    [1, 0, 0, 0, 1, 0, 0, 0, 1, 0, 1, 0, 0, 0, 0, 0, 1, 0, 0, 0, 1],\n",
    "    [1, 1, 1, 1, 1, 1, 1, 1, 1, 0, 1, 0, 1, 1, 1, 1, 1, 1, 1, 0, 1],\n",
    "    [1, 0, 0, 0, 0, 0, 1, 0, 0, 0, 1, 0, 1, 0, 0, 0, 0, 0, 1, 0, 1],\n",
    "    [1, 0, 1, 1, 1, 0, 1, 0, 1, 0, 1, 0, 1, 0, 1, 0, 1, 0, 1, 0, 1],\n",
    "    [1, 0, 1, 0, 0, 0, 0, 0, 1, 0, 1, 0, 1, 0, 1, 0, 1, 0, 1, 0, 1],\n",
    "    [1, 0, 1, 1, 1, 1, 1, 1, 1, 1, 1, 0, 1, 0, 1, 0, 1, 0, 1, 0, 1],\n",
    "    [1, 0, 1, 0, 0, 0, 1, 0, 0, 0, 1, 0, 1, 0, 1, 0, 1, 0, 1, 0, 1],\n",
    "    [1, 0, 1, 0, 1, 0, 1, 0, 1, 0, 1, 0, 1, 1, 1, 0, 1, 0, 1, 0, 1],\n",
    "    [1, 0, 0, 0, 1, 0, 0, 0, 1, 0, 0, 0, 0, 0, 0, 0, 1, 0, 0, 0, 0],\n",
    "    [1, 1, 1, 1, 1, 1, 1, 1, 1, 1, 1, 1, 1, 1, 1, 1, 1, 1, 1, 1, 1],\n",
    "]\n",
    "\n",
    "start = (1, 0)\n",
    "end = (19, 20)\n",
    "\n",
    "# Находим оптимальный путь через лабиринт\n",
    "path = find_shortest_path(maze, start, end)\n",
    "\n",
    "# Отображаем лабиринт с оптимальным путем\n",
    "display_path(maze, path)\n",
    "\n",
    "\n"
   ]
  },
  {
   "cell_type": "code",
   "execution_count": null,
   "id": "eb40b3d8",
   "metadata": {},
   "outputs": [],
   "source": []
  }
 ],
 "metadata": {
  "kernelspec": {
   "display_name": "Python 3 (ipykernel)",
   "language": "python",
   "name": "python3"
  },
  "language_info": {
   "codemirror_mode": {
    "name": "ipython",
    "version": 3
   },
   "file_extension": ".py",
   "mimetype": "text/x-python",
   "name": "python",
   "nbconvert_exporter": "python",
   "pygments_lexer": "ipython3",
   "version": "3.11.2"
  }
 },
 "nbformat": 4,
 "nbformat_minor": 5
}
