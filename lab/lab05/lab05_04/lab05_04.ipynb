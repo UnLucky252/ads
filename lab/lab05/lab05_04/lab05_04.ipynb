{
 "cells": [
  {
   "cell_type": "markdown",
   "id": "41dcc6ee-63e0-4b55-bdfc-9eabde60f180",
   "metadata": {
    "tags": []
   },
   "source": [
    "# Лабораторная работа 5. Эвристические алгоритмы Вариант 4\n",
    "Цель работы: ознакомление с эвристическими алгоритмами и методикой оценки их эффективности."
   ]
  },
  {
   "cell_type": "markdown",
   "id": "3a8085ac-4d89-4578-8542-cefc5bf30ae1",
   "metadata": {},
   "source": [
    "## Задание 1\n",
    "Дан либиринт. Вход в лабиринт находится сверху слева, выход - снизу справа."
   ]
  },
  {
   "attachments": {
    "de5ce80f-005c-470e-afc2-ac916a832b16.png": {
     "image/png": "[encoded data removed]"
    }
   },
   "cell_type": "markdown",
   "id": "04383c26-a5ca-4a96-a10a-2525dec31a96",
   "metadata": {},
   "source": [
    "![image_2023-05-17_17-46-38.png](attachment:de5ce80f-005c-470e-afc2-ac916a832b16.png)\n",
    "\n",
    "а) Используя волновой алгоритм вручную построить оптимальный путь через лабиринт.\n",
    "\n",
    "б) Используя маршрутный алгоритм вручную построить оптимальный путь через лабиринт."
   ]
  },
  {
   "cell_type": "markdown",
   "id": "b08bb18c-dd47-4131-bb67-e29f2403059a",
   "metadata": {},
   "source": [
    "## Реализация алгоритма"
   ]
  },
  {
   "cell_type": "markdown",
   "id": "72487132-65bf-4981-b798-2b1b614d4039",
   "metadata": {},
   "source": [
    "## Формат решения:\n",
    "\n",
    "|<!-- -->|<!-- --> |<!-- --> |<!-- --> |<!-- --> |<!-- --> |<!-- --> |<!-- --> |<!-- --> |<!-- --> |\n",
    "|:------:|:-------:|:-------:|:-------:|:-------:|:-------:|:-------:|:-------:|:-------:|:-------:|\n",
    "|9       |&#9632;  |&#9632;  |&#9632;  |&#9632;  |&#9632;  |&#9632;  |&#9632;  |&#9632;  |&#9632;  |\n",
    "|8       |&#9633;  |&#9633;  |&#9633;  |&#9633;  |&#9633;  |&#9633;  |&#9633;  |&#9633;  |&#9632;  |\n",
    "|7       |&#9632;  |&#9633;  |&#9632;  |&#9632;  |&#9632;  |&#9632;  |&#9632;  |&#9633;  |&#9632;  |\n",
    "|6       |&#9632;  |&#9633;  |&#9632;  |&#9633;  |&#9633;  |&#9633;  |&#9633;  |&#9633;  |&#9632;  |\n",
    "|5       |&#9632;  |&#9633;  |&#9632;  |&#9632;  |&#9632;  |&#9633;  |&#9632;  |&#9632;  |&#9632;  |\n",
    "|4       |&#9632;  |&#9633;  |&#9633;  |&#9633;  |&#9632;  |&#9633;  |&#9632;  |&#9633;  |&#9632;  |\n",
    "|3       |&#9632;  |&#9633;  |&#9632;  |&#9633;  |&#9632;  |&#9633;  |&#9632;  |&#9633;  |&#9632;  |\n",
    "|2       |&#9632;  |&#9633;  |&#9632;  |&#9633;  |&#9632;  |&#9633;  |&#9633;  |&#9633;  |&#9633;  |\n",
    "|1       |&#9632;  |&#9632;  |&#9632;  |&#9632;  |&#9632;  |&#9632;  |&#9632;  |&#9632;  |&#9632;  |\n",
    "|<!-- -->|1        |2        |3        |4        |5        |6        |7        |8        |9        |\n",
    "\n",
    "\n",
    "### Решение\n",
    "\n",
    "|<!-- -->|<!-- --> |<!-- --> |<!-- --> |<!-- --> |<!-- --> |<!-- --> |<!-- --> |<!-- --> |<!-- --> |\n",
    "|:------:|:-------:|:-------:|:-------:|:-------:|:-------:|:-------:|:-------:|:-------:|:-------:|\n",
    "|9       |&#9632;  |&#9632;  |&#9632;  |&#9632;  |&#9632;  |&#9632;  |&#9632;  |&#9632;  |&#9632;  |\n",
    "|8       |&#128997;  |&#128997;  |&#128997;  |&#128997;  |&#128997;  |&#128997;  |&#128997;  |&#128997;  |&#9632;  |\n",
    "|7       |&#9632;  |&#9633;  |&#9632;  |&#9632;  |&#9632;  |&#9632;  |&#9632;  |&#128997;  |&#9632;  |\n",
    "|6       |&#9632;  |&#9633;  |&#9632;  |&#9633;  |&#9633;  |&#128997;  |&#128997;  |&#128997;  |&#9632;  |\n",
    "|5       |&#9632;  |&#9633;  |&#9632;  |&#9632;  |&#9632;  |&#128997;  |&#9632;  |&#9632;  |&#9632;  |\n",
    "|4       |&#9632;  |&#9633;  |&#9633;  |&#9633;  |&#9632;  |&#128997;  |&#9632;  |&#9633;  |&#9632;  |\n",
    "|3       |&#9632;  |&#9633;  |&#9632;  |&#9633;  |&#9632;  |&#128997;  |&#9632;  |&#9633;  |&#9632;  |\n",
    "|2       |&#9632;  |&#9633;  |&#9632;  |&#9633;  |&#9632;  |&#128997;  |&#128997;  |&#128997;  |&#128997;  |\n",
    "|1       |&#9632;  |&#9632;  |&#9632;  |&#9632;  |&#9632;  |&#9632;  |&#9632;  |&#9632;  |&#9632;  |\n",
    "|<!-- -->|1        |2        |3        |4        |5        |6        |7        |8        |9        |\n"
   ]
  },
  {
   "cell_type": "markdown",
   "id": "6884b9b3-3eff-474d-b24a-6b9042f64e3a",
   "metadata": {},
   "source": [
    "## Волновой алгоритм"
   ]
  },
  {
   "cell_type": "code",
   "execution_count": 9,
   "id": "39c83466-8357-41ed-898c-cb825fc06395",
   "metadata": {
    "tags": []
   },
   "outputs": [
    {
     "name": "stdout",
     "output_type": "stream",
     "text": [
      "Оптимальный путь:\n",
      "(1, 0)\n",
      "(1, 1)\n",
      "(1, 2)\n",
      "(1, 3)\n",
      "(1, 4)\n",
      "(1, 5)\n",
      "(1, 6)\n",
      "(1, 7)\n",
      "(2, 7)\n",
      "(3, 7)\n",
      "(3, 6)\n",
      "(3, 5)\n",
      "(4, 5)\n",
      "(5, 5)\n",
      "(6, 5)\n",
      "(7, 5)\n",
      "(7, 6)\n",
      "(7, 7)\n",
      "(7, 8)\n"
     ]
    }
   ],
   "source": [
    "from collections import deque\n",
    "\n",
    "def find_optimal_path(labirint, start, end):\n",
    "    rows = len(labirint)\n",
    "    cols = len(labirint[0])\n",
    "\n",
    "    queue = deque()\n",
    "    queue.append(start)\n",
    "\n",
    "    distances = [[float('inf')] * cols for _ in range(rows)]\n",
    "    distances[start[0]][start[1]] = 0\n",
    "\n",
    "    while queue:\n",
    "        row, col = queue.popleft()\n",
    "        current_distance = distances[row][col]\n",
    "\n",
    "        if (row, col) == end:\n",
    "            break\n",
    "\n",
    "        for dr, dc in [(-1, 0), (1, 0), (0, -1), (0, 1)]:\n",
    "            new_row, new_col = row + dr, col + dc\n",
    "\n",
    "            if 0 <= new_row < rows and 0 <= new_col < cols and labirint[new_row][new_col] == 0 and distances[new_row][new_col] == float('inf'):\n",
    "                distances[new_row][new_col] = current_distance + 1\n",
    "                queue.append((new_row, new_col))\n",
    "\n",
    "    if distances[end[0]][end[1]] == float('inf'):\n",
    "        return None\n",
    "\n",
    "    path = []\n",
    "    row, col = end\n",
    "    while (row, col) != start:\n",
    "        path.append((row, col))\n",
    "        current_distance = distances[row][col]\n",
    "\n",
    "        for dr, dc in [(-1, 0), (1, 0), (0, -1), (0, 1)]:\n",
    "            new_row, new_col = row + dr, col + dc\n",
    "\n",
    "            if 0 <= new_row < rows and 0 <= new_col < cols and distances[new_row][new_col] == current_distance - 1:\n",
    "                row, col = new_row, new_col\n",
    "                break\n",
    "\n",
    "    path.append(start)\n",
    "    path.reverse()\n",
    "\n",
    "    return path\n",
    "\n",
    "# Пример использования\n",
    "labirint = [\n",
    "    [1, 1, 1, 1, 1, 1, 1, 1, 1],\n",
    "    [0, 0, 0, 0, 0, 0, 0, 0, 1],\n",
    "    [1, 0, 1, 1, 1, 1, 1, 0, 1],\n",
    "    [1, 0, 1, 0, 0, 0, 0, 0, 1],\n",
    "    [1, 0, 1, 1, 1, 0, 1, 1, 1],\n",
    "    [1, 0, 0, 0, 1, 0, 1, 0, 1],\n",
    "    [1, 0, 1, 0, 1, 0, 1, 0, 1],\n",
    "    [1, 0, 1, 0, 1, 0, 0, 0, 0],\n",
    "    [1, 1, 1, 1, 1, 1, 1, 1, 1]\n",
    "]\n",
    "\n",
    "start = (1, 0)  # Начальное положение в лабиринте\n",
    "end = (7, 8)  # Конечное положение в лабиринте\n",
    "\n",
    "optimal_path = find_optimal_path(labirint, start, end)\n",
    "\n",
    "if optimal_path:\n",
    "    print(\"Оптимальный путь:\")\n",
    "    for position in optimal_path:\n",
    "        print(position)\n",
    "else:\n",
    "    print(\"Конечная позиция недостижима.\")\n"
   ]
  },
  {
   "cell_type": "markdown",
   "id": "00dcecea-faeb-4b69-8e65-ff3a451bfdc1",
   "metadata": {},
   "source": [
    "## Маршрутный алгоритм"
   ]
  },
  {
   "cell_type": "code",
   "execution_count": 12,
   "id": "8a60683e-6b21-48c8-aa63-64a5858cee19",
   "metadata": {
    "tags": []
   },
   "outputs": [
    {
     "name": "stdout",
     "output_type": "stream",
     "text": [
      "Оптимальный путь:\n",
      "(1, 0)\n",
      "(1, 1)\n",
      "(1, 2)\n",
      "(1, 3)\n",
      "(1, 4)\n",
      "(1, 5)\n",
      "(1, 6)\n",
      "(1, 7)\n",
      "(2, 7)\n",
      "(3, 7)\n",
      "(3, 6)\n",
      "(3, 5)\n",
      "(4, 5)\n",
      "(5, 5)\n",
      "(6, 5)\n",
      "(7, 5)\n",
      "(7, 6)\n",
      "(7, 7)\n",
      "(7, 8)\n"
     ]
    }
   ],
   "source": [
    "import heapq\n",
    "\n",
    "def find_optimal_path(labirint, start, end):\n",
    "    rows = len(labirint)\n",
    "    cols = len(labirint[0])\n",
    "\n",
    "    vertices = {}\n",
    "    vertices[start] = {'distance': 0, 'previous': None}\n",
    "\n",
    "    queue = []\n",
    "    heapq.heappush(queue, (0, start))\n",
    "\n",
    "    while queue:\n",
    "        current_distance, current_vertex = heapq.heappop(queue)\n",
    "\n",
    "        if current_vertex == end:\n",
    "            break\n",
    "\n",
    "        for dr, dc in [(-1, 0), (1, 0), (0, -1), (0, 1)]:\n",
    "            new_row, new_col = current_vertex[0] + dr, current_vertex[1] + dc\n",
    "\n",
    "            if 0 <= new_row < rows and 0 <= new_col < cols and labirint[new_row][new_col] == 0:\n",
    "                new_vertex = (new_row, new_col)\n",
    "                new_distance = current_distance + 1\n",
    "\n",
    "                if new_vertex not in vertices or new_distance < vertices[new_vertex]['distance']:\n",
    "                    vertices[new_vertex] = {'distance': new_distance, 'previous': current_vertex}\n",
    "                    heapq.heappush(queue, (new_distance, new_vertex))\n",
    "\n",
    "    if end not in vertices:\n",
    "        return None\n",
    "\n",
    "    path = []\n",
    "    current_vertex = end\n",
    "    while current_vertex:\n",
    "        path.append(current_vertex)\n",
    "        current_vertex = vertices[current_vertex]['previous']\n",
    "\n",
    "    path.reverse()\n",
    "    return path\n",
    "\n",
    "# Пример использования\n",
    "labirint = [\n",
    "    [1, 1, 1, 1, 1, 1, 1, 1, 1],\n",
    "    [0, 0, 0, 0, 0, 0, 0, 0, 1],\n",
    "    [1, 0, 1, 1, 1, 1, 1, 0, 1],\n",
    "    [1, 0, 1, 0, 0, 0, 0, 0, 1],\n",
    "    [1, 0, 1, 1, 1, 0, 1, 1, 1],\n",
    "    [1, 0, 0, 0, 1, 0, 1, 0, 1],\n",
    "    [1, 0, 1, 0, 1, 0, 1, 0, 1],\n",
    "    [1, 0, 1, 0, 1, 0, 0, 0, 0],\n",
    "    [1, 1, 1, 1, 1, 1, 1, 1, 1]\n",
    "]\n",
    "\n",
    "start = (1, 0)  # Начальное положение в лабиринте\n",
    "end = (7, 8)  # Конечное положение в лабиринте\n",
    "\n",
    "optimal_path = find_optimal_path(labirint, start, end)\n",
    "\n",
    "if optimal_path:\n",
    "    print(\"Оптимальный путь:\")\n",
    "    for position in optimal_path:\n",
    "        print(position)\n",
    "else:\n",
    "    print(\"Конечное положение недостижимо.\")\n"
   ]
  },
  {
   "cell_type": "markdown",
   "id": "f89136fa-bec2-48e7-a2d6-190f185d93ed",
   "metadata": {},
   "source": [
    "## Задание 2"
   ]
  },
  {
   "cell_type": "markdown",
   "id": "d7cea39b-666b-46f4-96aa-f4d777367f55",
   "metadata": {
    "tags": []
   },
   "source": [
    "Дан либиринт. Вход в лабиринт находится сверху слева, выход - снизу справа. Реализовав алгоритм в соответствии с заданием построить оптимальный путь через лабиринт"
   ]
  },
  {
   "attachments": {
    "4c32c63d-c8a4-418d-8e47-4076bdbddb51.png": {
     "image/png": "[encoded data removed]"
    }
   },
   "cell_type": "markdown",
   "id": "1cb14a7b-b0ea-43c7-8a28-49f4e328d1d2",
   "metadata": {},
   "source": [
    "![image_2023-05-19_10-59-25.png](attachment:4c32c63d-c8a4-418d-8e47-4076bdbddb51.png)"
   ]
  },
  {
   "cell_type": "code",
   "execution_count": 14,
   "id": "166f85f9-b2bb-4c39-86fb-5424ab80175c",
   "metadata": {
    "tags": []
   },
   "outputs": [
    {
     "name": "stdout",
     "output_type": "stream",
     "text": [
      "Путь найден:  [(1, 0), (2, 1), (3, 1), (4, 1), (5, 1), (6, 1), (7, 2), (6, 3), (5, 3), (4, 3), (3, 3), (2, 3), (1, 4), (1, 5), (1, 6), (2, 7), (1, 8), (2, 9), (3, 10), (3, 11), (3, 12), (2, 13), (1, 14), (2, 15), (3, 15), (4, 15), (5, 14), (6, 13), (7, 12), (8, 11), (9, 12), (9, 13), (9, 14), (10, 15), (11, 16), (10, 17), (9, 18), (10, 19), (11, 19), (12, 19), (13, 18), (14, 17), (15, 18), (16, 19), (17, 18), (17, 17), (17, 16), (17, 15), (17, 14), (18, 13), (19, 14), (19, 15), (19, 16), (19, 17), (19, 18), (19, 19), (19, 20)] \n",
      "\n",
      "# # # # # # # # # # # # # # # # # # # # #\n",
      ".   #   . . .   .   #       .   #       #\n",
      "# . # . # # # . # . # # # . # . #   #   #\n",
      "# . # . #       #   . . .   # . #   #   #\n",
      "# . # . #   # # # # # # # # # . #   #   #\n",
      "# . # . #   #           #   .   #   #   #\n",
      "# . # . #   #   #   # # # . # # #   # # #\n",
      "#   .   #   #   #   #   .   #           #\n",
      "# # # # #   #   # # # . # # # # # # #   #\n",
      "#           #       #   . . .   #   .   #\n",
      "#   # # # # # # #   # # # # # . # . # . #\n",
      "#   #               #       #   .   # . #\n",
      "#   #   # # #   #   # # #   # # # # # . #\n",
      "#   #       #   #       #       #   .   #\n",
      "#   # # # # #   # # #   #   #   # . # # #\n",
      "#           #   #   #       #   #   .   #\n",
      "# # # # # # #   #   #   # # # # # # # . #\n",
      "#   #           #       #   . . . . .   #\n",
      "#   #   # # #   # # # # # . # # # # # # #\n",
      "#           #               . . . . . . .\n",
      "# # # # # # # # # # # # # # # # # # # # #\n"
     ]
    }
   ],
   "source": [
    "import math\n",
    "\n",
    "def euclidean_distance(point1, point2):\n",
    "    x1, y1 = point1\n",
    "    x2, y2 = point2\n",
    "    return math.sqrt((x2 - x1) ** 2 + (y2 - y1) ** 2)\n",
    "\n",
    "\n",
    "def get_neighboring_cells(point):\n",
    "    x, y = point\n",
    "    return [(x-1, y), (x+1, y), (x, y-1), (x, y+1), (x-1, y-1), (x-1, y+1), (x+1, y-1), (x+1, y+1)]\n",
    "\n",
    "\n",
    "def astar(maze, start, goal):\n",
    "    open_set = {start}\n",
    "    came_from = {}\n",
    "    g_score = {start: 0}\n",
    "    f_score = {start: euclidean_distance(start, goal)}\n",
    "    while open_set:\n",
    "        current = min(open_set, key=lambda x: f_score[x])\n",
    "\n",
    "        if current == goal:\n",
    "            path = [current]\n",
    "            while current in came_from:\n",
    "                current = came_from[current]\n",
    "                path.append(current)\n",
    "            path.reverse()\n",
    "            return path\n",
    "        \n",
    "        open_set.remove(current)\n",
    "\n",
    "        for neighbor in get_neighboring_cells(current):\n",
    "            nx, ny = neighbor\n",
    "\n",
    "            if 0 <= nx < len(maze) and 0 <= ny < len(maze[0]) and maze[nx][ny] != '#':\n",
    "                tentative_g_score = g_score[current] + 1\n",
    "\n",
    "                if neighbor not in g_score or tentative_g_score < g_score[neighbor]:\n",
    "                    came_from[neighbor] = current\n",
    "                    g_score[neighbor] = tentative_g_score\n",
    "                    f_score[neighbor] = tentative_g_score + euclidean_distance(neighbor, goal)\n",
    "                    open_set.add(neighbor)\n",
    "\n",
    "    return None\n",
    "\n",
    "maze = [['#', '#', '#', '#', '#', '#', '#', '#', '#', '#', '#', '#', '#', '#', '#', '#', '#', '#', '#', '#', '#'], \n",
    "        [' ', ' ', '#', ' ', ' ', ' ', ' ', ' ', ' ', ' ', '#', ' ', ' ', ' ', ' ', ' ', '#', ' ', ' ', ' ', '#'],\n",
    "        ['#', ' ', '#', ' ', '#', '#', '#', ' ', '#', ' ', '#', '#', '#', ' ', '#', ' ', '#', ' ', '#', ' ', '#'],\n",
    "        ['#', ' ', '#', ' ', '#', ' ', ' ', ' ', '#', ' ', ' ', ' ', ' ', ' ', '#', ' ', '#', ' ', '#', ' ', '#'],\n",
    "        ['#', ' ', '#', ' ', '#', ' ', '#', '#', '#', '#', '#', '#', '#', '#', '#', ' ', '#', ' ', '#', ' ', '#'],\n",
    "        ['#', ' ', '#', ' ', '#', ' ', '#', ' ', ' ', ' ', ' ', ' ', '#', ' ', ' ', ' ', '#', ' ', '#', ' ', '#'],\n",
    "        ['#', ' ', '#', ' ', '#', ' ', '#', ' ', '#', ' ', '#', '#', '#', ' ', '#', '#', '#', ' ', '#', '#', '#'],\n",
    "        ['#', ' ', ' ', ' ', '#', ' ', '#', ' ', '#', ' ', '#', ' ', ' ', ' ', '#', ' ', ' ', ' ', ' ', ' ', '#'],\n",
    "        ['#', '#', '#', '#', '#', ' ', '#', ' ', '#', '#', '#', ' ', '#', '#', '#', '#', '#', '#', '#', ' ', '#'],\n",
    "        ['#', ' ', ' ', ' ', ' ', ' ', '#', ' ', ' ', ' ', '#', ' ', ' ', ' ', ' ', ' ', '#', ' ', ' ', ' ', '#'],\n",
    "        ['#', ' ', '#', '#', '#', '#', '#', '#', '#', ' ', '#', '#', '#', '#', '#', ' ', '#', ' ', '#', ' ', '#'],\n",
    "        ['#', ' ', '#', ' ', ' ', ' ', ' ', ' ', ' ', ' ', '#', ' ', ' ', ' ', '#', ' ', ' ', ' ', '#', ' ', '#'],\n",
    "        ['#', ' ', '#', ' ', '#', '#', '#', ' ', '#', ' ', '#', '#', '#', ' ', '#', '#', '#', '#', '#', ' ', '#'],\n",
    "        ['#', ' ', '#', ' ', ' ', ' ', '#', ' ', '#', ' ', ' ', ' ', '#', ' ', ' ', ' ', '#', ' ', ' ', ' ', '#'],\n",
    "        ['#', ' ', '#', '#', '#', '#', '#', ' ', '#', '#', '#', ' ', '#', ' ', '#', ' ', '#', ' ', '#', '#', '#'],\n",
    "        ['#', ' ', ' ', ' ', ' ', ' ', '#', ' ', '#', ' ', '#', ' ', ' ', ' ', '#', ' ', '#', ' ', ' ', ' ', '#'],\n",
    "        ['#', '#', '#', '#', '#', '#', '#', ' ', '#', ' ', '#', ' ', '#', '#', '#', '#', '#', '#', '#', ' ', '#'],\n",
    "        ['#', ' ', '#', ' ', ' ', ' ', ' ', ' ', '#', ' ', ' ', ' ', '#', ' ', ' ', ' ', ' ', ' ', ' ', ' ', '#'],\n",
    "        ['#', ' ', '#', ' ', '#', '#', '#', ' ', '#', '#', '#', '#', '#', ' ', '#', '#', '#', '#', '#', '#', '#'],\n",
    "        ['#', ' ', ' ', ' ', ' ', ' ', '#', ' ', ' ', ' ', ' ', ' ', ' ', ' ', ' ', ' ', ' ', ' ', ' ', ' ', ' '],\n",
    "        ['#', '#', '#', '#', '#', '#', '#', '#', '#', '#', '#', '#', '#', '#', '#', '#', '#', '#', '#', '#', '#']]\n",
    "\n",
    "start = (1, 0)\n",
    "goal = (19, 20)\n",
    "\n",
    "path = astar(maze, start, goal)\n",
    "\n",
    "if path:\n",
    "    print(\"Путь найден: \", path, '\\n')\n",
    "    for step in path:\n",
    "        x, y = step\n",
    "        maze[x][y] = '.'\n",
    "\n",
    "    for row in maze:\n",
    "        print(' '.join(row))\n",
    "else:\n",
    "    print(\"Путь не найден.\")\n"
   ]
  },
  {
   "cell_type": "code",
   "execution_count": null,
   "id": "83900445-b1ba-4f20-b8b5-7877f4cd19d2",
   "metadata": {},
   "outputs": [],
   "source": []
  }
 ],
 "metadata": {
  "kernelspec": {
   "display_name": "Python 3 (ipykernel)",
   "language": "python",
   "name": "python3"
  },
  "language_info": {
   "codemirror_mode": {
    "name": "ipython",
    "version": 3
   },
   "file_extension": ".py",
   "mimetype": "text/x-python",
   "name": "python",
   "nbconvert_exporter": "python",
   "pygments_lexer": "ipython3",
   "version": "3.10.9"
  }
 },
 "nbformat": 4,
 "nbformat_minor": 5
}
