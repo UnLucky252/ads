{
 "cells": [
  {
   "cell_type": "markdown",
   "id": "f08c42f9",
   "metadata": {},
   "source": [
    "# Лабораторная работа 5"
   ]
  },
  {
   "cell_type": "markdown",
   "id": "e5762c05",
   "metadata": {},
   "source": [
    "### Вариант 12"
   ]
  },
  {
   "cell_type": "markdown",
   "id": "5e9fcbed",
   "metadata": {},
   "source": [
    "### Задание 1"
   ]
  },
  {
   "cell_type": "markdown",
   "id": "c8d730af",
   "metadata": {},
   "source": [
    "а) Используя волновой алгоритм вручную построить оптимальный путь через лабиринт."
   ]
  },
  {
   "cell_type": "markdown",
   "id": "cfecaede",
   "metadata": {},
   "source": [
    "![](wave.png)"
   ]
  },
  {
   "cell_type": "markdown",
   "id": "12470300",
   "metadata": {},
   "source": [
    "б) Используя маршрутный алгоритм вручную построить оптимальный путь через лабиринт"
   ]
  },
  {
   "cell_type": "code",
   "execution_count": 17,
   "id": "9ea4951e",
   "metadata": {},
   "outputs": [
    {
     "name": "stdout",
     "output_type": "stream",
     "text": [
      "# # # # # # # # # \n",
      "P P P P # . . . # \n",
      "# # # P # # # . # \n",
      "# P P P . . # . # \n",
      "# P # # # # # . # \n",
      "# P P P P P # . # \n",
      "# . # # # P # . # \n",
      "# . . . # P P P P \n",
      "# # # # # # # # # \n",
      "Optimal path: [(1, 0), (1, 1), (1, 2), (1, 3), (2, 3), (3, 3), (3, 2), (3, 1), (4, 1), (5, 1), (5, 2), (5, 3), (5, 4), (5, 5), (6, 5), (7, 5), (7, 6), (7, 7), (7, 8)]\n"
     ]
    }
   ],
   "source": [
    "## Route algorithm\n",
    "\n",
    "from queue import Queue\n",
    "\n",
    "maze = [\n",
    "    [1, 1, 1, 1, 1, 1, 1, 1, 1], #1\n",
    "    [0, 0, 0, 0, 1, 0, 0, 0, 1], #2\n",
    "    [1, 1, 1, 0, 1, 1, 1, 0, 1], #3\n",
    "    [1, 0, 0, 0, 0, 0, 1, 0, 1], #4\n",
    "    [1, 0, 1, 1, 1, 1, 1, 0, 1], #5\n",
    "    [1, 0, 0, 0, 0, 0, 1, 0, 1], #6\n",
    "    [1, 0, 1, 1, 1, 0, 1, 0, 1], #7\n",
    "    [1, 0, 0, 0, 1, 0, 0, 0, 0], #8\n",
    "    [1, 1, 1, 1, 1, 1, 1, 1, 1], #9\n",
    "]\n",
    "\n",
    "def find_path(maze):\n",
    "    start = (1, 0)\n",
    "    end = (7, 8)\n",
    "    q = Queue()\n",
    "    q.put(start)\n",
    "    visited = set()\n",
    "    prev = {}\n",
    "    \n",
    "    while not q.empty():\n",
    "        curr = q.get()\n",
    "        if curr == end:\n",
    "            break\n",
    "        neighbors = [(curr[0]-1, curr[1]), (curr[0]+1, curr[1]), (curr[0], curr[1]-1), (curr[0], curr[1]+1)]\n",
    "        \n",
    "        for neighbor in neighbors:\n",
    "            if neighbor[0] < 0 or neighbor[0] >= len(maze) or neighbor[1] < 0 or neighbor[1] >= len(maze[0]):\n",
    "                continue\n",
    "            if maze[neighbor[0]][neighbor[1]] == 1:\n",
    "                continue\n",
    "            if neighbor in visited:\n",
    "                continue\n",
    "            visited.add(neighbor)\n",
    "            q.put(neighbor)\n",
    "            prev[neighbor] = curr\n",
    "    \n",
    "    if end not in prev:\n",
    "        return None\n",
    "    \n",
    "    path = []\n",
    "    curr = end\n",
    "    \n",
    "    while curr != start:\n",
    "        path.append(curr)\n",
    "        curr = prev[curr]\n",
    "    \n",
    "    path.append(start)\n",
    "    path.reverse()\n",
    "    \n",
    "    # Вывод конечного лабиринта с правильным путем\n",
    "    for row in range(len(maze)):\n",
    "        for col in range(len(maze[0])):\n",
    "            if (row, col) in path:\n",
    "                print(\"P\", end=\" \")\n",
    "            elif maze[row][col] == 1:\n",
    "                print(\"#\", end=\" \")\n",
    "            else:\n",
    "                print(\".\", end=\" \")\n",
    "        print()\n",
    "    \n",
    "    return path\n",
    "\n",
    "path = find_path(maze)\n",
    "\n",
    "if path is None:\n",
    "    print(\"Error in path\")\n",
    "else:\n",
    "    print(\"Optimal path:\", path)\n"
   ]
  },
  {
   "cell_type": "markdown",
   "id": "49b0386c",
   "metadata": {},
   "source": [
    "### Задание 2"
   ]
  },
  {
   "cell_type": "code",
   "execution_count": 11,
   "id": "9f135f1b",
   "metadata": {
    "scrolled": false
   },
   "outputs": [
    {
     "name": "stdout",
     "output_type": "stream",
     "text": [
      "Путь найден:\n",
      "@ @ @ @ @ @ @ @ @ @ @ @ @ @ @ @ @ @ @ @ @ \n",
      "S *     @                   @           @ \n",
      "@ * @   @ @ @ @ @   @ @ @   @   @ @ @   @ \n",
      "@ * @               @           @       @ \n",
      "@ * @ @ @   @ @ @ @ @   @ @ @ @ @ @ @ @ @ \n",
      "@ *     @   @       @       @           @ \n",
      "@ *     @   @   @   @ @ @ @ @   @ @ @   @ \n",
      "@ *     @   @   @               @   @   @ \n",
      "@ * @ @ @ @ @   @ @ @ @ @   @ @ @   @   @ \n",
      "@ * * * * * @           @   @   @   @   @ \n",
      "@   @ @ @ * @ @ @ @ @   @ @ @   @   @   @ \n",
      "@   @ * * *         @       @   @       @ \n",
      "@   @ * @ @ @ @ @ @ @ @ @   @   @   @ @ @ \n",
      "@   @ * * * * * * * @       @   @   @   @ \n",
      "@   @ @ @ @ @ @ @ * @   @ @ @   @   @   @ \n",
      "@   @           @ * @           @       @ \n",
      "@   @ @ @ @ @   @ * @ @ @ @ @ @ @ @ @   @ \n",
      "@               @ * * * @ * * * @       @ \n",
      "@ @ @ @ @ @ @   @ @ @ * @ * @ * @   @ @ @ \n",
      "@                   @ * * * @ * * * * * E \n",
      "@ @ @ @ @ @ @ @ @ @ @ @ @ @ @ @ @ @ @ @ @ \n"
     ]
    }
   ],
   "source": [
    "from queue import Queue\n",
    "def wave_algorithm(maze, start, end):\n",
    "    rows = len(maze)\n",
    "    cols = len(maze[0])\n",
    "    distance = [[-1] * cols for _ in range(rows)]\n",
    "    distance[start[0]][start[1]] = 0\n",
    "\n",
    "    queue = Queue()\n",
    "    queue.put(start)\n",
    "\n",
    "    while not queue.empty():\n",
    "        current = queue.get()\n",
    "\n",
    "        if current == end:\n",
    "            break\n",
    "\n",
    "        x, y = current\n",
    "\n",
    "        for dx, dy in [(-1, 0), (1, 0), (0, -1), (0, 1)]:\n",
    "            nx, ny = x + dx, y + dy\n",
    "\n",
    "            if 0 <= nx < rows and 0 <= ny < cols and maze[nx][ny] == 0 and distance[nx][ny] == -1:\n",
    "                distance[nx][ny] = distance[x][y] + 1\n",
    "                queue.put((nx, ny))\n",
    "\n",
    "    path = []\n",
    "    x, y = end\n",
    "    path.append((x, y))\n",
    "\n",
    "    while (x, y) != start:\n",
    "        for dx, dy in [(-1, 0), (1, 0), (0, -1), (0, 1)]:\n",
    "            nx, ny = x + dx, y + dy\n",
    "            if 0 <= nx < rows and 0 <= ny < cols and distance[nx][ny] == distance[x][y] - 1:\n",
    "                x, y = nx, ny\n",
    "                path.append((x, y))\n",
    "                break\n",
    "\n",
    "    return path[::-1]\n",
    "\n",
    "labirint = [\n",
    "        [1, 1, 1, 1, 1, 1, 1, 1, 1, 1, 1, 1, 1, 1, 1, 1, 1, 1, 1, 1, 1],\n",
    "        [0, 0, 0, 0, 1, 0, 0, 0, 0, 0, 0, 0, 0, 0, 1, 0, 0, 0, 0, 0, 1],\n",
    "        [1, 0, 1, 0, 1, 1, 1, 1, 1, 0, 1, 1, 1, 0, 1, 0, 1, 1, 1, 0, 1],\n",
    "        [1, 0, 1, 0, 0, 0, 0, 0, 0, 0, 1, 0, 0, 0, 0, 0, 1, 0, 0, 0, 1],\n",
    "        [1, 0, 1, 1, 1, 0, 1, 1, 1, 1, 1, 0, 1, 1, 1, 1, 1, 1, 1, 1, 1],\n",
    "        [1, 0, 0, 0, 1, 0, 1, 0, 0, 0, 1, 0, 0, 0, 1, 0, 0, 0, 0, 0, 1],\n",
    "        [1, 0, 0, 0, 1, 0, 1, 0, 1, 0, 1, 1, 1, 1, 1, 0, 1, 1, 1, 0, 1],\n",
    "        [1, 0, 0, 0, 1, 0, 1, 0, 1, 0, 0, 0, 0, 0, 0, 0, 1, 0, 1, 0, 1],\n",
    "        [1, 0, 1, 1, 1, 1, 1, 0, 1, 1, 1, 1, 1, 0, 1, 1, 1, 0, 1, 0, 1],\n",
    "        [1, 0, 0, 0, 0, 0, 1, 0, 0, 0, 0, 0, 1, 0, 1, 0, 1, 0, 1, 0, 1],\n",
    "        [1, 0, 1, 1, 1, 0, 1, 1, 1, 1, 1, 0, 1, 1, 1, 0, 1, 0, 1, 0, 1],\n",
    "        [1, 0, 1, 0, 0, 0, 0, 0, 0, 0, 1, 0, 0, 0, 1, 0, 1, 0, 0, 0, 1],\n",
    "        [1, 0, 1, 0, 1, 1, 1, 1, 1, 1, 1, 1, 1, 0, 1, 0, 1, 0, 1, 1, 1],\n",
    "        [1, 0, 1, 0, 0, 0, 0, 0, 0, 0, 1, 0, 0, 0, 1, 0, 1, 0, 1, 0, 1],\n",
    "        [1, 0, 1, 1, 1, 1, 1, 1, 1, 0, 1, 0, 1, 1, 1, 0, 1, 0, 1, 0, 1],\n",
    "        [1, 0, 1, 0, 0, 0, 0, 0, 1, 0, 1, 0, 0, 0, 0, 0, 1, 0, 0, 0, 1],\n",
    "        [1, 0, 1, 1, 1, 1, 1, 0, 1, 0, 1, 1, 1, 1, 1, 1, 1, 1, 1, 0, 1],\n",
    "        [1, 0, 0, 0, 0, 0, 0, 0, 1, 0, 0, 0, 1, 0, 0, 0, 1, 0, 0, 0, 1],\n",
    "        [1, 1, 1, 1, 1, 1, 1, 0, 1, 1, 1, 0, 1, 0, 1, 0, 1, 0, 1, 1, 1],\n",
    "        [1, 0, 0, 0, 0, 0, 0, 0, 0, 0, 1, 0, 0, 0, 1, 0, 0, 0, 0, 0, 0],\n",
    "        [1, 1, 1, 1, 1, 1, 1, 1, 1, 1, 1, 1, 1, 1, 1, 1, 1, 1, 1, 1, 1]\n",
    "    ]\n",
    "\n",
    "start = (1, 0)\n",
    "end = (19, 20)\n",
    "\n",
    "path = wave_algorithm(labirint, start, end)\n",
    "\n",
    "if path:\n",
    "    print(\"Путь найден:\")\n",
    "    for row in range(len(labirint)):\n",
    "        for col in range(len(labirint[0])):\n",
    "            if (row, col) == start:\n",
    "                print(\"S\", end=\" \")\n",
    "            elif (row, col) == end:\n",
    "                print(\"E\", end=\" \")\n",
    "            elif (row, col) in path:\n",
    "                print(\"*\", end=\" \")\n",
    "            elif labirint[row][col] == 1:\n",
    "                print(\"@\", end=\" \")\n",
    "            else:\n",
    "                print(\" \", end=\" \")\n",
    "        print()\n",
    "else:\n",
    "    print(\"Путь не найден.\")\n"
   ]
  },
  {
   "cell_type": "code",
   "execution_count": null,
   "id": "b15931b4",
   "metadata": {},
   "outputs": [],
   "source": []
  }
 ],
 "metadata": {
  "kernelspec": {
   "display_name": "Python 3 (ipykernel)",
   "language": "python",
   "name": "python3"
  },
  "language_info": {
   "codemirror_mode": {
    "name": "ipython",
    "version": 3
   },
   "file_extension": ".py",
   "mimetype": "text/x-python",
   "name": "python",
   "nbconvert_exporter": "python",
   "pygments_lexer": "ipython3",
   "version": "3.11.3"
  }
 },
 "nbformat": 4,
 "nbformat_minor": 5
}
