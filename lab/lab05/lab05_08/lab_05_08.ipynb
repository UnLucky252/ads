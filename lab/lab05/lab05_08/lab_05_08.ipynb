{
 "cells": [
  {
   "cell_type": "markdown",
   "id": "fcd54872",
   "metadata": {},
   "source": [
    "# Лабораторная работа 5.  Эвристические алгоритмы"
   ]
  },
  {
   "cell_type": "markdown",
   "id": "df5881c4",
   "metadata": {},
   "source": [
    "## Задание 1"
   ]
  },
  {
   "cell_type": "markdown",
   "id": "f6e03eb3",
   "metadata": {},
   "source": [
    "| Вариант | Лабиринт | \n",
    "|:---|:---|\n",
    "|  8  | ![](./img/maze_05_08.png) |"
   ]
  },
  {
   "cell_type": "markdown",
   "id": "a708fdd5",
   "metadata": {},
   "source": [
    "### Волновой алгоритм\n",
    "\n",
    "![](./img/WAVE_ALG.png)"
   ]
  },
  {
   "cell_type": "markdown",
   "id": "684f718b",
   "metadata": {},
   "source": [
    "### Маршрутный алгоритм\n",
    "\n",
    "![](./img/MANCH_ALG.png)"
   ]
  },
  {
   "cell_type": "markdown",
   "id": "2b7b2381",
   "metadata": {},
   "source": [
    "## Задание 2\n",
    "\n",
    "![](./img/maze10_08.png)"
   ]
  },
  {
   "cell_type": "code",
   "execution_count": 12,
   "id": "330a0322",
   "metadata": {},
   "outputs": [],
   "source": [
    "LABIRINTH = [\n",
    "    [1, 1, 1, 1, 1, 1, 1, 1, 1, 1, 1, 1, 1, 1, 1, 1, 1, 1, 1, 1, 1],\n",
    "    [0, 0, 0, 0, 0, 0, 0, 0, 0, 0, 1, 0, 0, 0, 0, 0, 0, 0, 0, 0, 1],\n",
    "    [1, 0, 1, 1, 1, 1, 1, 1, 1, 0, 1, 0, 1, 1, 1, 1, 1, 1, 1, 0, 1],\n",
    "    [1, 0, 0, 0, 0, 0, 1, 0, 0, 0, 1, 0, 1, 0, 0, 0, 0, 0, 1, 0, 1],\n",
    "    [1, 0, 1, 1, 1, 0, 1, 0, 1, 1, 1, 1, 1, 0, 1, 1, 1, 0, 1, 0, 1],\n",
    "    [1, 0, 0, 0, 1, 0, 1, 0, 0, 0, 0, 0, 1, 0, 1, 0, 1, 0, 0, 0, 1],\n",
    "    [1, 1, 1, 0, 1, 0, 1, 1, 1, 1, 1, 0, 1, 0, 1, 0, 1, 1, 1, 0, 1],\n",
    "    [1, 0, 0, 0, 1, 0, 0, 0, 1, 0, 1, 0, 0, 0, 1, 0, 0, 0, 1, 0, 1],\n",
    "    [1, 0, 1, 1, 1, 1, 1, 0, 1, 0, 1, 1, 1, 1, 1, 1, 1, 0, 1, 0, 1],\n",
    "    [1, 0, 1, 0, 0, 0, 0, 0, 1, 0, 0, 0, 0, 0, 0, 0, 1, 0, 1, 0, 1],\n",
    "    [1, 1, 1, 0, 1, 1, 1, 1, 1, 1, 1, 0, 1, 1, 1, 0, 1, 0, 1, 0, 1],\n",
    "    [1, 0, 0, 0, 1, 0, 0, 0, 0, 0, 0, 0, 1, 0, 0, 0, 0, 0, 1, 0, 1],\n",
    "    [1, 0, 1, 1, 1, 0, 1, 1, 1, 1, 1, 1, 1, 1, 1, 1, 1, 1, 1, 0, 1],\n",
    "    [1, 0, 1, 0, 1, 0, 0, 0, 0, 0, 0, 0, 1, 0, 0, 0, 0, 0, 0, 0, 1],\n",
    "    [1, 0, 1, 0, 1, 0, 1, 1, 1, 1, 1, 0, 1, 0, 1, 1, 1, 1, 1, 1, 1],\n",
    "    [1, 0, 1, 0, 0, 0, 0, 0, 0, 0, 1, 0, 1, 0, 1, 0, 0, 0, 0, 0, 1],\n",
    "    [1, 0, 1, 1, 1, 1, 1, 1, 1, 1, 1, 0, 1, 0, 1, 1, 1, 1, 1, 0, 1],\n",
    "    [1, 0, 1, 0, 0, 0, 0, 0, 0, 0, 1, 0, 0, 0, 0, 0, 1, 0, 0, 0, 1],\n",
    "    [1, 0, 1, 0, 1, 1, 1, 1, 1, 0, 1, 1, 1, 1, 1, 1, 1, 0, 1, 1, 1],\n",
    "    [1, 0, 0, 0, 0, 0, 0, 0, 1, 0, 0, 0, 0, 0, 0, 0, 0, 0, 0, 0, 0],\n",
    "    [1, 1, 1, 1, 1, 1, 1, 1, 1, 1, 1, 1, 1, 1, 1, 1, 1, 1, 1, 1, 1],\n",
    "]"
   ]
  },
  {
   "cell_type": "code",
   "execution_count": 19,
   "id": "8ae32f58",
   "metadata": {},
   "outputs": [
    {
     "data": {
      "image/png": "[encoded data removed]",
      "text/plain": [
       "<Figure size 640x480 with 1 Axes>"
      ]
     },
     "metadata": {},
     "output_type": "display_data"
    }
   ],
   "source": [
    "import numpy as np\n",
    "import matplotlib.pyplot as plt\n",
    "import matplotlib.animation as animation\n",
    "from heapq import heappop, heappush\n",
    "\n",
    "def manhattan_distance(p1, p2):\n",
    "    return abs(p2[0] - p1[0]) + abs(p2[1] - p1[1])\n",
    "\n",
    "def reconstruct_path(came_from, goal):\n",
    "    current = goal\n",
    "    path = [current]\n",
    "    while current in came_from:\n",
    "        current = came_from[current]\n",
    "        path.append(current)\n",
    "    return path[::-1]\n",
    "\n",
    "def astar_search(lab, start, goal):\n",
    "    rows, cols = len(lab), len(lab[0])\n",
    "    open_set = [(0, start)]\n",
    "    came_from = {}\n",
    "    g_score = {start: 0}\n",
    "    f_score = {start: manhattan_distance(start, goal)}\n",
    "\n",
    "    while open_set:\n",
    "        _, current = heappop(open_set)\n",
    "\n",
    "        if current == goal:\n",
    "            return reconstruct_path(came_from, goal)\n",
    "\n",
    "        x, y = current\n",
    "        neighbors = [(x-1, y), (x+1, y), (x, y-1), (x, y+1)]\n",
    "\n",
    "        for neighbor in neighbors:\n",
    "            nx, ny = neighbor\n",
    "            if 0 <= nx < rows and 0 <= ny < cols and lab[nx][ny] == 0:\n",
    "                tentative_g_score = g_score[current] + 1\n",
    "                if neighbor not in g_score or tentative_g_score < g_score[neighbor]:\n",
    "                    came_from[neighbor] = current\n",
    "                    g_score[neighbor] = tentative_g_score\n",
    "                    f_score[neighbor] = tentative_g_score + manhattan_distance(neighbor, goal)\n",
    "                    heappush(open_set, (f_score[neighbor], neighbor))\n",
    "\n",
    "    return None\n",
    "\n",
    "# Задаем начальную и конечную точку\n",
    "start = (1, 0)\n",
    "goal = (19, 20)\n",
    "\n",
    "\n",
    "path = astar_search(LABIRINTH, start, goal)\n",
    "\n",
    "# Задаем ось\n",
    "fig, ax = plt.subplots()\n",
    "ax.set_aspect('equal', 'box')\n",
    "ax.set_xlim(-1, len(LABIRINTH[0]))\n",
    "ax.set_ylim(-1, len(LABIRINTH))\n",
    "\n",
    "# Рисуем лабиринт\n",
    "for i in range(len(LABIRINTH)):\n",
    "    for j in range(len(LABIRINTH[i])):\n",
    "        if LABIRINTH[i][j] == 1:\n",
    "            rect = plt.Rectangle((j, len(LABIRINTH) - i - 1), 1, 1, facecolor='black')\n",
    "            ax.add_artist(rect)\n",
    "\n",
    "# Рисуем кратчайший путь\n",
    "if path:\n",
    "    for i in range(len(path)):\n",
    "        rect = plt.Rectangle((path[i][1], len(LABIRINTH) - path[i][0] - 1), 1, 1, facecolor='green')\n",
    "        ax.add_artist(rect)\n",
    "\n",
    "plt.show()"
   ]
  },
  {
   "cell_type": "code",
   "execution_count": null,
   "id": "b0a257d4",
   "metadata": {},
   "outputs": [],
   "source": []
  }
 ],
 "metadata": {
  "kernelspec": {
   "display_name": "Python 3 (ipykernel)",
   "language": "python",
   "name": "python3"
  },
  "language_info": {
   "codemirror_mode": {
    "name": "ipython",
    "version": 3
   },
   "file_extension": ".py",
   "mimetype": "text/x-python",
   "name": "python",
   "nbconvert_exporter": "python",
   "pygments_lexer": "ipython3",
   "version": "3.11.2"
  }
 },
 "nbformat": 4,
 "nbformat_minor": 5
}
