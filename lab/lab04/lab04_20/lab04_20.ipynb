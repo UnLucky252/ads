{
 "cells": [
  {
   "cell_type": "markdown",
   "id": "0516badb",
   "metadata": {},
   "source": [
    "# Лабораторная работа 4. Алгоритмы на графах"
   ]
  },
  {
   "attachments": {},
   "cell_type": "markdown",
   "id": "0b59970a",
   "metadata": {},
   "source": [
    "![lab.png](lab.png)"
   ]
  },
  {
   "cell_type": "markdown",
   "id": "e8a06963",
   "metadata": {},
   "source": [
    "Создаем таблицу для хранения длин путей до каждой вершины. Изначально заполняем ее бесконечными значениями, кроме начальной вершины 1, для которой значение равно 0.\n",
    "\n",
    "Вершина 1 2 3 4 5 6 7\n",
    "Длина 0 ∞ ∞ ∞ ∞ ∞ ∞\n",
    "Заполняем таблицу, выбирая оптимальные пути до каждой вершины. Для этого проходим по всем вершинам графа, начиная с вершины 1, и рассматриваем все ребра, выходящие из текущей вершины. Если найденный путь до следующей вершины короче, чем уже известный кратчайший путь до нее, то обновляем значение кратчайшего пути.\n",
    "\n",
    "Вершина 1 2 3 4 5 6 7\n",
    "Длина 0 7 14 15 ∞ ∞ ∞\n",
    "Таким образом, мы нашли кратчайшие пути от вершины 1 до вершин 2, 3 и 4.\n",
    "\n",
    "Повторяем процесс для каждой следующей вершины, пока не найдем кратчайшие пути до всех вершин.\n",
    "\n",
    "Вершина 1 2 3 4 5 6 7\n",
    "Длина 0 7 14 15 14 17 18\n",
    "Кратчайший путь от вершины 2 до вершины 5 равен 7, проходит через вершины 2 - 4 - 5.\n",
    "\n"
   ]
  },
  {
   "cell_type": "markdown",
   "id": "d4c97fe4",
   "metadata": {},
   "source": [
    "## Задание 2: Реализовать прогрммно поиск кратчайшего пути на графе между парами вершин из задания 1 методом динамического программирования."
   ]
  },
  {
   "cell_type": "markdown",
   "id": "3458ae0e",
   "metadata": {},
   "source": [
    "## Для решения задачи методом динамического программирования необходимо построить матрицу D размера N x N, где N - количество вершин в графе. Каждый элемент матрицы D[i][j] будет хранить длину кратчайшего пути из вершины i в вершину j.\n",
    "\n",
    "Алгоритм построения матрицы D:\n",
    "\n",
    "Инициализируем матрицу D. D[i][j] принимает значение равное расстоянию между вершинами i и j, если между ними есть ребро, иначе значение бесконечности.\n",
    "\n",
    "Для каждой вершины k от 1 до N выполняем следующее:\n",
    "\n",
    "Для каждой пары вершин i и j выполняем следующее:\n",
    "\n",
    "Если D[i][j] > D[i][k] + D[k][j], то обновляем значение D[i][j] = D[i][k] + D[k][j].\n",
    "По завершению алгоритма, значение D[1][6] будет содержать длину кратчайшего пути из вершины 1 в вершину 6.Для решения задачи методом динамического программирования необходимо построить матрицу D размера N x N, где N - количество вершин в графе. Каждый элемент матрицы D[i][j] будет хранить длину кратчайшего пути из вершины i в вершину j.\n",
    "\n",
    "Алгоритм построения матрицы D:\n",
    "\n",
    "Инициализируем матрицу D. D[i][j] принимает значение равное расстоянию между вершинами i и j, если между ними есть ребро, иначе значение бесконечности.\n",
    "\n",
    "Для каждой вершины k от 1 до N выполняем следующее:\n",
    "\n",
    "Для каждой пары вершин i и j выполняем следующее:\n",
    "\n",
    "Если D[i][j] > D[i][k] + D[k][j], то обновляем значение D[i][j] = D[i][k] + D[k][j].\n",
    "По завершению алгоритма, значение D[1][4] будет содержать длину кратчайшего пути из вершины 2 в вершину 5."
   ]
  },
  {
   "cell_type": "markdown",
   "id": "20f5de87",
   "metadata": {},
   "source": [
    "## там, где на ребре не было указано веса, я поставил 1"
   ]
  },
  {
   "cell_type": "code",
   "execution_count": 1,
   "id": "7db0041f",
   "metadata": {},
   "outputs": [
    {
     "name": "stdout",
     "output_type": "stream",
     "text": [
      "7\n"
     ]
    }
   ],
   "source": [
    "import sys\n",
    "\n",
    "# инициализация графа\n",
    "graph = [\n",
    "    [0, 7, 14, sys.maxsize, sys.maxsize, sys.maxsize, sys.maxsize],\n",
    "    [sys.maxsize, 0, sys.maxsize, 6, sys.maxsize, 10, sys.maxsize],\n",
    "    [sys.maxsize, sys.maxsize, 0, 1, 9, sys.maxsize, sys.maxsize],\n",
    "    [sys.maxsize, sys.maxsize, sys.maxsize, 0, 1, sys.maxsize, 8],\n",
    "    [sys.maxsize, sys.maxsize, sys.maxsize, sys.maxsize, 0, sys.maxsize, 3],\n",
    "    [sys.maxsize, sys.maxsize, sys.maxsize, sys.maxsize, sys.maxsize, 0, 1],\n",
    "    [sys.maxsize, sys.maxsize, sys.maxsize, sys.maxsize, sys.maxsize, sys.maxsize, 0]\n",
    "]\n",
    "\n",
    "# размер графа\n",
    "n = len(graph)\n",
    "\n",
    "# построение матрицы кратчайших путей\n",
    "for k in range(n):\n",
    "    for i in range(n):\n",
    "        for j in range(n):\n",
    "            if graph[i][k] + graph[k][j] < graph[i][j]:\n",
    "                graph[i][j] = graph[i][k] + graph[k][j]\n",
    "\n",
    "# вывод кратчайшего пути из 2 в 5\n",
    "print(graph[1][4])"
   ]
  },
  {
   "cell_type": "markdown",
   "id": "b293ea99",
   "metadata": {},
   "source": [
    "## Задание 3. Реализовать алгоритм Дейкстры поиска кратчайшего пути на графе между парами вершин:\n"
   ]
  },
  {
   "attachments": {},
   "cell_type": "markdown",
   "id": "fd78c719",
   "metadata": {},
   "source": [
    "![lab2.png](lab2.png)"
   ]
  },
  {
   "cell_type": "code",
   "execution_count": 2,
   "id": "c3f2c3a6",
   "metadata": {},
   "outputs": [
    {
     "name": "stdout",
     "output_type": "stream",
     "text": [
      "Кратчайшее расстояние между вершинами 2 и 5 равно 5\n",
      "Путь: [2, 5]\n"
     ]
    }
   ],
   "source": [
    "from collections import defaultdict\n",
    "import heapq\n",
    "\n",
    "def dijkstra(graph, start, end):\n",
    "    # Инициализация расстояний и посещенных вершин\n",
    "    distances = {v: float('inf') for v in graph}\n",
    "    distances[start] = 0\n",
    "    visited = set()\n",
    "    pq = [(0, start)]\n",
    "\n",
    "    #Путь до каждой вершины\n",
    "    path = defaultdict(list)\n",
    "\n",
    "    while pq:\n",
    "        (current_dist, current_vertex) = heapq.heappop(pq)\n",
    "\n",
    "        if current_vertex in visited:\n",
    "            continue\n",
    "\n",
    "        visited.add(current_vertex)\n",
    "\n",
    "        # Для каждой смежной вершины обновляем расстояние до нее, если новое расстояние меньше текущего\n",
    "        for neighbor, weight in graph[current_vertex].items():\n",
    "            distance = current_dist + weight\n",
    "            if distance < distances[neighbor]:\n",
    "                distances[neighbor] = distance\n",
    "                path[neighbor] = path[current_vertex] + [current_vertex]\n",
    "                heapq.heappush(pq, (distance, neighbor))\n",
    "                \n",
    "        if current_vertex == end:\n",
    "            break\n",
    "\n",
    "    return distances[end], path[end] + [end]\n",
    "\n",
    "graph = {\n",
    "    1: {2: 4, 3: 6, 4: 6, 5: 8, 6: 3},\n",
    "    2: {1: 4, 5: 5},\n",
    "    3: {1: 6, 5: 2, 8: 7},\n",
    "    4: {1: 6, 5: 7, 6: 1},\n",
    "    5: {4: 7, 2: 5, 3: 2, 1: 8, 8: 2, 7: 2},\n",
    "    6: {1: 3, 4: 1, 7: 5},\n",
    "    7: {6: 5, 4: 1, 5: 2, 8: 9},\n",
    "    8: {7: 9, 5: 2, 3: 7}\n",
    "}\n",
    "\n",
    "start_vertex = 2\n",
    "end_vertex = 5\n",
    "distance, path = dijkstra(graph, start_vertex, end_vertex)\n",
    "\n",
    "print(f\"Кратчайшее расстояние между вершинами {start_vertex} и {end_vertex} равно {distance}\")\n",
    "print(f\"Путь: {path}\")"
   ]
  },
  {
   "cell_type": "markdown",
   "id": "b5998df4",
   "metadata": {},
   "source": [
    "## Задание 4: Реализовать прогрммно один из алгоритмов поиска кратчайшего пути на графе между парами вершин из задания 3."
   ]
  },
  {
   "cell_type": "code",
   "execution_count": 4,
   "id": "e6ca1f60",
   "metadata": {
    "scrolled": true
   },
   "outputs": [
    {
     "name": "stdout",
     "output_type": "stream",
     "text": [
      "(5, [2, 5])\n"
     ]
    }
   ],
   "source": [
    "def bellman_ford(graph, start, end):\n",
    "    if start not in graph:\n",
    "        raise ValueError(\"Start vertex not in graph\")\n",
    "    if end not in graph:\n",
    "        raise ValueError(\"End vertex not in graph\")\n",
    "\n",
    "    distances = {vertex: float('inf') for vertex in graph}\n",
    "    distances[start] = 0\n",
    "\n",
    "    for _ in range(len(graph) - 1):\n",
    "        for vertex in graph:\n",
    "            for neighbor, weight in graph[vertex].items():\n",
    "                if vertex in distances and distances[vertex] + weight < distances[neighbor]:\n",
    "                    distances[neighbor] = distances[vertex] + weight\n",
    "\n",
    "    for vertex in graph:\n",
    "        for neighbor, weight in graph[vertex].items():\n",
    "            if vertex in distances and distances[vertex] + weight < distances[neighbor]:\n",
    "                raise ValueError(\"The graph contains a negative-weight cycle\")\n",
    "\n",
    "    if distances[end] == float('inf'):\n",
    "        raise ValueError(\"There is no path between the start and end nodes\")\n",
    "\n",
    "    path = [end]\n",
    "    while path[-1] != start:\n",
    "        current_vertex = path[-1]\n",
    "        for neighbor, weight in graph[current_vertex].items():\n",
    "            if distances[current_vertex] == distances[neighbor] + weight:\n",
    "                path.append(neighbor)\n",
    "                break\n",
    "\n",
    "    path.reverse()\n",
    "    return distances[end], path\n",
    "\n",
    "start = 2\n",
    "end = 5\n",
    "distances = bellman_ford(graph, start, end)\n",
    "print(distances)"
   ]
  }
 ],
 "metadata": {
  "kernelspec": {
   "display_name": "Python 3 (ipykernel)",
   "language": "python",
   "name": "python3"
  },
  "language_info": {
   "codemirror_mode": {
    "name": "ipython",
    "version": 3
   },
   "file_extension": ".py",
   "mimetype": "text/x-python",
   "name": "python",
   "nbconvert_exporter": "python",
   "pygments_lexer": "ipython3",
   "version": "3.11.2"
  }
 },
 "nbformat": 4,
 "nbformat_minor": 5
}
