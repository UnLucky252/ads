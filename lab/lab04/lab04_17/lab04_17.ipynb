{
 "cells": [
  {
   "cell_type": "markdown",
   "id": "d504cc90",
   "metadata": {},
   "source": [
    "# Лабораторная работа 4. Алгоритмы на графах"
   ]
  },
  {
   "cell_type": "markdown",
   "id": "3cb44089",
   "metadata": {},
   "source": [
    "### Вариант 4"
   ]
  },
  {
   "cell_type": "markdown",
   "id": "a1e1436a",
   "metadata": {},
   "source": [
    "#### Задача 1. Найти кратчайший путь на графе между парами вершин методом динамического программирования вручную."
   ]
  },
  {
   "cell_type": "code",
   "execution_count": 8,
   "id": "5a336201",
   "metadata": {},
   "outputs": [
    {
     "data": {
      "image/png": "[encoded data removed]",
      "text/plain": [
       "<IPython.core.display.Image object>"
      ]
     },
     "execution_count": 8,
     "metadata": {},
     "output_type": "execute_result"
    }
   ],
   "source": [
    "from IPython.display import Image\n",
    "Image(filename='Desktop/img/007.png')"
   ]
  },
  {
   "cell_type": "markdown",
   "id": "2e3dece8",
   "metadata": {},
   "source": [
    "Чтобы найти кратчайший путь на графе между вершинами 2 и 5 методом динамического программирования, нужно создать таблицу расстояний между вершинами. Каждая ячейка таблицы будет содержать длину кратчайшего пути между соответствующими вершинами. Начнем с заполнения первой строки таблицы:\n",
    "\n",
    "    1\t2\t3\t4\t5\t6\t7\n",
    "2\t\t0\t3\t14\t\t\t\n",
    "Здесь мы заполняем расстояния между вершиной 2 и каждой из остальных вершин. Так как расстояние между вершинами 2 и 2 равно нулю, то соответствующая ячейка остается пустой.\n",
    "\n",
    "Далее мы заполняем оставшиеся строки таблицы. На каждом шаге мы добавляем к текущему пути из вершины i в вершину j длину ребра между i и j и сравниваем полученное значение с текущим значением в ячейке таблицы. Если полученное значение меньше, мы обновляем значение в ячейке.\n",
    "\n",
    "В конечном итоге таблица будет выглядеть так:\n",
    "\n",
    "    1\t2\t3\t4\t5\t6\t7\n",
    "2\t\t0\t3\t14\t12\t21\t\n",
    "3\t\t2\t0\t11\t9\t18\t\n",
    "4\t\t\t\t0\t4\t10\t16\n",
    "5\t\t\t\t\t0\t7\t12\n",
    "6\t\t\t\t\t\t0\t2\n",
    "7\t\t\t\t\t\t\t0\n",
    "Из таблицы мы можем прочитать, что кратчайший путь между вершинами 2 и 5 составляет 12, и проходит через вершины 2, 3, и 5."
   ]
  },
  {
   "cell_type": "markdown",
   "id": "7f9f6ad5",
   "metadata": {},
   "source": [
    " #### Задача 2. Реализовать прогрммно поиск кратчайшего пути на графе между парами вершин из задания 1 методом динамического программирования."
   ]
  },
  {
   "cell_type": "code",
   "execution_count": 7,
   "id": "651bb6da",
   "metadata": {},
   "outputs": [
    {
     "name": "stdout",
     "output_type": "stream",
     "text": [
      "Кратчайшее расстояние между вершинами 2 и 5: 12\n"
     ]
    }
   ],
   "source": [
    "INF = float('inf')\n",
    "\n",
    "# Создаем граф\n",
    "graph = [[0, 1, 2, INF, INF, INF, INF],\n",
    "         [1, 0, 3, 14, INF, INF, INF],\n",
    "         [2, 3, 0, 6, 9, INF, INF],\n",
    "         [INF, 14, 6, 0, 4, 10, INF],\n",
    "         [INF, INF, 9, 4, 0, 7, 12],\n",
    "         [INF, INF, INF, 10, 7, 0, 2],\n",
    "         [INF, INF, INF, INF, 12, 2, 0]]\n",
    "\n",
    "def floyd_warshall(graph):\n",
    "    # Копируем граф, чтобы не менять исходный\n",
    "    dist = [row[:] for row in graph]\n",
    "    n = len(dist)\n",
    "\n",
    "    # Заполняем таблицу расстояний\n",
    "    for k in range(n):\n",
    "        for i in range(n):\n",
    "            for j in range(n):\n",
    "                dist[i][j] = min(dist[i][j], dist[i][k] + dist[k][j])\n",
    "\n",
    "    return dist\n",
    "\n",
    "# Ищем кратчайший путь между вершинами 2 и 5\n",
    "all_paths = floyd_warshall(graph)\n",
    "shortest_path = all_paths[1][4]\n",
    "print(\"Кратчайшее расстояние между вершинами 2 и 5:\", shortest_path)\n"
   ]
  },
  {
   "cell_type": "markdown",
   "id": "573b3259",
   "metadata": {},
   "source": [
    "#### Задача 3. Реализовать алгоритм Дейкстры поиска кратчайшего пути на графе между парами вершин:"
   ]
  },
  {
   "cell_type": "code",
   "execution_count": 9,
   "id": "3400d17c",
   "metadata": {},
   "outputs": [
    {
     "data": {
      "image/png": "[encoded data removed]",
      "text/plain": [
       "<IPython.core.display.Image object>"
      ]
     },
     "execution_count": 9,
     "metadata": {},
     "output_type": "execute_result"
    }
   ],
   "source": [
    "from IPython.display import Image\n",
    "Image(filename='Desktop/img/017.png')"
   ]
  },
  {
   "cell_type": "code",
   "execution_count": 2,
   "id": "2e4b8dbd",
   "metadata": {},
   "outputs": [
    {
     "name": "stdout",
     "output_type": "stream",
     "text": [
      "7\n"
     ]
    }
   ],
   "source": [
    "import heapq\n",
    "\n",
    "# Определяем граф в виде словаря смежности\n",
    "graph = {\n",
    "    1: {2: 4, 5: 9, 6: 10},\n",
    "    2: {1: 4, 3: 1, 5: 3, 7: 2},\n",
    "    3: {2: 1, 4: 1, 6: 1, 8: 7},\n",
    "    4: {3: 1, 7: 8, 8: 6},\n",
    "    5: {1: 9, 2: 3, 6: 4},\n",
    "    6: {1: 10, 3: 1, 5: 4, 7: 1},\n",
    "    7: {2: 2, 4: 8, 6: 1, 8: 5},\n",
    "    8: {3: 7, 4: 6, 7: 5}\n",
    "}\n",
    "\n",
    "def dijkstra(graph, start, end):\n",
    "    # Создаем словарь для хранения расстояний от начальной вершины до остальных вершин графа\n",
    "    distances = {vertex: float('inf') for vertex in graph}\n",
    "    distances[start] = 0\n",
    "\n",
    "    # Создаем очередь с приоритетами и добавляем в нее начальную вершину\n",
    "    queue = [(0, start)]\n",
    "\n",
    "    while queue:\n",
    "        # Извлекаем из очереди вершину с наименьшим расстоянием\n",
    "        current_distance, current_vertex = heapq.heappop(queue)\n",
    "\n",
    "        # Если найденное расстояние больше, чем уже сохраненное в словаре, пропускаем эту вершину\n",
    "        if current_distance > distances[current_vertex]:\n",
    "            continue\n",
    "\n",
    "        # Итерируемся по соседним вершинам\n",
    "        for neighbor, weight in graph[current_vertex].items():\n",
    "            distance = current_distance + weight\n",
    "\n",
    "            # Если найденное расстояние меньше, чем уже сохраненное в словаре, обновляем значение\n",
    "            if distance < distances[neighbor]:\n",
    "                distances[neighbor] = distance\n",
    "                heapq.heappush(queue, (distance, neighbor))\n",
    "\n",
    "    # Возвращаем длину кратчайшего пути между начальной и конечной вершинами\n",
    "    return distances[end]\n",
    "\n",
    "# Находим кратчайший путь между вершинами 3 и 8\n",
    "shortest_path = dijkstra(graph, 3, 8)\n",
    "print(shortest_path)  # 7\n"
   ]
  },
  {
   "cell_type": "markdown",
   "id": "a9f291a5",
   "metadata": {},
   "source": [
    "#### Задача 4. Реализовать прогрммно один из алгоритмов поиска кратчайшего пути на графе между парами вершин из задания 3."
   ]
  },
  {
   "cell_type": "code",
   "execution_count": 5,
   "id": "fc17ece7",
   "metadata": {},
   "outputs": [
    {
     "name": "stdout",
     "output_type": "stream",
     "text": [
      "Кратчайший путь между вершинами 3 и 8: 7\n"
     ]
    }
   ],
   "source": [
    "INF = float('inf')\n",
    "\n",
    "def floyd_warshall(graph):\n",
    "    n = len(graph)\n",
    "    dist = [[INF] * n for _ in range(n)]\n",
    "\n",
    "    for i in range(n):\n",
    "        for j in range(n):\n",
    "            if i == j:\n",
    "                dist[i][j] = 0\n",
    "            elif graph[i][j] != 0:\n",
    "                dist[i][j] = graph[i][j]\n",
    "\n",
    "    for k in range(n):\n",
    "        for i in range(n):\n",
    "            for j in range(n):\n",
    "                dist[i][j] = min(dist[i][j], dist[i][k] + dist[k][j])\n",
    "\n",
    "    return dist\n",
    "\n",
    "# матрица смежности графа\n",
    "graph = [\n",
    "    [0, 4, 0, 0, 9, 10, 0, 0],\n",
    "    [4, 0, 1, 0, 3, 0, 2, 0],\n",
    "    [0, 1, 0, 1, 0, 1, 0, 7],\n",
    "    [0, 0, 1, 0, 0, 1, 8, 6],\n",
    "    [9, 3, 0, 0, 0, 4, 0, 0],\n",
    "    [10, 0, 1, 1, 4, 0, 1, 0],\n",
    "    [0, 2, 0, 8, 0, 1, 0, 5],\n",
    "    [0, 0, 7, 6, 0, 0, 5, 0],\n",
    "]\n",
    "\n",
    "# находим кратчайшие расстояния между всеми парами вершин\n",
    "all_paths = floyd_warshall(graph)\n",
    "\n",
    "# выводим кратчайший путь между вершинами 3 и 8\n",
    "shortest_path = all_paths[2][7]\n",
    "print(\"Кратчайший путь между вершинами 3 и 8:\", shortest_path)\n"
   ]
  },
  {
   "cell_type": "code",
   "execution_count": null,
   "id": "6db5c325",
   "metadata": {},
   "outputs": [],
   "source": []
  }
 ],
 "metadata": {
  "kernelspec": {
   "display_name": "Python 3 (ipykernel)",
   "language": "python",
   "name": "python3"
  },
  "language_info": {
   "codemirror_mode": {
    "name": "ipython",
    "version": 3
   },
   "file_extension": ".py",
   "mimetype": "text/x-python",
   "name": "python",
   "nbconvert_exporter": "python",
   "pygments_lexer": "ipython3",
   "version": "3.11.2"
  }
 },
 "nbformat": 4,
 "nbformat_minor": 5
}
