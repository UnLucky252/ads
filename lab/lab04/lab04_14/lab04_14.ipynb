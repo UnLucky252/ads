{
 "cells": [
  {
   "cell_type": "markdown",
   "id": "9976c672",
   "metadata": {},
   "source": [
    "# Лабораторная работа 4. Алгоритмы на графах"
   ]
  },
  {
   "cell_type": "markdown",
   "id": "8c1cc28c",
   "metadata": {},
   "source": [
    "**Цель работы:** изучение некоторых алгоритмов на графах; исследование эффективности этих алгоритмов."
   ]
  },
  {
   "cell_type": "markdown",
   "id": "81125637",
   "metadata": {},
   "source": [
    "### Задание 1"
   ]
  },
  {
   "cell_type": "markdown",
   "id": "da2e4479",
   "metadata": {},
   "source": [
    "Найти кратчайший путь на графе между парами вершин методом динамического программирования вручную. (Найти кратчайший путь от 3 до 7)."
   ]
  },
  {
   "attachments": {
    "004.png": {
     "image/png": "[encoded data removed]"
    }
   },
   "cell_type": "markdown",
   "id": "fd0ae512",
   "metadata": {},
   "source": [
    "![004.png](attachment:004.png)"
   ]
  },
  {
   "cell_type": "markdown",
   "id": "857a2192",
   "metadata": {},
   "source": [
    "Начальные условия $f_3=0$, $S_{33} = 0$.\n",
    "\n",
    "Находим последовательно значения функции $f_i$ (в условных единицах) для каждой вершины ориентированного графа:\n",
    "\n",
    "$f_2 = \\min(S_{23} + f_3) = 6 + f_3 = 6 + 0 = 6$;\n",
    "\n",
    "$f_6 = \\min(S_{63} + f_3) = 10 + f_3 = 10 + 0 = 10$;\n",
    "\n",
    "$f_4 = \\min(S_{42} + f_2) = 4 + f_2 = 4 + 6 = 10$;\n",
    "\n",
    "$f_5 = \\min \n",
    "\\left(\n",
    "  \\begin{array}{c}\n",
    "  S_{54} + f_4 \\\\\n",
    "  S_{52} + f_2 \\\\\n",
    "  S_{53} + f_3 \\\\\n",
    "  S_{56} + f_6 \\\\\n",
    "  \\end{array}\n",
    "\\right) \n",
    "= \n",
    "\\min \n",
    "\\left(\n",
    "  \\begin{array}{c}\n",
    "  16 + 10 \\\\\n",
    "  12 + 6 \\\\\n",
    "  28 + 0 \\\\\n",
    "  15 + 10 \\\\\n",
    "  \\end{array}\n",
    "\\right) = 18$; \n",
    "\n",
    "$f_7 = \\min \n",
    "\\left(\n",
    "  \\begin{array}{c}\n",
    "  S_{74} + f_4 \\\\\n",
    "  S_{75} + f_5 \\\\\n",
    "  S_{76} + f_6 \\\\\n",
    "  \\end{array}\n",
    "\\right)\n",
    "= \n",
    "\\min \n",
    "\\left(\n",
    "  \\begin{array}{c}\n",
    "  19 + 10 \\\\\n",
    "  3 + 18 \\\\\n",
    "  25 + 10 \\\\\n",
    "  \\end{array}\n",
    "\\right) = 21$; \n",
    "\n",
    "Длина кратчайшего пути составляет 21 условных единиц. \n",
    "\n",
    "---------------------------------------------------------------------------------------\n",
    "Таким образом, получаем кратчайший путь от вершины 3 к вершине 7: ( 3 $\\Rightarrow$ 2 $\\Rightarrow$ 5 $\\Rightarrow$ 7 )"
   ]
  },
  {
   "cell_type": "markdown",
   "id": "8984f30d",
   "metadata": {},
   "source": [
    "### Задание 2"
   ]
  },
  {
   "cell_type": "markdown",
   "id": "da8406f0",
   "metadata": {},
   "source": [
    " Реализовать программно поиск кратчайшего пути на графе между парами вершин из задания 1 методом динамического программирования."
   ]
  },
  {
   "cell_type": "code",
   "execution_count": 1,
   "id": "2e36b5bd",
   "metadata": {},
   "outputs": [
    {
     "name": "stdout",
     "output_type": "stream",
     "text": [
      "21\n"
     ]
    }
   ],
   "source": [
    "def shortest_way(graph):\n",
    "    length = len(graph)\n",
    "    dist = [[float('inf') for _ in range(length)] for _ in range(length)]\n",
    "\n",
    "    for i in range(length):\n",
    "        for j in range(length):\n",
    "            if i == j:\n",
    "                dist[i][j] = 0\n",
    "            elif graph[i][j] != 0:\n",
    "                dist[i][j] = graph[i][j]\n",
    "\n",
    "    for k in range(length):\n",
    "        for i in range(length):\n",
    "            for j in range(length):\n",
    "                if dist[i][k] + dist[k][j] < dist[i][j]:\n",
    "                    dist[i][j] = dist[i][k] + dist[k][j]\n",
    "\n",
    "    return dist\n",
    "\n",
    "\n",
    "matrix = [[0, 9, 2, 0, 0,  0,  0],\n",
    "         [0, 0, 0, 4, 12,  0,  0],\n",
    "         [0, 6, 0, 0, 28, 10,  0],\n",
    "         [0, 0, 0, 0, 16,  0, 19],\n",
    "         [0, 0, 0, 0,  0,  0,  3],\n",
    "         [0, 0, 0, 0, 15,  0, 25],\n",
    "         [0, 0, 0, 0,  0,  0,  0]]\n",
    "\n",
    "\n",
    "distances = shortest_way(matrix)\n",
    "print(distances[2][6])"
   ]
  },
  {
   "cell_type": "code",
   "execution_count": 2,
   "id": "2efe6aae",
   "metadata": {},
   "outputs": [
    {
     "name": "stdout",
     "output_type": "stream",
     "text": [
      "21\n"
     ]
    }
   ],
   "source": [
    "f_matrix = [0, 0, 0, 0, 0, 0, 0]\n",
    "\n",
    "matrix = [[0, 9, 2, 0,  0,  0,  0],\n",
    "          [0, 0, 0, 4, 12,  0,  0],\n",
    "          [0, 6, 0, 0, 28, 10,  0],\n",
    "          [0, 0, 0, 0, 16,  0, 19],\n",
    "          [0, 0, 0, 0,  0,  0,  3],\n",
    "          [0, 0, 0, 0, 15,  0, 25],\n",
    "          [0, 0, 0, 0,  0,  0,  0]]\n",
    "\n",
    "f_matrix[1] = f_matrix[2] + matrix[2][1] #это f2\n",
    "f_matrix[3] = f_matrix[1] + matrix[1][3] #это f4\n",
    "f_matrix[5] = f_matrix[2] + matrix[2][5] #это f6\n",
    "\n",
    "f_matrix[4] = min(f_matrix[1] + matrix[1][4], f_matrix[2] + matrix[2][4], f_matrix[3] + matrix[3][4], f_matrix[5] + matrix[5][4])\n",
    "f_matrix[6] = min(f_matrix[3] + matrix[3][6], f_matrix[4] + matrix[4][6], f_matrix[5] + matrix[5][6])\n",
    "\n",
    "min_way = f_matrix[6]\n",
    "print(min_way)"
   ]
  },
  {
   "cell_type": "markdown",
   "id": "7d2a9ffc",
   "metadata": {},
   "source": [
    "### Задание 3"
   ]
  },
  {
   "cell_type": "markdown",
   "id": "90e9b9f0",
   "metadata": {},
   "source": [
    "Реализовать алгоритм Дейкстры поиска кратчайшего пути на графе между парами вершин (5, 7):"
   ]
  },
  {
   "attachments": {
    "014.png": {
     "image/png": "[encoded data removed]"
    }
   },
   "cell_type": "markdown",
   "id": "b1726f04",
   "metadata": {},
   "source": [
    "![014.png](attachment:014.png)"
   ]
  },
  {
   "cell_type": "markdown",
   "id": "f6164152",
   "metadata": {},
   "source": [
    "***Алгоритм Дейкстры***"
   ]
  },
  {
   "cell_type": "code",
   "execution_count": 5,
   "id": "85b1cd8f",
   "metadata": {},
   "outputs": [
    {
     "name": "stdout",
     "output_type": "stream",
     "text": [
      "Найден следующий лучший маршрут с ценностью 8.\n",
      "5 -> 2 -> 3 -> 8 -> 4 -> 7\n"
     ]
    }
   ],
   "source": [
    "import sys\n",
    " \n",
    "class Graph(object):\n",
    "    def __init__(self, nodes, init_graph):\n",
    "        self.nodes = nodes\n",
    "        self.graph = self.construct_graph(nodes, init_graph)\n",
    "        \n",
    "    def construct_graph(self, nodes, init_graph):\n",
    "        '''\n",
    "        Этот метод обеспечивает симметричность графика. Другими словами, если существует путь от узла A к B со значением V, должен быть путь от узла B к узлу A со значением V.\n",
    "        '''\n",
    "        graph = {}\n",
    "        for node in nodes:\n",
    "            graph[node] = {}\n",
    "        \n",
    "        graph.update(init_graph)\n",
    "        \n",
    "        for node, edges in graph.items():\n",
    "            for adjacent_node, value in edges.items():\n",
    "                if graph[adjacent_node].get(node, False) == False:\n",
    "                    graph[adjacent_node][node] = value\n",
    "                    \n",
    "        return graph\n",
    "    \n",
    "    def get_nodes(self):\n",
    "        \"Возвращает узлы графа\"\n",
    "        return self.nodes\n",
    "    \n",
    "    def get_outgoing_edges(self, node):\n",
    "        \"Возвращает соседей узла\"\n",
    "        connections = []\n",
    "        for out_node in self.nodes:\n",
    "            if self.graph[node].get(out_node, False) != False:\n",
    "                connections.append(out_node)\n",
    "        return connections\n",
    "    \n",
    "    def value(self, node1, node2):\n",
    "        \"Возвращает значение ребра между двумя узлами.\"\n",
    "        return self.graph[node1][node2]\n",
    "\n",
    "def dijkstra_algorithm(graph, start_node):\n",
    "    unvisited_nodes = list(graph.get_nodes())\n",
    " \n",
    "    # Мы будем использовать этот словарь, чтобы сэкономить на посещении каждого узла и обновлять его по мере продвижения по графику \n",
    "    shortest_path = {}\n",
    " \n",
    "    # Мы будем использовать этот dict, чтобы сохранить кратчайший известный путь к найденному узлу\n",
    "    previous_nodes = {}\n",
    " \n",
    "    # Мы будем использовать max_value для инициализации значения \"бесконечности\" непосещенных узлов   \n",
    "    max_value = sys.maxsize\n",
    "    for node in unvisited_nodes:\n",
    "        shortest_path[node] = max_value\n",
    "    # Однако мы инициализируем значение начального узла 0  \n",
    "    shortest_path[start_node] = 0\n",
    "    \n",
    "    # Алгоритм выполняется до тех пор, пока мы не посетим все узлы\n",
    "    while unvisited_nodes:\n",
    "        # Приведенный ниже блок кода находит узел с наименьшей оценкой\n",
    "        current_min_node = None\n",
    "        for node in unvisited_nodes: # Iterate over the nodes\n",
    "            if current_min_node == None:\n",
    "                current_min_node = node\n",
    "            elif shortest_path[node] < shortest_path[current_min_node]:\n",
    "                current_min_node = node\n",
    "                \n",
    "        # Приведенный ниже блок кода извлекает соседей текущего узла и обновляет их расстояния\n",
    "        neighbors = graph.get_outgoing_edges(current_min_node)\n",
    "        for neighbor in neighbors:\n",
    "            tentative_value = shortest_path[current_min_node] + graph.value(current_min_node, neighbor)\n",
    "            if tentative_value < shortest_path[neighbor]:\n",
    "                shortest_path[neighbor] = tentative_value\n",
    "                # We also update the best path to the current node\n",
    "                previous_nodes[neighbor] = current_min_node\n",
    " \n",
    "        # После посещения его соседей мы отмечаем узел как \"посещенный\"\n",
    "        unvisited_nodes.remove(current_min_node)\n",
    "    \n",
    "    return previous_nodes, shortest_path\n",
    "\n",
    "def print_result(previous_nodes, shortest_path, start_node, target_node):\n",
    "    path = []\n",
    "    node = target_node\n",
    "    \n",
    "    while node != start_node:\n",
    "        path.append(node)\n",
    "        node = previous_nodes[node]\n",
    " \n",
    "   # Добавить начальный узел вручную\n",
    "    path.append(start_node)\n",
    "    \n",
    "    print(\"Найден следующий лучший маршрут с ценностью {}.\".format(shortest_path[target_node]))\n",
    "    print(\" -> \".join(reversed(path)))\n",
    "\n",
    "\n",
    "#проверка моего варианта\n",
    "\n",
    "nodes = [\"1\", \"2\", \"3\", \"4\", \"5\", \"6\", \"7\", \"8\"]\n",
    "\n",
    "init_graph = {}\n",
    "for node in nodes:\n",
    "    init_graph[node] = {}\n",
    "    \n",
    "init_graph[\"1\"][\"6\"] = 4\n",
    "init_graph[\"1\"][\"5\"] = 3\n",
    "init_graph[\"5\"][\"6\"] = 9\n",
    "init_graph[\"5\"][\"2\"] = 1\n",
    "init_graph[\"2\"][\"3\"] = 3\n",
    "init_graph[\"2\"][\"7\"] = 15\n",
    "init_graph[\"6\"][\"3\"] = 10\n",
    "init_graph[\"6\"][\"7\"] = 7\n",
    "init_graph[\"3\"][\"7\"] = 6\n",
    "init_graph[\"3\"][\"8\"] = 1\n",
    "init_graph[\"4\"][\"7\"] = 1\n",
    "init_graph[\"4\"][\"8\"] = 2\n",
    "\n",
    "graph = Graph(nodes, init_graph)\n",
    "\n",
    "previous_nodes, shortest_path = dijkstra_algorithm(graph=graph, start_node=\"5\")\n",
    "print_result(previous_nodes, shortest_path, start_node=\"5\", target_node=\"7\")"
   ]
  },
  {
   "cell_type": "markdown",
   "id": "2c7def26",
   "metadata": {},
   "source": [
    "### Задание 4"
   ]
  },
  {
   "cell_type": "markdown",
   "id": "658c72a5",
   "metadata": {},
   "source": [
    "Реализовать прогрммно один из алгоритмов поиска кратчайшего пути на графе между парами вершин из задания 3."
   ]
  },
  {
   "cell_type": "markdown",
   "id": "1ffff434",
   "metadata": {},
   "source": [
    "***Алгоритм Беллмана — Форда***"
   ]
  },
  {
   "cell_type": "code",
   "execution_count": 15,
   "id": "85074259",
   "metadata": {},
   "outputs": [
    {
     "name": "stdout",
     "output_type": "stream",
     "text": [
      "8\n"
     ]
    }
   ],
   "source": [
    "class Graph:\n",
    "\n",
    "    def __init__(self, vertices):\n",
    "        self.V = vertices  \n",
    "        self.graph = []\n",
    "\n",
    "    def add_edge(self, u, v, w):\n",
    "        self.graph.append([u, v, w])\n",
    "\n",
    "    def add_double_sided_edge(self, u, v, w):\n",
    "        self.add_edge(u, v, w)\n",
    "        self.add_edge(v, u, w)\n",
    "\n",
    "    def bellman_ford(self, src, end):\n",
    "        src -= 1\n",
    "        dist = [float(\"Inf\")] * self.V\n",
    "        dist[src] = 0\n",
    "\n",
    "        for _ in range(self.V - 1):\n",
    "            for u, v, w in self.graph:\n",
    "                if dist[u] != float(\"Inf\") and dist[u] + w < dist[v]:\n",
    "                    dist[v] = dist[u] + w\n",
    "\n",
    "        for u, v, w in self.graph:\n",
    "            if dist[u] != float(\"Inf\") and dist[u] + w < dist[v]:\n",
    "                print(\"Graph contains negative weight cycle\")\n",
    "                return\n",
    "\n",
    "        print(dist[end - 1])\n",
    "\n",
    "\n",
    "g = Graph(8)\n",
    "g.add_double_sided_edge(0, 5, 4)\n",
    "g.add_double_sided_edge(0, 4, 3)\n",
    "g.add_double_sided_edge(4, 5, 9)\n",
    "g.add_double_sided_edge(4, 1, 1)\n",
    "g.add_double_sided_edge(1, 2, 3)\n",
    "g.add_double_sided_edge(1, 6, 15)\n",
    "g.add_double_sided_edge(5, 2, 10)\n",
    "g.add_double_sided_edge(5, 6, 7)\n",
    "g.add_double_sided_edge(2, 6, 6)\n",
    "g.add_double_sided_edge(2, 7, 1)\n",
    "g.add_double_sided_edge(3, 6, 1)\n",
    "g.add_double_sided_edge(3, 7, 2)\n",
    "\n",
    "g.bellman_ford(5, 7)\n"
   ]
  }
 ],
 "metadata": {
  "kernelspec": {
   "display_name": "Python 3 (ipykernel)",
   "language": "python",
   "name": "python3"
  },
  "language_info": {
   "codemirror_mode": {
    "name": "ipython",
    "version": 3
   },
   "file_extension": ".py",
   "mimetype": "text/x-python",
   "name": "python",
   "nbconvert_exporter": "python",
   "pygments_lexer": "ipython3",
   "version": "3.10.9"
  }
 },
 "nbformat": 4,
 "nbformat_minor": 5
}
