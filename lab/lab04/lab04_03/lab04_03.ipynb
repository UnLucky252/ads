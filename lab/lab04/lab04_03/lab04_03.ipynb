{
 "cells": [
  {
   "cell_type": "markdown",
   "id": "c2b67322-a152-4566-b3db-858487e02995",
   "metadata": {
    "slideshow": {
     "slide_type": "slide"
    },
    "tags": []
   },
   "source": [
    "# Лабораторная работа 4.  Алгоритмы на графах\n",
    "\n",
    "Вариант - 3"
   ]
  },
  {
   "cell_type": "markdown",
   "id": "1cebd4c0-7fdf-447d-84a0-c2442d8f0cb9",
   "metadata": {},
   "source": [
    "## Задание - 1\n",
    "Найти кратчайший путь на графе между парами вершин методом динамического программирования вручную."
   ]
  },
  {
   "cell_type": "markdown",
   "id": "f126d3ad-9cb5-465d-94eb-075c3cbc3390",
   "metadata": {},
   "source": [
    "| Вариант | Начальная и конечная вершины| Граф |\n",
    "|:---|:---|:---|\n",
    "| 3  | 2, 6 | ![](./img/003.png) |"
   ]
  },
  {
   "cell_type": "markdown",
   "id": "6ecd29e6-e353-44d7-8bb1-74fd82e60b9d",
   "metadata": {},
   "source": [
    "Пусть 5 -> 4 = 1; 5 -> 6 = 1"
   ]
  },
  {
   "cell_type": "markdown",
   "id": "0d1208e8-ace9-4442-8067-332268f94c62",
   "metadata": {},
   "source": [
    "В начале посмотрим все возможные пути из начальной вершины в конечную. \n",
    "\n",
    "В нашем случае начальная вершина - 2, а конечная - 6.\n",
    "\n",
    "Из вершины 2 в вершину 6, есть только один путь, и, следовательно, кратчайшим. Он будет выглядеть следующим образом: из начальной вершины идём в вершину 5, затем приходим в конечную.\n",
    "\n",
    "Кратчайшая путь будет равен:\n",
    "- 2 -> 5 = 5 \n",
    "- 5 -> 6 = 1 \n",
    "- и следовательно 2 -> 6 = 5 + 1 = 6"
   ]
  },
  {
   "cell_type": "markdown",
   "id": "788b9b84-a808-4b4f-a002-8e641854c895",
   "metadata": {},
   "source": [
    "Начальные условия $f_2=0$, $S_{22} = 0$.\n",
    "\n",
    "Находим последовательно значения функции $f_i$ (в условных единицах) для каждой вершины ориентированного графа:\n",
    "\n",
    "$f_5 = \\min(S_{52} + f_2) = 5 + f_2 = 5 + 0 = 5$;\n",
    "\n",
    "$f_6 = \\min(S_{65} + f_5) = 5 + f_5 = 5 + 1 = 6$;\n",
    "\n",
    "Длина кратчайшего пути составляет 6 условных единиц. \n",
    "\n",
    "Для выбора оптимальной траектории движения следует осуществить просмотр функций $f_i$ в обратном порядке, то есть с $f_{6}$. \n",
    "\n",
    "Пусть $f_i = f_{6}$. \n",
    "\n",
    "В данном случае\n",
    "\n",
    "$f_6 = \\min(1 + f_5) = 1 + 5 = 1 + 5 = 6$;\n",
    "\n",
    "Получаем, что $1 + f_5 = 6$, то есть $f_j = f_5$. \n",
    "Значит, из вершины 6 следует перейти к вершине 5.\n",
    "\n",
    "Имеем $f_i = f_5$.   \n",
    "\n",
    "Рассмотрим функцию \n",
    "$f_5 = \\min(5 + f_2) = 5 + f_2 = 5 + 0 = 5$;\n",
    "\n",
    "т.е. $f_j = f_5$ и т.д.\n",
    "\n",
    "Таким образом, получаем кратчайший путь от вершины 2 к вершине 6: (2,  5,  6) \n",
    "\tРассмотренный метод определения кратчайшего пути может быть распространен и на неориентированные графы. \n",
    "    "
   ]
  },
  {
   "cell_type": "markdown",
   "id": "04216893-d8ee-4fe6-92f6-429c1adea4ec",
   "metadata": {},
   "source": [
    "## Задание - 2\n",
    "Реализовать прогрммно поиск кратчайшего пути на графе между парами вершин из задания 1 методом динамического программирования."
   ]
  },
  {
   "cell_type": "code",
   "execution_count": 44,
   "id": "ec2ee8bf-22ba-4af7-a20a-019c64ced409",
   "metadata": {},
   "outputs": [
    {
     "name": "stdout",
     "output_type": "stream",
     "text": [
      "[0, 8, 3, 8, 7, 8, 14]\n",
      "[inf, 0, inf, 1, 5, 6, 7]\n",
      "[inf, inf, 0, 5, 4, 5, 11]\n",
      "[inf, inf, inf, 0, inf, inf, 6]\n",
      "[inf, inf, inf, 1, 0, 1, 7]\n",
      "[inf, inf, inf, inf, inf, 0, 7]\n",
      "[inf, inf, inf, inf, inf, inf, 0]\n"
     ]
    }
   ],
   "source": [
    "def floyd_warshall(graph):\n",
    "    # Копируем граф, чтобы не изменять исходный\n",
    "    dist = [row[:] for row in graph]\n",
    "\n",
    "    # Проходим по всем вершинам\n",
    "    for k in range(len(dist)):\n",
    "        for i in range(len(dist)):\n",
    "            for j in range(len(dist)):\n",
    "                # Если есть более короткий путь от i к j через k\n",
    "                if dist[i][j] > dist[i][k] + dist[k][j]:\n",
    "                    # Обновляем расстояние\n",
    "                    dist[i][j] = dist[i][k] + dist[k][j]\n",
    "    \n",
    "    return dist\n",
    "\n",
    "graph = [[0, 8, 3, float('inf'), float('inf'), float('inf'), float('inf')],\n",
    "         [float('inf'), 0, float('inf'), 1, 5, float('inf'), float('inf')],\n",
    "         [float('inf'), float('inf'), 0, float('inf'), 4, 12, float('inf')],\n",
    "         [float('inf'), float('inf'), float('inf'), 0, float('inf'), float('inf'), 6],\n",
    "         [float('inf'), float('inf'), float('inf'), 1, 0, 1, 12], # Заменить 5 -> 4 и 5 -> 6 \n",
    "         [float('inf'), float('inf'), float('inf'), float('inf'), float('inf'), 0, 7],\n",
    "         [float('inf'), float('inf'), float('inf'), float('inf'), float('inf'), float('inf'), 0]]\n",
    "\n",
    "# Находим кратчайшие расстояния между всеми парами вершин\n",
    "dist = floyd_warshall(graph)\n",
    "\n",
    "# Выводим результат\n",
    "for row in dist:\n",
    "    print(row)"
   ]
  },
  {
   "cell_type": "markdown",
   "id": "b1c6822a-f6ff-48a0-9bd5-688c6a8deada",
   "metadata": {},
   "source": [
    "## Задание - 3\n",
    "Реализовать алгоритм Дейкстры поиска кратчайшего пути на графе между парами вершин:\n",
    "\n",
    "| Вариант | Начальная и конечная вершины| Граф | \n",
    "|:---|:---|:---|\n",
    "| 3  | 1, 5 | ![](./img/013.png) |"
   ]
  },
  {
   "cell_type": "code",
   "execution_count": 45,
   "id": "80b096fd-815d-40aa-b4de-241a9b06bf24",
   "metadata": {},
   "outputs": [
    {
     "data": {
      "text/plain": [
       "{'1': 0, '2': 3, '3': 12, '4': 9, '5': 2, '6': 8, '7': 6, '8': 13}"
      ]
     },
     "execution_count": 45,
     "metadata": {},
     "output_type": "execute_result"
    }
   ],
   "source": [
    "import heapq\n",
    "\n",
    "def dijkstra(graph, start):\n",
    "    \"\"\"\n",
    "    Алгоритм Дейкстры поиска кратчайшего пути на графе между парами вершин.\n",
    "\n",
    "    Аргументы:\n",
    "    - graph: словарь, представляющий граф в виде списков смежности\n",
    "    - start: начальная вершина\n",
    "\n",
    "    Возвращает:\n",
    "    - distances: словарь, содержащий расстояния от начальной вершины до всех остальных вершин графа\n",
    "    - previous: словарь, содержащий предыдущие вершины на кратчайших путях до всех остальных вершин графа\n",
    "    \"\"\"\n",
    "\n",
    "    # Инициализация расстояний до всех вершин графа\n",
    "    distances = {vertex: float('inf') for vertex in graph}\n",
    "    distances[start] = 0\n",
    "\n",
    "    # Создание очереди с приоритетами (heap), которая будет хранить вершины графа в порядке возрастания расстояний до них\n",
    "    priority_queue = [(0, start)]\n",
    "\n",
    "    # Инициализация словаря, который будет хранить предыдущие вершины на кратчайших путях до всех остальных вершин графа\n",
    "    previous = {vertex: None for vertex in graph}\n",
    "\n",
    "    while priority_queue:\n",
    "        # Извлечение вершины из очереди с приоритетами, которая имеет минимальное расстояние до начальной вершины\n",
    "        current_distance, current_vertex = heapq.heappop(priority_queue)\n",
    "\n",
    "        # Если расстояние до текущей вершины уже больше, чем минимальное расстояние из начальной вершины до неё, то пропустить её\n",
    "        if current_distance > distances[current_vertex]:\n",
    "            continue\n",
    "\n",
    "        # Проход по всем соседним вершинам текущей вершины\n",
    "        for neighbor, weight in graph[current_vertex].items():\n",
    "            # Расчёт расстояния от начальной вершины до текущей соседней вершины через текущую вершину\n",
    "            distance = current_distance + weight\n",
    "\n",
    "            # Если новое расстояние меньше, чем ранее известное расстояние до этой соседней вершины, то обновить расстояние и предыдущую вершину на пути до неё\n",
    "            if distance < distances[neighbor]:\n",
    "                distances[neighbor] = distance\n",
    "                previous[neighbor] = current_vertex\n",
    "\n",
    "                # Добавить соседнюю вершину в очередь с приоритетами с новым расстоянием до неё\n",
    "                heapq.heappush(priority_queue, (distance, neighbor))\n",
    "\n",
    "    return distances\n",
    "\n",
    "graph = {\n",
    "    '1': {'2': 6, '5': 2},\n",
    "    '2': {'1': 6, '3': 9, '5': 1, '6': 5, '7': 3},\n",
    "    '3': {'2': 9, '4': 12, '7': 8},\n",
    "    '4': {'3': 12, '7': 3, '8': 4},\n",
    "    '5': {'1': 2, '2': 1, '6': 7},\n",
    "    '6': {'2': 5, '5': 7, '7': 4},\n",
    "    '7': {'2': 3, '3': 8, '4': 3, '6': 4, '8': 16},\n",
    "    '8': {'4': 4, '7': 16}\n",
    "}\n",
    "\n",
    "dijkstra(graph, '1')"
   ]
  },
  {
   "cell_type": "markdown",
   "id": "f89d1027-2962-4c77-a25b-a7e290d5355e",
   "metadata": {},
   "source": [
    "## Задание - 4\n",
    "Реализовать прогрммно один из алгоритмов поиска кратчайшего пути на графе между парами вершин из задания 3."
   ]
  },
  {
   "cell_type": "code",
   "execution_count": 46,
   "id": "4da4123e-1cad-4b31-aecf-2411ac053635",
   "metadata": {},
   "outputs": [
    {
     "name": "stdout",
     "output_type": "stream",
     "text": [
      "[0, 3, 12, 9, 2, 8, 6, 13]\n",
      "[3, 0, 9, 6, 1, 5, 3, 10]\n",
      "[12, 9, 0, 11, 10, 12, 8, 15]\n",
      "[9, 6, 11, 0, 7, 7, 3, 4]\n",
      "[2, 1, 10, 7, 0, 6, 4, 11]\n",
      "[8, 5, 12, 7, 6, 0, 4, 11]\n",
      "[6, 3, 8, 3, 4, 4, 0, 7]\n",
      "[13, 10, 15, 4, 11, 11, 7, 0]\n"
     ]
    }
   ],
   "source": [
    "def floyd_warshall(graph):\n",
    "    # Копируем граф, чтобы не изменять исходный\n",
    "    dist = [row[:] for row in graph]\n",
    "\n",
    "    # Проходим по всем вершинам\n",
    "    for k in range(len(dist)):\n",
    "        for i in range(len(dist)):\n",
    "            for j in range(len(dist)):\n",
    "                # Если есть более короткий путь от i к j через k\n",
    "                if dist[i][j] > dist[i][k] + dist[k][j]:\n",
    "                    # Обновляем расстояние\n",
    "                    dist[i][j] = dist[i][k] + dist[k][j]\n",
    "    \n",
    "    return dist\n",
    "\n",
    "graph = [[0, 6, float('inf'), float('inf'), 2, float('inf'), float('inf'), float('inf')],\n",
    "         [6, 0, 9, float('inf'), 1, 5, 3, float('inf')],\n",
    "         [float('inf'), 9, 0, 12, float('inf'), float('inf'), 8, float('inf')],\n",
    "         [float('inf'), float('inf'), 12, 0, float('inf'), float('inf'), 3, 4],\n",
    "         [2, 1, float('inf'), float('inf'), 0, 7, float('inf'), float('inf')],\n",
    "         [float('inf'), 5, float('inf'), float('inf'), 7, 0, 4, float('inf')],\n",
    "         [float('inf'), 3, 8, 3, float('inf'), 4, 0, 16],\n",
    "         [float('inf'), float('inf'), float('inf'), 4, float('inf'), float('inf'), 16, 0]]\n",
    "\n",
    "# Находим кратчайшие расстояния между всеми парами вершин\n",
    "dist = floyd_warshall(graph)\n",
    "\n",
    "# Выводим результат\n",
    "for row in dist:\n",
    "    print(row)"
   ]
  },
  {
   "cell_type": "code",
   "execution_count": null,
   "id": "fe91756c-db1a-4184-ae37-8cd864c79c04",
   "metadata": {},
   "outputs": [],
   "source": []
  }
 ],
 "metadata": {
  "kernelspec": {
   "display_name": "Python 3 (ipykernel)",
   "language": "python",
   "name": "python3"
  },
  "language_info": {
   "codemirror_mode": {
    "name": "ipython",
    "version": 3
   },
   "file_extension": ".py",
   "mimetype": "text/x-python",
   "name": "python",
   "nbconvert_exporter": "python",
   "pygments_lexer": "ipython3",
   "version": "3.10.9"
  }
 },
 "nbformat": 4,
 "nbformat_minor": 5
}
