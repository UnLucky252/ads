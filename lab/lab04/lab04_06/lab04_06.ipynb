{
 "cells": [
  {
   "cell_type": "markdown",
   "id": "a60f68cc",
   "metadata": {},
   "source": [
    "# Лабораторная работа 4.  Алгоритмы на графах\n",
    "\n",
    "**Цель работы:** изучение некоторых алгоритмов на графах; исследование эффективности этих алгоритмов."
   ]
  },
  {
   "cell_type": "markdown",
   "id": "d96ab467",
   "metadata": {},
   "source": [
    "Задание 1: Найти кратчайший путь на графе между парами вершин методом динамического программирования вручную.\n",
    "| Вариант | Начальная и конечная вершины| Граф |\n",
    "|:---|:---|:---|\n",
    "| 6  | 1, 6 | ![](../img/006.png) |"
   ]
  },
  {
   "cell_type": "markdown",
   "id": "a25ea37d",
   "metadata": {},
   "source": [
    "Условия выхода из рекурсии $f_1=0$, $S_{11} = 0$.\n",
    "\n",
    "тогда расчитаем кратчайшие пути $f_i$ от 1-й до i-й вершины, ведущей к 6:\n",
    "\n",
    "$f_2 = \\min(S_{21} + f_1) = 2 + f_1 = 2$;\n",
    "\n",
    "$f_3 = \\min(S_{31} + f_1) = 13 + f_1 = 13$;\n",
    "\n",
    "$f_4 = \\min \n",
    "\\left(\n",
    "  \\begin{array}{c}\n",
    "  S_{41} + f_1 \\\\\n",
    "  S_{42} + f_2 \\\\\n",
    "  S_{43} + f_3 \\\\\n",
    "  \\end{array}\n",
    "\\right)= \\min \n",
    "\\left(\n",
    "  \\begin{array}{c}\n",
    "  25 + 0 \\\\\n",
    "  3 + 2 \\\\\n",
    "  1 + 13 \\\\\n",
    "  \\end{array}\n",
    "\\right) = 5$; \n",
    "\n",
    "$f_6 = \\min \n",
    "\\left(\n",
    "  \\begin{array}{c}\n",
    "  S_{63} + f_3 \\\\\n",
    "  S_{64} + f_4 \\\\\n",
    "  \\end{array}\n",
    "\\right)= \\min \n",
    "\\left(\n",
    "  \\begin{array}{c}\n",
    "  7 + 13 \\\\\n",
    "  4 + 5 \\\\\n",
    "  \\end{array}\n",
    "\\right) = 9$; \n",
    "\n",
    "Теперь найдем подходящие пути, равные 9 усл.ед. и соответственно равные оптимальной траектории.\n",
    "\n",
    "Пусть $f_i = 6$, тогда:\n",
    "\n",
    "$f_6 = \\min \n",
    "\\left(\n",
    "  \\begin{array}{c}\n",
    "  S_{63} + f_3 \\\\\n",
    "  S_{64} + f_4 \\\\\n",
    "  \\end{array}\n",
    "\\right)= \\min \n",
    "\\left(\n",
    "  \\begin{array}{c}\n",
    "  7 + 13 \\\\\n",
    "  4 + 5 \\\\\n",
    "  \\end{array}\n",
    "\\right) = 9$;\n",
    "\n",
    "$4 + f_4 = 9$ => $f_i = f_4$\n",
    "\n",
    "$f_4 = \\min \n",
    "\\left(\n",
    "  \\begin{array}{c}\n",
    "  S_{41} + f_1 \\\\\n",
    "  S_{42} + f_2 \\\\\n",
    "  S_{43} + f_3 \\\\\n",
    "  \\end{array}\n",
    "\\right)= \\min \n",
    "\\left(\n",
    "  \\begin{array}{c}\n",
    "  25 + 0 \\\\\n",
    "  3 + 2 \\\\\n",
    "  1 + 13 \\\\\n",
    "  \\end{array}\n",
    "\\right) = 5$; \n",
    "\n",
    "$3 + f_2 = 4$ => $f_i = f_2$\n",
    "\n",
    "из $f_2$ только единственный путь ведет к начальной вершине $f_1$, тогда оптимальная траекотрия от 1 до 6:\n",
    "\n",
    "1 --> 2 --> 4 --> 6"
   ]
  },
  {
   "cell_type": "markdown",
   "id": "0ea6a9c7",
   "metadata": {},
   "source": [
    "Задание 2: Реализовать прогрммно поиск кратчайшего пути на графе между парами вершин из задания 1 методом динамического программирования."
   ]
  },
  {
   "cell_type": "code",
   "execution_count": 22,
   "id": "1eca3862",
   "metadata": {},
   "outputs": [
    {
     "data": {
      "text/plain": [
       "[1, 2, 4, 6]"
      ]
     },
     "execution_count": 22,
     "metadata": {},
     "output_type": "execute_result"
    }
   ],
   "source": [
    "# представим граф в виде матрицы смежности весов\n",
    "# нулевая вершина не связана с остальными\n",
    "\n",
    "import math\n",
    "\n",
    "_ = math.inf\n",
    "\n",
    "G = [\n",
    "    #0  1  2  3  4  5  6  7\n",
    "    [0, _, _, _, _, _, _, _], # 0\n",
    "    [_, 0, 2,13,25,17, _, _], # 1\n",
    "    [_, _, 0, _, 3, 6, _, _], # 2\n",
    "    [_, _, _, 0, 1, _, 7, _], # 3\n",
    "    [_, _, _, _, 0, _, 4,35], # 4\n",
    "    [_, _, _, _, _, 0, _,20], # 5\n",
    "    [_, _, _, _, _, _, 0, 5], # 6\n",
    "    [_, _, _, _, _, _, _, 0], # 7\n",
    "]\n",
    "\n",
    "def find_min_route(G, start, end):\n",
    "    N = len(G)\n",
    "    D = [[G[i][j] for j in range(N)] for i in range(N)]\n",
    "    M = [[i for j in range(N)] for i in range(N)]\n",
    "    for k in range(N):\n",
    "        for i in range(N):\n",
    "            for j in range(N):\n",
    "                if D[i][k] + D[k][j] < D[i][j]:\n",
    "                    D[i][j] = D[i][k] + D[k][j]\n",
    "                    M[i][j] = M[k][j]\n",
    "    \n",
    "    route = [end]\n",
    "    while end != start:\n",
    "        end = M[start][end]\n",
    "        route.append(end)\n",
    "    return route[::-1]\n",
    "\n",
    "find_min_route(G, 1, 6)"
   ]
  },
  {
   "cell_type": "markdown",
   "id": "72c71055",
   "metadata": {},
   "source": [
    "Задание 3. Реализовать алгоритм Дейкстры поиска кратчайшего пути на графе между парами вершин:\n",
    "| Вариант | Начальная и конечная вершины| Граф | \n",
    "|:---|:---|:---|\n",
    "| 6  | 3, 8 | ![](../img/016.png) |"
   ]
  },
  {
   "cell_type": "code",
   "execution_count": 19,
   "id": "327cd3bf",
   "metadata": {},
   "outputs": [],
   "source": [
    "import math\n",
    "\n",
    "_ = math.inf\n",
    "\n",
    "G = [\n",
    "    #0  1  2  3  4  5  6  7  8\n",
    "    [0, _, _, _, _, _, _, _, _], # 0\n",
    "    [_, 0,14, _, _, _, 8, _, _], # 1\n",
    "    [_,14, 0, _,10, 2, 2, _, 9], # 2\n",
    "    [_, _, _, 0, _, _, _, _,11], # 3\n",
    "    [_, _,10, _, 0, 3, 6, 5, _], # 4\n",
    "    [_, _, 2, _, 3, 0, _, 8, 1], # 5\n",
    "    [_, 8, 2, _, 6, _, 0, 5, _], # 6\n",
    "    [_, _, _, _, 5, 8, 5, 0, 7], # 7\n",
    "    [_, _, 9,11, _, 1, _, 7, 0], # 8\n",
    "]"
   ]
  },
  {
   "cell_type": "code",
   "execution_count": 20,
   "id": "74ff618e",
   "metadata": {},
   "outputs": [
    {
     "data": {
      "text/plain": [
       "[3, 8]"
      ]
     },
     "execution_count": 20,
     "metadata": {},
     "output_type": "execute_result"
    }
   ],
   "source": [
    "def arg_min(T, S):\n",
    "    amin = -1\n",
    "    m = math.inf\n",
    "    for i, t in enumerate(T):\n",
    "        if t < m and i not in S:\n",
    "            m = t\n",
    "            amin = i\n",
    "    return amin\n",
    "\n",
    "# Алгоритм Дейкстры для двух вершин графа\n",
    "def deikstra_alg(G, start, end):\n",
    "    N = len(G)\n",
    "    T = [math.inf] * N  \n",
    "    v = start       \n",
    "    used = {v}     \n",
    "    T[v] = 0    \n",
    "    M = [0] * N \n",
    "    while v != -1:          \n",
    "        for j, dw in enumerate(G[v]):   \n",
    "            if j not in used:           \n",
    "                w = T[v] + dw\n",
    "                if w < T[j]:\n",
    "                    T[j] = w\n",
    "                    M[j] = v        \n",
    "        v = arg_min(T, used)            \n",
    "        if v >= 0:                    \n",
    "            used.add(v)               \n",
    "\n",
    "    route = [end]\n",
    "    while end != start:\n",
    "        end = M[route[-1]]\n",
    "        route.append(end)\n",
    "    return route[::-1]\n",
    "    \n",
    "deikstra_alg(G, 3, 8)"
   ]
  },
  {
   "cell_type": "markdown",
   "id": "106775a2",
   "metadata": {},
   "source": [
    "Задание 4: Реализовать прогрммно один из алгоритмов поиска кратчайшего пути на графе между парами вершин из задания 3.\n"
   ]
  },
  {
   "cell_type": "code",
   "execution_count": 21,
   "id": "014b508c",
   "metadata": {},
   "outputs": [
    {
     "data": {
      "text/plain": [
       "[3, 8]"
      ]
     },
     "execution_count": 21,
     "metadata": {},
     "output_type": "execute_result"
    }
   ],
   "source": [
    "# Реализуем алгоритм Беллмана — Форда для двух вершин графа\n",
    "def bellman_ford_alg(G, start, end):\n",
    "    N = len(G)\n",
    "    D = [math.inf] * N\n",
    "    D[start] = 0\n",
    "    M = [0] * N\n",
    "    for i in range(N - 1):\n",
    "        for u in range(N):\n",
    "            for v, w in enumerate(G[u]):\n",
    "                if w is None:\n",
    "                    continue\n",
    "                if D[u] + w < D[v]:\n",
    "                    D[v] = D[u] + w\n",
    "                    M[v] = u\n",
    "    for u in range(N):\n",
    "        for v, w in enumerate(G[u]):\n",
    "            if w is None:\n",
    "                continue\n",
    "            if D[u] + w < D[v]:\n",
    "                raise ValueError(\"Negative cycle error!!!\")\n",
    "\n",
    "    route = [end]\n",
    "    while end != start:\n",
    "        end = M[route[-1]]\n",
    "        route.append(end)\n",
    "    return route[::-1]\n",
    "\n",
    "bellman_ford_alg(G, 3, 8)"
   ]
  }
 ],
 "metadata": {
  "kernelspec": {
   "display_name": "Python 3 (ipykernel)",
   "language": "python",
   "name": "python3"
  },
  "language_info": {
   "codemirror_mode": {
    "name": "ipython",
    "version": 3
   },
   "file_extension": ".py",
   "mimetype": "text/x-python",
   "name": "python",
   "nbconvert_exporter": "python",
   "pygments_lexer": "ipython3",
   "version": "3.10.6"
  }
 },
 "nbformat": 4,
 "nbformat_minor": 5
}
