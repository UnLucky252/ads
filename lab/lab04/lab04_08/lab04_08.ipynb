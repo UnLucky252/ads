{
 "cells": [
  {
   "cell_type": "markdown",
   "id": "07fd5495",
   "metadata": {},
   "source": [
    "# Лабораторная работа 4. Алгоритмы на графах"
   ]
  },
  {
   "cell_type": "markdown",
   "id": "f87159cf",
   "metadata": {},
   "source": [
    "## Задание 1"
   ]
  },
  {
   "cell_type": "markdown",
   "id": "b7b8d8e1",
   "metadata": {},
   "source": [
    "| Вариант | Вариант| Граф |\n",
    "|:---|:---|:---|\n",
    "| 8 | 5,7 | ![](./img/008.png) |"
   ]
  },
  {
   "cell_type": "markdown",
   "id": "b209256e",
   "metadata": {},
   "source": [
    "Начальные условия $f_5=0$, $S_{55} = 0$.\n",
    "\n",
    "Находим последовательно значения функции $f_i$ (в условных единицах) для каждой вершины ориентированного графа:\n",
    "\n",
    "$f_2 = \\min(S_{25} + f_5) = 0 + f_5 = 0 + 3 = 3$;\n",
    "\n",
    "$f_3 = \\min \n",
    "\\left(\n",
    "  \\begin{array}{c}\n",
    "  S_{32} + f_2 \\\\\n",
    "  S_{35} + f_5 \\\\\n",
    "  \\end{array}\n",
    "\\right) \n",
    "= \n",
    "\\min \n",
    "\\left(\n",
    "  \\begin{array}{c}\n",
    "  3 + 15 \\\\\n",
    "  0 + 11 \\\\\n",
    "  \\end{array}\n",
    "\\right) = 11$;\n",
    "\n",
    "$f_6 = \\min \n",
    "\\left(\n",
    "  \\begin{array}{c}\n",
    "  S_{62} + f_2 \\\\\n",
    "  S_{65} + f_5 \\\\\n",
    "  \\end{array}\n",
    "\\right) \n",
    "= \n",
    "\\min \n",
    "\\left(\n",
    "  \\begin{array}{c}\n",
    "  3 + 9 \\\\\n",
    "  0 + 10 \\\\\n",
    "  \\end{array}\n",
    "\\right) = 10$;\n",
    "\n",
    "$f_4 = \\min \n",
    "\\left(\n",
    "  \\begin{array}{c}\n",
    "  S_{43} + f_3 \\\\\n",
    "  S_{46} + f_6 \\\\\n",
    "  \\end{array}\n",
    "\\right) \n",
    "= \n",
    "\\min \n",
    "\\left(\n",
    "  \\begin{array}{c}\n",
    "  11 + 2 \\\\\n",
    "  10 + 1 \\\\\n",
    "  \\end{array}\n",
    "\\right) = 11$;\n",
    "\n",
    "$f_7 = \\min \n",
    "\\left(\n",
    "  \\begin{array}{c}\n",
    "  S_{73} + f_3 \\\\\n",
    "  S_{74} + f_4 \\\\\n",
    "  S_{76} + f_6 \\\\\n",
    "  \\end{array}\n",
    "\\right) \n",
    "= \n",
    "\\min \n",
    "\\left(\n",
    "  \\begin{array}{c}\n",
    "  11 + 1 \\\\\n",
    "  11 + 6 \\\\\n",
    "  10 + 3 \\\\\n",
    "  \\end{array}\n",
    "\\right) = 12$;\n",
    "\n",
    "Таким образом, кратчайший путь из 5 точки в 7 равен 12\n",
    "\n",
    "Для выбора оптимальной траектории движения следует осуществить просмотр функций $f_i$ в обратном порядке, то есть с $f_7$. \n",
    "\n",
    "Пусть $f_i = f_7$. \n",
    "\n",
    "В данном случае\n",
    "\n",
    "\n",
    "$f_7 = \\min \n",
    "\\left(\n",
    "  \\begin{array}{c}\n",
    "  S_{73} + f_3 \\\\\n",
    "  S_{74} + f_4 \\\\\n",
    "  S_{76} + f_6 \\\\\n",
    "  \\end{array}\n",
    "\\right) \n",
    "= \n",
    "\\min \n",
    "\\left(\n",
    "  \\begin{array}{c}\n",
    "  11 + 1 \\\\\n",
    "  11 + 6 \\\\\n",
    "  10 + 3 \\\\\n",
    "  \\end{array}\n",
    "\\right) = 12$;\n",
    "\n",
    "Получаем, что $11 + f_3 = 12$, то есть $f_j = f_3$. \n",
    "Значит, из вершины 7 следует перейти к вершине 3.\n",
    "\n",
    "Имеем $f_i = f_3$.   \n",
    "\n",
    "$f_3 = \\min \n",
    "\\left(\n",
    "  \\begin{array}{c}\n",
    "  S_{32} + f_2 \\\\\n",
    "  S_{35} + f_5 \\\\\n",
    "  \\end{array}\n",
    "\\right) \n",
    "= \n",
    "\\min \n",
    "\\left(\n",
    "  \\begin{array}{c}\n",
    "  3 + 15 \\\\\n",
    "  0 + 11 \\\\\n",
    "  \\end{array}\n",
    "\\right) = 11$;\n",
    "\n",
    "т.е. $f_j = f_5$\n",
    "\n",
    "Таким образом, получаем кратчайший путь от вершины 5 к вершине 7: (5,  3,  7) "
   ]
  },
  {
   "cell_type": "markdown",
   "id": "0e661105",
   "metadata": {},
   "source": [
    "## Задание 2"
   ]
  },
  {
   "cell_type": "markdown",
   "id": "77737ada",
   "metadata": {},
   "source": [
    "| Вариант | Вариант| Граф |\n",
    "|:---|:---|:---|\n",
    "| 8 | 5,7 | ![](./img/008.png) |"
   ]
  },
  {
   "cell_type": "code",
   "execution_count": 69,
   "id": "794f86be",
   "metadata": {},
   "outputs": [],
   "source": [
    "import heapq\n",
    "\n",
    "class DirectedGraph:\n",
    "    def __init__(self):\n",
    "        self.edges = {}\n",
    "    \n",
    "    def add_vertex(self, vertex):\n",
    "        if vertex not in self.edges:\n",
    "            self.edges[vertex] = []\n",
    "    \n",
    "    def add_edge(self, start, end, weight):\n",
    "        self.add_vertex(start)\n",
    "        self.add_vertex(end)\n",
    "        if end not in self.edges[start]:\n",
    "            self.edges[start].append((end, weight))\n",
    "    \n",
    "    def get_neighbors(self, vertex):\n",
    "        return self.edges[vertex]\n",
    "    \n",
    "    def shortest_distance(self, start, end):\n",
    "        distances = {vertex: float('inf') for vertex in self.edges}\n",
    "        distances[start] = 0\n",
    "        queue = [start]\n",
    "        previous = {vertex: None for vertex in self.edges}\n",
    "\n",
    "        while queue:\n",
    "            current_vertex = queue.pop(0)\n",
    "            for neighbor, weight in self.get_neighbors(current_vertex):\n",
    "                distance = distances[current_vertex] + weight\n",
    "                if distance < distances[neighbor]:\n",
    "                    distances[neighbor] = distance\n",
    "                    previous[neighbor] = current_vertex\n",
    "                    queue.append(neighbor)\n",
    "\n",
    "        if distances[end] == float('inf'):\n",
    "            return -1\n",
    "\n",
    "        path = []\n",
    "        current_vertex = end\n",
    "        while current_vertex != start:\n",
    "            path.insert(0, current_vertex)\n",
    "            current_vertex = previous[current_vertex]\n",
    "        path.insert(0, start)\n",
    "\n",
    "        return distances[end], path\n"
   ]
  },
  {
   "cell_type": "code",
   "execution_count": 70,
   "id": "fb4e3fb7",
   "metadata": {},
   "outputs": [
    {
     "name": "stdout",
     "output_type": "stream",
     "text": [
      "(12, [5, 3, 7])\n"
     ]
    }
   ],
   "source": [
    "graph = DirectedGraph()\n",
    "graph.add_edge(1, 2, 8)\n",
    "graph.add_edge(1, 5, 11)\n",
    "graph.add_edge(5, 2, 3)\n",
    "graph.add_edge(5, 6, 10)\n",
    "graph.add_edge(5, 3, 11)\n",
    "graph.add_edge(2, 3, 15)\n",
    "graph.add_edge(2, 6, 9)\n",
    "graph.add_edge(3, 4, 2)\n",
    "graph.add_edge(3, 7, 1)\n",
    "graph.add_edge(4, 7, 6)\n",
    "graph.add_edge(6, 4, 1)\n",
    "graph.add_edge(6, 7, 3)\n",
    "print(graph.shortest_distance(5, 7))"
   ]
  },
  {
   "cell_type": "markdown",
   "id": "8beb328c",
   "metadata": {},
   "source": [
    "## Задание 3"
   ]
  },
  {
   "cell_type": "markdown",
   "id": "add937f5",
   "metadata": {},
   "source": [
    "| Вариант | Вариант| Граф |\n",
    "|:---|:---|:---|\n",
    "| 8 | 7,3 | ![](./img/018.png) |"
   ]
  },
  {
   "cell_type": "code",
   "execution_count": 127,
   "id": "ccc9e4d9",
   "metadata": {},
   "outputs": [],
   "source": [
    "import heapq\n",
    "\n",
    "def dijkstra(graph, start, end):\n",
    "    distances = {vertex: float('inf') for vertex in graph}\n",
    "    distances[start] = 0\n",
    "    heap = [(0, start)]\n",
    "    previous_vertices = {vertex: None for vertex in graph}\n",
    "    \n",
    "    while heap:\n",
    "        (current_distance, current_vertex) = heapq.heappop(heap)\n",
    "        \n",
    "        if current_distance > distances[current_vertex]:\n",
    "            continue\n",
    "            \n",
    "        for neighbor, weight in graph[current_vertex].items():\n",
    "            distance = current_distance + weight\n",
    "            \n",
    "            if distance < distances[neighbor]:\n",
    "                distances[neighbor] = distance\n",
    "                heapq.heappush(heap, (distance, neighbor))\n",
    "                previous_vertices[neighbor] = current_vertex\n",
    "                \n",
    "    path = []\n",
    "    distance = distances[end]\n",
    "    current_vertex = end\n",
    "    while current_vertex is not None:\n",
    "        path.append(current_vertex)\n",
    "        current_vertex = previous_vertices[current_vertex]\n",
    "    path.reverse()\n",
    "    \n",
    "    return distance, path\n"
   ]
  },
  {
   "cell_type": "code",
   "execution_count": 128,
   "id": "c8cb293e",
   "metadata": {},
   "outputs": [
    {
     "name": "stdout",
     "output_type": "stream",
     "text": [
      "(14, [7, 6, 4, 5, 2, 3])\n"
     ]
    }
   ],
   "source": [
    "graph = {\n",
    "    1: {2:1, 3:13, 4:6, 6:11, 7:15},\n",
    "    2: {1:1, 3:5, 4:5, 5:1},\n",
    "    3: {1:13, 2:5, 8:19},\n",
    "    4: {1:6, 2:5, 5:3, 6:2},\n",
    "    5: {2:1, 4:3, 6:8, 8:12},\n",
    "    6: {1:11, 4:2, 5:8, 7:3},\n",
    "    7: {1:15, 6:3, 8:1},\n",
    "    8: {3:19, 5:12, 7:1},\n",
    "}\n",
    "\n",
    "start = 7\n",
    "end = 3\n",
    "distances = dijkstra(graph, start, end)\n",
    "print(distances)"
   ]
  },
  {
   "cell_type": "markdown",
   "id": "1e581cd6",
   "metadata": {},
   "source": [
    "## Задание 4"
   ]
  },
  {
   "cell_type": "markdown",
   "id": "d74456fe",
   "metadata": {},
   "source": [
    "Реализация алгоритма Беллмана-Форда для задания 3"
   ]
  },
  {
   "cell_type": "code",
   "execution_count": 129,
   "id": "dccf880e",
   "metadata": {},
   "outputs": [],
   "source": [
    "def bellman_ford(graph, start, end):\n",
    "    distances = {vertex: float('inf') for vertex in graph}\n",
    "    distances[start] = 0\n",
    "\n",
    "    for _ in range(len(graph) - 1):\n",
    "        for vertex in graph:\n",
    "            for neighbor, weight in graph[vertex].items():\n",
    "                if distances[vertex] + weight < distances[neighbor]:\n",
    "                    distances[neighbor] = distances[vertex] + weight\n",
    "\n",
    "    for vertex in graph:\n",
    "        for neighbor, weight in graph[vertex].items():\n",
    "            if distances[vertex] + weight < distances[neighbor]:\n",
    "                raise ValueError(\"Digits are less than 0 registred\")\n",
    "                \n",
    "    path = [end]\n",
    "    while path[-1] != start:\n",
    "        current_vertex = path[-1]\n",
    "        for neighbor, weight in graph[current_vertex].items():\n",
    "            if distances[current_vertex] == distances[neighbor] + weight:\n",
    "                path.append(neighbor)\n",
    "                break\n",
    "        else:\n",
    "            raise ValueError(\"The graph is not connected\")\n",
    "\n",
    "    path.reverse()\n",
    "    return distances[end], path\n"
   ]
  },
  {
   "cell_type": "code",
   "execution_count": 130,
   "id": "665d3356",
   "metadata": {},
   "outputs": [
    {
     "name": "stdout",
     "output_type": "stream",
     "text": [
      "(14, [7, 6, 4, 5, 2, 3])\n"
     ]
    }
   ],
   "source": [
    "graph = {\n",
    "    1: {2:1, 3:13, 4:6, 6:11, 7:15},\n",
    "    2: {1:1, 3:5, 4:5, 5:1},\n",
    "    3: {1:13, 2:5, 8:19},\n",
    "    4: {1:6, 2:5, 5:3, 6:2},\n",
    "    5: {2:1, 4:3, 6:8, 8:12},\n",
    "    6: {1:11, 4:2, 5:8, 7:3},\n",
    "    7: {1:15, 6:3, 8:1},\n",
    "    8: {3:19, 5:12, 7:1},\n",
    "}\n",
    "\n",
    "start = 7\n",
    "end = 3\n",
    "distances = bellman_ford(graph, start, end)\n",
    "print(distances)"
   ]
  },
  {
   "cell_type": "code",
   "execution_count": null,
   "id": "90c49bd1",
   "metadata": {},
   "outputs": [],
   "source": []
  }
 ],
 "metadata": {
  "kernelspec": {
   "display_name": "Python 3 (ipykernel)",
   "language": "python",
   "name": "python3"
  },
  "language_info": {
   "codemirror_mode": {
    "name": "ipython",
    "version": 3
   },
   "file_extension": ".py",
   "mimetype": "text/x-python",
   "name": "python",
   "nbconvert_exporter": "python",
   "pygments_lexer": "ipython3",
   "version": "3.11.2"
  }
 },
 "nbformat": 4,
 "nbformat_minor": 5
}
