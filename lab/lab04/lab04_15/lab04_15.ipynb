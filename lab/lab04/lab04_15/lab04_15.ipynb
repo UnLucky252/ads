{
 "cells": [
  {
   "cell_type": "markdown",
   "id": "b85f801f-feb6-4258-a7d0-d1642fe3514e",
   "metadata": {},
   "source": [
    "# Лабораторная работа 4. Алгоритмы на графах\n",
    "\n",
    "Вариант: 15"
   ]
  },
  {
   "cell_type": "markdown",
   "id": "340a0543-c889-4018-9089-24ec8a4e888d",
   "metadata": {},
   "source": [
    "## Задание 1"
   ]
  },
  {
   "cell_type": "markdown",
   "id": "d5d1e0ce-b9a3-427a-804f-af2438f79276",
   "metadata": {},
   "source": [
    "Определить кратчайший путь из вершины 1 в вершину 7 для графа, представленного на рисунке:\n",
    "\n",
    "![](./src/005.png)"
   ]
  },
  {
   "cell_type": "markdown",
   "id": "437ec2bf-88a1-4b1a-8b9e-6a46f8dcac36",
   "metadata": {},
   "source": [
    "Начальные условия $f_1=0$, $S_{11} = 0$.\n",
    "\n",
    "Находим последовательно значения функции $f_i$ (в условных единицах) для каждой вершины ориентированного графа:\n",
    "\n",
    "$f_2 = \\min(S_{21} + f_1) = 10 + f_1 = 10 + 0 = 10$;\n",
    "\n",
    "$f_3 = \\min \n",
    "\\left(\n",
    "  \\begin{array}{c}\n",
    "  S_{31} + f_1 \\\\\n",
    "  S_{32} + f_2 \\\\\n",
    "  \\end{array}\n",
    "\\right) \n",
    "= \n",
    "\\min \n",
    "\\left(\n",
    "  \\begin{array}{c}\n",
    "  12 + 0 \\\\\n",
    "  1 + 10 \\\\\n",
    "  \\end{array}\n",
    "\\right) = 11$; \n",
    "\n",
    "$f_4 = \\min \n",
    "\\left(\n",
    "  \\begin{array}{c}\n",
    "  S_{43} + f_3 \\\\\n",
    "  S_{42} + f_2 \\\\\n",
    "  \\end{array}\n",
    "\\right) \n",
    "= \n",
    "\\min \n",
    "\\left(\n",
    "  \\begin{array}{c}\n",
    "  4 + 11 \\\\\n",
    "  11 + 10 \\\\\n",
    "  \\end{array}\n",
    "\\right) = 15$; \n",
    "\n",
    "\n",
    "$f_5 = \\min \n",
    "\\left(\n",
    "  \\begin{array}{c}\n",
    "  S_{54} + f_4 \\\\\n",
    "  S_{52} + f_2 \\\\\n",
    "  \\end{array}\n",
    "\\right) \n",
    "= \n",
    "\\min \n",
    "\\left(\n",
    "  \\begin{array}{c}\n",
    "  7 + 15 \\\\\n",
    "  3 + 10 \\\\\n",
    "  \\end{array}\n",
    "\\right) = 13$; \n",
    "\n",
    "\n",
    "$f_6 = \\min \n",
    "\\left(\n",
    "  \\begin{array}{c}\n",
    "  S_{63} + f_3 \\\\\n",
    "  S_{64} + f_4 \\\\\n",
    "  \\end{array}\n",
    "\\right)\n",
    "= \n",
    "\\min \n",
    "\\left(\n",
    "  \\begin{array}{c}\n",
    "  8 + 11 \\\\\n",
    "  1 + 15 \\\\\n",
    "  \\end{array}\n",
    "\\right) = 16$; \n",
    "\n",
    "\n",
    "$f_7 = \\min \n",
    "\\left(\n",
    "  \\begin{array}{c}\n",
    "  S_{75} + f_5 \\\\\n",
    "  S_{76} + f_6 \\\\\n",
    "  S_{73} + f_3 \\\\\n",
    "  \\end{array}\n",
    "\\right)\n",
    "= \n",
    "\\min \n",
    "\\left(\n",
    "  \\begin{array}{c}\n",
    "  9 + 13 \\\\\n",
    "  2 + 16 \\\\\n",
    "  10 + 11 \\\\\n",
    "  \\end{array}\n",
    "\\right) = 18$; \n",
    "\n",
    "Длина кратчайшего пути составляет 18 условных единиц. \n",
    "\n",
    "Для выбора оптимальной траектории движения следует осуществить просмотр функций $f_i$ в обратном порядке, то есть с $f_{7}$. \n",
    "\n",
    "Пусть $f_i = f_{7}$. \n",
    "\n",
    "В данном случае\n",
    "\n",
    "$f_{7} = \\min \n",
    "\\left(\n",
    "  \\begin{array}{c}\n",
    "  10 + f_3 \\\\\n",
    "  2 + f_6 \\\\\n",
    "  9 + f_5 \\\\\n",
    "  \\end{array}\n",
    "\\right)\n",
    "= \n",
    "\\min \n",
    "\\left(\n",
    "  \\begin{array}{c}\n",
    "  10 + 11 \\\\\n",
    "  2 + 16 \\\\\n",
    "  9 + 13 \\\\\n",
    "  \\end{array}\n",
    "\\right) = 18$; \n",
    "\n",
    "Получаем, что $2 + f_6 = 18$, то есть $f_j = f_6$. \n",
    "Значит, из вершины 7 следует перейти к вершине 6.\n",
    "\n",
    "Имеем $f_i = f_6$.   \n",
    "\n",
    "Рассмотрим функцию \n",
    "$f_6 = \\min \n",
    "\\left(\n",
    "  \\begin{array}{c}\n",
    "  8 + f_3 \\\\\n",
    "  1 + f_4 \\\\\n",
    "  \\end{array}\n",
    "\\right)\n",
    "= \n",
    "\\min \n",
    "\\left(\n",
    "  \\begin{array}{c}\n",
    "  8 + 11 \\\\\n",
    "  1 + 15 \\\\\n",
    "  \\end{array}\n",
    "\\right) = 16,$\n",
    "\n",
    "т.е. $f_j = f_4$ и т.д.\n",
    "\n",
    "Таким образом, получаем кратчайший путь от вершины 1 к вершине 7: (1, 2, 3, 4, 6,  7) "
   ]
  },
  {
   "cell_type": "markdown",
   "id": "6074a2c1-360c-42df-84e2-ef8fa1ab80f5",
   "metadata": {
    "tags": []
   },
   "source": [
    "## Задание 2\n",
    "\n",
    "Реализовать программно поиск кратчайшего пути на графе между парами вершин из задания 1 методом динамического программирования:"
   ]
  },
  {
   "cell_type": "code",
   "execution_count": 7,
   "id": "493e4682-47e9-45eb-bee5-b1d3a6312175",
   "metadata": {},
   "outputs": [
    {
     "data": {
      "text/plain": [
       "[1, 2, 3, 4, 6, 7]"
      ]
     },
     "execution_count": 7,
     "metadata": {},
     "output_type": "execute_result"
    }
   ],
   "source": [
    "# представим граф в виде матрицы смежности весов\n",
    "# нулевая вершина не связана с остальными\n",
    "\n",
    "import math\n",
    "\n",
    "_ = math.inf\n",
    "\n",
    "G = [\n",
    "    #0  1  2  3  4  5  6  7\n",
    "    [0, _, _, _, _, _, _, _], # 0\n",
    "    [_, 0,10,12, _, _, _, _], # 1\n",
    "    [_, _, 0, 1,11, 3, _, _], # 2\n",
    "    [_, _, _, 0, 4, _, 8,10], # 3\n",
    "    [_, _, _, _, 0, 7, 1, _], # 4\n",
    "    [_, _, _, _, _, 0, _, 9], # 5\n",
    "    [_, _, _, _, _, _, 0, 2], # 6\n",
    "    [_, _, _, _, _, _, _, 0], # 7\n",
    "]\n",
    "\n",
    "def find_min_route(G, start, end):\n",
    "    N = len(G)\n",
    "    D = [[G[i][j] for j in range(N)] for i in range(N)]\n",
    "    M = [[i for j in range(N)] for i in range(N)]\n",
    "    for k in range(N):\n",
    "        for i in range(N):\n",
    "            for j in range(N):\n",
    "                if D[i][k] + D[k][j] < D[i][j]:\n",
    "                    D[i][j] = D[i][k] + D[k][j]\n",
    "                    M[i][j] = M[k][j]\n",
    "    \n",
    "    route = [end]\n",
    "    while end != start:\n",
    "        end = M[start][end]\n",
    "        route.append(end)\n",
    "    return route[::-1]\n",
    "\n",
    "find_min_route(G, 1, 7)"
   ]
  },
  {
   "cell_type": "markdown",
   "id": "2a0ab949-3a68-496a-9bdb-1f86e1aa1720",
   "metadata": {},
   "source": [
    "## Задание 3"
   ]
  },
  {
   "cell_type": "markdown",
   "id": "a94cad32-d3da-42b0-a45c-49f51ff3f587",
   "metadata": {},
   "source": [
    "Реализовать алгоритм Дейкстры поиска кратчайшего пути на графе между парами вершин:"
   ]
  },
  {
   "cell_type": "markdown",
   "id": "5bc3b865-c6f6-41fc-9ad9-c34d7e393748",
   "metadata": {},
   "source": [
    "1, 6\n",
    "\n",
    "![](./src/015.png)"
   ]
  },
  {
   "cell_type": "code",
   "execution_count": 8,
   "id": "dda85ab8-b80b-4c08-ac73-3b25cc442652",
   "metadata": {
    "tags": []
   },
   "outputs": [],
   "source": [
    "import math\n",
    "\n",
    "_ = math.inf\n",
    "\n",
    "G = [\n",
    "    #0  1  2  3  4  5  6  7  8\n",
    "    [0, _, _, _, _, _, _, _, _], # 0\n",
    "    [_, 0, 2, _, _, 3,10, _, _], # 1\n",
    "    [_, 2, 0, 1, _, _, _,35, _], # 2\n",
    "    [_, _, 1, 0,17, _, _, _, _], # 3\n",
    "    [_, _, _,17, 0, _, _,13, _], # 4\n",
    "    [_, 3, _, _, _, 0,11, _,20], # 5\n",
    "    [_,10, _, _, _,11, 0,15,12], # 6\n",
    "    [_, _,35, _,13, _,15, 0,10], # 7\n",
    "    [_, _, _, _, _,20,12,10, 0], # 8\n",
    "]"
   ]
  },
  {
   "cell_type": "code",
   "execution_count": 9,
   "id": "dcdd6a94-993b-43f5-9361-83ecfe109e4c",
   "metadata": {
    "tags": []
   },
   "outputs": [
    {
     "data": {
      "text/plain": [
       "[1, 6]"
      ]
     },
     "execution_count": 9,
     "metadata": {},
     "output_type": "execute_result"
    }
   ],
   "source": [
    "def arg_min(T, S):\n",
    "    amin = -1\n",
    "    m = math.inf\n",
    "    for i, t in enumerate(T):\n",
    "        if t < m and i not in S:\n",
    "            m = t\n",
    "            amin = i\n",
    "    return amin\n",
    "\n",
    "# Алгоритм Дейкстры для двух вершин графа\n",
    "def deikstra_alg(G, start, end):\n",
    "    N = len(G)\n",
    "    T = [math.inf] * N  \n",
    "    v = start       \n",
    "    used = {v}     \n",
    "    T[v] = 0    \n",
    "    M = [0] * N \n",
    "    while v != -1:          \n",
    "        for j, dw in enumerate(G[v]):   \n",
    "            if j not in used:           \n",
    "                w = T[v] + dw\n",
    "                if w < T[j]:\n",
    "                    T[j] = w\n",
    "                    M[j] = v        \n",
    "        v = arg_min(T, used)            \n",
    "        if v >= 0:                    \n",
    "            used.add(v)               \n",
    "\n",
    "    route = [end]\n",
    "    while end != start:\n",
    "        end = M[route[-1]]\n",
    "        route.append(end)\n",
    "    return route[::-1]\n",
    "    \n",
    "deikstra_alg(G, 1, 6)"
   ]
  },
  {
   "cell_type": "markdown",
   "id": "993db4b1-add3-4e76-99a9-9e7012549001",
   "metadata": {},
   "source": [
    "## Задание 4\n",
    "\n",
    "Реализовать программно один из алгоритмов поиска кратчайшего пути на графе между парами вершин из задания 3:"
   ]
  },
  {
   "cell_type": "code",
   "execution_count": 10,
   "id": "179a8c50-2113-4119-82a8-e6a571dda3ea",
   "metadata": {
    "tags": []
   },
   "outputs": [
    {
     "data": {
      "text/plain": [
       "[1, 6]"
      ]
     },
     "execution_count": 10,
     "metadata": {},
     "output_type": "execute_result"
    }
   ],
   "source": [
    "# Алгоритм Беллмана — Форда для двух вершин графа\n",
    "def bellman_ford_alg(G, start, end):\n",
    "    N = len(G)\n",
    "    D = [math.inf] * N\n",
    "    D[start] = 0\n",
    "    M = [0] * N\n",
    "    for i in range(N - 1):\n",
    "        for u in range(N):\n",
    "            for v, w in enumerate(G[u]):\n",
    "                if w is None:\n",
    "                    continue\n",
    "                if D[u] + w < D[v]:\n",
    "                    D[v] = D[u] + w\n",
    "                    M[v] = u\n",
    "    for u in range(N):\n",
    "        for v, w in enumerate(G[u]):\n",
    "            if w is None:\n",
    "                continue\n",
    "            if D[u] + w < D[v]:\n",
    "                raise ValueError(\"Ошибка отрицательного цикла!\")\n",
    "\n",
    "    route = [end]\n",
    "    while end != start:\n",
    "        end = M[route[-1]]\n",
    "        route.append(end)\n",
    "    return route[::-1]\n",
    "\n",
    "bellman_ford_alg(G, 1, 6)"
   ]
  }
 ],
 "metadata": {
  "kernelspec": {
   "display_name": "Python 3 (ipykernel)",
   "language": "python",
   "name": "python3"
  },
  "language_info": {
   "codemirror_mode": {
    "name": "ipython",
    "version": 3
   },
   "file_extension": ".py",
   "mimetype": "text/x-python",
   "name": "python",
   "nbconvert_exporter": "python",
   "pygments_lexer": "ipython3",
   "version": "3.11.1"
  }
 },
 "nbformat": 4,
 "nbformat_minor": 5
}
