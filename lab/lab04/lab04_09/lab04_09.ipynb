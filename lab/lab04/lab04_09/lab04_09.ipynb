{
 "cells": [
  {
   "cell_type": "markdown",
   "id": "d3d67758",
   "metadata": {
    "slideshow": {
     "slide_type": "slide"
    }
   },
   "source": [
    "# Лабораторная работа 4.  Алгоритмы на графах\n",
    "## Вариант 9\n",
    "\n",
    "**Цель работы:** изучение некоторых алгоритмов на графах; исследование эффективности этих алгоритмов.\n"
   ]
  },
  {
   "cell_type": "markdown",
   "id": "b77965fe",
   "metadata": {},
   "source": [
    "#### Нахождение кратчайшего пути в ориентированном графе\n",
    "\n",
    "Задание. Определить кратчайший путь из вершины 1 в вершину 7 для графа, представленного на рисунке: \n",
    "\n",
    "| Вариант | Вариант| Граф |\n",
    "|:---|:---|:---|\n",
    "| 9  | 1, 7 | ![](./img/009.png) |\n",
    "\n",
    "\n",
    "Начальные условия $f_1=0$, $S_{11} = 0$.\n",
    "\n",
    "Находим последовательно значения функции $f_i$ (в условных единицах) для каждой вершины ориентированного графа:\n",
    "\n",
    "$f_2 = \\min(S_{21} + f_1) = 6 + f_1 = 6 + 0 = 6$;\n",
    "\n",
    "$f_3 = \\min(S_{32} + f_2) = 5 + f_2 = 5 + 6 = 11$;\n",
    "\n",
    "$f_5 = \\min(S_{51} + f_1) = 9 + f_1 = 9 + 0 = 9$;\n",
    "\n",
    "$f_4 = \\min \n",
    "\\left(\n",
    "  \\begin{array}{c}\n",
    "  S_{41} + f_1 \\\\\n",
    "  S_{43} + f_3 \\\\\n",
    "  \\end{array}\n",
    "\\right) \n",
    "= \n",
    "\\min \n",
    "\\left(\n",
    "  \\begin{array}{c}\n",
    "  7 + 0 \\\\\n",
    "  2 + 11 \\\\\n",
    "  \\end{array}\n",
    "\\right) = 7$; \n",
    "\n",
    "$f_6 = \\min \n",
    "\\left(\n",
    "  \\begin{array}{c}\n",
    "  S_{62} + f_2 \\\\\n",
    "  S_{65} + f_5 \\\\\n",
    "  \\end{array}\n",
    "\\right) \n",
    "= \n",
    "\\min \n",
    "\\left(\n",
    "  \\begin{array}{c}\n",
    "  0 + 6 \\\\\n",
    "  4 + 9 \\\\\n",
    "  \\end{array}\n",
    "\\right) = 6$; \n",
    "\n",
    "$f_7 = \\min \n",
    "\\left(\n",
    "  \\begin{array}{c}\n",
    "  S_{73} + f_3 \\\\\n",
    "  S_{74} + f_4 \\\\\n",
    "  S_{75} + f_5 \\\\\n",
    "  S_{76} + f_6 \\\\\n",
    "  \\end{array}\n",
    "\\right)\n",
    "= \n",
    "\\min \n",
    "\\left(\n",
    "  \\begin{array}{c}\n",
    "  3 + 11 \\\\\n",
    "  1 + 7 \\\\\n",
    "  8 + 9 \\\\\n",
    "  4 + 6 \\\\\n",
    "  \\end{array}\n",
    "\\right) = 8$; \n",
    "\n",
    "\n",
    "Длина кратчайшего пути составляет 8 условных единиц. \n",
    "\n",
    "Для выбора оптимальной траектории движения следует осуществить просмотр функций $f_i$ в обратном порядке, то есть с $f_{7}$. \n",
    "\n",
    "Пусть $f_i = f_{7}$. \n",
    "\n",
    "В данном случае\n",
    "\n",
    "$f_7 = \\min \n",
    "\\left(\n",
    "  \\begin{array}{c}\n",
    "  3 + f_3 \\\\\n",
    "  1 + f_4 \\\\\n",
    "  8 + f_5 \\\\\n",
    "  4 + f_6 \\\\\n",
    "  \\end{array}\n",
    "\\right)\n",
    "= \n",
    "\\min \n",
    "\\left(\n",
    "  \\begin{array}{c}\n",
    "  3 + 11 \\\\\n",
    "  1 + 7 \\\\\n",
    "  8 + 9 \\\\\n",
    "  4 + 6 \\\\\n",
    "  \\end{array}\n",
    "\\right) = 8$; \n",
    "\n",
    "Получаем, что $1 + f_4 = 8$, то есть $f_j = f_4$. \n",
    "Значит, из вершины 7 следует перейти к вершине 4.\n",
    "\n",
    "Имеем $f_i = f_4$.   \n",
    "\n",
    "Рассмотрим функцию \n",
    "\n",
    "$f_4 = \\min(S_{41} + f_1) = 7 + f_1 = 7 + 0 = 7$;\n",
    "\n",
    "Таким образом, получаем кратчайший путь от вершины 1 к вершине 7: (1,  4,  7)    "
   ]
  },
  {
   "cell_type": "markdown",
   "id": "6e3bf21b",
   "metadata": {},
   "source": [
    "### Задание 2: Реализовать программно поиск кратчайшего пути на графе между парами вершин из задания 1 методом динамического программирования."
   ]
  },
  {
   "cell_type": "code",
   "execution_count": 91,
   "id": "0eb77ec6",
   "metadata": {},
   "outputs": [],
   "source": [
    "from collections import deque\n",
    "\n",
    "def dijkstra(graph, start, end):\n",
    "    n = len(graph)\n",
    "    distances = [INF] * n\n",
    "    distances[start] = 0\n",
    "    visited = [False] * n\n",
    "    path = [-1] * n\n",
    "    queue = deque()\n",
    "    queue.append(start)\n",
    "\n",
    "    while queue:\n",
    "        current_vertex = queue.popleft()\n",
    "        visited[current_vertex] = True\n",
    "\n",
    "        for neighbor in range(n):\n",
    "            if graph[current_vertex][neighbor] != 0 and not visited[neighbor]:\n",
    "                new_cost = distances[current_vertex] + graph[current_vertex][neighbor]\n",
    "                if new_cost < distances[neighbor]:\n",
    "                    distances[neighbor] = new_cost\n",
    "                    path[neighbor] = current_vertex\n",
    "                    queue.append(neighbor)\n",
    "\n",
    "    shortest_path = []\n",
    "    current_vertex = end\n",
    "    while current_vertex != start:\n",
    "        if current_vertex == -1:\n",
    "            print(\"Path not reachable\")\n",
    "            return\n",
    "        shortest_path.insert(0, current_vertex)\n",
    "        current_vertex = path[current_vertex]\n",
    "    shortest_path.insert(0, start)\n",
    "\n",
    "    return shortest_path, distances[end]"
   ]
  },
  {
   "cell_type": "code",
   "execution_count": 92,
   "id": "8045cf80",
   "metadata": {},
   "outputs": [
    {
     "name": "stdout",
     "output_type": "stream",
     "text": [
      "Shortest path [1, 4, 7]\n",
      "Distance of path 8\n"
     ]
    }
   ],
   "source": [
    "graph1 = [\n",
    "    [0, 6, INF, 7, 9, INF, INF],\n",
    "    [INF, INF, 5, INF, INF, 0, INF],\n",
    "    [INF, INF, INF, 2, INF, INF, 3],\n",
    "    [INF, INF, INF, INF, INF, INF, 1],\n",
    "    [INF, INF, INF, INF, INF, 4, 8],\n",
    "    [INF, INF, INF, INF, INF, INF, 4],\n",
    "    [INF, INF, INF, INF, INF, INF, INF]\n",
    "]\n",
    "path = dijkstra(graph1, 0, 6)[0]\n",
    "distance = dijkstra(graph1, 0, 6)[1]\n",
    "for i in range(len(path)):\n",
    "    path[i]+=1\n",
    "print(f\"Shortest path {path}\\nDistance of path {distance}\")"
   ]
  },
  {
   "cell_type": "markdown",
   "id": "3e1e93d8",
   "metadata": {},
   "source": [
    "### Задание 3. Реализовать алгоритм Дейкстры поиска кратчайшего пути на графе между парами вершин:\n",
    "| Вариант | Вариант| Граф | \n",
    "|:---|:---|:---|\n",
    "| 9  | 2, 7 | ![](./img/019.png) |"
   ]
  },
  {
   "cell_type": "code",
   "execution_count": 95,
   "id": "d82bce27",
   "metadata": {},
   "outputs": [],
   "source": [
    "from collections import deque\n",
    "\n",
    "def dijkstra(graph, start, end):\n",
    "    n = len(graph)\n",
    "    distances = [INF] * n\n",
    "    distances[start] = 0\n",
    "    visited = [False] * n\n",
    "    path = [-1] * n\n",
    "    queue = deque()\n",
    "    queue.append(start)\n",
    "\n",
    "    while queue:\n",
    "        current_vertex = queue.popleft()\n",
    "        visited[current_vertex] = True\n",
    "\n",
    "        for neighbor in range(n):\n",
    "            if graph[current_vertex][neighbor] != 0 and not visited[neighbor]:\n",
    "                new_cost = distances[current_vertex] + graph[current_vertex][neighbor]\n",
    "                if new_cost < distances[neighbor]:\n",
    "                    distances[neighbor] = new_cost\n",
    "                    path[neighbor] = current_vertex\n",
    "                    queue.append(neighbor)\n",
    "\n",
    "    shortest_path = []\n",
    "    current_vertex = end\n",
    "    while current_vertex != start:\n",
    "        if current_vertex == -1:\n",
    "            print(\"Path not reachable\")\n",
    "            return\n",
    "        shortest_path.insert(0, current_vertex)\n",
    "        current_vertex = path[current_vertex]\n",
    "    shortest_path.insert(0, start)\n",
    "\n",
    "    return shortest_path, distances[end]"
   ]
  },
  {
   "cell_type": "code",
   "execution_count": 96,
   "id": "c2a8395a",
   "metadata": {},
   "outputs": [
    {
     "name": "stdout",
     "output_type": "stream",
     "text": [
      "Shortest path [2, 4, 7]\n",
      "Distance of path 2\n"
     ]
    }
   ],
   "source": [
    "graph2 = [\n",
    "    [0, 2, INF, 4, INF, INF, 6, INF],\n",
    "    [2, 0, 1, 1, 2, INF, INF, 8],\n",
    "    [INF, 1, 0, INF, 7, INF, INF, INF],\n",
    "    [4, 1, INF, 0, INF, 5, 1, INF],\n",
    "    [INF, 2, 7, INF, 0, INF, 2, 2],\n",
    "    [INF, INF, INF, 5, INF, 0, 1, INF],\n",
    "    [6, INF, INF, 1, 2, 1, 0, 2],\n",
    "    [INF, 8, INF, INF, 2, INF, 2, 0],\n",
    "]\n",
    "path = dijkstra(graph2, 1, 6)[0]\n",
    "distance = dijkstra(graph2, 1, 6)[1]\n",
    "for i in range(len(path)):\n",
    "    path[i] +=1\n",
    "print(f\"Shortest path {path}\\nDistance of path {distance}\")"
   ]
  },
  {
   "cell_type": "markdown",
   "id": "be11fcd2",
   "metadata": {},
   "source": [
    "### Задание 4: Реализовать программно один из алгоритмов поиска кратчайшего пути на графе между парами вершин из задания 3.\n",
    "### Реализуем Алгоритм Беллмана- Форда"
   ]
  },
  {
   "cell_type": "code",
   "execution_count": 44,
   "id": "7d66d89a",
   "metadata": {},
   "outputs": [],
   "source": [
    "def bellman_ford(graph, start, end):\n",
    "    distances = {x: INF for x in graph}\n",
    "    pred = {x: None for x in graph}\n",
    "    path = []\n",
    "    distances[start] = 0\n",
    "    for x in range(len(graph2) - 1):\n",
    "        for y in graph:\n",
    "            for z, weight in graph[y].items():\n",
    "                if distances[y] != INF and distances[y] + weight < distances[z]:\n",
    "                    distances[z] = distances[y] + weight\n",
    "                    pred[z] = y\n",
    "\n",
    "    node = end\n",
    "    while node is not None:\n",
    "        path.append(node)\n",
    "        node = pred[node]\n",
    "    path.reverse()\n",
    "    return distances[end], path"
   ]
  },
  {
   "cell_type": "code",
   "execution_count": 46,
   "id": "79eeda3e",
   "metadata": {},
   "outputs": [
    {
     "name": "stdout",
     "output_type": "stream",
     "text": [
      "Кратчайшее расстояние равно 2\n",
      "Кратчайший путь - [2, 4, 7]\n"
     ]
    }
   ],
   "source": [
    "graph2 = {\n",
    "    1: {2: 2, 4: 4, 7: 6},\n",
    "    2: {1: 2, 3: 1, 4: 1, 5: 2, 8: 8},\n",
    "    3: {2: 1, 5: 7},\n",
    "    4: {1: 4, 2: 1, 6: 5, 7: 1},\n",
    "    5: {2: 2, 3: 7, 7: 2, 8: 2},\n",
    "    6: {4: 5, 7: 1},\n",
    "    7: {1: 6, 4: 1, 5: 2, 6: 1, 8: 2},\n",
    "    8: {2: 8, 5: 2, 7: 2}\n",
    "}\n",
    "start = 2\n",
    "end = 7\n",
    "short_dist = bellman_ford(graph2, start, end)[0]\n",
    "path = bellman_ford(graph2, start, end)[1]\n",
    "print(f\"Кратчайшее расстояние равно {short_dist}\\nКратчайший путь - {path}\")"
   ]
  },
  {
   "cell_type": "code",
   "execution_count": null,
   "id": "e339711b",
   "metadata": {},
   "outputs": [],
   "source": []
  }
 ],
 "metadata": {
  "celltoolbar": "Slideshow",
  "kernelspec": {
   "display_name": "Python 3 (ipykernel)",
   "language": "python",
   "name": "python3"
  },
  "language_info": {
   "codemirror_mode": {
    "name": "ipython",
    "version": 3
   },
   "file_extension": ".py",
   "mimetype": "text/x-python",
   "name": "python",
   "nbconvert_exporter": "python",
   "pygments_lexer": "ipython3",
   "version": "3.8.10"
  }
 },
 "nbformat": 4,
 "nbformat_minor": 5
}
