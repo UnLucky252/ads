{
 "cells": [
  {
   "cell_type": "markdown",
   "id": "fed164d1-2e42-4970-a1f5-4c8e05b27091",
   "metadata": {},
   "source": [
    "# Лабораторная работа 4. Алгоритмы на графах\n",
    "\n",
    "### Вариант: **13**"
   ]
  },
  {
   "attachments": {
    "5c473013-da71-467d-944b-2d817cb63d4b.png": {
     "image/png": "[encoded data removed]"
    }
   },
   "cell_type": "markdown",
   "id": "3312f9c0-08b2-41d8-bb99-bfc9b2b13b6b",
   "metadata": {
    "tags": []
   },
   "source": [
    "#### Задание 1.\n",
    "Найти кратчайший путь на графе между парами вершин методом динамического программирования вручную.\n",
    "\n",
    "| Вариант | Начальная вершина | Конечная вершина | Граф |\n",
    "|:---|:---|:---|:---|\n",
    "| 13 | 3 | 7 | ![003.png](attachment:5c473013-da71-467d-944b-2d817cb63d4b.png) |\n",
    "\n",
    "*Примечание: неподписанные связи будем считать равными нулю*"
   ]
  },
  {
   "cell_type": "markdown",
   "id": "a64b8f09-cceb-4fe6-86de-827d5d66e2fd",
   "metadata": {
    "tags": []
   },
   "source": [
    "Начальные условия: $f_3=0$, $S_{33} = 0$.\n",
    "\n",
    "$f_5 = \\min(S_{53} + f_3) = 4 + 0 = 4;$\n",
    "\n",
    "\n",
    "$f_6 = \\min \n",
    "\\left(\n",
    "  \\begin{array}{c}\n",
    "  S_{63} + f_3 \\\\\n",
    "  S_{65} + f_5 \\\\\n",
    "  \\end{array}\n",
    "\\right) \n",
    "= \n",
    "\\min \n",
    "\\left(\n",
    "  \\begin{array}{c}\n",
    "  12 + 0 \\\\\n",
    "  0 + 4 \\\\\n",
    "  \\end{array}\n",
    "\\right) = 4;$\n",
    "\n",
    "$f_4 = \\min(S_{45} + f_5) = 0 + 4 = 4;$\n",
    "\n",
    "$f_7 = \\min \n",
    "\\left(\n",
    "  \\begin{array}{c}\n",
    "  S_{74} + f_4 \\\\\n",
    "  S_{75} + f_5 \\\\\n",
    "  S_{76} + f_6 \\\\\n",
    "  \\end{array}\n",
    "\\right) \n",
    "= \n",
    "\\min \n",
    "\\left(\n",
    "  \\begin{array}{c}\n",
    "  6 + 4 \\\\\n",
    "  12 + 4 \\\\\n",
    "  7 + 4 \\\\\n",
    "  \\end{array}\n",
    "\\right) = 10;$\n",
    "\n",
    "Получаем, что кратчайший путь от вершины 3 до вершины 7: **3->5->4->7** имеет длину **10** условных единиц."
   ]
  },
  {
   "cell_type": "markdown",
   "id": "a1a05f14-dbf7-441c-aafd-fe90c15f11ed",
   "metadata": {
    "tags": []
   },
   "source": [
    "#### Задание 2.\n",
    "Реализовать программно поиск кратчайшего пути на графе между парами вершин из Задания 1 методом динамического программирования."
   ]
  },
  {
   "cell_type": "code",
   "execution_count": 30,
   "id": "d7474b80-88ae-484c-9615-08ee361f8c59",
   "metadata": {
    "tags": []
   },
   "outputs": [
    {
     "name": "stdout",
     "output_type": "stream",
     "text": [
      "Shortest path from 3 to 7: 10\n"
     ]
    }
   ],
   "source": [
    "def dynamic_shortest_path_finder(graph, start, end):\n",
    "    \"\"\"Поиск кратчайшего пути\n",
    "    между двумя вершинами в графе\n",
    "    методом динамического программирования.\"\"\"\n",
    "    def topological_sort(graph):\n",
    "        visited = set()  # Множество посещенных вершин\n",
    "        ordering = []  # \n",
    "        def traverse(node):\n",
    "            if node not in visited:\n",
    "                visited.add(node)\n",
    "                for next_node in graph[node]:\n",
    "                    traverse(next_node)\n",
    "                ordering.append(node)\n",
    "        for node in graph:\n",
    "            traverse(node)\n",
    "        return ordering[::-1]\n",
    "\n",
    "    ordering = topological_sort(graph)\n",
    "    \n",
    "    # По умолчанию расстояния до вершин бесконечны, пути еще не проложены.\n",
    "    distances = {node: float('inf') for node in graph}\n",
    "    \n",
    "    distances[start] = 0\n",
    "    for node in ordering:\n",
    "        # Обновляем расстояния между связанными вершинами\n",
    "        for neighbor, weight in graph[node].items():\n",
    "            distance = distances[node] + weight\n",
    "            if distance < distances[neighbor]:\n",
    "                distances[neighbor] = distance\n",
    "\n",
    "    return distances[end]\n",
    "\n",
    "my_graph = {\n",
    "    1: {2: 8,\n",
    "        3: 3},\n",
    "    2: {4: 1,\n",
    "        5: 5},\n",
    "    3: {5: 4,\n",
    "        6: 12},\n",
    "    4: {7: 6},\n",
    "    5: {4: 0,\n",
    "        6: 0,\n",
    "        7: 12},\n",
    "    6: {7: 7},\n",
    "    7: {}\n",
    "}\n",
    "\n",
    "my_args = my_graph, 3, 7\n",
    "print(f\"Shortest path from {my_args[1]} to {my_args[2]}:\", dynamic_shortest_path_finder(*my_args))"
   ]
  },
  {
   "attachments": {
    "b1b276bb-d0fb-4913-ae61-277c4e0a0f19.png": {
     "image/png": "[encoded data removed]"
    }
   },
   "cell_type": "markdown",
   "id": "9e93c994-4ed2-4111-9e51-d44741d9e552",
   "metadata": {},
   "source": [
    "#### Задание 3.\n",
    "Реализовать алгоритм Дейкстры поиска кратчайшего пути на графе между парами вершин.\n",
    "\n",
    "| Вариант | Начальная вершина | Конечная вершина | Граф |\n",
    "|:---|:---|:---|:---|\n",
    "| 13 | 3 | 7 | ![013.png](attachment:b1b276bb-d0fb-4913-ae61-277c4e0a0f19.png) |\n"
   ]
  },
  {
   "cell_type": "code",
   "execution_count": 14,
   "id": "fbba3e31-7dc4-4299-88a5-f1d3ca922621",
   "metadata": {
    "tags": []
   },
   "outputs": [
    {
     "name": "stdout",
     "output_type": "stream",
     "text": [
      "Shortest path from 3 to 7: 8\n"
     ]
    }
   ],
   "source": [
    "def dijkstra_shortest_path_finder(graph, start, end):\n",
    "    # Аналогично, по умолчанию расстояния до вершин бесконечны.\n",
    "    distances = {node: float('inf') for node in graph}\n",
    "    distances[start] = 0\n",
    "\n",
    "    # Множество посещенных вершин\n",
    "    visited = set()\n",
    "\n",
    "    while True:\n",
    "        # На каждом шаге выбираем ближайшую вершину\n",
    "        current_distance, current_node = min((distances[node], node) for node in graph if node not in visited)\n",
    "        visited.add(current_node)\n",
    "\n",
    "        # Если наткнулись на конечную вершину, то возвращаем пройденное расстояние\n",
    "        if current_node == end:\n",
    "            return current_distance\n",
    "\n",
    "        # Вычисляем расстояния до новых вершин\n",
    "        for neighbor, weight in graph[current_node].items():\n",
    "            distance = distances[current_node] + weight\n",
    "            if distance < distances[neighbor]:\n",
    "                distances[neighbor] = distance\n",
    "\n",
    "\n",
    "my_graph = {\n",
    "    1: {2: 6,\n",
    "        5: 2},\n",
    "    2: {1: 6,\n",
    "        3: 9,\n",
    "        5: 1,\n",
    "        6: 5,\n",
    "        7: 3},\n",
    "    3: {2: 9,\n",
    "        4: 12,\n",
    "        7: 8},\n",
    "    4: {3: 12,\n",
    "        7: 3,\n",
    "        8: 4},\n",
    "    5: {1: 2,\n",
    "        2: 1,\n",
    "        6: 7},\n",
    "    6: {2: 5,\n",
    "        5: 7,\n",
    "        7: 4},\n",
    "    7: {2: 3,\n",
    "        3: 8,\n",
    "        4: 3,\n",
    "        6: 4,\n",
    "        8: 16},\n",
    "    8: {4: 4,\n",
    "        7: 16}\n",
    "}\n",
    "\n",
    "my_args = my_graph, 3, 7\n",
    "print(f\"Shortest path from {my_args[1]} to {my_args[2]}:\", dijkstra_shortest_path_finder(*my_args))"
   ]
  },
  {
   "cell_type": "markdown",
   "id": "18a47c05-1b24-452d-8f60-3feba321a12c",
   "metadata": {},
   "source": [
    "#### Задание 4.\n",
    "Реализовать программно один из алгоритмов поиска кратчайшего пути на графе между парами вершин из задания 3."
   ]
  },
  {
   "cell_type": "code",
   "execution_count": 38,
   "id": "503e4da7-56e1-47ee-ac4f-1859866f884b",
   "metadata": {
    "tags": []
   },
   "outputs": [
    {
     "name": "stdout",
     "output_type": "stream",
     "text": [
      "Distance from node (3) to node (1): 12\n",
      "Distance from node (3) to node (2): 9\n",
      "Distance from node (3) to node (3): 0\n",
      "Distance from node (3) to node (4): 11\n",
      "Distance from node (3) to node (5): 10\n",
      "Distance from node (3) to node (6): 12\n",
      "Distance from node (3) to node (7): 8\n",
      "Distance from node (3) to node (8): 15\n"
     ]
    }
   ],
   "source": [
    "class Graph:\n",
    "    def __init__(self, nodes_count):\n",
    "        self.nodes = nodes_count  # Количество вершин в графе\n",
    "        self.graph = []  # Сам граф реализуется как совокупность связей между вершинами\n",
    "\n",
    "    def add_direct_link(self, first, second, weight):\n",
    "        self.graph.append([first - 1, second - 1, weight])\n",
    "\n",
    "    def add_bidirect_link(self, first, second, weight):\n",
    "        self.add_direct_link(first, second, weight)\n",
    "        self.add_direct_link(second, first, weight)\n",
    "\n",
    "    def print_node_distances(self, distances, start_node_index):\n",
    "        for i, distance in enumerate(distances):\n",
    "            print(f\"Distance from node ({start_node_index + 1}) to node ({i + 1}): {distances[i]}\")\n",
    "\n",
    "    def bellman_ford(self, start_node):\n",
    "        start_node -= 1  # Первая вершина имеет нулевой индекс, вторая - первый и т.д.\n",
    "        distances = [float(\"Inf\")] * self.nodes\n",
    "        distances[start_node] = 0\n",
    "\n",
    "        for _ in range(self.nodes - 1):\n",
    "            for first, second, weight in self.graph:\n",
    "                if distances[first] != float(\"Inf\") and distances[first] + weight < distances[second]:\n",
    "                    distances[second] = distances[first] + weight\n",
    "\n",
    "        for first, second, weight in self.graph:\n",
    "            if distances[first] != float(\"Inf\") and distances[first] + weight < distances[second]:\n",
    "                print(\"Graph contains negative weight cycle\")\n",
    "                return\n",
    "\n",
    "        self.print_node_distances(distances, start_node)\n",
    "\n",
    "\n",
    "g = Graph(8)\n",
    "g.add_bidirect_link(1, 2, 6)\n",
    "g.add_bidirect_link(1, 5, 2)\n",
    "g.add_bidirect_link(2, 3, 9)\n",
    "g.add_bidirect_link(2, 5, 1)\n",
    "g.add_bidirect_link(2, 6, 5)\n",
    "g.add_bidirect_link(2, 7, 3)\n",
    "g.add_bidirect_link(3, 4, 12)\n",
    "g.add_bidirect_link(3, 7, 8)\n",
    "g.add_bidirect_link(4, 7, 3)\n",
    "g.add_bidirect_link(4, 8, 4)\n",
    "g.add_bidirect_link(5, 6, 7)\n",
    "g.add_bidirect_link(6, 7, 4)\n",
    "g.add_bidirect_link(7, 8, 16)\n",
    "\n",
    "g.bellman_ford(3)"
   ]
  }
 ],
 "metadata": {
  "kernelspec": {
   "display_name": "Python 3 (ipykernel)",
   "language": "python",
   "name": "python3"
  },
  "language_info": {
   "codemirror_mode": {
    "name": "ipython",
    "version": 3
   },
   "file_extension": ".py",
   "mimetype": "text/x-python",
   "name": "python",
   "nbconvert_exporter": "python",
   "pygments_lexer": "ipython3",
   "version": "3.11.3"
  }
 },
 "nbformat": 4,
 "nbformat_minor": 5
}
