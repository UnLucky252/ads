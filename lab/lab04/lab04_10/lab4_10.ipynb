{
 "cells": [
  {
   "cell_type": "markdown",
   "id": "03cee405-8e08-4f7a-bf46-301b07e19b86",
   "metadata": {},
   "source": [
    "# Лабораторная работа 4.  Алгоритмы на графах\n",
    "\n",
    "**Цель работы:** изучение некоторых алгоритмов на графах; исследование эффективности этих алгоритмов."
   ]
  },
  {
   "cell_type": "markdown",
   "id": "7c7f43c3-9c1f-433f-9e4f-674cb983265f",
   "metadata": {},
   "source": [
    "## Задание 1: Найти кратчайший путь на графе между парами вершин методом динамического программирования вручную. (1->6)"
   ]
  },
  {
   "cell_type": "markdown",
   "id": "ad201b5c-b3ea-4cfa-b3a0-c4d647f1508a",
   "metadata": {},
   "source": [
    "![](../img/010.png)"
   ]
  },
  {
   "cell_type": "markdown",
   "id": "599c31e1-aa8b-44c8-8b27-d3d4140f0bf3",
   "metadata": {},
   "source": [
    "Начальные условия $f_1=0$, $S_{11} = 0$.\n",
    "\n",
    "$f_6 = \\min(S_{62} + f_2)$\n",
    "\n",
    "$f_2 = \\min(S_{21} + f_1) = 7 + f_1 = 7 + 0 = 7$;\n",
    "\n",
    "$f_6 = 10 + f_2 = 10 + 7 = 17$;"
   ]
  },
  {
   "cell_type": "markdown",
   "id": "e7b0abd2-4ddb-4bf9-b83b-d37d85a3909e",
   "metadata": {},
   "source": [
    "## Задание 2: Реализовать прогрммно поиск кратчайшего пути на графе между парами вершин из задания 1 методом динамического программирования."
   ]
  },
  {
   "cell_type": "code",
   "execution_count": 1,
   "id": "2ec7c3bf-bbe2-4409-baa1-c487be4e40f4",
   "metadata": {},
   "outputs": [
    {
     "name": "stdout",
     "output_type": "stream",
     "text": [
      "17\n"
     ]
    }
   ],
   "source": [
    "def shortest_path(graph, start, end):\n",
    "    def topological_sort(graph):\n",
    "        visited = set()\n",
    "        ordering = []\n",
    "        def visit(node):\n",
    "            if node not in visited:\n",
    "                visited.add(node)\n",
    "                for neighbor in graph[node]:\n",
    "                    visit(neighbor)\n",
    "                ordering.append(node)\n",
    "        for node in graph:\n",
    "            visit(node)\n",
    "        return ordering[::-1]\n",
    "\n",
    "    ordering = topological_sort(graph)\n",
    "\n",
    "    distances = {node: float('inf') for node in graph}\n",
    "    distances[start] = 0\n",
    "\n",
    "    for node in ordering:\n",
    "        # We update the distances to the node's neighbors\n",
    "        for neighbor, weight in graph[node].items():\n",
    "            distance = distances[node] + weight\n",
    "            if distance < distances[neighbor]:\n",
    "                distances[neighbor] = distance\n",
    "\n",
    "    return distances[end]\n",
    "\n",
    "\n",
    "my_graph = {\n",
    "    1: {2: 7,\n",
    "        3: 14},\n",
    "    2: {4: 6,\n",
    "        6: 10},\n",
    "    3: {4: 0,\n",
    "        5: 9},\n",
    "    4: {5: 1,\n",
    "        7: 8},\n",
    "    5: {7: 3},\n",
    "    6: {7: 3},\n",
    "    7: {}\n",
    "}\n",
    "\n",
    "print(shortest_path(my_graph, 1, 6))"
   ]
  },
  {
   "cell_type": "markdown",
   "id": "c0fd0d4e-7377-4343-81f8-491ef455e76e",
   "metadata": {},
   "source": [
    "## Задание 3. Реализовать алгоритм Дейкстры поиска кратчайшего пути на графе между парами вершин (5->8):"
   ]
  },
  {
   "cell_type": "markdown",
   "id": "bf4caa26-7fb9-4cc6-b358-3609f98a2418",
   "metadata": {},
   "source": [
    "![](../img/020.png)"
   ]
  },
  {
   "cell_type": "code",
   "execution_count": 2,
   "id": "84a6549b-621c-4ab7-9a77-cab17bd1acb2",
   "metadata": {},
   "outputs": [
    {
     "name": "stdout",
     "output_type": "stream",
     "text": [
      "2\n"
     ]
    }
   ],
   "source": [
    "def shortest_path_dijkstra(graph, start, end):\n",
    "    distances = {node: float('inf') for node in graph}\n",
    "    distances[start] = 0\n",
    "\n",
    "    visited = set()\n",
    "\n",
    "    while True:\n",
    "        current_distance, current_node = min((distances[node], node) for node in graph if node not in visited)\n",
    "\n",
    "        visited.add(current_node)\n",
    "\n",
    "        if current_node == end:\n",
    "            return current_distance\n",
    "\n",
    "        for neighbor, weight in graph[current_node].items():\n",
    "            distance = distances[current_node] + weight\n",
    "            if distance < distances[neighbor]:\n",
    "                distances[neighbor] = distance\n",
    "\n",
    "\n",
    "my_graph = {\n",
    "    1: {2: 4,\n",
    "        3: 6,\n",
    "        4: 6,\n",
    "        5: 8,\n",
    "        6: 4},\n",
    "    2: {1: 4,\n",
    "        5: 5},\n",
    "    3: {1: 6,\n",
    "        5: 2,\n",
    "        8: 7},\n",
    "    4: {1: 6,\n",
    "        5: 7,\n",
    "        6: 1,\n",
    "        7: 1},\n",
    "    5: {1: 8,\n",
    "        2: 5,\n",
    "        3: 2,\n",
    "        4: 7,\n",
    "        7: 2,\n",
    "        8: 2},\n",
    "    6: {1: 3,\n",
    "        4: 1,\n",
    "        7: 5},\n",
    "    7: {4: 1,\n",
    "        5: 2,\n",
    "        6: 5,\n",
    "        8: 9},\n",
    "    8: {3: 7,\n",
    "        5: 2,\n",
    "        7: 9}\n",
    "}\n",
    "print(shortest_path_dijkstra(my_graph, 5, 8))"
   ]
  },
  {
   "cell_type": "markdown",
   "id": "41cce28f-12aa-4c16-a4ab-e3cbe349564d",
   "metadata": {},
   "source": [
    "## Задание 4: Реализовать прогрммно один из алгоритмов поиска кратчайшего пути на графе между парами вершин из задания 3."
   ]
  },
  {
   "cell_type": "code",
   "execution_count": 3,
   "id": "19491402-f8f1-4149-b757-aaf457473b06",
   "metadata": {},
   "outputs": [
    {
     "name": "stdout",
     "output_type": "stream",
     "text": [
      "|  Vertex  |  Distance from Source  |\n",
      "|    1     |           7            |\n",
      "|    2     |           5            |\n",
      "|    3     |           2            |\n",
      "|    4     |           3            |\n",
      "|    5     |           0            |\n",
      "|    6     |           4            |\n",
      "|    7     |           2            |\n",
      "|    8     |           2            |\n"
     ]
    }
   ],
   "source": [
    "class Graph:\n",
    "\n",
    "    def __init__(self, vertices):\n",
    "        self.V = vertices  # No. of vertices\n",
    "        self.graph = []\n",
    "\n",
    "    def add_edge(self, u, v, w):\n",
    "        self.graph.append([u, v, w])\n",
    "\n",
    "    def add_double_sided_edge(self, u, v, w):\n",
    "        self.add_edge(u, v, w)\n",
    "        self.add_edge(v, u, w)\n",
    "\n",
    "    def print_arr(self, dist):\n",
    "        print(f\"|{'Vertex':^10}|{'Distance from Source':^24}|\")\n",
    "        for i in range(self.V):\n",
    "            print(\"|{0:^10}|{1:^24}|\".format(i + 1, dist[i],))\n",
    "\n",
    "    def bellman_ford(self, src):\n",
    "        src -= 1\n",
    "        dist = [float(\"Inf\")] * self.V\n",
    "        dist[src] = 0\n",
    "\n",
    "        for _ in range(self.V - 1):\n",
    "            for u, v, w in self.graph:\n",
    "                if dist[u] != float(\"Inf\") and dist[u] + w < dist[v]:\n",
    "                    dist[v] = dist[u] + w\n",
    "\n",
    "        for u, v, w in self.graph:\n",
    "            if dist[u] != float(\"Inf\") and dist[u] + w < dist[v]:\n",
    "                print(\"Graph contains negative weight cycle\")\n",
    "                return\n",
    "\n",
    "        self.print_arr(dist)\n",
    "\n",
    "\n",
    "g = Graph(8)\n",
    "g.add_double_sided_edge(0, 1, 4)\n",
    "g.add_double_sided_edge(0, 2, 6)\n",
    "g.add_double_sided_edge(0, 3, 6)\n",
    "g.add_double_sided_edge(0, 4, 8)\n",
    "g.add_double_sided_edge(0, 5, 3)\n",
    "g.add_double_sided_edge(1, 4, 5)\n",
    "g.add_double_sided_edge(2, 4, 2)\n",
    "g.add_double_sided_edge(2, 7, 7)\n",
    "g.add_double_sided_edge(3, 4, 7)\n",
    "g.add_double_sided_edge(3, 5, 1)\n",
    "g.add_double_sided_edge(3, 6, 1)\n",
    "g.add_double_sided_edge(4, 6, 2)\n",
    "g.add_double_sided_edge(4, 7, 2)\n",
    "g.add_double_sided_edge(5, 6, 5)\n",
    "g.add_double_sided_edge(6, 7, 9)\n",
    "\n",
    "g.bellman_ford(5)"
   ]
  },
  {
   "cell_type": "code",
   "execution_count": null,
   "id": "7211a178-6b84-4df1-8e42-a247f2850422",
   "metadata": {},
   "outputs": [],
   "source": []
  }
 ],
 "metadata": {
  "kernelspec": {
   "display_name": "Python 3 (ipykernel)",
   "language": "python",
   "name": "python3"
  },
  "language_info": {
   "codemirror_mode": {
    "name": "ipython",
    "version": 3
   },
   "file_extension": ".py",
   "mimetype": "text/x-python",
   "name": "python",
   "nbconvert_exporter": "python",
   "pygments_lexer": "ipython3",
   "version": "3.10.9"
  }
 },
 "nbformat": 4,
 "nbformat_minor": 5
}
