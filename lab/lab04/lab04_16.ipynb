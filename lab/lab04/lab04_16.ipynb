{
 "cells": [
  {
   "cell_type": "markdown",
   "id": "c1ab3892-4ed2-4a77-9fdc-a5834463f61c",
   "metadata": {},
   "source": [
    "# Лабораторная работа 4.  Алгоритмы на графах\n",
    "\n",
    "**Цель работы:** изучение некоторых алгоритмов на графах; исследование эффективности этих алгоритмов."
   ]
  },
  {
   "cell_type": "markdown",
   "id": "2ec2cd04-da49-48eb-a51d-af67f59d42fc",
   "metadata": {},
   "source": [
    "### Метод динамического программирования"
   ]
  },
  {
   "cell_type": "markdown",
   "id": "d978c594-f03c-451f-85f9-a60a11fd7ee2",
   "metadata": {},
   "source": [
    "### Задание 1"
   ]
  },
  {
   "cell_type": "markdown",
   "id": "049f572a-0a3d-4cfa-9a36-7874162f7997",
   "metadata": {},
   "source": [
    "| Вариант | Начальная и конечная вершины| Граф |\n",
    "|:---|:---|:---|\n",
    "| 16 | 2, 7 | ![](./img/006.png) |"
   ]
  },
  {
   "cell_type": "markdown",
   "id": "04019526-ba55-4080-b986-3a8855d4cad9",
   "metadata": {},
   "source": [
    "Начальные условия $f_2=0$, $S_{22} = 0$.\n",
    "\n",
    "Находим последовательно значения функции $f_i$ (в условных единицах) для каждой вершины ориентированного графа:\n",
    "\n",
    "$f_4 = \\min(S_{42} + f_2) = 3 + f_2 = 3 + 0 = 3$;\n",
    "\n",
    "$f_5 = \\min(S_{52} + f_2) = 6 + f_2 = 6 + 0 = 6$;\n",
    "\n",
    "$f_6 = \\min \n",
    "\\left(\n",
    "  \\begin{array}{c}\n",
    "  S_{64} + f_4 \\\\\n",
    "  S_{63} + f_3 \\\\\n",
    "  \\end{array}\n",
    "\\right) \n",
    "= \n",
    "\\min \n",
    "\\left(\n",
    "  \\begin{array}{c}\n",
    "  4 + 3 \\\\\n",
    "  7 + None \\\\\n",
    "  \\end{array}\n",
    "\\right) = 7$; \n",
    "\n",
    "\n",
    "$f_7 = \\min \n",
    "\\left(\n",
    "  \\begin{array}{c}\n",
    "  S_{74} + f_4 \\\\\n",
    "  S_{75} + f_5 \\\\\n",
    "  S_{76} + f_6 \\\\\n",
    "  \\end{array}\n",
    "\\right)\n",
    "= \n",
    "\\min \n",
    "\\left(\n",
    "  \\begin{array}{c}\n",
    "  35 + 3 \\\\\n",
    "  20 + 6 \\\\\n",
    "  5 + 7 \\\\\n",
    "  \\end{array}\n",
    "\\right) = 12$; \n",
    "\n",
    "\n",
    "Длина кратчайшего пути составляет 12 условных единиц. "
   ]
  },
  {
   "cell_type": "markdown",
   "id": "a200ac12-d20d-4504-be41-feb921691e18",
   "metadata": {},
   "source": [
    "### Задание 2"
   ]
  },
  {
   "cell_type": "markdown",
   "id": "79216827-3b1f-4e4f-b55b-ee69108f529f",
   "metadata": {
    "tags": []
   },
   "source": [
    "- Реализовать прогрмно поиск кратчайшего пути на графе между парами вершин из задания 1 методом динамического программирования."
   ]
  },
  {
   "cell_type": "code",
   "execution_count": 19,
   "id": "62943e90-2676-4907-901d-feeb5a409e1d",
   "metadata": {},
   "outputs": [],
   "source": [
    "def path_finding(graph):\n",
    "    n = len(graph)\n",
    "    dist = [[float('inf') for _ in range(n)] for _ in range(n)]\n",
    "\n",
    "    # Инициализация матрицы расстояний dist\n",
    "    for i in range(n):\n",
    "        for j in range(n):\n",
    "            if i == j:\n",
    "                dist[i][j] = 0\n",
    "            elif graph[i][j] != 0:\n",
    "                dist[i][j] = graph[i][j]\n",
    "\n",
    "    # Обновление матрицы расстояний\n",
    "    for k in range(n):\n",
    "        for i in range(n):\n",
    "            for j in range(n):\n",
    "                if dist[i][k] + dist[k][j] < dist[i][j]:\n",
    "                    dist[i][j] = dist[i][k] + dist[k][j]\n",
    "\n",
    "    return dist"
   ]
  },
  {
   "cell_type": "code",
   "execution_count": 20,
   "id": "89880cc7-0611-4fbd-adf9-d8012081c5aa",
   "metadata": {
    "tags": []
   },
   "outputs": [
    {
     "name": "stdout",
     "output_type": "stream",
     "text": [
      "Кратчайший путь между вершинами 2 и 7: 12\n"
     ]
    }
   ],
   "source": [
    "# Решение задачи\n",
    "# Граф (матрица смежности)\n",
    "# Неподписанные пути я брал = 1\n",
    "graph = [\n",
    "    [0, 2, 13, 25, 17, 0, 0],\n",
    "    [0, 0, 0, 3, 6, 0, 0],\n",
    "    [0, 0, 0, 1, 0, 7, 0],\n",
    "    [0, 0, 1, 0, 1, 4, 35],\n",
    "    [0, 0, 0, 0, 0, 0, 20],\n",
    "    [0, 0, 0, 0, 0, 0, 5],\n",
    "    [0, 0, 0, 0, 0, 0, 0],\n",
    "]\n",
    "\n",
    "# Находим кратчайшие пути между всеми парами вершин\n",
    "distances = path_finding(graph)\n",
    "\n",
    "\n",
    "print(f'Кратчайший путь между вершинами {2} и {7}: {distances[1][6]}')\n",
    "# # Выводим все результаты\n",
    "# for i in range(len(distances)):\n",
    "#     for j in range(len(distances)):\n",
    "#         if i != 0 and j != 0:\n",
    "#             if distances[i][j] == float('inf'):\n",
    "#                 print(f'Между вершинами {i+1} и {j+1} пути не существует')\n",
    "#             else:\n",
    "#                 print(f'Кратчайший путь между вершинами {i+1} и {j+1}: {distances[i][j]}')"
   ]
  },
  {
   "cell_type": "markdown",
   "id": "259fb1a1-16d1-4514-a6bb-3128be3040e0",
   "metadata": {},
   "source": [
    "### Задание 3:\n",
    "Реализовать алгоритм Дейкстры поиска кратчайшего пути на графе между парами вершин:"
   ]
  },
  {
   "cell_type": "markdown",
   "id": "3364c582-d079-417e-a5d2-9fdfb6ee9e4b",
   "metadata": {},
   "source": [
    "| Вариант | Начальная и конечная вершины| Граф | \n",
    "|:---|:---|:---|\n",
    "| 16 | 2, 7 | ![](./img/016.png) |"
   ]
  },
  {
   "cell_type": "code",
   "execution_count": 21,
   "id": "81c0bb30-787c-4c25-b277-e359c4ff0df6",
   "metadata": {
    "tags": []
   },
   "outputs": [],
   "source": [
    "import heapq\n",
    "\n",
    "def dijkstra(graph, start):\n",
    "    visited = set()\n",
    "    distances = {vertex: float('inf') for vertex in graph}\n",
    "    distances[start] = 0\n",
    "    predecessors = {vertex: None for vertex in graph}\n",
    "    pq = [(0, start)]\n",
    "\n",
    "    while pq:\n",
    "        current_distance, current_vertex = heapq.heappop(pq)\n",
    "\n",
    "        if current_vertex in visited:\n",
    "            continue\n",
    "  \n",
    "        visited.add(current_vertex)\n",
    "\n",
    "        for neighbor, weight in graph[current_vertex].items():\n",
    "            distance = current_distance + weight\n",
    "\n",
    "            if distance < distances[neighbor]:\n",
    "                distances[neighbor] = distance\n",
    "                predecessors[neighbor] = current_vertex\n",
    "                heapq.heappush(pq, (distance, neighbor))\n",
    "\n",
    "    return distances, predecessors"
   ]
  },
  {
   "cell_type": "code",
   "execution_count": 22,
   "id": "ece7cc4f-92fe-4040-b963-06f113c698ea",
   "metadata": {
    "tags": []
   },
   "outputs": [
    {
     "name": "stdout",
     "output_type": "stream",
     "text": [
      "7\n",
      "{'1': '6', '2': None, '3': '2', '4': '5', '5': '2', '6': '2', '7': '6', '8': '5'}\n"
     ]
    }
   ],
   "source": [
    "graph = {\n",
    "    '1': {'2': 14, '6': 8},\n",
    "    '2': {'1': 14, '3': 5, '4': 10, '5': 2, '6': 2, '8': 9},\n",
    "    '3': {'2': 5, '8': 11},\n",
    "    '4': {'2': 10, '5': 3, '6': 6, '7': 5},\n",
    "    '5': {'2': 2, '4': 3, '7': 8, '8': 1},\n",
    "    '6': {'1': 8, '2': 2, '4': 6, '7': 5},\n",
    "    '7': {'4': 5, '5': 8, '6': 5, '8': 7},\n",
    "    '8': {'3': 11, '5': 1, '7': 7}\n",
    "}\n",
    "\n",
    "distances, predecessors = dijkstra(graph, '2')\n",
    "\n",
    "print(distances['7'])\n",
    "print(predecessors)"
   ]
  },
  {
   "cell_type": "markdown",
   "id": "3160fed5-064b-432e-8729-02604e0a34c7",
   "metadata": {},
   "source": [
    "### Задание 4. Алгоритм Йена"
   ]
  },
  {
   "cell_type": "code",
   "execution_count": 23,
   "id": "be6c4e5e-1a0d-4e73-b5b4-b746367fd640",
   "metadata": {
    "tags": []
   },
   "outputs": [
    {
     "name": "stdout",
     "output_type": "stream",
     "text": [
      "Path 1: ['2', '6', '7'], distance: 7\n",
      "Path 2: ['2', '5', '7'], distance: 10\n"
     ]
    }
   ],
   "source": [
    "from heapq import heappop, heappush\n",
    "from copy import deepcopy\n",
    "\n",
    "def yen(graph, start, end, K):\n",
    "    if start > end:\n",
    "        start, end = end, start\n",
    "    # находим кратчайший путь между начальной и конечной вершинами\n",
    "    dist, prev = dijkstra(graph, start, end)\n",
    "    paths = []\n",
    "    paths.append(get_path(prev, end))\n",
    "    \n",
    "    # выполняем K раз\n",
    "    for k in range(1, K):\n",
    "        # делим путь на подпути и находим вес каждого подпути\n",
    "        A = paths[-1]\n",
    "        for i in range(len(A) - 1):\n",
    "            edge_removed = (A[i], A[i+1])\n",
    "            \n",
    "            # создаем новый граф с удаленным ребром\n",
    "            graph_removed = deepcopy(graph)\n",
    "            graph_removed[edge_removed[0]][edge_removed[1]] = float('inf')\n",
    "            \n",
    "            # ищем кратчайший путь между начальной и конечной вершинами\n",
    "            dist, prev = dijkstra(graph_removed, start, end)\n",
    "            if prev[end] is None:\n",
    "                break\n",
    "            \n",
    "            # добавляем новый путь в список путей\n",
    "            B = get_path(prev, end)\n",
    "            if B not in paths:\n",
    "                paths.append(B)\n",
    "        if len(paths) < k+1:\n",
    "            break\n",
    "    \n",
    "    # возвращаем K кратчайших путей\n",
    "    return paths[:K]\n",
    "\n",
    "def dijkstra(graph, start, end):\n",
    "    # инициализация расстояний и предыдущих вершин\n",
    "    dist = {v: float('inf') for v in graph}\n",
    "    dist[start] = 0\n",
    "    prev = {v: None for v in graph}\n",
    "    \n",
    "    # очередь с приоритетом\n",
    "    queue = [(dist[v], v) for v in graph]\n",
    "    while queue:\n",
    "        u_dist, u = heappop(queue)\n",
    "        if u == end:\n",
    "            break\n",
    "        for neighbor in graph[u]:\n",
    "            alt = u_dist + graph[u][neighbor]\n",
    "            if alt < dist[neighbor]:\n",
    "                dist[neighbor] = alt\n",
    "                prev[neighbor] = u\n",
    "                heappush(queue, (dist[neighbor], neighbor))\n",
    "    \n",
    "    # возвращаем расстояния и предыдущие вершины\n",
    "    return dist, prev\n",
    "\n",
    "def get_path(prev, v):\n",
    "    # возвращает путь от начальной вершины до v\n",
    "    path = []\n",
    "    while v is not None:\n",
    "        path.append(v)\n",
    "        v = prev[v]\n",
    "    return path[::-1]\n",
    "\n",
    "# Пример использования:\n",
    "\n",
    "graph = {\n",
    "    '1': {'2': 14, '6': 8},\n",
    "    '2': {'1': 14, '3': 5, '4': 10, '5': 2, '6': 2, '8': 9},\n",
    "    '3': {'2': 5, '8': 11},\n",
    "    '4': {'2': 10, '5': 3, '6': 6, '7': 5},\n",
    "    '5': {'2': 2, '4': 3, '7': 8, '8': 1},\n",
    "    '6': {'1': 8, '2': 2, '4': 6, '7': 5},\n",
    "    '7': {'4': 5, '5': 8, '6': 5, '8': 7},\n",
    "    '8': {'3': 11, '5': 1, '7': 7}\n",
    "}\n",
    "\n",
    "start = '2'\n",
    "end = '7'\n",
    "K = 3\n",
    "\n",
    "paths = yen(graph, start, end, K)\n",
    "for i, path in enumerate(paths):\n",
    "    print(f'Path {i+1}: {path}, distance: {sum(graph[path[i]][path[i+1]] for i in range(len(path)-1))}')\n"
   ]
  }
 ],
 "metadata": {
  "kernelspec": {
   "display_name": "Python 3 (ipykernel)",
   "language": "python",
   "name": "python3"
  },
  "language_info": {
   "codemirror_mode": {
    "name": "ipython",
    "version": 3
   },
   "file_extension": ".py",
   "mimetype": "text/x-python",
   "name": "python",
   "nbconvert_exporter": "python",
   "pygments_lexer": "ipython3",
   "version": "3.11.1"
  }
 },
 "nbformat": 4,
 "nbformat_minor": 5
}
