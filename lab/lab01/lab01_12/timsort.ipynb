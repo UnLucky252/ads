{
 "cells": [
  {
   "cell_type": "code",
   "execution_count": 1,
   "id": "b3591047",
   "metadata": {},
   "outputs": [],
   "source": [
    "import random\n",
    "import math\n",
    "import numpy as np\n",
    "import matplotlib.pyplot as plt\n",
    "from typing import List, Tuple"
   ]
  },
  {
   "cell_type": "markdown",
   "id": "2adc49fa",
   "metadata": {},
   "source": [
    "# Лабораторная работа №1. Методы сортировки."
   ]
  },
  {
   "cell_type": "markdown",
   "id": "5de4751c",
   "metadata": {},
   "source": [
    "Вариант: 12"
   ]
  },
  {
   "cell_type": "markdown",
   "id": "f0337a1d",
   "metadata": {},
   "source": [
    "## Сортировка Timsort"
   ]
  },
  {
   "cell_type": "markdown",
   "id": "587856ad",
   "metadata": {},
   "source": [
    "### Классификация алгоритма\n",
    "\n",
    "* По типу алгоритма: гибридный алгоритм\n",
    "* По устойчивости: устойчивый\n",
    "* По месту хранения данных: внешняя сортировка\n",
    "* По выделению дополнительного места: не на месте\n",
    "* По адаптивности: адаптивный\n",
    "* По сложности:\n",
    "    * Худшее значение: O(nlog(n))\n",
    "    * Среднее значение: O(nlog(n))\n",
    "    * Лучшее значение: O(n)"
   ]
  },
  {
   "cell_type": "markdown",
   "id": "521c0d1f",
   "metadata": {},
   "source": [
    "### Описание алгоритма"
   ]
  },
  {
   "cell_type": "markdown",
   "id": "08a42b83",
   "metadata": {},
   "source": [
    "По специальному алгоритму входной массив разделяется на подмассивы. Каждый из подмассивов сортируется сортировкой вставками. Главная особенность Timsort заключается в том, что он использует преимущества уже отсортированных элементов, которые существуют в большинстве реальных наборов данных. Это называется галопированием. Затем алгоритм перебирает список, собирая элементы в прогоны и объединяя их в один отсортированный список."
   ]
  },
  {
   "cell_type": "markdown",
   "id": "7e5a50f2",
   "metadata": {},
   "source": [
    "### Псевдокод"
   ]
  },
  {
   "cell_type": "code",
   "execution_count": 9,
   "id": "780fd23f",
   "metadata": {},
   "outputs": [
    {
     "ename": "SyntaxError",
     "evalue": "invalid syntax (3412209142.py, line 3)",
     "output_type": "error",
     "traceback": [
      "\u001b[1;36m  File \u001b[1;32m\"C:\\Users\\Mvideo\\AppData\\Local\\Temp\\ipykernel_19796\\3412209142.py\"\u001b[1;36m, line \u001b[1;32m3\u001b[0m\n\u001b[1;33m    int minlengthrun(int n):\u001b[0m\n\u001b[1;37m        ^\u001b[0m\n\u001b[1;31mSyntaxError\u001b[0m\u001b[1;31m:\u001b[0m invalid syntax\n"
     ]
    }
   ],
   "source": [
    "MIN=64 #степень двойки\n",
    "\n",
    "int minlengthrun(int n):\n",
    "        assert n >= 0;\n",
    "        int r = 0;\n",
    "        while (n >= MIN)\n",
    "            r |= (n & 1);\n",
    "            n >>= 1;\n",
    "        return n + r;\n",
    "\n",
    "void insertionsort(int[] arr, int left, int right):\n",
    "        for (int i = left + 1; i <= right)\n",
    "            int temp = arr[i];\n",
    "            int j = i - 1;\n",
    "            while (j >= left & arr[j] > temp)\n",
    "                arr[j + 1] = arr[j];\n",
    "                arr[j + 1] = temp;\n",
    "    \n",
    "void merge(int[] arr, int l, int m, int r):\n",
    "        int len1 = m - l + 1, len2 = r - m;\n",
    "        int[] left = new int[len1];\n",
    "        int[] right = new int[len2];\n",
    "        for (int x = 0; x < len1)\n",
    "            left[x] = arr[l + x];\n",
    "        for (int x = 0; x < len2)\n",
    "            right[x] = arr[m + 1 + x];\n",
    "\n",
    "void timsort(int[] arr, int n):\n",
    "        int minRun = minlengthrun(MIN);\n",
    "        for (int i = 0; i < n; i += minRun):\n",
    "            insertionsort(arr, i, min((i + MIN - 1), (n - 1)));"
   ]
  },
  {
   "cell_type": "markdown",
   "id": "fd3f80a5",
   "metadata": {},
   "source": [
    "### Достоинства и недостатки"
   ]
  },
  {
   "cell_type": "markdown",
   "id": "0d074780",
   "metadata": {},
   "source": [
    "* Достоинства:\n",
    "    * Скорость выполнения\n",
    "    * Худшая сложность Timsort остается выше, чем у других алгоритмов -  O(nlog(n))\n",
    "* Недостатки:\n",
    "    * Сложность реализации"
   ]
  },
  {
   "cell_type": "markdown",
   "id": "1e13c90a",
   "metadata": {},
   "source": [
    "### Реализация сортировки"
   ]
  },
  {
   "cell_type": "code",
   "execution_count": 10,
   "id": "c2813fca",
   "metadata": {},
   "outputs": [],
   "source": [
    "minimum = 64\n",
    "\n",
    "def find_minlengthrun(arraysize: int)->List: \n",
    "    a = 0\n",
    "    while arraysize >= minimum: \n",
    "        a |= arraysize & 1\n",
    "        arraysize >>= 1\n",
    "    return arraysize + a\n",
    "\n",
    "b=0\n",
    "def insertionsort(inputarray, left, right: int)->List: \n",
    "    for b in range(left+1,right+1):\n",
    "        eachelement = inputarray[b]\n",
    "        c = b-1\n",
    "        while eachelement<inputarray[c] and c>=left:\n",
    "            inputarray[c+1] = inputarray[c]\n",
    "            c -= 1\n",
    "        inputarray[c+1] = eachelement\n",
    "    return inputarray\n",
    " \n",
    "def merge(inputarray, d, e, a: int)->List: \n",
    "    arraylength1= e - d + 1\n",
    "    arraylength2 = a - e \n",
    "    left = []\n",
    "    right = []\n",
    "    for f in range(0, arraylength1): \n",
    "        left.append(inputarray[d + f]) \n",
    "    for f in range(0, arraylength2): \n",
    "        right.append(inputarray[e + 1 + f]) \n",
    "    f=0\n",
    "    g=0\n",
    "    h=d\n",
    "    while g < arraylength2 and  f < arraylength1: \n",
    "        if left[f] <= right[g]: \n",
    "            inputarray[h] = left[f] \n",
    "            f += 1\n",
    "        else: \n",
    "            inputarray[f] = right[g] \n",
    "            g += 1\n",
    "        h += 1\n",
    "    while f < arraylength1: \n",
    "        inputarray[h] = left[f] \n",
    "        g += 1\n",
    "        f += 1\n",
    "    while g < arraylength2: \n",
    "        inputarray[h] = right[g] \n",
    "        h += 1\n",
    "        g += 1\n",
    "\n",
    "def timsort(inputarray):\n",
    "    arraysize = len(inputarray) \n",
    "    minlengthrun = find_minlengthrun(arraysize)\n",
    "    for start in range(0, arraysize, minlengthrun): \n",
    "        end = min(start + minlengthrun - 1, arraysize - 1) \n",
    "        insertionsort(inputarray, start, end)\n",
    "    mergedarraysize = minlengthrun \n",
    "    while mergedarraysize < arraysize: \n",
    "        for left in range(0, arraysize, 2 * mergedarraysize): \n",
    "            mid = min(arraysize - 1, left + mergedarraysize - 1) \n",
    "            right = min((left + 2 * mergedarraysize - 1), (arraysize - 1)) \n",
    "            merge(inputarray, left, mid, right) \n",
    "        mergedarraysize = 2 * mergedarraysize\n",
    "        return mergedarraysize"
   ]
  },
  {
   "cell_type": "markdown",
   "id": "06fb998b",
   "metadata": {},
   "source": [
    "### Тест"
   ]
  },
  {
   "cell_type": "code",
   "execution_count": 15,
   "id": "39a8ea94",
   "metadata": {},
   "outputs": [
    {
     "ename": "AssertionError",
     "evalue": "Ошибка при сортировке отсортированного массива",
     "output_type": "error",
     "traceback": [
      "\u001b[1;31m---------------------------------------------------------------------------\u001b[0m",
      "\u001b[1;31mAssertionError\u001b[0m                            Traceback (most recent call last)",
      "\u001b[1;32m~\\AppData\\Local\\Temp\\ipykernel_19796\\1263725677.py\u001b[0m in \u001b[0;36m<module>\u001b[1;34m\u001b[0m\n\u001b[0;32m      1\u001b[0m \u001b[0msortmethod\u001b[0m \u001b[1;33m=\u001b[0m \u001b[0mtimsort\u001b[0m\u001b[1;33m\u001b[0m\u001b[1;33m\u001b[0m\u001b[0m\n\u001b[0;32m      2\u001b[0m \u001b[1;33m\u001b[0m\u001b[0m\n\u001b[1;32m----> 3\u001b[1;33m \u001b[1;32massert\u001b[0m \u001b[0msortmethod\u001b[0m\u001b[1;33m(\u001b[0m\u001b[1;33m[\u001b[0m\u001b[1;36m1\u001b[0m\u001b[1;33m,\u001b[0m \u001b[1;36m2\u001b[0m\u001b[1;33m,\u001b[0m \u001b[1;36m3\u001b[0m\u001b[1;33m,\u001b[0m \u001b[1;36m4\u001b[0m\u001b[1;33m]\u001b[0m\u001b[1;33m)\u001b[0m \u001b[1;33m==\u001b[0m \u001b[1;33m[\u001b[0m\u001b[1;36m1\u001b[0m\u001b[1;33m,\u001b[0m \u001b[1;36m2\u001b[0m\u001b[1;33m,\u001b[0m \u001b[1;36m3\u001b[0m\u001b[1;33m,\u001b[0m \u001b[1;36m4\u001b[0m\u001b[1;33m]\u001b[0m\u001b[1;33m,\u001b[0m \u001b[1;34m'Ошибка при сортировке отсортированного массива'\u001b[0m\u001b[1;33m\u001b[0m\u001b[1;33m\u001b[0m\u001b[0m\n\u001b[0m\u001b[0;32m      4\u001b[0m \u001b[1;33m\u001b[0m\u001b[0m\n\u001b[0;32m      5\u001b[0m \u001b[1;32massert\u001b[0m \u001b[0msortmethod\u001b[0m\u001b[1;33m(\u001b[0m\u001b[1;33m[\u001b[0m\u001b[1;36m4\u001b[0m\u001b[1;33m,\u001b[0m \u001b[1;36m3\u001b[0m\u001b[1;33m,\u001b[0m \u001b[1;36m2\u001b[0m\u001b[1;33m,\u001b[0m \u001b[1;36m1\u001b[0m\u001b[1;33m]\u001b[0m\u001b[1;33m)\u001b[0m \u001b[1;33m==\u001b[0m \u001b[1;33m[\u001b[0m\u001b[1;36m1\u001b[0m\u001b[1;33m,\u001b[0m \u001b[1;36m2\u001b[0m\u001b[1;33m,\u001b[0m \u001b[1;36m3\u001b[0m\u001b[1;33m,\u001b[0m \u001b[1;36m4\u001b[0m\u001b[1;33m]\u001b[0m\u001b[1;33m,\u001b[0m \u001b[1;34m'Ошибка при сортировке отсортированного в обратном порядке массива'\u001b[0m\u001b[1;33m\u001b[0m\u001b[1;33m\u001b[0m\u001b[0m\n",
      "\u001b[1;31mAssertionError\u001b[0m: Ошибка при сортировке отсортированного массива"
     ]
    }
   ],
   "source": [
    "sortmethod = timsort\n",
    "\n",
    "assert sortmethod([1, 2, 3, 4]) == [1, 2, 3, 4], 'Ошибка при сортировке отсортированного массива'\n",
    "\n",
    "assert sortmethod([4, 3, 2, 1]) == [1, 2, 3, 4], 'Ошибка при сортировке отсортированного в обратном порядке массива'\n",
    "\n",
    "assert sortmethod([1, 3, 4, 2]) == [1, 2, 3, 4], 'Ошибка при сортировке произвольного массива'\n",
    "\n",
    "assert sortmethod([1, 3, 1, 2]) == [1, 1, 2, 3], 'Ошибка при сортировке массива с повторящимися элементами'"
   ]
  },
  {
   "cell_type": "code",
   "execution_count": 16,
   "id": "243c3dcf",
   "metadata": {},
   "outputs": [],
   "source": [
    "def get_sort_array(n:int)->Tuple:\n",
    "    'Возвращает отсортированный массив'\n",
    "    return tuple(range(n))\n",
    "\n",
    "def get_reverse_array(n:int)->Tuple:\n",
    "    'Возвращает отсортированный в обратном порядке массив'\n",
    "    return tuple(range(n))[::-1]\n",
    "\n",
    "def get_random_array(n:int)->Tuple:\n",
    "    'Возвращает перемешанный массив'\n",
    "    return tuple(random.sample(range(n), n))"
   ]
  },
  {
   "cell_type": "markdown",
   "id": "aa324b2b",
   "metadata": {},
   "source": [
    "### Ручная трассировка"
   ]
  },
  {
   "cell_type": "markdown",
   "id": "b5343234",
   "metadata": {},
   "source": [
    "|шаг|сортировка|\n",
    "|--|--|\n",
    "|0|8,3,4,5,9,2|\n",
    "|1|8,8,4,5,9,2|\n",
    "|2|3,8,4,5,9,2|\n",
    "|3|3,8,8,5,9,2|\n",
    "|4|3,4,8,5,9,2|\n",
    "|5|3,4,8,8,9,2|\n",
    "|6|3,4,5,8,9,2|\n",
    "|7|3,4,5,8,9,9|\n",
    "|8|3,4,5,8,8,9|\n",
    "|9|3,4,5,5,8,9|\n",
    "|10|3,4,4,5,8,9|\n",
    "|11|3,3,4,5,8,9|\n",
    "|12|2,3,4,5,8,9|"
   ]
  },
  {
   "cell_type": "markdown",
   "id": "dcce691b",
   "metadata": {},
   "source": [
    "### Массивы"
   ]
  },
  {
   "cell_type": "code",
   "execution_count": 20,
   "id": "522f825a",
   "metadata": {},
   "outputs": [],
   "source": [
    "n1 = 1000\n",
    "\n",
    "sort1 = get_sort_array(n1);\n",
    "reverse1 = get_reverse_array(n1);\n",
    "random1 = get_random_array(n1);"
   ]
  },
  {
   "cell_type": "code",
   "execution_count": 21,
   "id": "98deea13",
   "metadata": {},
   "outputs": [
    {
     "name": "stdout",
     "output_type": "stream",
     "text": [
      "Wall time: 999 µs\n"
     ]
    }
   ],
   "source": [
    "%%time\n",
    "\n",
    "sortmethod(list(sort1));\n",
    "pass"
   ]
  },
  {
   "cell_type": "code",
   "execution_count": 22,
   "id": "b7863e06",
   "metadata": {},
   "outputs": [
    {
     "name": "stdout",
     "output_type": "stream",
     "text": [
      "Wall time: 4.65 ms\n"
     ]
    }
   ],
   "source": [
    "%%time\n",
    "\n",
    "sortmethod(list(reverse1));\n",
    "pass"
   ]
  },
  {
   "cell_type": "code",
   "execution_count": 23,
   "id": "619d9395",
   "metadata": {},
   "outputs": [
    {
     "name": "stdout",
     "output_type": "stream",
     "text": [
      "Wall time: 2.42 ms\n"
     ]
    }
   ],
   "source": [
    "%%time\n",
    "\n",
    "sortmethod(list(random1));\n",
    "pass"
   ]
  },
  {
   "cell_type": "code",
   "execution_count": 24,
   "id": "61382501",
   "metadata": {},
   "outputs": [],
   "source": [
    "n2 = 5000\n",
    "\n",
    "sort2 = get_sort_array(n2)\n",
    "reverse2 = get_reverse_array(n2)\n",
    "random2 = get_random_array(n2)"
   ]
  },
  {
   "cell_type": "code",
   "execution_count": 25,
   "id": "b0d32268",
   "metadata": {},
   "outputs": [
    {
     "name": "stdout",
     "output_type": "stream",
     "text": [
      "Wall time: 2.59 ms\n"
     ]
    }
   ],
   "source": [
    "%%time\n",
    "\n",
    "sortmethod(list(sort2));\n",
    "pass"
   ]
  },
  {
   "cell_type": "code",
   "execution_count": 26,
   "id": "b27e637a",
   "metadata": {},
   "outputs": [
    {
     "name": "stdout",
     "output_type": "stream",
     "text": [
      "Wall time: 13.6 ms\n"
     ]
    }
   ],
   "source": [
    "%%time\n",
    "\n",
    "sortmethod(list(reverse2));\n",
    "pass"
   ]
  },
  {
   "cell_type": "code",
   "execution_count": 27,
   "id": "1b702059",
   "metadata": {},
   "outputs": [
    {
     "name": "stdout",
     "output_type": "stream",
     "text": [
      "Wall time: 13.2 ms\n"
     ]
    }
   ],
   "source": [
    "%%time\n",
    "\n",
    "sortmethod(list(random2));\n",
    "pass"
   ]
  },
  {
   "cell_type": "code",
   "execution_count": 28,
   "id": "c72bcfd9",
   "metadata": {},
   "outputs": [],
   "source": [
    "n3 = 10000\n",
    "\n",
    "sort3 = get_sort_array(n3)\n",
    "reverse3 = get_reverse_array(n3)\n",
    "random3 = get_random_array(n3)"
   ]
  },
  {
   "cell_type": "code",
   "execution_count": 29,
   "id": "188c7d11",
   "metadata": {},
   "outputs": [
    {
     "name": "stdout",
     "output_type": "stream",
     "text": [
      "Wall time: 3 ms\n"
     ]
    }
   ],
   "source": [
    "%%time\n",
    "\n",
    "sortmethod(list(sort3));\n",
    "pass"
   ]
  },
  {
   "cell_type": "code",
   "execution_count": 30,
   "id": "b3a2bdc4",
   "metadata": {},
   "outputs": [
    {
     "name": "stdout",
     "output_type": "stream",
     "text": [
      "Wall time: 23.4 ms\n"
     ]
    }
   ],
   "source": [
    "%%time\n",
    "\n",
    "sortmethod(list(reverse3));\n",
    "pass"
   ]
  },
  {
   "cell_type": "code",
   "execution_count": 31,
   "id": "38f566df",
   "metadata": {},
   "outputs": [
    {
     "name": "stdout",
     "output_type": "stream",
     "text": [
      "Wall time: 17.6 ms\n"
     ]
    }
   ],
   "source": [
    "%%time\n",
    "\n",
    "sortmethod(list(random3));\n",
    "pass"
   ]
  },
  {
   "cell_type": "code",
   "execution_count": 32,
   "id": "3bb54f7b",
   "metadata": {},
   "outputs": [],
   "source": [
    "n4 = 100000\n",
    "\n",
    "sort4 = get_sort_array(n4)\n",
    "reverse4 = get_reverse_array(n4)\n",
    "random4 = get_random_array(n4)"
   ]
  },
  {
   "cell_type": "code",
   "execution_count": 33,
   "id": "a88be158",
   "metadata": {},
   "outputs": [
    {
     "name": "stdout",
     "output_type": "stream",
     "text": [
      "Wall time: 36.4 ms\n"
     ]
    }
   ],
   "source": [
    "%%time\n",
    "\n",
    "sortmethod(list(sort4));\n",
    "pass"
   ]
  },
  {
   "cell_type": "code",
   "execution_count": 34,
   "id": "0aee9f31",
   "metadata": {},
   "outputs": [
    {
     "name": "stdout",
     "output_type": "stream",
     "text": [
      "Wall time: 267 ms\n"
     ]
    }
   ],
   "source": [
    "%%time\n",
    "\n",
    "sortmethod(list(reverse4));\n",
    "pass"
   ]
  },
  {
   "cell_type": "code",
   "execution_count": 35,
   "id": "c20a88cf",
   "metadata": {},
   "outputs": [
    {
     "name": "stdout",
     "output_type": "stream",
     "text": [
      "Wall time: 170 ms\n"
     ]
    }
   ],
   "source": [
    "%%time\n",
    "\n",
    "sortmethod(list(random4));\n",
    "pass"
   ]
  },
  {
   "cell_type": "markdown",
   "id": "2c42b916",
   "metadata": {},
   "source": [
    "### Иллюстрация работы"
   ]
  },
  {
   "cell_type": "code",
   "execution_count": 36,
   "id": "1a1328a1",
   "metadata": {},
   "outputs": [
    {
     "data": {
      "image/png": "[encoded data removed]",
      "text/plain": [
       "<Figure size 640x480 with 1 Axes>"
      ]
     },
     "metadata": {},
     "output_type": "display_data"
    }
   ],
   "source": [
    "x = np.array([1000, 5000, 10000, 100000])\n",
    "\n",
    "y_sorted = np.array([0, 1.8, 3, 43.2])\n",
    "y_reversed = np.array([3.06, 13.9, 29.8, 246])\n",
    "y_random = np.array([2.45, 8.45, 18.7, 203])\n",
    "\n",
    "plt.plot(x, y_sorted)\n",
    "plt.plot(x, y_reversed)\n",
    "plt.plot(x, y_random)\n",
    "\n",
    "plt.title('График зависимости времени сортировки массивов от их длины')\n",
    "plt.xlabel('Длина массива')\n",
    "plt.ylabel('Время (ms)')\n",
    "plt.show()"
   ]
  },
  {
   "cell_type": "markdown",
   "id": "297d85ec",
   "metadata": {},
   "source": [
    "### Литература"
   ]
  },
  {
   "cell_type": "markdown",
   "id": "d15d0d33",
   "metadata": {},
   "source": [
    "1. Роберт Седжвик. Фундаментальные алгоритмы на C. Анализ/Структуры данных/Сортировка/Поиск = Algorithms in C. Fundamentals/Data Structures/Sorting/Searching. — СПб.: ДиаСофтЮП, 2003. — С. 672. — ISBN 5-93772-081-4.\n",
    "2. Peter McIlroy \"Optimistic Sorting and Information Theoretic Complexity\", Proceedings of the Fourth Annual ACM-SIAM Symposium on Discrete Algorithms, ISBN 0-89871-313-7, Chapter 53, pp 467-474, January 1993.\n",
    "3. Magnus Lie Hetland Python Algorithms: Mastering Basic Algorithms in the Python Language. — Apress, 2010. — 336 с."
   ]
  }
 ],
 "metadata": {
  "kernelspec": {
   "display_name": "Python 3 (ipykernel)",
   "language": "python",
   "name": "python3"
  },
  "language_info": {
   "codemirror_mode": {
    "name": "ipython",
    "version": 3
   },
   "file_extension": ".py",
   "mimetype": "text/x-python",
   "name": "python",
   "nbconvert_exporter": "python",
   "pygments_lexer": "ipython3",
   "version": "3.9.13"
  }
 },
 "nbformat": 4,
 "nbformat_minor": 5
}
