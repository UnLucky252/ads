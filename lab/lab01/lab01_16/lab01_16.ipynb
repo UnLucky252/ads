{
 "cells": [
  {
   "cell_type": "code",
   "execution_count": 1,
   "id": "f68415ee",
   "metadata": {},
   "outputs": [],
   "source": [
    "import random\n",
    "\n",
    "from typing import List, Tuple\n",
    "\n",
    "import time"
   ]
  },
  {
   "cell_type": "markdown",
   "id": "93a4f2bc",
   "metadata": {},
   "source": [
    "# Лабораторная работа 1. Методы сортировки\n",
    "\n",
    "Вариант: 16"
   ]
  },
  {
   "cell_type": "markdown",
   "id": "fd19520b",
   "metadata": {},
   "source": [
    "## Блинная сортировка (pancake sorting)"
   ]
  },
  {
   "cell_type": "markdown",
   "id": "e5103e92",
   "metadata": {},
   "source": [
    "### Классификация алгоритма:\n",
    "\n",
    "- По типу алгоритма: сортировка переворотом элементов последовательности до какого-либо индекса\n",
    "\n",
    "- По устойчивости: неустойчивый\n",
    "\n",
    "- По месту хранения данных: на месте\n",
    "\n",
    "- По выделению дополнительного пространства: сортировка на месте\n",
    "\n",
    "- По дополнительным затратам памяти: $O(1)$\n",
    "   \n",
    "- Время выполнения: \n",
    "\n",
    "  - В худшем случае: $O(n^2)$\n",
    "  \n",
    "  - В лучшем случае: $O(n)$\n",
    "  \n",
    "  - В среднем: $O(n \\times log n)$"
   ]
  },
  {
   "cell_type": "markdown",
   "id": "6ad8dff4",
   "metadata": {
    "tags": []
   },
   "source": [
    "### Описание алгоритма:\n",
    "\n",
    "Блинная сортировка является алгоритмом сортировки, с единственной допустимой операцией — переворотом элементов последовательности до какого-либо индекса. В отличие от традиционных алгоритмов, в которых минимизируют количество сравнений, в блинной сортировке требуется сделать как можно меньше переворотов. Процесс можно визуально представить в виде стопки блинов, которую тасуют путем взятия нескольких блинов сверху и их переворачивания\n",
    "В этом алгоритме мы итеративно проходим по массиву от конца к началу, на каждой итерации находим максимальный элемент среди первых i элементов и переворачиваем подмассив от начала до максимального элемента, а затем переворачиваем весь подмассив от начала до i-го элемента. Таким образом, на каждой итерации самый большой элемент становится на свое место в конце массива, а на следующей итерации мы сокращаем размер подмассива, который нужно отсортировать.\n",
    "\n",
    "Данная сортировка считается непрактичной, и непрактичность её состоит в том, что в данном алгоритме вообще не учитывается количество сравнений элементов (считается, что эти операции очень дешевы и быстры), а единственной операцией, имеющей цену, является переворот верхушки стопки сортируемых «блинов». Разумеется, изначально они расположены в произвольном порядке, а желаемым результатом является некое подобие ханойской башни, когда блины большего диаметра лежат снизу, а меньшего располагаются сверху."
   ]
  },
  {
   "cell_type": "markdown",
   "id": "43b3e42c",
   "metadata": {
    "tags": []
   },
   "source": [
    "### Блок-схема алгоритма"
   ]
  },
  {
   "cell_type": "markdown",
   "id": "6b6cfad1-1b4d-4d12-a917-5d0a2c55362b",
   "metadata": {},
   "source": [
    "![img](./block_page-0001.jpg)"
   ]
  },
  {
   "cell_type": "markdown",
   "id": "1184e973",
   "metadata": {
    "tags": []
   },
   "source": [
    "### Псевдокод алгоритма\n",
    "```\n",
    "int index_of_max(float *array, int index){\n",
    "    int max_index = 0;\n",
    "    for (int i = 0; i <= index; i++){\n",
    "        if(array[i] >= array[max_index]){\n",
    "            max_index = i\n",
    "        }\n",
    "    }\n",
    "    return max_index;\n",
    "}\n",
    "\n",
    "\n",
    "void revert(float *array, int index){\n",
    "    for(int i = 0; i < (index + 1) / 2; i++) {\n",
    "        float tmp = array[i];\n",
    "        array[i] = array[index - i];\n",
    "        array[index - i] = tmp;\n",
    "    }\n",
    "}\n",
    "float *pancake_sort(float *array) {\n",
    "    for(int i = array.size(); i > 0; i--) {\n",
    "        max_index = index_of_max(arr, i);\n",
    "        if(max_index != i && max_index != 0) {\n",
    "            revert(array, max_index)\n",
    "        }\n",
    "        revert(array, i)\n",
    "    }\n",
    "    return array\n",
    "}\n",
    "```\n"
   ]
  },
  {
   "cell_type": "markdown",
   "id": "011d3310",
   "metadata": {},
   "source": [
    "### Реализация алгоритма"
   ]
  },
  {
   "cell_type": "markdown",
   "id": "9a5db9b3",
   "metadata": {},
   "source": [
    "Достоинства алгоритма:\n",
    "    \n",
    "    -- простота реализации\n",
    "    \n",
    "Недостатки:\n",
    "\n",
    "    -- низкая эффективность"
   ]
  },
  {
   "cell_type": "code",
   "execution_count": 2,
   "id": "0959b1f5",
   "metadata": {},
   "outputs": [
    {
     "name": "stdout",
     "output_type": "stream",
     "text": [
      "[2, 7, 9, 0, 8, 4, 3, 6, 5, 1]\n",
      "[0, 1, 2, 3, 4, 5, 6, 7, 8, 9]\n"
     ]
    }
   ],
   "source": [
    "def index_of_max_wo(arr, index: int) -> int:\n",
    "    \"\"\"Функция находит индекс максимального эллемента\"\"\"\n",
    "    max_index: int = 0\n",
    "    for i in range(0, index + 1):\n",
    "        if (arr[i] >= arr[max_index]):\n",
    "            max_index = i\n",
    "    return max_index\n",
    "\n",
    "def revert_wo(arr, index: int):\n",
    "    \"\"\"Функция переворачивает часть массива от 0 до принимаемого индекса\"\"\"\n",
    "    for i in range(int((index + 1) / 2)):\n",
    "        tmp = arr[i]\n",
    "        arr[i] = arr[index - i]\n",
    "        arr[index - i] = tmp\n",
    "\n",
    "def pancake_sort_wo(arr):\n",
    "    # Пробегаемся по массиву, начиная с конца\n",
    "    for i in range(len(arr) - 1, -1, -1):\n",
    "        # Находим индекс максимального эллемента\n",
    "        max_index = index_of_max_wo(arr, i)\n",
    "        if (max_index != i):\n",
    "            # Переворачиваем часть массива от 0 до максимального эллементв\n",
    "            # Таким образом он оказывается в начале\n",
    "            if (max_index != 0):\n",
    "                revert_wo(arr, max_index)\n",
    "            # Теперь переворачиваем весь массив от 0 до i и наш текущий максимум оказывается в конце\n",
    "            revert_wo(arr, i)\n",
    "        # В следующий шаг цикла мы уже не будем рассматривать последний эллемент\n",
    "    return arr\n",
    "\n",
    "arr = list(random.sample(range(10), 10))\n",
    "print(arr)\n",
    "print(pancake_sort_wo(arr))"
   ]
  },
  {
   "cell_type": "markdown",
   "id": "470eccb0-13a3-49d8-9f04-0faa3c183740",
   "metadata": {},
   "source": [
    "**Второй** вариант реализации, в которой мы переворачиваем массив только один раз за ход"
   ]
  },
  {
   "cell_type": "code",
   "execution_count": 3,
   "id": "f24cdd33-8e91-4b47-8117-8172ec7314c0",
   "metadata": {
    "tags": []
   },
   "outputs": [
    {
     "data": {
      "text/plain": [
       "[0, 1, 2, 3, 4, 5, 6, 7, 8, 9]"
      ]
     },
     "execution_count": 3,
     "metadata": {},
     "output_type": "execute_result"
    }
   ],
   "source": [
    "def index_of_max(arr, index: int) -> int:\n",
    "    \"\"\"Функция находит индекс максимального эллемента\"\"\"\n",
    "    max_index: int = 0\n",
    "    for i in range(0, index + 1):\n",
    "        if (arr[i] >= arr[max_index]):\n",
    "            max_index = i\n",
    "    return max_index\n",
    "\n",
    "def revert_1(arr, max_index: int, index: int):\n",
    "    \"\"\"Функция переворачивает часть массива от max до текущего конца\"\"\"\n",
    "    for i in range(max_index, int((index + max_index + 1) / 2)):\n",
    "        tmp = arr[i]\n",
    "        arr[i] = arr[index - i + max_index]\n",
    "        arr[index - i + max_index] = tmp\n",
    "def pancake_sort_1(arr):\n",
    "    # Пробегаемся по массиву, начиная с конца\n",
    "    for i in range(len(arr) - 1, -1, -1):\n",
    "        # Находим индекс максимального эллемента\n",
    "        max_index = index_of_max(arr, i)\n",
    "        if (max_index != i):\n",
    "            # Переворачиваем часть массива от max элемента до текущего конца\n",
    "            # Таким образом наш текущий максимум оказывается в конце\n",
    "            revert_1(arr, max_index, i)\n",
    "        # В следующий шаг цикла мы уже не будем рассматривать последний эллемент\n",
    "    return arr\n",
    "\n",
    "random.sample(range(10), 10)\n",
    "pancake_sort_1(list(random.sample(range(10), 10)))"
   ]
  },
  {
   "cell_type": "markdown",
   "id": "459e217a-8f35-4ee3-a9ec-badad8c7d19c",
   "metadata": {},
   "source": [
    "### Визуализация алгоритма"
   ]
  },
  {
   "cell_type": "code",
   "execution_count": 4,
   "id": "f3414f3f-99f3-4e0c-b405-ab1b11b4f9f8",
   "metadata": {
    "tags": []
   },
   "outputs": [
    {
     "name": "stdout",
     "output_type": "stream",
     "text": [
      "Неотсортированный массив:  [6, 3, 1, 0, 9, 5, 2, 7, 8, 4]\n",
      "Переворачиваем массив от 0-го до 4-го эллемента\n",
      "[6] 3 1 0 [9] 5 2 7 8 4 \n",
      " ^_________^\n",
      "[9] 0 1 3 [6] 5 2 7 8 4 \n",
      "Переворачиваем массив от 0-го до 9-го эллемента\n",
      "[9] 0 1 3 6 5 2 7 8 [4] \n",
      " ^___________________^\n",
      "[4] 8 7 2 5 6 3 1 0 [9] \n",
      "Переворачиваем массив от 0-го до 1-го эллемента\n",
      "[4] [8] 7 2 5 6 3 1 0 9 \n",
      " ^___^\n",
      "[8] [4] 7 2 5 6 3 1 0 9 \n",
      "Переворачиваем массив от 0-го до 8-го эллемента\n",
      "[8] 4 7 2 5 6 3 1 [0] 9 \n",
      " ^_________________^\n",
      "[0] 1 3 6 5 2 7 4 [8] 9 \n",
      "Переворачиваем массив от 0-го до 6-го эллемента\n",
      "[0] 1 3 6 5 2 [7] 4 8 9 \n",
      " ^_____________^\n",
      "[7] 2 5 6 3 1 [0] 4 8 9 \n",
      "Переворачиваем массив от 0-го до 7-го эллемента\n",
      "[7] 2 5 6 3 1 0 [4] 8 9 \n",
      " ^_______________^\n",
      "[4] 0 1 3 6 5 2 [7] 8 9 \n",
      "Переворачиваем массив от 0-го до 4-го эллемента\n",
      "[4] 0 1 3 [6] 5 2 7 8 9 \n",
      " ^_________^\n",
      "[6] 3 1 0 [4] 5 2 7 8 9 \n",
      "Переворачиваем массив от 0-го до 6-го эллемента\n",
      "[6] 3 1 0 4 5 [2] 7 8 9 \n",
      " ^_____________^\n",
      "[2] 5 4 0 1 3 [6] 7 8 9 \n",
      "Переворачиваем массив от 0-го до 1-го эллемента\n",
      "[2] [5] 4 0 1 3 6 7 8 9 \n",
      " ^___^\n",
      "[5] [2] 4 0 1 3 6 7 8 9 \n",
      "Переворачиваем массив от 0-го до 5-го эллемента\n",
      "[5] 2 4 0 1 [3] 6 7 8 9 \n",
      " ^___________^\n",
      "[3] 1 0 4 2 [5] 6 7 8 9 \n",
      "Переворачиваем массив от 0-го до 3-го эллемента\n",
      "[3] 1 0 [4] 2 5 6 7 8 9 \n",
      " ^_______^\n",
      "[4] 0 1 [3] 2 5 6 7 8 9 \n",
      "Переворачиваем массив от 0-го до 4-го эллемента\n",
      "[4] 0 1 3 [2] 5 6 7 8 9 \n",
      " ^_________^\n",
      "[2] 3 1 0 [4] 5 6 7 8 9 \n",
      "Переворачиваем массив от 0-го до 1-го эллемента\n",
      "[2] [3] 1 0 4 5 6 7 8 9 \n",
      " ^___^\n",
      "[3] [2] 1 0 4 5 6 7 8 9 \n",
      "Переворачиваем массив от 0-го до 3-го эллемента\n",
      "[3] 2 1 [0] 4 5 6 7 8 9 \n",
      " ^_______^\n",
      "[0] 1 2 [3] 4 5 6 7 8 9 \n",
      "Отсортированный массив:  [0, 1, 2, 3, 4, 5, 6, 7, 8, 9]\n"
     ]
    }
   ],
   "source": [
    "def index_of_max(arr, index: int) -> int:\n",
    "    \"\"\"Функция находит индекс максимального эллемента\"\"\"\n",
    "    max_index: int = 0\n",
    "    for i in range(0, index + 1):\n",
    "        if (arr[i] >= arr[max_index]):\n",
    "            max_index = i\n",
    "    return max_index\n",
    "\n",
    "def revert(arr, index: int):\n",
    "    \"\"\"Функция переворачивает часть массива от 0 до принимаемого индекса\"\"\"\n",
    "    print(\"Переворачиваем массив от 0-го до \", index, \"-го эллемента\", sep='')\n",
    "    arr_str = \"\"\n",
    "    for i in range(len(arr)):\n",
    "        if (i == 0 or i == index):\n",
    "            arr_str += '['\n",
    "        arr_str += str(arr[i])\n",
    "        if (i == 0 or i == index):\n",
    "            arr_str += ']'\n",
    "        arr_str += ' '\n",
    "    print(arr_str)\n",
    "    i = arr_str.find('[') + 1\n",
    "    j = arr_str.rfind(']') - 1\n",
    "    point_str = ' ' * i + '^' + '_' * (j - i - 1) + '^'\n",
    "    print(point_str)\n",
    "    for i in range(int((index + 1) / 2)):\n",
    "        tmp = arr[i]\n",
    "        arr[i] = arr[index - i]\n",
    "        arr[index - i] = tmp\n",
    "    arr_str = ''\n",
    "    for i in range(len(arr)):\n",
    "        if (i == 0 or i == index):\n",
    "            arr_str += '['\n",
    "        arr_str += str(arr[i])\n",
    "        if (i == 0 or i == index):\n",
    "            arr_str += ']'\n",
    "        arr_str += ' '\n",
    "    print(arr_str)\n",
    "def pancake_sort(arr):\n",
    "    print(\"Неотсортированный массив: \", arr)\n",
    "    # Пробегаемся по массиву, начиная с конца\n",
    "    for i in range(len(arr) - 1, -1, -1):\n",
    "        # Находим индекс максимального эллемента\n",
    "        max_index = index_of_max(arr, i)\n",
    "        if (max_index != i):\n",
    "            # Переворачиваем часть массива от 0 до максимального эллементв\n",
    "            # Таким образом он оказывается в начале\n",
    "            if (max_index != 0):\n",
    "                revert(arr, max_index)\n",
    "            # Теперь переворачиваем весь массив от 0 до i и наш текущий максимум оказывается в конце\n",
    "            revert(arr, i)\n",
    "        # В следующий шаг цикла мы уже не будем рассматривать последний эллемент\n",
    "    print(\"Отсортированный массив: \", arr)\n",
    "\n",
    "random.sample(range(10), 10)\n",
    "pancake_sort(list(random.sample(range(10), 10)))"
   ]
  },
  {
   "cell_type": "code",
   "execution_count": 5,
   "id": "0de87daa",
   "metadata": {},
   "outputs": [],
   "source": [
    "### Тестирование программы\n",
    "\n",
    "sortmethod = pancake_sort_wo\n",
    "\n",
    "assert sortmethod([1, 2, 3, 4]) == [1, 2, 3, 4], 'Ошибка при сортировки отсортированного массива'\n",
    "\n",
    "assert sortmethod([4, 3, 2, 1]) == [1, 2, 3, 4], 'Ошибка при сортировки отсортированного в обратном порядке массива'\n",
    "\n",
    "assert sortmethod([1, 3, 4, 2]) == [1, 2, 3, 4], 'Ошибка при сортировки произвольного массива'\n",
    "\n",
    "assert sortmethod([1, 3, 1, 2]) == [1, 1, 2, 3], 'Ошибка при сортировки массива с повторящимися элементами'\n"
   ]
  },
  {
   "cell_type": "code",
   "execution_count": 6,
   "id": "feb278f3",
   "metadata": {},
   "outputs": [],
   "source": [
    "# Набор данных для тестирования алгоритма\n",
    "\n",
    "def get_sort_array(n:int)->List:\n",
    "    '''Возвращает отсортированный массив'''\n",
    "    return list(range(n))\n",
    "\n",
    "def get_reverse_array(n:int)->List:\n",
    "    '''Возвращает отсортированный в обратном порядке массив'''\n",
    "    return list(range(n))[::-1]\n",
    "\n",
    "def get_random_array(n:int)->List:\n",
    "    '''Возвращает перемешанный массив'''\n",
    "    return list(random.sample(range(n), n))\n"
   ]
  },
  {
   "cell_type": "markdown",
   "id": "2cb9a45a",
   "metadata": {},
   "source": [
    "### Литература\n",
    "\n",
    "Алгоритмы сортировки данных (Основные понятие алгоритмов сортировки). URL:https://www.evkova.org/kursovye-raboty/algoritmyi-sortirovki-dannyih-osnovnyie-ponyatie-algoritmov-sortirovki\n",
    "\n",
    "Описание алгоритма блинной сортировк. URL: https://programm.top/c-sharp/algorithm/array-sort/pancake-sort/\n",
    "\n",
    "Ссылка на вики с описанием блинной сортировки. URL: https://neerc.ifmo.ru/wiki/index.php?title=Блинная_сортировка\n",
    "\n",
    "Ссылка на википедию. URL: https://ru.wikipedia.org/wiki/Блинная_сортировка\n",
    "\n",
    "Ссылка на статью в Habr по сортировкам выбором. URL: https://habr.com/ru/post/422085/"
   ]
  },
  {
   "cell_type": "markdown",
   "id": "2f6ea9b1-416c-4d5c-9fc8-73f4f968b030",
   "metadata": {},
   "source": [
    "### Создаём сортируемые массивы"
   ]
  },
  {
   "cell_type": "code",
   "execution_count": 7,
   "id": "6c19b2a0-cad0-4754-a5ca-639031f610f9",
   "metadata": {
    "tags": []
   },
   "outputs": [],
   "source": [
    "# Массивы для хранения результат замеров времени\n",
    "times_sort = {}\n",
    "times_reverse = {}\n",
    "times_random = {}"
   ]
  },
  {
   "cell_type": "markdown",
   "id": "107542f1-6a48-4fbd-8f8d-ebbd741c503c",
   "metadata": {
    "tags": []
   },
   "source": [
    "### Массивы из 1000 элементов"
   ]
  },
  {
   "cell_type": "code",
   "execution_count": 8,
   "id": "e0c5d67f-977b-41fb-8df9-4762ce7777c1",
   "metadata": {
    "tags": []
   },
   "outputs": [
    {
     "name": "stdout",
     "output_type": "stream",
     "text": [
      "22.03 ms\n"
     ]
    }
   ],
   "source": [
    "times_sort.clear()\n",
    "times_reverse.clear()\n",
    "times_random.clear()\n",
    "n = 1000\n",
    "start = time.time()\n",
    "\n",
    "sortmethod(list(get_sort_array(n)))\n",
    "\n",
    "end = time.time()\n",
    "t = round((end - start) * 10**3, 2)\n",
    "times_sort[n] = t\n",
    "print(t, \"ms\")"
   ]
  },
  {
   "cell_type": "code",
   "execution_count": 9,
   "id": "8f4b8cef-f401-4f9e-8942-701a5a7c00a0",
   "metadata": {
    "tags": []
   },
   "outputs": [
    {
     "name": "stdout",
     "output_type": "stream",
     "text": [
      "21.48 ms\n"
     ]
    }
   ],
   "source": [
    "n=1000\n",
    "start = time.time()\n",
    "\n",
    "sortmethod(list(get_reverse_array(n)))\n",
    "\n",
    "end = time.time()\n",
    "t = round((end - start) * 10**3, 2)\n",
    "times_reverse[n] = t\n",
    "print(t, \"ms\")"
   ]
  },
  {
   "cell_type": "code",
   "execution_count": 10,
   "id": "18eb8642-a446-4dca-9b4d-9b8624ad2f6f",
   "metadata": {
    "tags": []
   },
   "outputs": [
    {
     "name": "stdout",
     "output_type": "stream",
     "text": [
      "51.2 ms\n"
     ]
    }
   ],
   "source": [
    "n = 1000\n",
    "start = time.time()\n",
    "\n",
    "sortmethod(list(get_random_array(n)))\n",
    "\n",
    "end = time.time()\n",
    "t = round((end - start) * 10**3, 2)\n",
    "times_random[n] = t\n",
    "print(t, \"ms\")"
   ]
  },
  {
   "cell_type": "markdown",
   "id": "092510de-80d2-43c6-aa1f-001f58aee403",
   "metadata": {
    "tags": []
   },
   "source": [
    "### Массивы из 5000 элементов"
   ]
  },
  {
   "cell_type": "code",
   "execution_count": 11,
   "id": "81e2edc3-3d3a-4f3c-b1c8-7704dbb2109b",
   "metadata": {
    "tags": []
   },
   "outputs": [
    {
     "name": "stdout",
     "output_type": "stream",
     "text": [
      "558.03 ms\n"
     ]
    }
   ],
   "source": [
    "n = 5000\n",
    "start = time.time()\n",
    "\n",
    "sortmethod(list(get_sort_array(n)))\n",
    "\n",
    "end = time.time()\n",
    "t = round((end - start) * 10**3, 2)\n",
    "times_sort[n] = t\n",
    "print(t, \"ms\")"
   ]
  },
  {
   "cell_type": "code",
   "execution_count": 12,
   "id": "162d28b6-48ad-45d1-b996-8484d0286c5c",
   "metadata": {
    "tags": []
   },
   "outputs": [
    {
     "name": "stdout",
     "output_type": "stream",
     "text": [
      "559.18 ms\n"
     ]
    }
   ],
   "source": [
    "n = 5000\n",
    "start = time.time()\n",
    "\n",
    "sortmethod(list(get_reverse_array(n)))\n",
    "\n",
    "end = time.time()\n",
    "t = round((end - start) * 10**3, 2)\n",
    "times_reverse[n] = t\n",
    "print(t, \"ms\")"
   ]
  },
  {
   "cell_type": "code",
   "execution_count": 13,
   "id": "b8c54964-d294-434e-967c-af4e38b5ae43",
   "metadata": {
    "tags": []
   },
   "outputs": [
    {
     "name": "stdout",
     "output_type": "stream",
     "text": [
      "1357.32 ms\n"
     ]
    }
   ],
   "source": [
    "n = 5000\n",
    "start = time.time()\n",
    "\n",
    "sortmethod(list(get_random_array(n)))\n",
    "\n",
    "end = time.time()\n",
    "t = round((end - start) * 10**3, 2)\n",
    "times_random[n] = t\n",
    "print(t, \"ms\")"
   ]
  },
  {
   "cell_type": "markdown",
   "id": "30888b0f-3854-4631-89c5-9a01fee9ce75",
   "metadata": {},
   "source": [
    "### Массивы из 10000 элементов"
   ]
  },
  {
   "cell_type": "code",
   "execution_count": 14,
   "id": "e7c7efed-6b42-40de-ac32-e7184dd32392",
   "metadata": {
    "tags": []
   },
   "outputs": [
    {
     "name": "stdout",
     "output_type": "stream",
     "text": [
      "2262.97 ms\n"
     ]
    }
   ],
   "source": [
    "n = 10000\n",
    "start = time.time()\n",
    "\n",
    "sortmethod(list(get_sort_array(n)))\n",
    "\n",
    "end = time.time()\n",
    "t = round((end - start) * 10**3, 2)\n",
    "times_sort[n] = t\n",
    "print(t, \"ms\")"
   ]
  },
  {
   "cell_type": "code",
   "execution_count": 15,
   "id": "4bf847a8-f062-409b-ab46-5671bdc9c397",
   "metadata": {
    "tags": []
   },
   "outputs": [
    {
     "name": "stdout",
     "output_type": "stream",
     "text": [
      "2283.76 ms\n"
     ]
    }
   ],
   "source": [
    "n = 10000\n",
    "start = time.time()\n",
    "\n",
    "sortmethod(list(get_reverse_array(n)))\n",
    "\n",
    "end = time.time()\n",
    "t = round((end - start) * 10**3, 2)\n",
    "times_reverse[n] = t\n",
    "print(t, \"ms\")"
   ]
  },
  {
   "cell_type": "code",
   "execution_count": 16,
   "id": "618f757e-75ab-41dc-9370-903e444a8db2",
   "metadata": {
    "tags": []
   },
   "outputs": [
    {
     "name": "stdout",
     "output_type": "stream",
     "text": [
      "5558.59 ms\n"
     ]
    }
   ],
   "source": [
    "n = 10000\n",
    "start = time.time()\n",
    "\n",
    "sortmethod(list(get_random_array(n)))\n",
    "\n",
    "end = time.time()\n",
    "t = round((end - start) * 10**3, 2)\n",
    "times_random[n] = t\n",
    "print(t, \"ms\")"
   ]
  },
  {
   "cell_type": "markdown",
   "id": "da893244-8fdd-40fc-be17-d1d640223244",
   "metadata": {},
   "source": [
    "### Массивы из 25000 элементов"
   ]
  },
  {
   "cell_type": "code",
   "execution_count": 17,
   "id": "c20f047d-eed4-48ef-92df-7e35cffe6378",
   "metadata": {
    "tags": []
   },
   "outputs": [
    {
     "name": "stdout",
     "output_type": "stream",
     "text": [
      "13893.34 ms\n"
     ]
    }
   ],
   "source": [
    "n = 25000\n",
    "start = time.time()\n",
    "\n",
    "sortmethod(list(get_sort_array(n)))\n",
    "\n",
    "end = time.time()\n",
    "t = round((end - start) * 10**3, 2)\n",
    "times_sort[n] = t\n",
    "print(t, \"ms\")"
   ]
  },
  {
   "cell_type": "code",
   "execution_count": 18,
   "id": "9a33fe54-35d5-4c67-95e5-925c57a3f6d1",
   "metadata": {
    "tags": []
   },
   "outputs": [
    {
     "name": "stdout",
     "output_type": "stream",
     "text": [
      "14132.33 ms\n"
     ]
    }
   ],
   "source": [
    "n = 25000\n",
    "start = time.time()\n",
    "\n",
    "sortmethod(list(get_reverse_array(n)))\n",
    "\n",
    "end = time.time()\n",
    "t = round((end - start) * 10**3, 2)\n",
    "times_reverse[n] = t\n",
    "print(t, \"ms\")"
   ]
  },
  {
   "cell_type": "code",
   "execution_count": 19,
   "id": "1cbb08e8-edd9-4d2e-bd02-54c368fc0324",
   "metadata": {
    "tags": []
   },
   "outputs": [
    {
     "name": "stdout",
     "output_type": "stream",
     "text": [
      "35255.77 ms\n"
     ]
    }
   ],
   "source": [
    "n = 25000\n",
    "start = time.time()\n",
    "\n",
    "sortmethod(list(get_random_array(n)))\n",
    "\n",
    "end = time.time()\n",
    "t = round((end - start) * 10**3, 2)\n",
    "times_random[n] = t\n",
    "print(t, \"ms\")"
   ]
  },
  {
   "cell_type": "markdown",
   "id": "9f4ac2eb-fb7b-453f-80c8-ea904665b266",
   "metadata": {},
   "source": [
    "### Графики зависимости"
   ]
  },
  {
   "cell_type": "code",
   "execution_count": 20,
   "id": "117b8a21-4918-4736-89d7-e74a54dc19a0",
   "metadata": {
    "tags": []
   },
   "outputs": [
    {
     "data": {
      "image/png": "[encoded data removed]",
      "text/plain": [
       "<Figure size 640x480 with 1 Axes>"
      ]
     },
     "metadata": {},
     "output_type": "display_data"
    }
   ],
   "source": [
    "import matplotlib.pyplot as plt\n",
    "import numpy as np\n",
    "plt.plot(times_sort.keys(), times_sort.values(), times_reverse.keys(), times_reverse.values(), times_random.keys(), times_random.values())\n",
    "plt.ylabel('time, ms')\n",
    "plt.xlabel('number of elements')\n",
    "plt.grid(True)\n",
    "plt.show()"
   ]
  },
  {
   "cell_type": "markdown",
   "id": "b03f851e-106d-4937-85d0-ec1559ced1e3",
   "metadata": {},
   "source": [
    "### Построение графиков зависимости времени выполнения от количества элементов для 2-го варианта блинной сортировки"
   ]
  },
  {
   "cell_type": "code",
   "execution_count": 29,
   "id": "bb38a247-270a-4215-8046-355df94ef1c2",
   "metadata": {},
   "outputs": [
    {
     "name": "stdout",
     "output_type": "stream",
     "text": [
      "Массивы из 1000 элементов\n",
      "22.01 ms\n",
      "20.98 ms\n",
      "35.54 ms\n",
      "Массивы из 5000 элементов\n",
      "566.54 ms\n",
      "560.12 ms\n",
      "959.46 ms\n",
      "Массивы из 10000 элементов\n",
      "2252.28 ms\n",
      "2250.12 ms\n",
      "3866.05 ms\n",
      "Массивы из 25000 элементов\n",
      "14096.15 ms\n",
      "14030.49 ms\n",
      "24071.77 ms\n"
     ]
    },
    {
     "data": {
      "image/png": "[encoded data removed]",
      "text/plain": [
       "<Figure size 640x480 with 1 Axes>"
      ]
     },
     "metadata": {},
     "output_type": "display_data"
    }
   ],
   "source": [
    "times_sort_1 = {}\n",
    "times_reverse_1 = {}\n",
    "times_random_1 = {}\n",
    "print(\"Массивы из 1000 элементов\")\n",
    "n = 1000\n",
    "start = time.time()\n",
    "\n",
    "pancake_sort_1(list(get_sort_array(n)))\n",
    "\n",
    "end = time.time()\n",
    "t = round((end - start) * 10**3, 2)\n",
    "times_sort_1[n] = t\n",
    "print(t, \"ms\")\n",
    "\n",
    "n=1000\n",
    "start = time.time()\n",
    "\n",
    "pancake_sort_1(list(get_reverse_array(n)))\n",
    "\n",
    "end = time.time()\n",
    "t = round((end - start) * 10**3, 2)\n",
    "times_reverse_1[n] = t\n",
    "print(t, \"ms\")\n",
    "\n",
    "n = 1000\n",
    "start = time.time()\n",
    "\n",
    "pancake_sort_1(list(get_random_array(n)))\n",
    "\n",
    "end = time.time()\n",
    "t = round((end - start) * 10**3, 2)\n",
    "times_random_1[n] = t\n",
    "print(t, \"ms\")\n",
    "\n",
    "print(\"Массивы из 5000 элементов\")\n",
    "n = 5000\n",
    "start = time.time()\n",
    "\n",
    "pancake_sort_1(list(get_sort_array(n)))\n",
    "\n",
    "end = time.time()\n",
    "t = round((end - start) * 10**3, 2)\n",
    "times_sort_1[n] = t\n",
    "print(t, \"ms\")\n",
    "\n",
    "n = 5000\n",
    "start = time.time()\n",
    "\n",
    "pancake_sort_1(list(get_reverse_array(n)))\n",
    "\n",
    "end = time.time()\n",
    "t = round((end - start) * 10**3, 2)\n",
    "times_reverse_1[n] = t\n",
    "print(t, \"ms\")\n",
    "\n",
    "n = 5000\n",
    "start = time.time()\n",
    "\n",
    "pancake_sort_1(list(get_random_array(n)))\n",
    "\n",
    "end = time.time()\n",
    "t = round((end - start) * 10**3, 2)\n",
    "times_random_1[n] = t\n",
    "print(t, \"ms\")\n",
    "\n",
    "print(\"Массивы из 10000 элементов\")\n",
    "n = 10000\n",
    "start = time.time()\n",
    "\n",
    "pancake_sort_1(list(get_sort_array(n)))\n",
    "\n",
    "end = time.time()\n",
    "t = round((end - start) * 10**3, 2)\n",
    "times_sort_1[n] = t\n",
    "print(t, \"ms\")\n",
    "\n",
    "n = 10000\n",
    "start = time.time()\n",
    "\n",
    "pancake_sort_1(list(get_reverse_array(n)))\n",
    "\n",
    "end = time.time()\n",
    "t = round((end - start) * 10**3, 2)\n",
    "times_reverse_1[n] = t\n",
    "print(t, \"ms\")\n",
    "\n",
    "n = 10000\n",
    "start = time.time()\n",
    "\n",
    "pancake_sort_1(list(get_random_array(n)))\n",
    "\n",
    "end = time.time()\n",
    "t = round((end - start) * 10**3, 2)\n",
    "times_random_1[n] = t\n",
    "print(t, \"ms\")\n",
    "\n",
    "print(\"Массивы из 25000 элементов\")\n",
    "n = 25000\n",
    "start = time.time()\n",
    "\n",
    "pancake_sort_1(list(get_sort_array(n)))\n",
    "\n",
    "end = time.time()\n",
    "t = round((end - start) * 10**3, 2)\n",
    "times_sort_1[n] = t\n",
    "print(t, \"ms\")\n",
    "\n",
    "n = 25000\n",
    "start = time.time()\n",
    "\n",
    "pancake_sort_1(list(get_reverse_array(n)))\n",
    "\n",
    "end = time.time()\n",
    "t = round((end - start) * 10**3, 2)\n",
    "times_reverse_1[n] = t\n",
    "print(t, \"ms\")\n",
    "\n",
    "n = 25000\n",
    "start = time.time()\n",
    "\n",
    "pancake_sort_1(list(get_random_array(n)))\n",
    "\n",
    "end = time.time()\n",
    "t = round((end - start) * 10**3, 2)\n",
    "times_random_1[n] = t\n",
    "print(t, \"ms\")\n",
    "\n",
    "#Графики зависимости\n",
    "import matplotlib.pyplot as plt\n",
    "import numpy as np\n",
    "plt.plot(times_sort_1.keys(), times_sort_1.values(), times_reverse_1.keys(), times_reverse_1.values(), times_random_1.keys(), times_random_1.values())\n",
    "plt.ylabel('time, ms')\n",
    "plt.xlabel('number of elements')\n",
    "plt.grid(True)\n",
    "plt.show()"
   ]
  },
  {
   "cell_type": "markdown",
   "id": "1008f073-8b0c-4d92-92fb-a593806f6363",
   "metadata": {},
   "source": [
    "На основе полученных результатов, можно сделать вывод, что 2 вариант сортировки будет значительно быстрее для массива с случайно перемешанного массива"
   ]
  }
 ],
 "metadata": {
  "kernelspec": {
   "display_name": "Python 3 (ipykernel)",
   "language": "python",
   "name": "python3"
  },
  "language_info": {
   "codemirror_mode": {
    "name": "ipython",
    "version": 3
   },
   "file_extension": ".py",
   "mimetype": "text/x-python",
   "name": "python",
   "nbconvert_exporter": "python",
   "pygments_lexer": "ipython3",
   "version": "3.11.1"
  }
 },
 "nbformat": 4,
 "nbformat_minor": 5
}
