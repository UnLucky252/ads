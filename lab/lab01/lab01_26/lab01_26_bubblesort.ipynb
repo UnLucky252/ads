{
 "cells": [
  {
   "cell_type": "code",
   "execution_count": 2,
   "id": "f68415ee",
   "metadata": {},
   "outputs": [],
   "source": [
    "import random\n",
    "\n",
    "from typing import List, Tuple"
   ]
  },
  {
   "cell_type": "markdown",
   "id": "93a4f2bc",
   "metadata": {},
   "source": [
    "# Лабораторная работа 1. Методы сортировки\n",
    "\n",
    "Вариант: 26"
   ]
  },
  {
   "cell_type": "markdown",
   "id": "fd19520b",
   "metadata": {},
   "source": [
    "## Пузырьковая сортировка (bubble sort)\n",
    "\n",
    "Другие названия: \n",
    "\n",
    "- Сортировка простыми обменами\n",
    "\n",
    "- Сортировка пузырьком"
   ]
  },
  {
   "cell_type": "markdown",
   "id": "e5103e92",
   "metadata": {},
   "source": [
    "### Классификация алгоритма:\n",
    "\n",
    "- По типу алгоритма: обменная сортировка\n",
    "\n",
    "- По устойчивости: устойчивый\n",
    "\n",
    "- По месту хранения данных: на месте\n",
    "\n",
    "- По выделению дополнительного пространства: сортировка на месте\n",
    "\n",
    "- По дополнительным затратам памяти: $O(1)$\n",
    "   \n",
    "- Время выполнения: \n",
    "  \n",
    "  - В худшем случае: $O(n^2)$\n",
    "  \n",
    "  - В лучшем случае: $O(n)$\n",
    "  \n",
    "  - В среднем: $O(n^2)$"
   ]
  },
  {
   "cell_type": "markdown",
   "id": "6ad8dff4",
   "metadata": {},
   "source": [
    "### Описание алгоритма:\n",
    "\n",
    "В рамках  пузырьковой  сортировки  (bubble  sort) выполняются  следующие  действия:  \n",
    "проход  по  файлу  с  обменом  местами соседних  элементов,  нарушающих  заданный  порядок,  до  тех  пор,  пока  файл  не  будет окончательно  отсортирован.  Основное  достоинство  пузырьковой  сортировки  заключается  в  том,  что  его  легко  реализовать  в  виде  программы.\n",
    "В  общем  случае  пузырьковый  метод  обладает  достаточно низким быстродействием.\n",
    "\n",
    "Алгоритм состоит из повторяющихся проходов по сортируемому массиву. За каждый проход элементы последовательно сравниваются попарно и, если порядок в паре неверный, выполняется перестановка элементов. \n",
    "Проходы по массиву повторяются $N−1$ раз или до тех пор, пока на очередном проходе не окажется, что обмены больше не нужны, что означает — массив отсортирован. \n",
    "При каждом проходе алгоритма по внутреннему циклу очередной наибольший элемент массива ставится на своё место в конце массива рядом с предыдущим «наибольшим элементом», а наименьший элемент перемещается на одну позицию к началу массива («всплывает» до нужной позиции, как пузырёк в воде — отсюда и название алгоритма)."
   ]
  },
  {
   "cell_type": "markdown",
   "id": "43b3e42c",
   "metadata": {},
   "source": [
    "### Блок-схема алгоритма"
   ]
  },
  {
   "cell_type": "markdown",
   "id": "1184e973",
   "metadata": {},
   "source": [
    "### Псевдокод алгоритма\n",
    "\n",
    "```\n",
    "FOR i=1 TO n-1 STEP 1\n",
    "  is_swap = False\n",
    "  FOR j=1 TO n-i STEP 1\n",
    "    IF x[j]>x[j+1] THEN \n",
    "      is_swap = True\n",
    "      tmp = x[j]\n",
    "      x[j] = x[j+1]\n",
    "      x[j+1] = tmp\n",
    "  NEXT j\n",
    "  IF is_swap == False THEN EXIT FOR\n",
    "NEXT i\n",
    "```\n"
   ]
  },
  {
   "cell_type": "markdown",
   "id": "011d3310",
   "metadata": {},
   "source": [
    "### Реализация алгоритма"
   ]
  },
  {
   "cell_type": "markdown",
   "id": "9a5db9b3",
   "metadata": {},
   "source": [
    "Достоинства алгоритма:\n",
    "    \n",
    "    -- простота реализации\n",
    "    \n",
    "Недостатки:\n",
    "\n",
    "    -- низкая эффективность"
   ]
  },
  {
   "cell_type": "code",
   "execution_count": null,
   "id": "0959b1f5",
   "metadata": {},
   "outputs": [],
   "source": [
    "def bublesort(X: List)->List:\n",
    "    '''Пузырьковая сортировка'''\n",
    "    n = len(X)\n",
    "    i = 0\n",
    "    while i < n-1:\n",
    "        j = 0\n",
    "        while j < n - 1 - i:\n",
    "            if X[j] > X[j+1]:\n",
    "                X[j], X[j+1] = X[j+1], X[j]\n",
    "            j += 1\n",
    "        i += 1\n",
    "    return X"
   ]
  },
  {
   "cell_type": "code",
   "execution_count": null,
   "id": "6b5a3266",
   "metadata": {},
   "outputs": [],
   "source": [
    "### Ручная трассировка\n",
    "\n",
    "По образцу Седжвик стр. 251"
   ]
  },
  {
   "cell_type": "code",
   "execution_count": null,
   "id": "0de87daa",
   "metadata": {},
   "outputs": [],
   "source": [
    "### Тестирование программы\n",
    "\n",
    "sortmethod = bublesort\n",
    "\n",
    "assert sortmethod([1, 2, 3, 4]) == [1, 2, 3, 4], 'Ошибка при сортировки отсортированного массива'\n",
    "\n",
    "assert sortmethod([4, 3, 2, 1]) == [1, 2, 3, 4], 'Ошибка при сортировки отсортированного в обратном порядке массива'\n",
    "\n",
    "assert sortmethod([1, 3, 4, 2]) == [1, 2, 3, 4], 'Ошибка при сортировки произвольного массива'\n",
    "\n",
    "assert sortmethod([1, 3, 1, 2]) == [1, 1, 2, 3], 'Ошибка при сортировки массива с повторящимися элементами'\n"
   ]
  },
  {
   "cell_type": "code",
   "execution_count": null,
   "id": "feb278f3",
   "metadata": {},
   "outputs": [],
   "source": [
    "# Набор данных для тестирования алгоритма\n",
    "\n",
    "def get_sort_array(n:int)->Tuple:\n",
    "    '''Возвращает отсортированный массив'''\n",
    "    return tuple(range(n))\n",
    "\n",
    "def get_reverse_array(n:int)->Tuple:\n",
    "    '''Возвращает отсортированный в обратном порядке массив'''\n",
    "    return tuple(range(n))[::-1]\n",
    "\n",
    "def get_random_array(n:int)->Tuple:\n",
    "    '''Возвращает перемешанный массив'''\n",
    "    return tuple(random.sample(range(n), n))\n"
   ]
  },
  {
   "cell_type": "code",
   "execution_count": null,
   "id": "aef1990b",
   "metadata": {},
   "outputs": [],
   "source": [
    "n1 = 1000\n",
    "x1_sort = get_sort_array(n1)\n",
    "x1_reverse = get_reverse_array(n1)\n",
    "x1_random = get_random_array(n1)"
   ]
  },
  {
   "cell_type": "code",
   "execution_count": null,
   "id": "7785e541",
   "metadata": {},
   "outputs": [],
   "source": [
    "%%time\n",
    "\n",
    "sortmethod(list(x1_sort));"
   ]
  },
  {
   "cell_type": "code",
   "execution_count": 3,
   "id": "45b2cba9",
   "metadata": {},
   "outputs": [
    {
     "name": "stdout",
     "output_type": "stream",
     "text": [
      "i =  0\n",
      "<5> <8>  12   7    6  \n",
      " ^---^\n",
      "\n",
      "\n",
      " 5   <8> <12>  7    6  \n",
      "      ^----^\n",
      "\n",
      "\n",
      " 5    8   <12> <7>  6  \n",
      "           ^----^\n",
      "\n",
      "\n",
      " 5    8    7   <12> <6>\n",
      "                ^----^\n",
      "\n",
      "\n",
      "i =  1\n",
      "<5> <8>  7    6    12 \n",
      " ^---^\n",
      "\n",
      "\n",
      " 5   <8> <7>  6    12 \n",
      "      ^---^\n",
      "\n",
      "\n",
      " 5    7   <8> <6>  12 \n",
      "           ^---^\n",
      "\n",
      "\n",
      "i =  2\n",
      "<5> <7>  6    8    12 \n",
      " ^---^\n",
      "\n",
      "\n",
      " 5   <7> <6>  8    12 \n",
      "      ^---^\n",
      "\n",
      "\n",
      "i =  3\n",
      "<5> <6>  7    8    12 \n",
      " ^---^\n",
      "\n",
      "\n"
     ]
    }
   ],
   "source": [
    "# Иллюстрация работы алгоритма\n",
    "\n",
    "def bublesort(X: List)->List:\n",
    "    '''Пузырьковая сортировка'''\n",
    "    n = len(X)\n",
    "    i = 0\n",
    "    while i < n-1:\n",
    "        print('i = ', i)\n",
    "        j = 0\n",
    "        while j < n - 1 - i:\n",
    "            print_swap(X, j, j+1)\n",
    "            if X[j] > X[j+1]: \n",
    "                X[j], X[j+1] = X[j+1], X[j]\n",
    "            j += 1\n",
    "        i += 1\n",
    "    return X\n",
    "        \n",
    "\n",
    "def print_swap(A, i, j):\n",
    "    '''Иллюстрация обмена элементов'''\n",
    "    s = [f' {str(a):<3}'  for a in A]\n",
    "    s[i] = f'<{s[i].strip()}>'\n",
    "    s[j] = f'<{s[j].strip()}>'\n",
    "    s = ' '.join(s)\n",
    "    I = s.find('<')\n",
    "    J = s.rfind('>') - I - 3\n",
    "    swap_str = ' ' + ' '*I + '^' + '-'*J + '^'\n",
    "    print(s)\n",
    "    print(swap_str, end='\\n\\n\\n')\n",
    "    \n",
    "    \n",
    "A = [5, 8, 12, 7, 6]\n",
    "A = bublesort(A)"
   ]
  },
  {
   "cell_type": "markdown",
   "id": "2cb9a45a",
   "metadata": {},
   "source": [
    "### Литература\n",
    "\n",
    "Роберт Седжвик. Фундаментальные алгоритмы на C. Анализ/Структуры данных/Сортировка/Поиск = Algorithms in C. Fundamentals/Data Structures/Sorting/Searching. — СПб.: ДиаСофтЮП, 2003. — С. 672. — ISBN 5-93772-081-4.\n",
    "\n",
    "https://ru.overleaf.com/learn/latex/LaTeX_Graphics_using_TikZ%3A_A_Tutorial_for_Beginners_(Part_3)%E2%80%94Creating_Flowcharts\n",
    "\n",
    "https://www.ctan.org/pkg/nassflow"
   ]
  },
  {
   "cell_type": "markdown",
   "id": "5908b10b",
   "metadata": {},
   "source": [
    "\n",
    "\n",
    "\n",
    "\n",
    "8. Провести сравнение указанных алгоритмов сортировки массивов, содержащих n1, n2, n3 и n4 элементов. \n",
    "9. Каждую функцию сортировки вызывать трижды: для сортировки упорядоченного массива, массива, упорядоченного в обратном порядке и неупорядоченного массива. Сортируемая последовательность для всех методов должна быть одинаковой (сортировать копии одного массива). \n",
    "10. Проиллюстрировать эффективность алгоритмов сортировок по заданному критерию. Построить диаграммы указанных зависимостей."
   ]
  }
 ],
 "metadata": {
  "kernelspec": {
   "display_name": "Python 3 (ipykernel)",
   "language": "python",
   "name": "python3"
  },
  "language_info": {
   "codemirror_mode": {
    "name": "ipython",
    "version": 3
   },
   "file_extension": ".py",
   "mimetype": "text/x-python",
   "name": "python",
   "nbconvert_exporter": "python",
   "pygments_lexer": "ipython3",
   "version": "3.11.2"
  }
 },
 "nbformat": 4,
 "nbformat_minor": 5
}
