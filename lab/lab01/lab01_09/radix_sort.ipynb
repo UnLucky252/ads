{
 "cells": [
  {
   "cell_type": "code",
   "execution_count": 7,
   "id": "f68415ee",
   "metadata": {},
   "outputs": [],
   "source": [
    "import random\n",
    "\n",
    "from typing import List, Tuple\n",
    "from wand.image import Image as WImage"
   ]
  },
  {
   "cell_type": "markdown",
   "id": "93a4f2bc",
   "metadata": {},
   "source": [
    "# Лабораторная работа 1. Методы сортировки\n",
    "\n",
    "Вариант: 9"
   ]
  },
  {
   "cell_type": "markdown",
   "id": "fd19520b",
   "metadata": {},
   "source": [
    "## Поразрядная сортировка (radix sort)\n",
    "\n",
    "Существует два варианта реализации для чисел и строк текста:\n",
    "- по правой стороне, в сторону единиц — LSD от least significant digit\n",
    "\n",
    "- по левой стороне, со стороны более значащих разрядов — MSD от most significant digit"
   ]
  },
  {
   "cell_type": "markdown",
   "id": "e5103e92",
   "metadata": {},
   "source": [
    "### Классификация алгоритма:\n",
    "\n",
    "- По типу алгоритма: обменная сортировка\n",
    "\n",
    "- По устойчивости: устойчивый\n",
    "\n",
    "- По месту хранения данных: на месте\n",
    "\n",
    "- По выделению дополнительного пространства: требуется дополнительная память\n",
    "\n",
    "- По дополнительным затратам памяти: $O(n)$\n",
    "   \n",
    "- Время выполнения:\n",
    "  \n",
    "  - В худшем случае: $O(nk)$\n",
    "  \n",
    "  - В лучшем случае: $O(nk)$\n",
    "  \n",
    "  - В среднем: $O(nk)$\n",
    "  \n",
    "  k - количество разрядов в самом длинном числе"
   ]
  },
  {
   "cell_type": "markdown",
   "id": "6ad8dff4",
   "metadata": {},
   "source": [
    "### Описание алгоритма:\n",
    "\n",
    "Сравнение производится поразрядно: сначала сравниваются значения одного крайнего разряда, и элементы группируются по результатам этого сравнения, затем сравниваются значения следующего разряда, соседнего, и элементы либо упорядочиваются по результатам сравнения значений этого разряда внутри образованных на предыдущем проходе групп, либо переупорядочиваются в целом, но сохраняя относительный порядок, достигнутый при предыдущей сортировке. Затем аналогично делается для следующего разряда, и так до конца."
   ]
  },
  {
   "cell_type": "code",
   "execution_count": 8,
   "id": "6f908ba0",
   "metadata": {},
   "outputs": [
    {
     "data": {
      "image/png": "[encoded data removed]",
      "text/plain": [
       "<wand.image.Image: 32fa0ac 'PDF' (612x792)>"
      ]
     },
     "execution_count": 8,
     "metadata": {},
     "output_type": "execute_result"
    }
   ],
   "source": [
    "### Блок-схема алгоритма\n",
    "img = WImage(filename='./img/test_2.pdf')\n",
    "img"
   ]
  },
  {
   "cell_type": "markdown",
   "id": "1184e973",
   "metadata": {},
   "source": [
    "### Псевдокод алгоритма\n",
    "\n",
    "```\n",
    "k=length of max number\n",
    "FOR от i=0 до k do\n",
    " Make new array for 10 elements \n",
    "  FOR x in A\n",
    "   pos_in_array = x // 10**i % 10\n",
    "    add x into B[pos_in_array]\n",
    "  A = []\n",
    "  FOR от j=0 до 10 do\n",
    "   A = A + B[j]\n",
    "```\n"
   ]
  },
  {
   "cell_type": "markdown",
   "id": "011d3310",
   "metadata": {},
   "source": [
    "### Реализация алгоритма"
   ]
  },
  {
   "cell_type": "markdown",
   "id": "9a5db9b3",
   "metadata": {},
   "source": [
    "Достоинства алгоритма:\n",
    "    \n",
    "    -- простота реализации\n",
    "    -- высокая эффективность\n",
    "    -- возможность сортировки любых данных, сравнимых между собой\n",
    "    \n",
    "Недостатки:\n",
    "\n",
    "    -- необходима дополнительная память"
   ]
  },
  {
   "cell_type": "code",
   "execution_count": null,
   "id": "0959b1f5",
   "metadata": {},
   "outputs": [],
   "source": [
    "def radix_sort(A: List) -> List:\n",
    "    k = len(str(max(A)))\n",
    "    variety = 10\n",
    "    for i in range(k):\n",
    "        B = [[] for j in range(variety)]\n",
    "        for x in A:\n",
    "            figure = x // 10**i % 10\n",
    "            B[figure].append(x)\n",
    "        A = []\n",
    "        for j in range(variety):\n",
    "            A = A + B[j]\n",
    "    return A"
   ]
  },
  {
   "cell_type": "markdown",
   "id": "8eb8abdf",
   "metadata": {},
   "source": [
    "### Реализация алгоритма\n",
    "| step | elements      |\n",
    "|:-----|:--------------|\n",
    "| 1    | 51, 1, 32, 4, 2 |\n",
    "| 2    | [ ] [51] [ ] [ ] [ ] [ ] [ ] [ ] [ ] [ ] |\n",
    "| 3    | [ ] [51, 1] [ ] [ ] [ ] [ ] [ ] [ ] [ ] [ ] |\n",
    "| 4    | [ ] [51, 1] [32] [ ] [ ] [ ] [ ] [ ] [ ] [ ] |\n",
    "| 5    | [ ] [51, 1] [32] [ ] [4] [ ] [ ] [ ] [ ] [ ] |\n",
    "| 6    | [ ] [ ] [ ] [ ] [ ] [ ] [ ] [ ] [ ] [ ] |\n",
    "| 7    | [ ] [ ] [ ] [ ] [ ] [51] [ ] [ ] [ ] [ ] |\n",
    "| 8    | [1] [ ] [ ] [ ] [ ] [51] [ ] [ ] [ ] [ ] |\n",
    "| 9    | [1, 2] [ ] [ ] [ ] [ ] [51] [ ] [ ] [ ] [ ] |\n",
    "| 10   | [1, 2] [ ] [ ] [32] [ ] [51] [ ] [ ] [ ] [ ] |\n",
    "| 11   | 1, 2, 4, 32, 51 |"
   ]
  },
  {
   "cell_type": "code",
   "execution_count": null,
   "id": "0de87daa",
   "metadata": {},
   "outputs": [],
   "source": [
    "### Тестирование программы\n",
    "\n",
    "sortmethod = radix_sort\n",
    "\n",
    "assert sortmethod([1, 2, 3, 4]) == [1, 2, 3, 4], 'Ошибка при сортировки отсортированного массива'\n",
    "\n",
    "assert sortmethod([4, 3, 2, 1]) == [1, 2, 3, 4], 'Ошибка при сортировки отсортированного в обратном порядке массива'\n",
    "\n",
    "assert sortmethod([1, 3, 4, 2]) == [1, 2, 3, 4], 'Ошибка при сортировки произвольного массива'\n",
    "\n",
    "assert sortmethod([1, 3, 1, 2]) == [1, 1, 2, 3], 'Ошибка при сортировки массива с повторящимися элементами'\n"
   ]
  },
  {
   "cell_type": "code",
   "execution_count": null,
   "id": "feb278f3",
   "metadata": {},
   "outputs": [],
   "source": [
    "# Набор данных для тестирования алгоритма\n",
    "\n",
    "def get_sort_array(n:int)->Tuple:\n",
    "    '''Возвращает отсортированный массив'''\n",
    "    return tuple(range(n))\n",
    "\n",
    "def get_reverse_array(n:int)->Tuple:\n",
    "    '''Возвращает отсортированный в обратном порядке массив'''\n",
    "    return tuple(range(n))[::-1]\n",
    "\n",
    "def get_random_array(n:int)->Tuple:\n",
    "    '''Возвращает перемешанный массив'''\n",
    "    return tuple(random.sample(range(n), n))\n"
   ]
  },
  {
   "cell_type": "code",
   "execution_count": null,
   "id": "aef1990b",
   "metadata": {},
   "outputs": [],
   "source": [
    "from datetime import datetime\n",
    "\n",
    "length = [500, 1000, 10000, 100000, 1000000]\n",
    "cpu_times = {\n",
    "    'sort_array' : [],\n",
    "    'reverse_array' : [],\n",
    "    'random_array' : []\n",
    "}\n",
    "\n",
    "for arr_len in length:\n",
    "    # Для сортированного массива\n",
    "    start_time = datetime.now()\n",
    "    sortmethod(list(get_sort_array(arr_len)))\n",
    "    cpu_times['sort_array'].append(str(datetime.now() - start_time))\n",
    "\n",
    "    # Для перевернутого массива\n",
    "    start_time = datetime.now()\n",
    "    sortmethod(list(get_reverse_array(arr_len)))\n",
    "    cpu_times['reverse_array'].append(str(datetime.now() - start_time))\n",
    "\n",
    "    # Для рандомного массива\n",
    "    start_time = datetime.now()\n",
    "    sortmethod(list(get_random_array(arr_len)))\n",
    "    cpu_times['random_array'].append(str(datetime.now() - start_time))"
   ]
  },
  {
   "cell_type": "code",
   "execution_count": null,
   "id": "4de6d0d2",
   "metadata": {},
   "outputs": [],
   "source": [
    "from matplotlib import pyplot\n",
    "\n",
    "for key in cpu_times:\n",
    "    pyplot.plot(length, cpu_times[key])\n",
    "    pyplot.title(key)\n",
    "    pyplot.xlabel('array size')\n",
    "    pyplot.ylabel('time')\n",
    "    pyplot.show()\n",
    "pyplot.show()"
   ]
  },
  {
   "cell_type": "markdown",
   "id": "2cb9a45a",
   "metadata": {},
   "source": [
    "### Литература\n",
    "\n",
    "Роберт Седжвик. Фундаментальные алгоритмы на C. Анализ/Структуры данных/Сортировка/Поиск = Algorithms in C. Fundamentals/Data Structures/Sorting/Searching. — СПб.: ДиаСофтЮП, 2003. — С. 672. — ISBN 5-93772-081-4.\n",
    "\n",
    "https://ru.overleaf.com/learn/latex/LaTeX_Graphics_using_TikZ%3A_A_Tutorial_for_Beginners_(Part_3)%E2%80%94Creating_Flowcharts\n",
    "\n",
    "https://www.ctan.org/pkg/nassflow"
   ]
  }
 ],
 "metadata": {
  "kernelspec": {
   "display_name": "Python 3 (ipykernel)",
   "language": "python",
   "name": "python3"
  },
  "language_info": {
   "codemirror_mode": {
    "name": "ipython",
    "version": 3
   },
   "file_extension": ".py",
   "mimetype": "text/x-python",
   "name": "python",
   "nbconvert_exporter": "python",
   "pygments_lexer": "ipython3",
   "version": "3.8.10"
  }
 },
 "nbformat": 4,
 "nbformat_minor": 5
}
