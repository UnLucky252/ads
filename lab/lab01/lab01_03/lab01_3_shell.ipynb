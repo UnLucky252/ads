{
 "cells": [
  {
   "cell_type": "code",
   "execution_count": 46,
   "id": "f68415ee",
   "metadata": {},
   "outputs": [],
   "source": [
    "import random, math\n",
    "\n",
    "from typing import List, Tuple"
   ]
  },
  {
   "cell_type": "markdown",
   "id": "93a4f2bc",
   "metadata": {
    "tags": []
   },
   "source": [
    "# Лабораторная работа 1. Методы сортировки\n",
    "\n",
    "Вариант: 3"
   ]
  },
  {
   "cell_type": "markdown",
   "id": "fd19520b",
   "metadata": {},
   "source": [
    "## Сортировка Шелла (shell sort)\n",
    "\n",
    "Другие названия: \n",
    "\n",
    "- Сортировка вставками с предварительными «грубыми» проходами\n",
    "\n",
    "- Сортировка с уменьшением инкремента"
   ]
  },
  {
   "cell_type": "markdown",
   "id": "e5103e92",
   "metadata": {},
   "source": [
    "### Классификация алгоритма:\n",
    "\n",
    "- По типу алгоритма: обменная сортировка\n",
    "\n",
    "- По устойчивости: неустойчивый\n",
    "\n",
    "- По месту хранения данных: на месте\n",
    "\n",
    "- По выделению дополнительного пространства: сортировка на месте\n",
    "\n",
    "- По дополнительным затратам памяти: $O(n)$ всего, $O(1)$ дополнительно\n",
    "   \n",
    "- Время выполнения: \n",
    "  \n",
    "  - В худшем случае: $O(nlog_2n^2)$\n",
    "  \n",
    "  - В лучшем случае: $O(n)$\n",
    "  \n",
    "  - В среднем: $O(n^2)$, но зависит от выбранных шагов"
   ]
  },
  {
   "cell_type": "markdown",
   "id": "6ad8dff4",
   "metadata": {},
   "source": [
    "### Описание алгоритма:\n",
    "\n",
    "При сортировке Шелла сначала сравниваются и сортируются между собой значения, отстоящие один от другого на некотором расстоянии d. После этого процедура повторяется для некоторых меньших значений d, а завершается сортировка Шелла упорядочиванием элементов при d=1 (то есть обычной сортировкой вставками). Эффективность сортировки Шелла в определённых случаях обеспечивается тем, что элементы «быстрее» встают на свои места (в простых методах сортировки, например, пузырьковой, каждая перестановка двух элементов уменьшает количество инверсий в списке максимум на 1, а при сортировке Шелла это число может быть больше).\n",
    "\n",
    "Невзирая на то, что сортировка Шелла во многих случаях медленнее, чем быстрая сортировка, она имеет ряд преимуществ:\n",
    "- отсутствие потребности в памяти под стек;\n",
    "- отсутствие деградации при неудачных наборах данных — быстрая сортировка легко деградирует до O(n²), что хуже, чем худшее гарантированное время для сортировки Шелла."
   ]
  },
  {
   "attachments": {
    "2e21488d-6139-45e8-8e3a-19e837dbc2b0.jpg": {
     "image/jpeg": "[encoded data removed]"
    }
   },
   "cell_type": "markdown",
   "id": "43b3e42c",
   "metadata": {
    "tags": []
   },
   "source": [
    "### Блок-схема алгоритма\n",
    "\n",
    "![img-BMlB_L.jpg](attachment:2e21488d-6139-45e8-8e3a-19e837dbc2b0.jpg)"
   ]
  },
  {
   "cell_type": "markdown",
   "id": "a1f85858-d755-4f6b-9f6f-e5e85443e2eb",
   "metadata": {},
   "source": [
    "### Псевдокод алгоритма\n",
    "\n",
    "```\n",
    "ЗАДАЧА Шелл(a=: РЯД ИЗ ЦЕЛ);\n",
    "ПЕР\n",
    "  b,i,j,k,h: ЦЕЛ;\n",
    "УКАЗ\n",
    "  b:=РАЗМЕР(a);\n",
    "  k:=b ДЕЛИТЬ 2;\n",
    "  ПОКА k>0 ВЫП\n",
    "    ОТ i:=1 ДО b-k ВЫП\n",
    "      j:=i;\n",
    "      ПОКА (j>=1) И (a[j]>a[j+k]) ВЫП\n",
    "        h:=a[j];\n",
    "        a[j]:=a[j+k];\n",
    "        a[j+k]:=h;\n",
    "        УМЕНЬШИТЬ(j);\n",
    "      КОН;\n",
    "    КОН;\n",
    "    k:=k ДЕЛИТЬ 2\n",
    "  КОН\n",
    "КОН Шелл;\n",
    "```\n"
   ]
  },
  {
   "cell_type": "markdown",
   "id": "dcff8086-3e87-44a8-bd8b-7cb44025ad35",
   "metadata": {},
   "source": [
    "### Реализация алгоритма"
   ]
  },
  {
   "cell_type": "markdown",
   "id": "9a5db9b3",
   "metadata": {},
   "source": [
    "Достоинства алгоритма:\n",
    "    \n",
    "    --  отсутствие потребности в памяти под стек;\n",
    "    --  отсутствие деградации при неудачных наборах данных.\n",
    "    \n",
    "Недостатки:\n",
    "\n",
    "    --  во многих случаях медленнее, чем быстрая сортировка;\n",
    "    --  является неустойчивым алгоритмом."
   ]
  },
  {
   "cell_type": "code",
   "execution_count": 120,
   "id": "0959b1f5",
   "metadata": {},
   "outputs": [],
   "source": [
    "def shellSort(data):\n",
    "    inc = len(data) // 2\n",
    "    while inc:\n",
    "        for i, el in enumerate(data):\n",
    "            while i >= inc and data[i - inc] > el:\n",
    "                data[i] = data[i - inc]\n",
    "                i -= inc\n",
    "            data[i] = el\n",
    "        inc = 1 if inc == 2 else int(inc * 5.0 / 11)\n",
    "    return data"
   ]
  },
  {
   "cell_type": "code",
   "execution_count": null,
   "id": "9cd547c1-4684-4ccc-bcc2-662c209414ef",
   "metadata": {},
   "outputs": [],
   "source": [
    "### Ручная трассировка\n",
    "\n",
    "По образцу Седжвик стр. 251"
   ]
  },
  {
   "cell_type": "code",
   "execution_count": 121,
   "id": "0de87daa",
   "metadata": {},
   "outputs": [],
   "source": [
    "### Тестирование программы\n",
    "\n",
    "sortmethod = shellSort\n",
    "\n",
    "assert sortmethod([1, 2, 3, 4]) == [1, 2, 3, 4], 'Ошибка при сортировки отсортированного массива'\n",
    "\n",
    "assert sortmethod([4, 3, 2, 1]) == [1, 2, 3, 4], 'Ошибка при сортировки отсортированного в обратном порядке массива'\n",
    "\n",
    "assert sortmethod([1, 3, 4, 2]) == [1, 2, 3, 4], 'Ошибка при сортировки произвольного массива'\n",
    "\n",
    "assert sortmethod([1, 3, 1, 2]) == [1, 1, 2, 3], 'Ошибка при сортировки массива с повторящимися элементами'\n"
   ]
  },
  {
   "cell_type": "code",
   "execution_count": 122,
   "id": "feb278f3",
   "metadata": {},
   "outputs": [],
   "source": [
    "# Набор данных для тестирования алгоритма\n",
    "\n",
    "def get_sort_array(n:int)->Tuple:\n",
    "    '''Возвращает отсортированный массив'''\n",
    "    return tuple(range(n))\n",
    "\n",
    "def get_reverse_array(n:int)->Tuple:\n",
    "    '''Возвращает отсортированный в обратном порядке массив'''\n",
    "    return tuple(range(n))[::-1]\n",
    "\n",
    "def get_random_array(n:int)->Tuple:\n",
    "    '''Возвращает перемешанный массив'''\n",
    "    return tuple(random.sample(range(n), n))\n"
   ]
  },
  {
   "cell_type": "code",
   "execution_count": 142,
   "id": "cc48ecdf-98ae-49a5-88ab-0271a2254cc4",
   "metadata": {},
   "outputs": [],
   "source": [
    "n1 = 1000\n",
    "n2 = 5000\n",
    "n3 = 10000\n",
    "n4 = 100000\n",
    "\n",
    "x1_sort = get_sort_array(n1)\n",
    "x1_reverse = get_reverse_array(n1)\n",
    "x1_random = get_random_array(n1)\n",
    "x2_sort = get_sort_array(n2)\n",
    "x2_reverse = get_reverse_array(n2)\n",
    "x2_random = get_random_array(n2)\n",
    "x3_sort = get_sort_array(n3)\n",
    "x3_reverse = get_reverse_array(n3)\n",
    "x3_random = get_random_array(n3)\n",
    "x4_sort = get_sort_array(n4)\n",
    "x4_reverse = get_reverse_array(n4)\n",
    "x4_random = get_random_array(n4)"
   ]
  },
  {
   "cell_type": "code",
   "execution_count": 143,
   "id": "2457152e-9a3a-4d26-b40b-301e66c047c1",
   "metadata": {},
   "outputs": [
    {
     "name": "stdout",
     "output_type": "stream",
     "text": [
      "CPU times: total: 0 ns\n",
      "Wall time: 1.63 ms\n"
     ]
    }
   ],
   "source": [
    "%%time\n",
    "\n",
    "sortmethod(list(x1_sort));"
   ]
  },
  {
   "cell_type": "code",
   "execution_count": 144,
   "id": "3faed350-bb66-4029-bf04-8ab3190808e0",
   "metadata": {},
   "outputs": [
    {
     "name": "stdout",
     "output_type": "stream",
     "text": [
      "CPU times: total: 0 ns\n",
      "Wall time: 0 ns\n"
     ]
    }
   ],
   "source": [
    "%%time\n",
    "\n",
    "sortmethod(list(x1_reverse));"
   ]
  },
  {
   "cell_type": "code",
   "execution_count": 145,
   "id": "c432c382-651a-43a7-afd3-f92c7aa82d09",
   "metadata": {},
   "outputs": [
    {
     "name": "stdout",
     "output_type": "stream",
     "text": [
      "CPU times: total: 0 ns\n",
      "Wall time: 8.5 ms\n"
     ]
    }
   ],
   "source": [
    "%%time\n",
    "\n",
    "sortmethod(list(x1_random));"
   ]
  },
  {
   "cell_type": "code",
   "execution_count": 146,
   "id": "60761aa0-b11b-4d71-812b-8ed1956afe6f",
   "metadata": {},
   "outputs": [
    {
     "name": "stdout",
     "output_type": "stream",
     "text": [
      "CPU times: total: 0 ns\n",
      "Wall time: 5.76 ms\n"
     ]
    }
   ],
   "source": [
    "%%time\n",
    "\n",
    "sortmethod(list(x2_sort));"
   ]
  },
  {
   "cell_type": "code",
   "execution_count": 147,
   "id": "161dc820-ad39-4e7d-b9c8-c8624218b3d8",
   "metadata": {},
   "outputs": [
    {
     "name": "stdout",
     "output_type": "stream",
     "text": [
      "CPU times: total: 15.6 ms\n",
      "Wall time: 8.01 ms\n"
     ]
    }
   ],
   "source": [
    "%%time\n",
    "\n",
    "sortmethod(list(x2_reverse));"
   ]
  },
  {
   "cell_type": "code",
   "execution_count": 148,
   "id": "5ca395ee-e950-4417-b049-2cc8e4001631",
   "metadata": {},
   "outputs": [
    {
     "name": "stdout",
     "output_type": "stream",
     "text": [
      "CPU times: total: 15.6 ms\n",
      "Wall time: 16.4 ms\n"
     ]
    }
   ],
   "source": [
    "%%time\n",
    "\n",
    "sortmethod(list(x2_random));"
   ]
  },
  {
   "cell_type": "code",
   "execution_count": 149,
   "id": "4d5149a6-928c-4b8b-ab8c-269b9495fd7f",
   "metadata": {},
   "outputs": [
    {
     "name": "stdout",
     "output_type": "stream",
     "text": [
      "CPU times: total: 15.6 ms\n",
      "Wall time: 14.8 ms\n"
     ]
    }
   ],
   "source": [
    "%%time\n",
    "\n",
    "sortmethod(list(x3_sort));"
   ]
  },
  {
   "cell_type": "code",
   "execution_count": 150,
   "id": "bb856e96-05ec-48ce-a311-f6bef9992a2e",
   "metadata": {},
   "outputs": [
    {
     "name": "stdout",
     "output_type": "stream",
     "text": [
      "CPU times: total: 0 ns\n",
      "Wall time: 16.6 ms\n"
     ]
    }
   ],
   "source": [
    "%%time\n",
    "\n",
    "sortmethod(list(x3_reverse));"
   ]
  },
  {
   "cell_type": "code",
   "execution_count": 151,
   "id": "1a4be53a-4a80-4590-969d-8186af06c271",
   "metadata": {},
   "outputs": [
    {
     "name": "stdout",
     "output_type": "stream",
     "text": [
      "CPU times: total: 31.2 ms\n",
      "Wall time: 40.8 ms\n"
     ]
    }
   ],
   "source": [
    "%%time\n",
    "\n",
    "sortmethod(list(x3_random));"
   ]
  },
  {
   "cell_type": "code",
   "execution_count": 152,
   "id": "7785e541",
   "metadata": {},
   "outputs": [
    {
     "name": "stdout",
     "output_type": "stream",
     "text": [
      "CPU times: total: 188 ms\n",
      "Wall time: 196 ms\n"
     ]
    }
   ],
   "source": [
    "%%time\n",
    "\n",
    "sortmethod(list(x4_sort));"
   ]
  },
  {
   "cell_type": "code",
   "execution_count": 153,
   "id": "ec07e31d-1354-4fa7-9474-984299a29e6e",
   "metadata": {},
   "outputs": [
    {
     "name": "stdout",
     "output_type": "stream",
     "text": [
      "CPU times: total: 344 ms\n",
      "Wall time: 329 ms\n"
     ]
    }
   ],
   "source": [
    "%%time\n",
    "\n",
    "sortmethod(list(x4_reverse));"
   ]
  },
  {
   "cell_type": "code",
   "execution_count": 154,
   "id": "851fda99-30a0-4f79-bdd2-272ab7b011db",
   "metadata": {},
   "outputs": [
    {
     "name": "stdout",
     "output_type": "stream",
     "text": [
      "CPU times: total: 500 ms\n",
      "Wall time: 517 ms\n"
     ]
    }
   ],
   "source": [
    "%%time\n",
    "\n",
    "sortmethod(list(x4_random));"
   ]
  },
  {
   "cell_type": "code",
   "execution_count": 6,
   "id": "586f3324-1b73-45d3-91b3-b6fceaf00237",
   "metadata": {},
   "outputs": [
    {
     "name": "stdout",
     "output_type": "stream",
     "text": [
      "i = 1\n",
      "<5>  6    12  <7>  8  \n",
      " ^-------------^\n",
      "\n",
      "\n",
      "i = 2\n",
      " 5   <6>  12   7   <8>\n",
      "      ^-------------^\n",
      "\n",
      "\n",
      "i = 3\n",
      "<5>  6   <12>  7    8  \n",
      " ^---------^\n",
      "\n",
      "\n",
      "i = 4\n",
      " 5   <6>  12  <7>  8  \n",
      "      ^--------^\n",
      "\n",
      "\n",
      "i = 5\n",
      " 5    6   <12>  7   <8>\n",
      "           ^---------^\n",
      "\n",
      "\n",
      "i = 6\n",
      "<5> <6>  8    7    12 \n",
      " ^---^\n",
      "\n",
      "\n",
      "i = 7\n",
      " 5   <6> <8>  7    12 \n",
      "      ^---^\n",
      "\n",
      "\n",
      "i = 8\n",
      " 5    6   <8> <7>  12 \n",
      "           ^---^\n",
      "\n",
      "\n",
      "i = 9\n",
      " 5    6    7   <8> <12>\n",
      "                ^----^\n",
      "\n",
      "\n"
     ]
    }
   ],
   "source": [
    "#Илюстрация работы алгоритма \n",
    "\n",
    "def shellSort(data):\n",
    "    temp = 1\n",
    "    inc = len(data) // 2\n",
    "    while inc:\n",
    "        for i, el in enumerate(data):\n",
    "            if not (i == 0 and inc == 1):\n",
    "                print('i =', temp)\n",
    "                temp += 1\n",
    "                print_swap(data, i, i - inc)\n",
    "            while i >= inc and data[i - inc] > el:\n",
    "                data[i] = data[i - inc]\n",
    "                i -= inc\n",
    "            data[i] = el\n",
    "        inc = 1 if inc == 2 else int(inc * 4.0 / 11)\n",
    "    return data\n",
    "    \n",
    "def print_swap(A, i, j):\n",
    "    '''Иллюстрация обмена элементов'''\n",
    "    s = [f' {str(a):<3}'  for a in A]\n",
    "    s[i] = f'<{s[i].strip()}>'\n",
    "    s[j] = f'<{s[j].strip()}>'\n",
    "    s = ' '.join(s)\n",
    "    I = s.find('<')\n",
    "    J = s.rfind('>') - I - 3\n",
    "    swap_str = ' ' + ' '*I + '^' + '-'*J + '^'\n",
    "    print(s)\n",
    "    print(swap_str, end='\\n\\n\\n')\n",
    "    \n",
    "    \n",
    "A = [5, 6, 12, 7, 8]\n",
    "A = shellSort(A)"
   ]
  },
  {
   "cell_type": "markdown",
   "id": "64b5d1e0-bd7b-4f48-a4e8-45062cb130ff",
   "metadata": {},
   "source": [
    "https://www.youtube.com/watch?v=CmPA7zE8mx0"
   ]
  },
  {
   "cell_type": "markdown",
   "id": "2cb9a45a",
   "metadata": {},
   "source": [
    "### Литература\n",
    "\n",
    "Роберт Седжвик. Фундаментальные алгоритмы на C. Анализ/Структуры данных/Сортировка/Поиск = Algorithms in C. Fundamentals/Data Structures/Sorting/Searching. — СПб.: ДиаСофтЮП, 2003. — С. 672. — ISBN 5-93772-081-4.\n",
    "\n",
    "https://ru.overleaf.com/learn/latex/LaTeX_Graphics_using_TikZ%3A_A_Tutorial_for_Beginners_(Part_3)%E2%80%94Creating_Flowcharts\n",
    "\n",
    "https://www.ctan.org/pkg/nassflow"
   ]
  }
 ],
 "metadata": {
  "kernelspec": {
   "display_name": "Python 3 (ipykernel)",
   "language": "python",
   "name": "python3"
  },
  "language_info": {
   "codemirror_mode": {
    "name": "ipython",
    "version": 3
   },
   "file_extension": ".py",
   "mimetype": "text/x-python",
   "name": "python",
   "nbconvert_exporter": "python",
   "pygments_lexer": "ipython3",
   "version": "3.10.9"
  }
 },
 "nbformat": 4,
 "nbformat_minor": 5
}
