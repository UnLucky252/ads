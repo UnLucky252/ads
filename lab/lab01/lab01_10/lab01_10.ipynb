{
 "cells": [
  {
   "cell_type": "code",
   "execution_count": 1,
   "id": "17849eac-5aa4-4770-9140-3f4a5ab6efa1",
   "metadata": {},
   "outputs": [],
   "source": [
    "import random\n",
    "from wand.image import Image as WImage\n",
    "import numpy as np\n",
    "import matplotlib.pyplot as plt\n",
    "\n",
    "\n",
    "from typing import List, Tuple"
   ]
  },
  {
   "cell_type": "markdown",
   "id": "1a29bbad-98a9-45dd-8cee-fbc8944a0a8a",
   "metadata": {
    "tags": []
   },
   "source": [
    "# Лабораторная работа 1. Методы сортировки\n",
    "\n",
    "Вариант: 10"
   ]
  },
  {
   "cell_type": "markdown",
   "id": "e3858409-d489-4a82-984c-66957bc51f69",
   "metadata": {
    "tags": []
   },
   "source": [
    "## Сортировка деревом (Tree sort)\n",
    "\n",
    "Другие названия: \n",
    "\n",
    "- Cортировка двоичным деревом\n",
    "\n",
    "- Cортировка деревом\n",
    "\n",
    "- Древесная сортировка\n",
    "\n",
    "- Сортировка с помощью бинарного дерева"
   ]
  },
  {
   "cell_type": "markdown",
   "id": "b6d04a5b-9681-4814-9ba3-e28d66c616a0",
   "metadata": {
    "jp-MarkdownHeadingCollapsed": true,
    "tags": []
   },
   "source": [
    "### Классификация алгоритма:"
   ]
  },
  {
   "cell_type": "markdown",
   "id": "598b4312-1484-4a0f-9817-4e47f7b2e757",
   "metadata": {},
   "source": [
    "- По типу алгоритма: внешняя сортировка\n",
    "\n",
    "- По устойчивости: Зависит от реализации (реализация представленная ниже является устойчивой)\n",
    "\n",
    "- По месту хранения данных: Оперативное запоминающее устройство\n",
    "\n",
    "- По выделению дополнительного пространства: требуется не менее чем $4n$ ячеек дополнительной памяти, но существуют способы уменьшение требуемой памяти\n",
    "\n",
    "- По дополнительным затратам памяти: $O(n)$\n",
    "   \n",
    "- Время выполнения: \n",
    "  \n",
    "  - В худшем случае: $O(n^2)$\n",
    "  \n",
    "  - В лучшем случае: $O(n \\times log(n))$\n",
    "  \n",
    "  - В среднем: $O(n \\times log(n))$"
   ]
  },
  {
   "cell_type": "markdown",
   "id": "913c98e3-ccad-45e7-ae15-c716fdd6ae09",
   "metadata": {
    "jp-MarkdownHeadingCollapsed": true,
    "tags": []
   },
   "source": [
    "### Описание алгоритма:"
   ]
  },
  {
   "cell_type": "markdown",
   "id": "b9cd89c1-1ee7-414b-8c70-3111a164571d",
   "metadata": {},
   "source": [
    "Сортировка деревом - алгоритм сортироовки, создающий дерево бинарного поиска из сортируемых элементов. Затем происходит проход по дереву в необходимом порядке, чтобы вернуть элементы в отсортированном порядке.\n",
    "\n",
    "Двоичным(бинарным) деревом назовем упорядоченную структуру данных, \n",
    "в которой каждому элементу - предшественнику или корню (под)дерева - \n",
    "поставлены в соответствие по крайней мере два других элемента (преемника).\n",
    "\n",
    "Причем для каждого предшественника выполнено следующее правило: \n",
    "левый преемник всегда меньше, а правый преемник всегда больше или равен\n",
    "предшественнику. \n",
    "\n",
    "После создания дерева необходимо обойти его в $InOorderTraversal$\n",
    " — обход узлов в отсортированном порядке"
   ]
  },
  {
   "cell_type": "markdown",
   "id": "487e7ea7-12a6-484a-9aaa-cd410e7d4579",
   "metadata": {
    "tags": []
   },
   "source": [
    "### Блок-схемы алгоритма"
   ]
  },
  {
   "cell_type": "markdown",
   "id": "7db800c4-c43b-4774-9312-c5ece3073fe3",
   "metadata": {},
   "source": [
    "<img src='./src/scheme2.jpg'> Создание бинарного дерева </img>"
   ]
  },
  {
   "cell_type": "markdown",
   "id": "9c1b9070-9254-4267-bac2-193cbe652cb5",
   "metadata": {},
   "source": [
    "<img src='./src/scheme1.jpg'> Проход по дереву в отсортированном порядке  </img>"
   ]
  },
  {
   "cell_type": "markdown",
   "id": "7fb28bcf-b9b5-489c-b21f-47b8ddc6f707",
   "metadata": {
    "jp-MarkdownHeadingCollapsed": true,
    "tags": []
   },
   "source": [
    "### Псевдокод алгоритма"
   ]
  },
  {
   "cell_type": "markdown",
   "id": "4d972557-1f15-479a-9ff7-2d13c4f00d93",
   "metadata": {},
   "source": [
    "\n",
    "```c\n",
    "template <typename T>\n",
    "class Node{\n",
    "    Node(T value_){\n",
    "        T value = value_;\n",
    "        Node* left_node = nullptr;\n",
    "        Node* right_node = nullptr;\n",
    "    }\n",
    "}\n",
    "\n",
    "void insert(Node* root, Node* node){\n",
    "    if(root == nullptr){\n",
    "        root = node;\n",
    "    }\n",
    "    else{\n",
    "        if(root.value <= node.value){\n",
    "            if(root.right_node == nullptr){\n",
    "                root.right_node = node;\n",
    "            } else{\n",
    "                insert(root.right_node, node);\n",
    "            }\n",
    "        }\n",
    "        else{\n",
    "            if(root.left_node == nullptr){\n",
    "                root.left_node = node;\n",
    "            } \n",
    "            else {\n",
    "                insert(root.left_node, node);\n",
    "            }\n",
    "        }\n",
    "    }\n",
    "}\n",
    "\n",
    "template<typename T>\n",
    "void in_order_traversal(Node* root, array result){\n",
    "    if (root != nullptr){\n",
    "        in_order_traversal(root.left, result);\n",
    "        result.push(root.value);\n",
    "        in_order_traversal(root.right, result);\n",
    "    }\n",
    "}\n",
    "\n",
    "array tree_sort(array arr){\n",
    "    Node root = Node(arr[0]);\n",
    "    for i in range(1, len(arr)){\n",
    "        insert(root, Node(arr[i]));\n",
    "    }\n",
    "    array result;\n",
    "    in_order_traversal(root, result);\n",
    "    return result\n",
    "}\n",
    "\n",
    "```"
   ]
  },
  {
   "cell_type": "markdown",
   "id": "98d5df3f-b6ad-447d-a12b-6f6c06acf242",
   "metadata": {
    "jp-MarkdownHeadingCollapsed": true,
    "tags": []
   },
   "source": [
    "### Реализация алгоритма"
   ]
  },
  {
   "cell_type": "markdown",
   "id": "abb2c66c-d820-47dc-b8fe-97164088ffed",
   "metadata": {},
   "source": [
    "- Достоинства алгоритма:\n",
    "    \n",
    "    - Основным преимуществом алгоритма сортировки двоичным деревом является то, что мы легко можем вносить изменения, как в связанном списке.\n",
    "    - Сортировка двоичным деревом происходит так же быстро, как алгоритм быстрой сортировки.\n",
    "    \n",
    "- Недостатки:\n",
    "\n",
    "    - Худший случай сортировки – когда все элементы массива уже отсортированы.\n",
    "    - В худшем случае, время работы алгоритма равно $O(n^2)$\n",
    "    - Требует большого выделения памяти"
   ]
  },
  {
   "cell_type": "code",
   "execution_count": 2,
   "id": "8b6e91ed-9b4d-4aa1-b131-78b9c4348232",
   "metadata": {},
   "outputs": [],
   "source": [
    "class Node:\n",
    "    def __init__(self, value):\n",
    "        self.left = None\n",
    "        self.right = None\n",
    "        self.value = value\n",
    "\n",
    "def insert(root, node):\n",
    "    if root is None:\n",
    "        root = node\n",
    "    else:\n",
    "        if root.value <= node.value:\n",
    "            if root.right is None:\n",
    "                root.right = node\n",
    "            else:\n",
    "                insert(root.right, node)\n",
    "        else:\n",
    "            if root.left is None:\n",
    "                root.left = node\n",
    "            else:\n",
    "                insert(root.left, node)\n",
    "\n",
    "def in_order_traversal(root, result):\n",
    "    if root:\n",
    "        in_order_traversal(root.left, result)\n",
    "        result.append(root.value)\n",
    "        in_order_traversal(root.right, result)\n",
    "\n",
    "def tree_sort(arr):\n",
    "    root = Node(arr[0])\n",
    "    for i in range(1, len(arr)):\n",
    "        insert(root, Node(arr[i]))\n",
    "    result = []\n",
    "    in_order_traversal(root, result)\n",
    "    return result\n",
    "\n",
    "# НЕ является частью алгоритма, функция необходима только для дальнейшей визуализации его работы\n",
    "def printTree(node, level=0):\n",
    "    if node != None:\n",
    "        printTree(node.left, level + 1)\n",
    "        # print('----------------------------------------------------------------------------')\n",
    "        print(' ' * 6 * level + '-> ' + str(node.value))\n",
    "        printTree(node.right, level + 1)"
   ]
  },
  {
   "cell_type": "markdown",
   "id": "6ee1873e-91bc-472b-be29-b5bf8ec64e94",
   "metadata": {
    "jp-MarkdownHeadingCollapsed": true,
    "tags": []
   },
   "source": [
    "### Тестирование программы"
   ]
  },
  {
   "cell_type": "code",
   "execution_count": 3,
   "id": "73596dbf-d893-4cb3-b36f-e992c871770d",
   "metadata": {},
   "outputs": [],
   "source": [
    "assert tree_sort([1, 2, 3, 4]) == [1, 2, 3, 4], 'Ошибка при сортировки отсортированного массива'\n",
    "\n",
    "assert tree_sort([4, 3, 2, 1]) == [1, 2, 3, 4], 'Ошибка при сортировки отсортированного в обратном порядке массива'\n",
    "\n",
    "assert tree_sort([1, 3, 4, 2]) == [1, 2, 3, 4], 'Ошибка при сортировки произвольного массива'\n",
    "\n",
    "assert tree_sort([1, 3, 1, 2]) == [1, 1, 2, 3], 'Ошибка при сортировки массива с повторящимися элементами'\n"
   ]
  },
  {
   "cell_type": "code",
   "execution_count": 4,
   "id": "44f14072-d7eb-49b7-9801-21cec09d11a6",
   "metadata": {},
   "outputs": [],
   "source": [
    "def get_sort_array(n:int)->Tuple:\n",
    "    '''Возвращает отсортированный массив'''\n",
    "    return tuple(range(n))\n",
    "\n",
    "def get_reverse_array(n:int)->Tuple:\n",
    "    '''Возвращает отсортированный в обратном порядке массив'''\n",
    "    return tuple(range(n))[::-1]\n",
    "\n",
    "def get_random_array(n:int)->Tuple:\n",
    "    '''Возвращает перемешанный массив'''\n",
    "    return tuple(random.sample(range(n), n))"
   ]
  },
  {
   "cell_type": "markdown",
   "id": "4e1e8de0-c10a-40ba-9e09-d2afde6d287f",
   "metadata": {
    "jp-MarkdownHeadingCollapsed": true,
    "tags": []
   },
   "source": [
    "#### Тестирование на 500 (Все)"
   ]
  },
  {
   "cell_type": "code",
   "execution_count": 5,
   "id": "34ab5072-7241-42e5-bffc-0ffbb202aa1b",
   "metadata": {},
   "outputs": [],
   "source": [
    "n0 = 500\n",
    "x0_sort = get_sort_array(n0)\n",
    "x0_reverse = get_reverse_array(n0)\n",
    "x0_random = get_random_array(n0)"
   ]
  },
  {
   "cell_type": "code",
   "execution_count": 6,
   "id": "8cf2cb96-9637-4f42-9fac-26f3f23cc8b8",
   "metadata": {},
   "outputs": [
    {
     "name": "stdout",
     "output_type": "stream",
     "text": [
      "CPU times: total: 31.2 ms\n",
      "Wall time: 32 ms\n"
     ]
    }
   ],
   "source": [
    "%%time\n",
    "\n",
    "tree_sort(list(x0_sort))\n",
    "pass"
   ]
  },
  {
   "cell_type": "code",
   "execution_count": 7,
   "id": "fd68fb4e-589c-4f39-9783-71c930005090",
   "metadata": {},
   "outputs": [
    {
     "name": "stdout",
     "output_type": "stream",
     "text": [
      "CPU times: total: 15.6 ms\n",
      "Wall time: 33 ms\n"
     ]
    }
   ],
   "source": [
    "%%time\n",
    "\n",
    "tree_sort(list(x0_reverse))\n",
    "pass"
   ]
  },
  {
   "cell_type": "code",
   "execution_count": 8,
   "id": "9e3cd68f-0b11-43ad-87c2-fd57783896c9",
   "metadata": {},
   "outputs": [
    {
     "name": "stdout",
     "output_type": "stream",
     "text": [
      "CPU times: total: 0 ns\n",
      "Wall time: 2 ms\n"
     ]
    }
   ],
   "source": [
    "%%time\n",
    "\n",
    "tree_sort(list(x0_random))\n",
    "pass"
   ]
  },
  {
   "cell_type": "markdown",
   "id": "ee7bccab-ed60-422d-b041-e8e7967ddab7",
   "metadata": {
    "jp-MarkdownHeadingCollapsed": true,
    "tags": []
   },
   "source": [
    "#### Тестирование на 1000 (Все)"
   ]
  },
  {
   "cell_type": "code",
   "execution_count": 9,
   "id": "e9a34137-768a-4731-a9d3-c4f42baaae20",
   "metadata": {},
   "outputs": [],
   "source": [
    "n1 = 1000\n",
    "x1_sort = get_sort_array(n1)\n",
    "x1_reverse = get_reverse_array(n1)\n",
    "x1_random = get_random_array(n1)"
   ]
  },
  {
   "cell_type": "code",
   "execution_count": 10,
   "id": "fdbf3d2c-3aea-42a6-83a3-8a5cb2c0e6df",
   "metadata": {},
   "outputs": [
    {
     "name": "stdout",
     "output_type": "stream",
     "text": [
      "CPU times: total: 141 ms\n",
      "Wall time: 153 ms\n"
     ]
    }
   ],
   "source": [
    "%%time\n",
    "\n",
    "tree_sort(list(x1_sort))\n",
    "pass"
   ]
  },
  {
   "cell_type": "code",
   "execution_count": 11,
   "id": "5f194fae-560c-4291-8295-7e254dfcb83a",
   "metadata": {},
   "outputs": [
    {
     "name": "stdout",
     "output_type": "stream",
     "text": [
      "CPU times: total: 109 ms\n",
      "Wall time: 127 ms\n"
     ]
    }
   ],
   "source": [
    "%%time\n",
    "\n",
    "tree_sort(list(x1_reverse))\n",
    "pass"
   ]
  },
  {
   "cell_type": "code",
   "execution_count": 12,
   "id": "58a2613a-0cba-4840-8673-8ef281477154",
   "metadata": {},
   "outputs": [
    {
     "name": "stdout",
     "output_type": "stream",
     "text": [
      "CPU times: total: 0 ns\n",
      "Wall time: 4 ms\n"
     ]
    }
   ],
   "source": [
    "%%time\n",
    "\n",
    "tree_sort(list(x1_random))\n",
    "pass"
   ]
  },
  {
   "cell_type": "markdown",
   "id": "2e8baf68-06d9-433c-848f-b1642bf16144",
   "metadata": {
    "jp-MarkdownHeadingCollapsed": true,
    "tags": []
   },
   "source": [
    "#### Тестирование на 2500 (Все)"
   ]
  },
  {
   "cell_type": "code",
   "execution_count": 13,
   "id": "fd1dd8fc-bfa1-49a4-99a9-3a4f62b7dc8c",
   "metadata": {},
   "outputs": [],
   "source": [
    "n1_5 = 2500\n",
    "x1_5_sort = get_sort_array(n1_5)\n",
    "x1_5_reverse = get_reverse_array(n1_5)\n",
    "x1_5_random = get_random_array(n1_5)"
   ]
  },
  {
   "cell_type": "code",
   "execution_count": 14,
   "id": "269b9abf-481f-4381-8525-4284366b696d",
   "metadata": {},
   "outputs": [
    {
     "name": "stdout",
     "output_type": "stream",
     "text": [
      "CPU times: total: 766 ms\n",
      "Wall time: 820 ms\n"
     ]
    }
   ],
   "source": [
    "%%time\n",
    "\n",
    "tree_sort(list(x1_5_sort))\n",
    "pass"
   ]
  },
  {
   "cell_type": "code",
   "execution_count": 15,
   "id": "d043fca5-f3b1-4fa8-8313-73c854191fb3",
   "metadata": {},
   "outputs": [
    {
     "name": "stdout",
     "output_type": "stream",
     "text": [
      "CPU times: total: 781 ms\n",
      "Wall time: 778 ms\n"
     ]
    }
   ],
   "source": [
    "%%time\n",
    "\n",
    "tree_sort(list(x1_5_reverse))\n",
    "pass"
   ]
  },
  {
   "cell_type": "code",
   "execution_count": 16,
   "id": "2fc909ec-39c6-46f1-bf00-9e7e56704d00",
   "metadata": {},
   "outputs": [
    {
     "name": "stdout",
     "output_type": "stream",
     "text": [
      "CPU times: total: 15.6 ms\n",
      "Wall time: 12 ms\n"
     ]
    }
   ],
   "source": [
    "%%time\n",
    "\n",
    "tree_sort(list(x1_5_random))\n",
    "pass"
   ]
  },
  {
   "cell_type": "markdown",
   "id": "1269f877-8ddb-4629-9fab-2b0eb59caa3b",
   "metadata": {
    "jp-MarkdownHeadingCollapsed": true,
    "tags": []
   },
   "source": [
    "#### Тестирование на 5000 (Случайный массив)"
   ]
  },
  {
   "cell_type": "code",
   "execution_count": 17,
   "id": "6656fb30-3e1d-4f60-9c8f-1865c7964acd",
   "metadata": {},
   "outputs": [],
   "source": [
    "x2_random = get_random_array(5000)"
   ]
  },
  {
   "cell_type": "code",
   "execution_count": 18,
   "id": "97071b46-1c3a-4253-9772-63c4bbc192c7",
   "metadata": {},
   "outputs": [
    {
     "name": "stdout",
     "output_type": "stream",
     "text": [
      "CPU times: total: 31.2 ms\n",
      "Wall time: 23 ms\n"
     ]
    }
   ],
   "source": [
    "%%time\n",
    "\n",
    "tree_sort(list(x2_random))\n",
    "pass"
   ]
  },
  {
   "cell_type": "markdown",
   "id": "bddedf74-6924-46a0-8961-a3e89da58f4d",
   "metadata": {
    "jp-MarkdownHeadingCollapsed": true,
    "tags": []
   },
   "source": [
    "#### Тестирование на 10000 (Случайный массив)"
   ]
  },
  {
   "cell_type": "code",
   "execution_count": 19,
   "id": "6ba26011-8dd5-4a5a-807c-fcec742bc9e6",
   "metadata": {},
   "outputs": [
    {
     "name": "stdout",
     "output_type": "stream",
     "text": [
      "CPU times: total: 46.9 ms\n",
      "Wall time: 55 ms\n"
     ]
    }
   ],
   "source": [
    "%%time\n",
    "\n",
    "tree_sort(list(get_random_array(10000)))\n",
    "pass"
   ]
  },
  {
   "cell_type": "markdown",
   "id": "7cfdd77e-7d47-4002-8dbe-b5596ce634c8",
   "metadata": {
    "jp-MarkdownHeadingCollapsed": true,
    "tags": []
   },
   "source": [
    "#### Тестирование на 100000 (Случайный массив)"
   ]
  },
  {
   "cell_type": "code",
   "execution_count": 20,
   "id": "8f85e633-5c5b-4615-8912-091d1a9fd3f6",
   "metadata": {},
   "outputs": [
    {
     "name": "stdout",
     "output_type": "stream",
     "text": [
      "CPU times: total: 906 ms\n",
      "Wall time: 914 ms\n"
     ]
    }
   ],
   "source": [
    "%%time\n",
    "\n",
    "tree_sort(list(get_random_array(100000)))\n",
    "pass"
   ]
  },
  {
   "cell_type": "markdown",
   "id": "58344259-74ec-4c7f-aac9-9d9453ff909d",
   "metadata": {
    "jp-MarkdownHeadingCollapsed": true,
    "tags": []
   },
   "source": [
    "#### Тестирование на 1000000 (Случайный массив)"
   ]
  },
  {
   "cell_type": "code",
   "execution_count": 21,
   "id": "058dfc17-6a91-4fd9-a7ae-56b5a0117bf3",
   "metadata": {},
   "outputs": [
    {
     "name": "stdout",
     "output_type": "stream",
     "text": [
      "CPU times: total: 13.4 s\n",
      "Wall time: 13.4 s\n"
     ]
    }
   ],
   "source": [
    "%%time\n",
    "\n",
    "tree_sort(list(get_random_array(1000000)))\n",
    "pass"
   ]
  },
  {
   "cell_type": "markdown",
   "id": "04a6cf4f-d57c-4c3c-9a68-3219ebe1c3e6",
   "metadata": {
    "jp-MarkdownHeadingCollapsed": true,
    "tags": []
   },
   "source": [
    "### Пример построения дерева"
   ]
  },
  {
   "cell_type": "code",
   "execution_count": 22,
   "id": "eb475952-fbe5-4e1a-a177-965ae71499e9",
   "metadata": {},
   "outputs": [
    {
     "name": "stdout",
     "output_type": "stream",
     "text": [
      "      -> 2\n",
      "-> 5\n",
      "==================================================\n",
      "            -> 1\n",
      "      -> 2\n",
      "-> 5\n",
      "==================================================\n",
      "            -> 1\n",
      "      -> 2\n",
      "-> 5\n",
      "      -> 5\n",
      "==================================================\n",
      "            -> 1\n",
      "      -> 2\n",
      "            -> 4\n",
      "-> 5\n",
      "      -> 5\n",
      "==================================================\n",
      "                  -> 0\n",
      "            -> 1\n",
      "      -> 2\n",
      "            -> 4\n",
      "-> 5\n",
      "      -> 5\n",
      "==================================================\n",
      "                  -> 0\n",
      "            -> 1\n",
      "      -> 2\n",
      "            -> 4\n",
      "-> 5\n",
      "      -> 5\n",
      "            -> 9\n",
      "==================================================\n",
      "                  -> 0\n",
      "            -> 1\n",
      "      -> 2\n",
      "            -> 4\n",
      "-> 5\n",
      "      -> 5\n",
      "                  -> 6\n",
      "            -> 9\n",
      "==================================================\n",
      "                  -> 0\n",
      "            -> 1\n",
      "      -> 2\n",
      "            -> 4\n",
      "-> 5\n",
      "      -> 5\n",
      "                  -> 6\n",
      "                        -> 7\n",
      "            -> 9\n",
      "==================================================\n",
      "                  -> 0\n",
      "            -> 1\n",
      "      -> 2\n",
      "            -> 4\n",
      "-> 5\n",
      "      -> 5\n",
      "                  -> 6\n",
      "                        -> 7\n",
      "                              -> 8\n",
      "            -> 9\n",
      "==================================================\n",
      "                  -> 0\n",
      "            -> 1\n",
      "      -> 2\n",
      "            -> 4\n",
      "-> 5\n",
      "      -> 5\n",
      "                  -> 6\n",
      "                        -> 7\n",
      "                                    -> 7\n",
      "                              -> 8\n",
      "            -> 9\n",
      "==================================================\n"
     ]
    }
   ],
   "source": [
    "list_ = [5, 2, 1, 5, 4, 0, 9, 6, 7, 8, 7]\n",
    "\n",
    "root = Node(list_[0])\n",
    "for i in range(1, len(list_)):\n",
    "    insert(root, Node(list_[i]))\n",
    "    printTree(root)\n",
    "    print('='*50)"
   ]
  },
  {
   "cell_type": "markdown",
   "id": "e34b9a87-6602-4482-9378-767d1eb94900",
   "metadata": {
    "jp-MarkdownHeadingCollapsed": true,
    "tags": []
   },
   "source": [
    "### Построение графиков зависимости от времени"
   ]
  },
  {
   "cell_type": "code",
   "execution_count": 23,
   "id": "a4914116-ac40-40b8-976a-9e50196a71c0",
   "metadata": {},
   "outputs": [
    {
     "data": {
      "image/png": "[encoded data removed]",
      "text/plain": [
       "<Figure size 640x480 with 1 Axes>"
      ]
     },
     "metadata": {},
     "output_type": "display_data"
    }
   ],
   "source": [
    "x = np.array([500, 1000, 2500])\n",
    "y1 = np.array([17.3, 116, 531])\n",
    "y2 = np.array([20.2, 91.7, 531])\n",
    "y3 = np.array([1, 4, 11])\n",
    "plt.plot(x, y1) # Синий график - отсортированный массив\n",
    "plt.plot(x, y2) # Оранжевый график - обратно отсортированный массив\n",
    "plt.plot(x, y3) # Зеленый график - случайно-сгенерированный массив\n",
    "plt.title('График зависимости времени от длины массива (для отсортированного (синий), обратно отсортированного массива (оранжевый) и случайный (зеленый))')\n",
    "plt.xlabel('length of array')\n",
    "plt.ylabel('time in ms')\n",
    "plt.grid()\n",
    "plt.show()"
   ]
  },
  {
   "cell_type": "code",
   "execution_count": 24,
   "id": "79345e99-a35a-46d8-9a58-0a17523bc71f",
   "metadata": {},
   "outputs": [
    {
     "data": {
      "image/png": "[encoded data removed]",
      "text/plain": [
       "<Figure size 640x480 with 1 Axes>"
      ]
     },
     "metadata": {},
     "output_type": "display_data"
    }
   ],
   "source": [
    "x = np.array([1000, 2500, 5000, 10000, 100000, 1000000])\n",
    "y = np.array([4, 11, 25, 54, 906, 13200])\n",
    "plt.plot(x,y)\n",
    "plt.title('График зависимости времени от длины массива (для случайно-заполненного массива)')\n",
    "plt.xlabel('length of array')\n",
    "plt.ylabel('time in ms')\n",
    "plt.grid()\n",
    "plt.show()"
   ]
  },
  {
   "cell_type": "markdown",
   "id": "65fc7992-7d0c-47ed-aba7-d2a1e1c8a745",
   "metadata": {
    "jp-MarkdownHeadingCollapsed": true,
    "tags": []
   },
   "source": [
    "### Литература"
   ]
  },
  {
   "cell_type": "markdown",
   "id": "4a765191-50a6-4a5f-baed-dba6483abc42",
   "metadata": {},
   "source": [
    "- https://shpargalum.ru/shpora-gos-povtas/strukturyi-i-algoritmyi-obrabotki-dannyix/sort-tree.html\n",
    "\n",
    "- http://algolist.ru/sort/faq/q7.php\n",
    "\n",
    "- https://neerc.ifmo.ru/wiki/index.php?title=%D0%A1%D0%BE%D1%80%D1%82%D0%B8%D1%80%D0%BE%D0%B2%D0%BA%D0%B8\n",
    "\n",
    "- https://en.wikipedia.org/wiki/Tree_sort"
   ]
  }
 ],
 "metadata": {
  "kernelspec": {
   "display_name": "Python 3 (ipykernel)",
   "language": "python",
   "name": "python3"
  },
  "language_info": {
   "codemirror_mode": {
    "name": "ipython",
    "version": 3
   },
   "file_extension": ".py",
   "mimetype": "text/x-python",
   "name": "python",
   "nbconvert_exporter": "python",
   "pygments_lexer": "ipython3",
   "version": "3.10.9"
  }
 },
 "nbformat": 4,
 "nbformat_minor": 5
}
