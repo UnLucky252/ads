{
 "cells": [
  {
   "cell_type": "code",
   "execution_count": 21,
   "id": "f68415ee",
   "metadata": {},
   "outputs": [],
   "source": [
    "import random\n",
    "\n",
    "from typing import List, Tuple"
   ]
  },
  {
   "cell_type": "markdown",
   "id": "93a4f2bc",
   "metadata": {},
   "source": [
    "# Лабораторная работа 1. Методы сортировки\n",
    "\n",
    "Вариант: 2"
   ]
  },
  {
   "cell_type": "markdown",
   "id": "fd19520b",
   "metadata": {},
   "source": [
    "## Сортировка слиянием (merge sort)"
   ]
  },
  {
   "cell_type": "markdown",
   "id": "e5103e92",
   "metadata": {},
   "source": [
    "### Классификация алгоритма:\n",
    "\n",
    "- По типу алгоритма: сортировка слияния\n",
    "\n",
    "- По устойчивости: устойчивый\n",
    "\n",
    "- По месту хранения данных: не на месте(требует дополнительной памяти для обьединения списков\n",
    "\n",
    "- По выделению дополнительного пространства: сортировка на месте\n",
    "\n",
    "- По дополнительным затратам памяти: $O(n)$\n",
    "   \n",
    "- Время выполнения: \n",
    "  \n",
    "  - В худшем случае: $O(n log n)$\n",
    "  \n",
    "  - В лучшем случае: $O(n log n)$\n",
    "  \n",
    "  - В среднем: $O(n log n)$"
   ]
  },
  {
   "cell_type": "markdown",
   "id": "6ad8dff4",
   "metadata": {},
   "source": [
    "### Описание алгоритма:\n",
    "\n",
    "Сортировка слиянием (merge sort) является алгоритмом, основанным на принципе «разделяй и властвуй» (divide and conquer). Алгоритм сначала разделяет исходный массив на две равные части, затем рекурсивно сортирует каждую из них, а затем объединяет их в один отсортированный массив.\n",
    "\n",
    "Алгоритм состоит из следующих шагов:\n",
    "\n",
    "Если длина массива меньше или равна 1, то он уже отсортирован, и возвращается сам массив.\n",
    "\n",
    "Если длина массива больше 1, то он разбивается на две равные части.\n",
    "\n",
    "Каждая из двух частей рекурсивно сортируется с помощью сортировки слиянием.\n",
    "\n",
    "Результаты сортировки каждой из двух частей объединяются в один отсортированный массив. Для этого происходит слияние двух отсортированных массивов путем сравнения элементов в них и добавления их в выходной массив в порядке возрастания.\n",
    "\n",
    "Отсортированный массив возвращается."
   ]
  },
  {
   "attachments": {
    "merge_sort.png": {
     "image/png": "[encoded data removed]"
    }
   },
   "cell_type": "markdown",
   "id": "43b3e42c",
   "metadata": {},
   "source": [
    "### Блок-схема алгоритма\n",
    "![merge_sort.png](attachment:merge_sort.png)"
   ]
  },
  {
   "cell_type": "markdown",
   "id": "1184e973",
   "metadata": {},
   "source": [
    "### Псевдокод алгоритма\n",
    "\n",
    "```\n",
    "function merge_sort(array)\n",
    "    if length(array) ≤ 1\n",
    "        return array\n",
    "\n",
    "    middle = length(array) / 2\n",
    "    left = array[0:middle]\n",
    "    right = array[middle:]\n",
    "\n",
    "    return merge(merge_sort(left), merge_sort(right))\n",
    "\n",
    "function merge(left, right)\n",
    "    result = []\n",
    "    while length(left) > 0 and length(right) > 0\n",
    "        if left[0] <= right[0]\n",
    "            result.append(left[0])\n",
    "            left = left[1:]\n",
    "        else\n",
    "            result.append(right[0])\n",
    "            right = right[1:]\n",
    "\n",
    "    if length(left) > 0\n",
    "        result.extend(left)\n",
    "    else\n",
    "        result.extend(right)\n",
    "\n",
    "    return result\n",
    "\n",
    "```\n"
   ]
  },
  {
   "cell_type": "markdown",
   "id": "9a5db9b3",
   "metadata": {},
   "source": [
    "# Достоинства и недостатки\n",
    "Достоинства алгоритма:\n",
    "    \n",
    "  \n",
    "    -- Устойчивость: порядок равных элементов в исходном массиве сохраняется.\n",
    "    -- Гарантированный результат: время выполнения всегда O(n log n), независимо от исходного состояния массива.\n",
    "    -- Эффективность для больших массивов: в отличие от некоторых других сортировок, время выполнения сортировки слиянием не увеличивается сильно при увеличении размера массива.\n",
    "    -- Независимость от расположения элементов в массиве: сортировка слиянием не зависит от того, как элементы расположены в массиве.\n",
    "    \n",
    "Недостатки:\n",
    "\n",
    "    -- Дополнительное пространство: сортировка слиянием требует дополнительной памяти для хранения временных массивов, что может быть проблемой для больших массивов.\n",
    "    -- Худшее время выполнения: худшее время выполнения сортировки слиянием составляет O(n^2), что может быть неприемлемо для некоторых приложений.\n",
    "    -- Неэффективность для маленьких массивов: при малых размерах массива сортировка слиянием может оказаться неэффективной по сравнению с другими алгоритмами, такими как сортировка вставками или сортировка выбором."
   ]
  },
  {
   "cell_type": "markdown",
   "id": "011d3310",
   "metadata": {},
   "source": [
    "### Реализация алгоритма и тесты"
   ]
  },
  {
   "cell_type": "code",
   "execution_count": 1,
   "id": "0959b1f5",
   "metadata": {},
   "outputs": [],
   "source": [
    "def merge_sort(arr):\n",
    "    if len(arr) <= 1:\n",
    "        return arr\n",
    "\n",
    "    mid = len(arr) // 2\n",
    "    left_arr = arr[:mid]\n",
    "    right_arr = arr[mid:]\n",
    "\n",
    "    left_arr = merge_sort(left_arr)\n",
    "    right_arr = merge_sort(right_arr)\n",
    "\n",
    "    return merge(left_arr, right_arr)\n",
    "\n",
    "\n",
    "def merge(left_arr, right_arr):\n",
    "    res = []\n",
    "    left_idx = right_idx = 0\n",
    "\n",
    "    while left_idx < len(left_arr) and right_idx < len(right_arr):\n",
    "        if left_arr[left_idx] < right_arr[right_idx]:\n",
    "            res.append(left_arr[left_idx])\n",
    "            left_idx += 1\n",
    "        else:\n",
    "            res.append(right_arr[right_idx])\n",
    "            right_idx += 1\n",
    "\n",
    "    if left_idx < len(left_arr):\n",
    "        res.extend(left_arr[left_idx:])\n",
    "\n",
    "    if right_idx < len(right_arr):\n",
    "        res.extend(right_arr[right_idx:])\n",
    "\n",
    "    return res\n"
   ]
  },
  {
   "cell_type": "code",
   "execution_count": 2,
   "id": "0de87daa",
   "metadata": {
    "scrolled": true
   },
   "outputs": [],
   "source": [
    "assert merge_sort([]) == []\n",
    "assert merge_sort([2]) == [2]\n",
    "assert merge_sort([3, 5, 2, 7]) == [2, 3, 5, 7]\n",
    "assert merge_sort([-1, 0, 9, -10, 3, -2]) == [-10, -2, -1, 0 ,3, 9]"
   ]
  },
  {
   "cell_type": "markdown",
   "id": "813a5ee3",
   "metadata": {},
   "source": [
    "### Ручная трассировка\n",
    "\n",
    "пусть будет массив рандомный: [38, 27, 43, 3, 9, 82, 10]\n",
    "\n",
    "первый вызов merge_sort на массив изначальный [38, 27, 43, 3, 9, 82, 10] -> Разделение массива на две половины [38, 27, 43, 3] и [9, 82, 10]\n",
    "\n",
    "вызов merge_sort([38, 27, 43, 3]) -> Разделение массива на две половины [38, 27] и [43, 3]\n",
    "\n",
    "........\n",
    "\n",
    "Последнее объединение отсортированных половин [3, 27, 38, 43] и [9, 10, 82] в [3, 9, 10, 27, 38, 43, 82]\n",
    "И получаем отсортированный массив: [3, 9, 10, 27, 38, 43, 82]"
   ]
  },
  {
   "cell_type": "code",
   "execution_count": 3,
   "id": "45b2cba9",
   "metadata": {},
   "outputs": [
    {
     "name": "stdout",
     "output_type": "stream",
     "text": [
      "Before sorting: [5, 8, 12, 7, 6]\n",
      "left: [5, 8] right: [12, 7, 6]\n",
      "left: [5] right: [8]\n",
      "merge: [5, 8]\n",
      "left: [12] right: [7, 6]\n",
      "left: [7] right: [6]\n",
      "merge: [6, 7]\n",
      "merge: [6, 7, 12]\n",
      "merge: [5, 6, 7, 8, 12]\n",
      "After sorting: [5, 6, 7, 8, 12]\n"
     ]
    }
   ],
   "source": [
    "from typing import List\n",
    "\n",
    "def merge_sort(X: List) -> List:\n",
    "    '''Сортировка списка X методом слияния'''\n",
    "    if len(X) <= 1:\n",
    "        return X\n",
    "    else:\n",
    "        middle = len(X) // 2\n",
    "        left = X[:middle]\n",
    "        right = X[middle:]\n",
    "        print(\"left:\", left, \"right:\", right) # Выводим процесс деления на две части\n",
    "        left = merge_sort(left)\n",
    "        right = merge_sort(right)\n",
    "        return merge(left, right)\n",
    "\n",
    "def merge(left: List, right: List) -> List:\n",
    "    '''Слияние двух списков'''\n",
    "    result = []\n",
    "    i, j = 0, 0\n",
    "    while i < len(left) and j < len(right):\n",
    "        if left[i] < right[j]:\n",
    "            result.append(left[i])\n",
    "            i += 1\n",
    "        else:\n",
    "            result.append(right[j])\n",
    "            j += 1\n",
    "    result += left[i:]\n",
    "    result += right[j:]\n",
    "    print(\"merge:\", result) # Выводим процесс слияния\n",
    "    return result\n",
    "\n",
    "\n",
    "    \n",
    "A = [5, 8, 12, 7, 6]\n",
    "print(\"Before sorting:\", A)\n",
    "A = merge_sort(A)\n",
    "print(\"After sorting:\", A)"
   ]
  },
  {
   "cell_type": "markdown",
   "id": "8264f631",
   "metadata": {},
   "source": [
    "### Сравнение"
   ]
  },
  {
   "cell_type": "code",
   "execution_count": 4,
   "id": "feb278f3",
   "metadata": {},
   "outputs": [
    {
     "ename": "NameError",
     "evalue": "name 'Tuple' is not defined",
     "output_type": "error",
     "traceback": [
      "\u001b[0;31m---------------------------------------------------------------------------\u001b[0m",
      "\u001b[0;31mNameError\u001b[0m                                 Traceback (most recent call last)",
      "Cell \u001b[0;32mIn[4], line 3\u001b[0m\n\u001b[1;32m      1\u001b[0m \u001b[38;5;66;03m# Набор данных для тестирования алгоритма\u001b[39;00m\n\u001b[0;32m----> 3\u001b[0m \u001b[38;5;28;01mdef\u001b[39;00m \u001b[38;5;21mget_sort_array\u001b[39m(n:\u001b[38;5;28mint\u001b[39m)\u001b[38;5;241m-\u001b[39m\u001b[38;5;241m>\u001b[39m\u001b[43mTuple\u001b[49m:\n\u001b[1;32m      4\u001b[0m \u001b[38;5;250m    \u001b[39m\u001b[38;5;124;03m'''Возвращает отсортированный массив'''\u001b[39;00m\n\u001b[1;32m      5\u001b[0m     \u001b[38;5;28;01mreturn\u001b[39;00m \u001b[38;5;28mtuple\u001b[39m(\u001b[38;5;28mrange\u001b[39m(n))\n",
      "\u001b[0;31mNameError\u001b[0m: name 'Tuple' is not defined"
     ]
    }
   ],
   "source": [
    "# Набор данных для тестирования алгоритма\n",
    "\n",
    "def get_sort_array(n:int)->Tuple:\n",
    "    '''Возвращает отсортированный массив'''\n",
    "    return tuple(range(n))\n",
    "\n",
    "def get_reverse_array(n:int)->Tuple:\n",
    "    '''Возвращает отсортированный в обратном порядке массив'''\n",
    "    return tuple(range(n))[::-1]\n",
    "\n",
    "def get_random_array(n:int)->Tuple:\n",
    "    '''Возвращает перемешанный массив'''\n",
    "    return tuple(random.sample(range(n), n))\n"
   ]
  },
  {
   "cell_type": "code",
   "execution_count": null,
   "id": "aef1990b",
   "metadata": {},
   "outputs": [],
   "source": [
    "import time\n",
    "n1 = 1000\n",
    "n2 = 5000\n",
    "n3 = 10000\n",
    "n4 = 100000\n",
    "\n",
    "\n",
    "\n",
    "def compare_merge_sort(array_size):\n",
    "    array1 = get_sort_array(array_size)\n",
    "    array2 = get_reverse_array(array_size)\n",
    "    array3 = get_random_array(array_size)\n",
    "\n",
    "    start_time1 = time.time()\n",
    "    merge_sort(array1)\n",
    "    end_time1 = time.time()\n",
    "    \n",
    "    start_time2 = time.time()\n",
    "    merge_sort(array2)\n",
    "    end_time2 = time.time()\n",
    "    \n",
    "    start_time3 = time.time()\n",
    "    merge_sort(array3)\n",
    "    end_time3 = time.time()\n",
    "    print(f\"Размер sort массива: {array_size}, время выполнения: {end_time1 - start_time1:.5f} секунд.\")\n",
    "    print(f\"Размер reverse массива: {array_size}, время выполнения: {end_time2 - start_time2:.5f} секунд.\")\n",
    "    print(f\"Размер random массива: {array_size}, время выполнения: {end_time3 - start_time3:.5f} секунд.\")\n",
    "    print(\"----------\")\n",
    "    \n",
    "for array_size in [n1, n2, n3, n4]:\n",
    "    compare_merge_sort(array_size)\n",
    "\n"
   ]
  },
  {
   "cell_type": "code",
   "execution_count": 5,
   "id": "b175279f",
   "metadata": {},
   "outputs": [
    {
     "data": {
      "image/png": "[encoded data removed]",
      "text/plain": [
       "<Figure size 640x480 with 1 Axes>"
      ]
     },
     "metadata": {},
     "output_type": "display_data"
    }
   ],
   "source": [
    "import matplotlib.pyplot as plt\n",
    "\n",
    "sizes = [1000, 5000, 10000, 100000]\n",
    "sort_times = [0.00156, 0.00983, 0.01553, 0.17824] \n",
    "reverse_times = [0.00150, 0.00834, 0.01541, 0.18471]\n",
    "random_times = [0.00253, 0.01080, 0.02266, 0.28473]\n",
    "\n",
    "# построение графика\n",
    "plt.plot(sizes, sort_times, color='blue', marker='o', linestyle='-', label='Sort')\n",
    "plt.plot(sizes, reverse_times, color='red', marker='s', linestyle='-', label='Reverse')\n",
    "plt.plot(sizes, random_times, color='green', marker='^', linestyle='-', label='Random')\n",
    "\n",
    "plt.xlabel('Количество элементов')\n",
    "plt.ylabel('Время выполнения, с')\n",
    "plt.legend()\n",
    "plt.show()"
   ]
  },
  {
   "cell_type": "markdown",
   "id": "2cb9a45a",
   "metadata": {},
   "source": [
    "### Литература\n",
    "\n",
    "Роберт Седжвик. Фундаментальные алгоритмы на C. Анализ/Структуры данных/Сортировка/Поиск = Algorithms in C. Fundamentals/Data Structures/Sorting/Searching. — СПб.: ДиаСофтЮП, 2003. — С. 672. — ISBN 5-93772-081-4.\n",
    "\n",
    "https://ru.overleaf.com/learn/latex/LaTeX_Graphics_using_TikZ%3A_A_Tutorial_for_Beginners_(Part_3)%E2%80%94Creating_Flowcharts\n",
    "\n",
    "https://www.ctan.org/pkg/nassflow"
   ]
  },
  {
   "cell_type": "markdown",
   "id": "5908b10b",
   "metadata": {},
   "source": [
    "\n",
    "\n",
    "\n",
    "\n",
    "8. Провести сравнение указанных алгоритмов сортировки массивов, содержащих n1, n2, n3 и n4 элементов. \n",
    "9. Каждую функцию сортировки вызывать трижды: для сортировки упорядоченного массива, массива, упорядоченного в обратном порядке и неупорядоченного массива. Сортируемая последовательность для всех методов должна быть одинаковой (сортировать копии одного массива). \n",
    "10. Проиллюстрировать эффективность алгоритмов сортировок по заданному критерию. Построить диаграммы указанных зависимостей."
   ]
  },
  {
   "cell_type": "code",
   "execution_count": null,
   "id": "bcc9b082",
   "metadata": {},
   "outputs": [],
   "source": []
  }
 ],
 "metadata": {
  "kernelspec": {
   "display_name": "Python 3 (ipykernel)",
   "language": "python",
   "name": "python3"
  },
  "language_info": {
   "codemirror_mode": {
    "name": "ipython",
    "version": 3
   },
   "file_extension": ".py",
   "mimetype": "text/x-python",
   "name": "python",
   "nbconvert_exporter": "python",
   "pygments_lexer": "ipython3",
   "version": "3.11.1"
  }
 },
 "nbformat": 4,
 "nbformat_minor": 5
}
