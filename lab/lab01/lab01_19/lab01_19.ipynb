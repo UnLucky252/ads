{
 "cells": [
  {
   "cell_type": "code",
   "execution_count": 16,
   "id": "191ae79d-9645-4765-9af6-e2f5b2ff78dd",
   "metadata": {
    "tags": []
   },
   "outputs": [],
   "source": [
    "import random\n",
    "\n",
    "from typing import List, Tuple\n",
    "\n",
    "import time"
   ]
  },
  {
   "cell_type": "markdown",
   "id": "cb8e7b0a-db09-46e7-93f3-f53cce2d20b4",
   "metadata": {},
   "source": [
    "# Лабораторная работа 1. Методы сортировки\n",
    "\n",
    "Вариант: 19"
   ]
  },
  {
   "cell_type": "markdown",
   "id": "c79f0850-dabe-4f29-8576-74b760d8c68c",
   "metadata": {},
   "source": [
    "## Блочная сортировка (Bucket sort)\n",
    "\n",
    "Другие названия: \n",
    "\n",
    "- Карманная сортировка\n",
    "\n",
    "- Корзинная сортировка\n",
    "\n",
    "- Вёдерная сортировка"
   ]
  },
  {
   "cell_type": "markdown",
   "id": "eeb2cdc1-729b-4cb2-9585-e95187e05646",
   "metadata": {},
   "source": [
    "### Классификация алгоритма:\n",
    "\n",
    "- По типу алгоритма: Сортировка распределением\n",
    "\n",
    "- По устойчивости: Зависит от метода сортировки внутри блока\n",
    "\n",
    "- По месту хранения данных: Зависит от метода сортировки внутри блока\n",
    "\n",
    "- По выделению дополнительного пространства: $O(n)$\n",
    "\n",
    "- По дополнительным затратам памяти: Зависит от метода сортировки внутри блока\n",
    "   \n",
    "P.S. В данной работе используется встроенный метод .sort()"
   ]
  },
  {
   "cell_type": "markdown",
   "id": "89c12608-830d-4358-a4cd-b1a7ad505db0",
   "metadata": {},
   "source": [
    "## Время выполнения: \n",
    "  \n",
    "### Наивысшая сложность\n",
    "  Если у коллекции, с которой мы работаем, короткий диапазон – когда в одном контейнере много элементов с пустыми блоками.\n",
    "\n",
    "  Если все элементы попадают в один блок, временная сложность зависит исключительно от алгоритма, который используется для сортировки его содержимого.\n",
    "\n",
    "  При использовании сортировки вставкой ее временная сложность в худшем случае проявляется, когда список находится в обратном порядке. То есть: $O(n^2)$.\n",
    "  \n",
    "  - В худшем случае: $O(n^2)$\n",
    "\n",
    "### Наименьшая сложность\n",
    "  Если все элементы уже отсортированы и распределены равномерно. Поэтому каждый блок будет содержать одинаковое количество элементов.\n",
    "\n",
    "  При этом создание сегментов заняло бы O(n), а сортировка вставки - O(k). Что дает временную сложность $O(n + k)$ .\n",
    "  \n",
    "  - В лучшем случае: $O(n)$\n",
    "  \n",
    "### Средняя сложность\n",
    "  Встречается чаще всего, когда сортируемая коллекция случайная. В этом случае для завершения блочной сортировки требуется время O(n). Что делает ее очень эффективной.\n",
    "  \n",
    "  - В среднем: $O(n) $"
   ]
  },
  {
   "cell_type": "markdown",
   "id": "916bc62a-0cc4-44bd-9799-b358b75821c6",
   "metadata": {},
   "source": [
    "### Описание алгоритма:\n",
    "\n",
    "Блочная сортировка — алгоритм сортировки, в котором сортируемые элементы распределяются между конечным числом отдельных блоков (карманов, корзин) так, чтобы все элементы в каждом следующем по порядку блоке были всегда больше (или меньше), чем в предыдущем. Каждый блок затем сортируется отдельно, либо рекурсивно тем же методом, либо другим. Затем элементы помещаются обратно в массив. Этот тип сортировки может обладать линейным временем исполнения.\n",
    "\n",
    "** Данный алгоритм требует знаний о природе сортируемых данных, выходящих за рамки функций \"сравнить\" и \"поменять местами\", достаточных для сортировки слиянием, сортировки пирамидой, быстрой сортировки, сортировки Шелла, сортировки вставкой. **\n",
    "\n"
   ]
  },
  {
   "cell_type": "markdown",
   "id": "06f891fe-eed1-4360-93ef-ab5536c95ed9",
   "metadata": {},
   "source": [
    "### Преимущества и недостатки алгоритма\n",
    "\n",
    "Преимущества: \n",
    "- Относится к классу быстрых алгоритмов с линейным временем исполнения O(N) (на удачных входных данных).\n",
    "\n",
    "Недостатки: \n",
    "- Сильно деградирует при большом количестве мало отличных элементов, или же на неудачной функции получения номера корзины по содержимому элемента. \n",
    "- В некоторых таких случаях для строк, возникающих в реализациях основанного на сортировке строк алгоритма сжатия BWT, оказывается, что быстрая сортировка строк в версии Седжвика значительно превосходит блочную сортировку скоростью."
   ]
  },
  {
   "cell_type": "code",
   "execution_count": 8,
   "id": "3e28c0a7-b1ed-43b3-9893-47fd72c5fae4",
   "metadata": {
    "tags": []
   },
   "outputs": [
    {
     "data": {
      "text/plain": [
       "[0.6, 1.9, 3.04, 3.07, 4.8, 5.0, 7.68, 8.0, 9.8, 10.1]"
      ]
     },
     "execution_count": 8,
     "metadata": {},
     "output_type": "execute_result"
    }
   ],
   "source": [
    "# Python program for the above approach\n",
    "\n",
    "# Bucket sort for numbers\n",
    "# having integer part\n",
    "def bucketSort(arr, numOfBuckets):\n",
    "    max_ele = max(arr)\n",
    "    min_ele = min(arr)\n",
    "\n",
    "    # range(for buckets)\n",
    "    rnge = (max_ele - min_ele) / numOfBuckets\n",
    "\n",
    "    temp = []\n",
    "\n",
    "    # create empty buckets\n",
    "    for i in range(numOfBuckets):\n",
    "        temp.append([])\n",
    "\n",
    "    # scatter the array elements\n",
    "    # into the correct bucket\n",
    "    for i in range(len(arr)):\n",
    "        diff = (arr[i] - min_ele) / rnge - int((arr[i] - min_ele) / rnge)\n",
    "\n",
    "        # append the boundary elements to the lower array\n",
    "        if(diff == 0 and arr[i] != min_ele):\n",
    "            temp[int((arr[i] - min_ele) / rnge) - 1].append(arr[i])\n",
    "\n",
    "        else:\n",
    "            temp[int((arr[i] - min_ele) / rnge)].append(arr[i])\n",
    "\n",
    "    # Sort each bucket individually\n",
    "    for i in range(len(temp)):\n",
    "        if len(temp[i]) != 0:\n",
    "            temp[i].sort()\n",
    "\n",
    "    # Gather sorted elements\n",
    "    # to the original array\n",
    "    k = 0\n",
    "    for lst in temp:\n",
    "        if lst:\n",
    "            for i in lst:\n",
    "                arr[k] = i\n",
    "                k += 1\n",
    "    return arr\n",
    "\n",
    "\n",
    "# Driver Code\n",
    "arr = [9.8, 0.6, 10.1, 1.9, 3.07, 3.04, 5.0, 8.0, 4.8, 7.68]\n",
    "numOfBuckets = 5\n",
    "bucketSort(arr, numOfBuckets)\n",
    "# print(\"Sorted array: \", arr)"
   ]
  },
  {
   "cell_type": "markdown",
   "id": "2ba99fce-3de7-4c5b-b021-7ea2ed4a7dfc",
   "metadata": {},
   "source": [
    "### Блок-схема"
   ]
  },
  {
   "cell_type": "markdown",
   "id": "205998ba-bb00-41cc-9417-63cebbd04633",
   "metadata": {
    "tags": []
   },
   "source": [
    "![img](./block.jpg)"
   ]
  },
  {
   "cell_type": "markdown",
   "id": "909b8291-90a1-4c69-af92-09cca4bae04b",
   "metadata": {},
   "source": [
    "### Псевдокод алгоритма\n",
    "\n",
    "```\n",
    "void bucketSort(vector<float> arr,int numOfBuckets){\n",
    "    float max_ele = max(arr);\n",
    "    float min_ele = min(arr);\n",
    "\n",
    "    # range(for buckets)\n",
    "    float basket_range = (max_ele - min_ele) / numOfBuckets;\n",
    "\n",
    "    vector<float> buskets;\n",
    "\n",
    "    # create empty buckets\n",
    "    for (int i = 0; i < numOfBuckets; i++){\n",
    "        buskets.push([]);\n",
    "    }\n",
    "\n",
    "    # scatter the array elements\n",
    "    # into the correct bucket\n",
    "    for (int i = 0; i < arr.size(); i++){\n",
    "        float diff = (arr[i] - min_ele) / basket_range - int((arr[i] - min_ele) / basket_range)\n",
    "\n",
    "        # append the boundary elements to the lower array\n",
    "        if(diff == 0 && arr[i] != min_ele){\n",
    "            buskets[int((arr[i] - min_ele) / basket_range) - 1].push(arr[i]);;\n",
    "        }\n",
    "        else {\n",
    "            buskets[int((arr[i] - min_ele) / basket_range)].push(arr[i]);\n",
    "        }\n",
    "    }\n",
    "    # Sort each bucket individually\n",
    "    for (int i = 0; i < buskets.size(); i++){\n",
    "        if (buskets[i].size() != 0) {\n",
    "            buskets[i].sort();\n",
    "        }\n",
    "    }\n",
    "\n",
    "    # Gather sorted elements\n",
    "    # to the original array\n",
    "    for(int k = 0; k < buskets.size(); k++){\n",
    "        if(!busket.empty()){\n",
    "            for(int i = 0; i < busket.size(); i++) {\n",
    "                arr[k] = busket[i];\n",
    "            }\n",
    "        }\n",
    "    }\n",
    "    return arr\n",
    "}\n",
    "```"
   ]
  },
  {
   "cell_type": "markdown",
   "id": "1e50860f-3710-47ff-be75-6fe50c2cb23a",
   "metadata": {},
   "source": [
    "### Ручная троссировка"
   ]
  },
  {
   "cell_type": "code",
   "execution_count": 44,
   "id": "ee658e80-c66c-4eed-a43f-b351357a2f62",
   "metadata": {
    "tags": []
   },
   "outputs": [
    {
     "name": "stdout",
     "output_type": "stream",
     "text": [
      "Unsort array:  [9.8, 0.6, 10.1, 1.9, 3.07, 3.04, 5.0, 8.0, 4.8, 7.68]\n",
      "our buskets:  [[], [], [], [], []]\n",
      "add element  9.8\n",
      "[[], [], [], [], [9.8]]\n",
      "add element  0.6\n",
      "[[0.6], [], [], [], [9.8]]\n",
      "add element  10.1\n",
      "[[0.6], [], [], [], [9.8, 10.1]]\n",
      "add element  1.9\n",
      "[[0.6, 1.9], [], [], [], [9.8, 10.1]]\n",
      "add element  3.07\n",
      "[[0.6, 1.9], [3.07], [], [], [9.8, 10.1]]\n",
      "add element  3.04\n",
      "[[0.6, 1.9], [3.07, 3.04], [], [], [9.8, 10.1]]\n",
      "add element  5.0\n",
      "[[0.6, 1.9], [3.07, 3.04], [5.0], [], [9.8, 10.1]]\n",
      "add element  8.0\n",
      "[[0.6, 1.9], [3.07, 3.04], [5.0], [8.0], [9.8, 10.1]]\n",
      "add element  4.8\n",
      "[[0.6, 1.9], [3.07, 3.04], [5.0, 4.8], [8.0], [9.8, 10.1]]\n",
      "add element  7.68\n",
      "[[0.6, 1.9], [3.07, 3.04], [5.0, 4.8], [8.0, 7.68], [9.8, 10.1]]\n",
      "sort each busket\n",
      "[[0.6, 1.9], [3.04, 3.07], [4.8, 5.0], [7.68, 8.0], [9.8, 10.1]]\n",
      "sorted array:  [0.6, 1.9, 3.04, 3.07, 4.8, 5.0, 7.68, 8.0, 9.8, 10.1]\n"
     ]
    }
   ],
   "source": [
    "def bucketSort(arr, numOfBuckets):\n",
    "    print(\"Unsort array: \", arr)\n",
    "    max_ele = max(arr)\n",
    "    min_ele = min(arr)\n",
    "\n",
    "    rnge = (max_ele - min_ele) / numOfBuckets\n",
    "\n",
    "    temp = []\n",
    "\n",
    "    for i in range(numOfBuckets):\n",
    "        temp.append([])\n",
    "    print(\"our buskets: \", temp)\n",
    "    for i in range(len(arr)):\n",
    "        diff = (arr[i] - min_ele) / rnge - int((arr[i] - min_ele) / rnge)\n",
    "        print(\"add element \", arr[i])\n",
    "        if(diff == 0 and arr[i] != min_ele):\n",
    "            temp[int((arr[i] - min_ele) / rnge) - 1].append(arr[i])\n",
    "\n",
    "        else:\n",
    "            temp[int((arr[i] - min_ele) / rnge)].append(arr[i])\n",
    "        print(temp)\n",
    "    print(\"sort each busket\")\n",
    "    for i in range(len(temp)):\n",
    "        if len(temp[i]) != 0:\n",
    "            temp[i].sort()\n",
    "    print(temp)\n",
    "    k = 0\n",
    "    for lst in temp:\n",
    "        if lst:\n",
    "            for i in lst:\n",
    "                arr[k] = i\n",
    "                k += 1\n",
    "    print(\"sorted array: \", arr)\n",
    "\n",
    "arr = [9.8, 0.6, 10.1, 1.9, 3.07, 3.04, 5.0, 8.0, 4.8, 7.68]\n",
    "numOfBuckets = 5\n",
    "bucketSort(arr, numOfBuckets)"
   ]
  },
  {
   "cell_type": "code",
   "execution_count": 9,
   "id": "9345631b-5511-4ca1-9157-8552ed8f09d9",
   "metadata": {},
   "outputs": [],
   "source": [
    "### Тестирование программы\n",
    "\n",
    "sortmethod = bucketSort\n",
    "\n",
    "assert sortmethod([1, 2, 3, 4], 2) == [1, 2, 3, 4], 'Ошибка при сортировки отсортированного массива'\n",
    "\n",
    "assert sortmethod([4, 3, 2, 1], 2) == [1, 2, 3, 4], 'Ошибка при сортировки отсортированного в обратном порядке массива'\n",
    "\n",
    "assert sortmethod([1, 3, 4, 2], 2) == [1, 2, 3, 4], 'Ошибка при сортировки произвольного массива'\n",
    "\n",
    "assert sortmethod([1, 3, 1, 2], 2) == [1, 1, 2, 3], 'Ошибка при сортировки массива с повторящимися элементами'\n"
   ]
  },
  {
   "cell_type": "code",
   "execution_count": 10,
   "id": "cb5ebd00-1a7f-4117-9d5e-23910da14645",
   "metadata": {
    "tags": []
   },
   "outputs": [],
   "source": [
    "# Набор данных для тестирования алгоритма\n",
    "\n",
    "def get_sort_array(n:int)->List:\n",
    "    '''Возвращает отсортированный массив'''\n",
    "    return list(range(n))\n",
    "\n",
    "def get_reverse_array(n:int)->List:\n",
    "    '''Возвращает отсортированный в обратном порядке массив'''\n",
    "    return list(range(n))[::-1]\n",
    "\n",
    "def get_random_array(n:int)->List:\n",
    "    '''Возвращает перемешанный массив'''\n",
    "    return list(random.sample(range(n), n))\n"
   ]
  },
  {
   "cell_type": "code",
   "execution_count": null,
   "id": "f37b5047-c665-48c6-a4d1-8cd68719d6cd",
   "metadata": {},
   "outputs": [],
   "source": [
    "### Литература\n",
    "\n",
    "Алгоритмы сортировки данных (Основные понятие алгоритмов сортировки). URL:https://academy.yandex.ru/journal/osnovnye-vidy-sortirovok-i-primery-ikh-realizatsii\n",
    "\n",
    "Описание алгоритма блочной сортировки. URL:https://www.internet-technologies.ru/articles/blochnaya-sortirovka-v-python.html\n",
    "\n",
    "Ссылка на википедию с описанием блочной сортировки. URL: https://ru.wikipedia.org/wiki/Блочная_сортировка\n",
    "\n",
    "Ссылка на статью в Habr по сортировкам распределением. URL: https://habr.com/ru/company/edison/blog/472466/"
   ]
  },
  {
   "cell_type": "code",
   "execution_count": 12,
   "id": "efbe9a5c-03c7-46df-b139-6a1966879510",
   "metadata": {
    "tags": []
   },
   "outputs": [],
   "source": [
    "\n",
    "### Создаём сортируемые массивы\n",
    "# Массивы для хранения результат замеров времени\n",
    "times_sort = {}\n",
    "times_reverse = {}\n",
    "times_random = {}"
   ]
  },
  {
   "cell_type": "code",
   "execution_count": 31,
   "id": "054c9e36-de31-4404-912d-b143bb018f4c",
   "metadata": {
    "tags": []
   },
   "outputs": [
    {
     "name": "stdout",
     "output_type": "stream",
     "text": [
      "8.98 ms\n"
     ]
    }
   ],
   "source": [
    "#Массивы из 1000 элементов\n",
    "times_sort.clear()\n",
    "times_reverse.clear()\n",
    "times_random.clear()\n",
    "n = 10000\n",
    "start = time.time()\n",
    "\n",
    "sortmethod(list(get_sort_array(n)), 5)\n",
    "\n",
    "end = time.time()\n",
    "t = round((end - start) * 10**3, 2)\n",
    "times_sort[n] = t\n",
    "print(t, \"ms\")"
   ]
  },
  {
   "cell_type": "code",
   "execution_count": 32,
   "id": "ff7ac1e3-d96c-4b5a-855c-9e137099b065",
   "metadata": {
    "tags": []
   },
   "outputs": [
    {
     "name": "stdout",
     "output_type": "stream",
     "text": [
      "6.98 ms\n"
     ]
    }
   ],
   "source": [
    "n=10000\n",
    "start = time.time()\n",
    "\n",
    "sortmethod(list(get_reverse_array(n)), 5)\n",
    "\n",
    "end = time.time()\n",
    "t = round((end - start) * 10**3, 2)\n",
    "times_reverse[n] = t\n",
    "print(t, \"ms\")"
   ]
  },
  {
   "cell_type": "code",
   "execution_count": 33,
   "id": "bf1c23c4-e90c-4d99-a504-0a29f1e033ab",
   "metadata": {
    "tags": []
   },
   "outputs": [
    {
     "name": "stdout",
     "output_type": "stream",
     "text": [
      "18.95 ms\n"
     ]
    }
   ],
   "source": [
    "n = 10000\n",
    "start = time.time()\n",
    "\n",
    "sortmethod(list(get_random_array(n)), 5)\n",
    " \n",
    "end = time.time()\n",
    "t = round((end - start) * 10**3, 2)\n",
    "times_random[n] = t\n",
    "print(t, \"ms\")"
   ]
  },
  {
   "cell_type": "code",
   "execution_count": 34,
   "id": "3a750b37-e06b-4f28-8266-20a6341ffc05",
   "metadata": {
    "tags": []
   },
   "outputs": [
    {
     "name": "stdout",
     "output_type": "stream",
     "text": [
      "32.91 ms\n"
     ]
    }
   ],
   "source": [
    "#Массивы из 5000 элементов\n",
    "n = 50000\n",
    "start = time.time()\n",
    " \n",
    "sortmethod(list(get_sort_array(n)), 6)\n",
    " \n",
    "end = time.time()\n",
    "t = round((end - start) * 10**3, 2)\n",
    "times_sort[n] = t\n",
    "print(t, \"ms\")"
   ]
  },
  {
   "cell_type": "code",
   "execution_count": 35,
   "id": "a5e05f7d-c65e-459e-a98d-844f48d373ba",
   "metadata": {
    "tags": []
   },
   "outputs": [
    {
     "name": "stdout",
     "output_type": "stream",
     "text": [
      "35.9 ms\n"
     ]
    }
   ],
   "source": [
    "n = 50000\n",
    "start = time.time()\n",
    " \n",
    "sortmethod(list(get_reverse_array(n)), 6)\n",
    " \n",
    "end = time.time()\n",
    "t = round((end - start) * 10**3, 2)\n",
    "times_reverse[n] = t\n",
    "print(t, \"ms\")"
   ]
  },
  {
   "cell_type": "code",
   "execution_count": 36,
   "id": "8b949be1-5bf2-498d-b56d-37ba18e79a8a",
   "metadata": {
    "tags": []
   },
   "outputs": [
    {
     "name": "stdout",
     "output_type": "stream",
     "text": [
      "83.81 ms\n"
     ]
    }
   ],
   "source": [
    "n = 50000\n",
    "start = time.time()\n",
    " \n",
    "sortmethod(list(get_random_array(n)), 6)\n",
    " \n",
    "end = time.time()\n",
    "t = round((end - start) * 10**3, 2)\n",
    "times_random[n] = t\n",
    "print(t, \"ms\")"
   ]
  },
  {
   "cell_type": "code",
   "execution_count": 37,
   "id": "965dda84-c384-41be-a520-6db3fdb86b34",
   "metadata": {
    "tags": []
   },
   "outputs": [
    {
     "name": "stdout",
     "output_type": "stream",
     "text": [
      "74.83 ms\n"
     ]
    }
   ],
   "source": [
    "#Массивы из 10000 элементов\n",
    "n = 100000\n",
    "start = time.time()\n",
    " \n",
    "sortmethod(list(get_sort_array(n)), 4)\n",
    " \n",
    "end = time.time()\n",
    "t = round((end - start) * 10**3, 2)\n",
    "times_sort[n] = t\n",
    "print(t, \"ms\")"
   ]
  },
  {
   "cell_type": "code",
   "execution_count": 38,
   "id": "1ac6a11f-9b89-4145-bc03-ea33c458132b",
   "metadata": {
    "tags": []
   },
   "outputs": [
    {
     "name": "stdout",
     "output_type": "stream",
     "text": [
      "72.82 ms\n"
     ]
    }
   ],
   "source": [
    "n = 100000\n",
    "start = time.time()\n",
    " \n",
    "sortmethod(list(get_reverse_array(n)), 4)\n",
    " \n",
    "end = time.time()\n",
    "t = round((end - start) * 10**3, 2)\n",
    "times_reverse[n] = t\n",
    "print(t, \"ms\")"
   ]
  },
  {
   "cell_type": "code",
   "execution_count": 39,
   "id": "efc52bd6-956a-4b44-b327-ffe432b31a7f",
   "metadata": {
    "tags": []
   },
   "outputs": [
    {
     "name": "stdout",
     "output_type": "stream",
     "text": [
      "145.61 ms\n"
     ]
    }
   ],
   "source": [
    "n = 100000\n",
    "start = time.time()\n",
    " \n",
    "sortmethod(list(get_random_array(n)), 4)\n",
    " \n",
    "end = time.time()\n",
    "t = round((end - start) * 10**3, 2)\n",
    "times_random[n] = t\n",
    "print(t, \"ms\")"
   ]
  },
  {
   "cell_type": "code",
   "execution_count": 40,
   "id": "07a07bbf-ffbb-49bd-afc7-a933b7afe1a0",
   "metadata": {
    "tags": []
   },
   "outputs": [
    {
     "name": "stdout",
     "output_type": "stream",
     "text": [
      "167.52 ms\n"
     ]
    }
   ],
   "source": [
    "#Массивы из 25000 элементов\n",
    "n = 250000\n",
    "start = time.time()\n",
    " \n",
    "sortmethod(list(get_sort_array(n)), 2)\n",
    " \n",
    "end = time.time()\n",
    "t = round((end - start) * 10**3, 2)\n",
    "times_sort[n] = t\n",
    "print(t, \"ms\")"
   ]
  },
  {
   "cell_type": "code",
   "execution_count": 41,
   "id": "809e0e7f-a8c5-4730-8a3a-ec15787a8a6a",
   "metadata": {
    "tags": []
   },
   "outputs": [
    {
     "name": "stdout",
     "output_type": "stream",
     "text": [
      "167.63 ms\n"
     ]
    }
   ],
   "source": [
    "n = 250000\n",
    "start = time.time()\n",
    " \n",
    "sortmethod(list(get_reverse_array(n)), 2)\n",
    " \n",
    "end = time.time()\n",
    "t = round((end - start) * 10**3, 2)\n",
    "times_reverse[n] = t\n",
    "print(t, \"ms\")"
   ]
  },
  {
   "cell_type": "code",
   "execution_count": 42,
   "id": "86200771-0ea6-47c0-9b1b-971e7e6da47b",
   "metadata": {
    "tags": []
   },
   "outputs": [
    {
     "name": "stdout",
     "output_type": "stream",
     "text": [
      "402.96 ms\n"
     ]
    }
   ],
   "source": [
    "n = 250000\n",
    "start = time.time()\n",
    " \n",
    "sortmethod(list(get_random_array(n)), 2)\n",
    " \n",
    "end = time.time()\n",
    "t = round((end - start) * 10**3, 2)\n",
    "times_random[n] = t\n",
    "print(t, \"ms\")"
   ]
  },
  {
   "cell_type": "code",
   "execution_count": 51,
   "id": "691604b2-4b87-452c-8051-a723d94f1035",
   "metadata": {
    "tags": []
   },
   "outputs": [
    {
     "data": {
      "image/png": "[encoded data removed]",
      "text/plain": [
       "<Figure size 640x480 with 1 Axes>"
      ]
     },
     "metadata": {},
     "output_type": "display_data"
    }
   ],
   "source": [
    "#Графики зависимости\n",
    "import matplotlib.pyplot as plt\n",
    "import numpy as np\n",
    "plt.plot(times_sort.keys(), times_sort.values(), times_reverse.keys(), times_reverse.values(), times_random.keys(), times_random.values())\n",
    "plt.ylabel('time, ms')\n",
    "plt.xlabel('number of elements')\n",
    "plt.grid(True)\n",
    "plt.show()\n",
    "#синий - sort\n",
    "#оранжевый - revers\n",
    "#зеленый - random"
   ]
  }
 ],
 "metadata": {
  "kernelspec": {
   "display_name": "Python 3 (ipykernel)",
   "language": "python",
   "name": "python3"
  },
  "language_info": {
   "codemirror_mode": {
    "name": "ipython",
    "version": 3
   },
   "file_extension": ".py",
   "mimetype": "text/x-python",
   "name": "python",
   "nbconvert_exporter": "python",
   "pygments_lexer": "ipython3",
   "version": "3.11.1"
  }
 },
 "nbformat": 4,
 "nbformat_minor": 5
}
