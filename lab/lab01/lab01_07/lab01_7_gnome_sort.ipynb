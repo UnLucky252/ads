{
 "cells": [
  {
   "cell_type": "code",
   "execution_count": 22,
   "id": "f68415ee",
   "metadata": {
    "tags": []
   },
   "outputs": [
    {
     "name": "stdout",
     "output_type": "stream",
     "text": [
      "Defaulting to user installation because normal site-packages is not writeable\n",
      "Requirement already satisfied: wand in /home/shabalka/.local/lib/python3.10/site-packages (0.6.11)\n"
     ]
    }
   ],
   "source": [
    "!pip install wand\n",
    "\n",
    "import random\n",
    "\n",
    "from typing import List, Tuple\n",
    "from wand.image import Image as WImage"
   ]
  },
  {
   "cell_type": "markdown",
   "id": "93a4f2bc",
   "metadata": {},
   "source": [
    "# Лабораторная работа 1. Методы сортировки\n",
    "\n",
    "Вариант: 7"
   ]
  },
  {
   "cell_type": "markdown",
   "id": "fd19520b",
   "metadata": {},
   "source": [
    "## Гномья сортировка (gnome sort)\n"
   ]
  },
  {
   "cell_type": "markdown",
   "id": "e5103e92",
   "metadata": {},
   "source": [
    "### Классификация алгоритма:\n",
    "\n",
    "- По типу алгоритма: обменная сортировка\n",
    "\n",
    "- По устойчивости: устойчивый\n",
    "\n",
    "- По месту хранения данных: на месте\n",
    "\n",
    "- По выделению дополнительного пространства: сортировка на месте\n",
    "\n",
    "- По дополнительным затратам памяти: $O(1)$\n",
    "   \n",
    "- Время выполнения: \n",
    "  \n",
    "  - В худшем случае: $O(n^2)$\n",
    "  \n",
    "  - В лучшем случае: $O(n)$\n",
    "  \n",
    "  - В среднем: $O(n^2)$"
   ]
  },
  {
   "cell_type": "markdown",
   "id": "6ad8dff4",
   "metadata": {},
   "source": [
    "### Описание алгоритма:\n",
    "\n",
    "Гномья сортировка (англ. Gnome sort) — алгоритм сортировки, похожий на сортировку вставками, но в отличие от последней перед вставкой на нужное место происходит серия обменов, как в сортировке пузырьком. Название происходит от предполагаемого поведения садовых гномов при сортировке линии садовых горшков. \n",
    "\n",
    "Гном идет по массиву до того момента, как не встретит пару рядом стоящих эл-ов (i и i-1) в неправильном пор-ке. Гном меняет их местами, при этом учитывает, что перестановка данной пары может породить пару неправильно стоящих эл-ов сзади, он передвигается назад на один эл-т и проверяет правильность. Если он встречает неправильно стоящие эл-ты, то меняет их местами и бежит снова назад до тех пор, пока не встретит первую пару правильно стоящих эл-ов. Встреченная пара правильно стоящих эл-ов означает, что массив до данных эл-ов отсортирован, что позволяет двигаться вперед."
   ]
  },
  {
   "cell_type": "markdown",
   "id": "43b3e42c",
   "metadata": {},
   "source": [
    "### Блок-схема алгоритма"
   ]
  },
  {
   "cell_type": "code",
   "execution_count": 24,
   "id": "bb594142",
   "metadata": {},
   "outputs": [
    {
     "data": {
      "image/png": "[encoded data removed]",
      "text/plain": [
       "<wand.image.Image: 03efae1 'PNG' (383x825)>"
      ]
     },
     "execution_count": 24,
     "metadata": {},
     "output_type": "execute_result"
    }
   ],
   "source": [
    "img = WImage(filename='./img/block_scheme.png')\n",
    "img"
   ]
  },
  {
   "cell_type": "markdown",
   "id": "1184e973",
   "metadata": {},
   "source": [
    "### Псевдокод алгоритма\n",
    "\n",
    "```\n",
    "i = 1\n",
    "WHILE i < n\n",
    "    IF x[i-1] <= x[i] THEN\n",
    "        NEXT i\n",
    "    ELSE\n",
    "        temp = x[i]\n",
    "        x[i] = x[i-1]\n",
    "        x[i-1] = temp\n",
    "        PREV i\n",
    "        IF i == 0 THEN\n",
    "            i == 1     \n",
    "```\n"
   ]
  },
  {
   "cell_type": "markdown",
   "id": "011d3310",
   "metadata": {},
   "source": [
    "### Реализация алгоритма"
   ]
  },
  {
   "cell_type": "markdown",
   "id": "9a5db9b3",
   "metadata": {},
   "source": [
    "Достоинства алгоритма:\n",
    "    \n",
    "    -- простота реализации\n",
    "    \n",
    "Недостатки:\n",
    "\n",
    "    -- низкая эффективность"
   ]
  },
  {
   "cell_type": "markdown",
   "id": "d4c110fe",
   "metadata": {},
   "source": [
    "###  Ручная трассировка\n",
    "```   \n",
    "начальный массив : [4] [2] [7] [3], гномья сортировка по возрастанию\n",
    "\n",
    "    [4] [2] [7] [3] (начальное состояние: i == 1, i-1 == 0);\n",
    "    [2] [4] [7] [3] (4 < 2 == false, меняем местами 4 и 2, при i -= 1, i обращается в нуль, поэтому i = 1);\n",
    "    [2] [4] [7] [3] (i == 1, 2 <= 4 == true, идем далее, i += 1);\n",
    "    [2] [4] [7] [3] (i == 2, 4 <= 7 == true, идем далее, i += 1);\n",
    "    [2] [4] [7] [3] (i == 3, 7 <= 3 == false, меняем местами 7 и 3, i -= 1);\n",
    "    [2] [4] [3] [7] (i == 2, 4 <= 3 == false, меняем местами 4 и 3, i -= 1);\n",
    "    [2] [3] [4] [7] (i == 1, 2 <= 3 == true, идем далее, i += 1);\n",
    "    [2] [3] [4] [7] (i == 2, 3 <= 4 == true, идем далее, i += 1);\n",
    "    [2] [3] [4] [7] (i == 3, 4 <= 7 == true, идем далее, i += 1);\n",
    "    цикл закончился, т. к. i не < 4.\n",
    "```"
   ]
  },
  {
   "cell_type": "code",
   "execution_count": 2,
   "id": "b9b4cecd-b909-4077-8547-81de47781f2b",
   "metadata": {
    "tags": []
   },
   "outputs": [],
   "source": [
    "###  HELPING\n",
    "\n",
    "def swap(lst : List, i : int, j : int):\n",
    "    tmp = lst[i]\n",
    "    lst[i] = lst[j]\n",
    "    lst[j] = tmp\n",
    "\n",
    "def print_swap(lst : List, i : int, j : int):\n",
    "    swap(lst, i, j)\n",
    "    \n",
    "    '''Иллюстрация обмена элементов'''\n",
    "    s = [f' {str(a):<3}'  for a in lst]\n",
    "    s[i] = f'<{s[i].strip()}>'\n",
    "    s[j] = f'<{s[j].strip()}>'\n",
    "    s = ' '.join(s)\n",
    "    I = s.find('<')\n",
    "    J = s.rfind('>') - I - 3\n",
    "    swap_str = ' ' + ' '*I + '^' + '-'*J + '^'\n",
    "    print(s)\n",
    "    print(swap_str, end='\\n\\n\\n')\n",
    "    \n",
    "def my_print_swap(lst : List, i : int, j : int):\n",
    "    result=\"\"\n",
    "    under_result = ''\n",
    "    if j < i:\n",
    "        temp = i\n",
    "        i = j\n",
    "        j = temp\n",
    "    k = 0\n",
    "    while k < i:\n",
    "        result += str(lst[k]) + '  '\n",
    "        under_result += (len(str(lst[k])) + 2) * ' '\n",
    "        k += 1\n",
    "    result += '|' + str(lst[i]) + '|   '\n",
    "    under_result += '\\\\' + len(str(lst[i])) * '_' + '/<'\n",
    "    k = i + 1\n",
    "    while k < j:\n",
    "        result += str(lst[k]) + '  '\n",
    "        under_result += '--' + (len(str(lst[k]))) * '-'\n",
    "        k += 1\n",
    "    result += '|' + str(lst[j]) + '|  '\n",
    "    under_result += '->\\\\' + len(str(lst[j])) * '_' + '/  '\n",
    "    k = j + 1\n",
    "    while k < len(lst):\n",
    "        result += str(lst[k]) + '  '\n",
    "        k += 1\n",
    "    result += '\\n' + under_result + '\\n'\n",
    "    print(result)\n",
    "    swap(lst, i, j)"
   ]
  },
  {
   "cell_type": "markdown",
   "id": "84ab9956",
   "metadata": {},
   "source": [
    "### Алгоиртм"
   ]
  },
  {
   "cell_type": "code",
   "execution_count": 3,
   "id": "0959b1f5",
   "metadata": {
    "tags": []
   },
   "outputs": [],
   "source": [
    "def gnome_sort(lst : List)->List:\n",
    "    size = len(lst)\n",
    "    i = 1\n",
    "    while i < size:\n",
    "        if (lst[i - 1] <= lst[i]):\n",
    "            i += 1\n",
    "        else:\n",
    "            swap(lst, i, i-1)\n",
    "            i-= 1\n",
    "            if (i == 0):\n",
    "                i = 1\n",
    "    return lst\n",
    "\n",
    "def gnome_sort_with_print(lst : List)->List:\n",
    "    size = len(lst)\n",
    "    i = 1\n",
    "    while i < size:\n",
    "        if (lst[i - 1] <= lst[i]):\n",
    "            i += 1\n",
    "        else:\n",
    "            my_print_swap(lst, i, i - 1)\n",
    "            i-= 1\n",
    "            if (i == 0):\n",
    "                i = 1\n",
    "    return lst"
   ]
  },
  {
   "cell_type": "markdown",
   "id": "7524b1cd",
   "metadata": {},
   "source": [
    "### Тестирование"
   ]
  },
  {
   "cell_type": "code",
   "execution_count": 4,
   "id": "0de87daa",
   "metadata": {
    "tags": []
   },
   "outputs": [],
   "source": [
    "### Тестирование программы\n",
    "\n",
    "assert gnome_sort([1, 2, 3, 4]) == [1, 2, 3, 4], 'Ошибка при сортировки отсортированного массива'\n",
    "\n",
    "assert gnome_sort([4, 3, 2, 1]) == [1, 2, 3, 4], 'Ошибка при сортировки отсортированного в обратном порядке массива'\n",
    "\n",
    "assert gnome_sort([1, 3, 4, 2]) == [1, 2, 3, 4], 'Ошибка при сортировки произвольного массива'\n",
    "\n",
    "assert gnome_sort([1, 3, 1, 2]) == [1, 1, 2, 3], 'Ошибка при сортировки массива с повторящимися элементами'\n"
   ]
  },
  {
   "cell_type": "code",
   "execution_count": 5,
   "id": "feb278f3",
   "metadata": {
    "tags": []
   },
   "outputs": [],
   "source": [
    "# Набор данных для тестирования алгоритма\n",
    "\n",
    "def get_sort_array(n:int)->List:\n",
    "    '''Возвращает отсортированный массив'''\n",
    "    return tuple(range(n))\n",
    "\n",
    "def get_reverse_array(n:int)->List:\n",
    "    '''Возвращает отсортированный в обратном порядке массив'''\n",
    "    return tuple(range(n))[::-1]\n",
    "\n",
    "def get_random_array(n:int)->List:\n",
    "    '''Возвращает перемешанный массив'''\n",
    "    return tuple(random.sample(range(n), n))"
   ]
  },
  {
   "cell_type": "markdown",
   "id": "bb3901b8",
   "metadata": {},
   "source": [
    "### Большие массивы по 1000, 5000, 10000, 30000 эл-ов"
   ]
  },
  {
   "cell_type": "code",
   "execution_count": 6,
   "id": "aef1990b",
   "metadata": {
    "tags": []
   },
   "outputs": [],
   "source": [
    "n1 = 1000\n",
    "x1_sort = list(get_sort_array(n1))\n",
    "x1_reverse = list(get_reverse_array(n1))\n",
    "x1_random = list(get_random_array(n1))\n",
    "\n",
    "n2 = 5000\n",
    "x2_sort = list(get_sort_array(n2))\n",
    "x2_reverse = list(get_reverse_array(n2))\n",
    "x2_random = list(get_random_array(n2))\n",
    "\n",
    "n3 = 10000\n",
    "x3_sort = list(get_sort_array(n3))\n",
    "x3_reverse = list(get_reverse_array(n3))\n",
    "x3_random = list(get_random_array(n3))\n",
    "\n",
    "n4 = 30000\n",
    "x4_sort = list(get_sort_array(n4))\n",
    "x4_reverse = list(get_reverse_array(n4))\n",
    "x4_random = list(get_random_array(n4))"
   ]
  },
  {
   "cell_type": "code",
   "execution_count": 7,
   "id": "7785e541",
   "metadata": {
    "tags": []
   },
   "outputs": [
    {
     "name": "stdout",
     "output_type": "stream",
     "text": [
      "CPU times: user 50 µs, sys: 12 µs, total: 62 µs\n",
      "Wall time: 63.2 µs\n"
     ]
    }
   ],
   "source": [
    "%%time\n",
    "\n",
    "gnome_sort(x1_sort);\n",
    "a = 0;"
   ]
  },
  {
   "cell_type": "code",
   "execution_count": 8,
   "id": "e8e0c7b7-5a89-4f65-831a-7d939b1a268f",
   "metadata": {
    "tags": []
   },
   "outputs": [
    {
     "name": "stdout",
     "output_type": "stream",
     "text": [
      "CPU times: user 107 ms, sys: 0 ns, total: 107 ms\n",
      "Wall time: 118 ms\n"
     ]
    }
   ],
   "source": [
    "%%time\n",
    "\n",
    "gnome_sort(x1_reverse);\n",
    "a = 0;"
   ]
  },
  {
   "cell_type": "code",
   "execution_count": 9,
   "id": "a18b52c9-b9b8-4db8-976b-69d8ce668e6a",
   "metadata": {
    "tags": []
   },
   "outputs": [
    {
     "name": "stdout",
     "output_type": "stream",
     "text": [
      "CPU times: user 57.7 ms, sys: 0 ns, total: 57.7 ms\n",
      "Wall time: 65.1 ms\n"
     ]
    }
   ],
   "source": [
    "%%time\n",
    "\n",
    "gnome_sort(x1_random);\n",
    "a = 0;"
   ]
  },
  {
   "cell_type": "code",
   "execution_count": 10,
   "id": "660cc96d",
   "metadata": {},
   "outputs": [
    {
     "name": "stdout",
     "output_type": "stream",
     "text": [
      "CPU times: user 294 µs, sys: 0 ns, total: 294 µs\n",
      "Wall time: 296 µs\n"
     ]
    }
   ],
   "source": [
    "%%time\n",
    "\n",
    "gnome_sort(x2_sort);\n",
    "a = 0;"
   ]
  },
  {
   "cell_type": "code",
   "execution_count": 11,
   "id": "65502dbc",
   "metadata": {},
   "outputs": [
    {
     "name": "stdout",
     "output_type": "stream",
     "text": [
      "CPU times: user 2.79 s, sys: 15.3 ms, total: 2.8 s\n",
      "Wall time: 3.05 s\n"
     ]
    }
   ],
   "source": [
    "%%time\n",
    "\n",
    "gnome_sort(x2_reverse);\n",
    "a = 0;"
   ]
  },
  {
   "cell_type": "code",
   "execution_count": 12,
   "id": "423ea57f",
   "metadata": {},
   "outputs": [
    {
     "name": "stdout",
     "output_type": "stream",
     "text": [
      "CPU times: user 1.4 s, sys: 4 ms, total: 1.41 s\n",
      "Wall time: 1.48 s\n"
     ]
    }
   ],
   "source": [
    "%%time\n",
    "\n",
    "gnome_sort(x2_random);\n",
    "a = 0;"
   ]
  },
  {
   "cell_type": "code",
   "execution_count": 13,
   "id": "de503a8c-ac18-49d6-ac9d-e2146a8e19f7",
   "metadata": {
    "tags": []
   },
   "outputs": [
    {
     "name": "stdout",
     "output_type": "stream",
     "text": [
      "CPU times: user 622 µs, sys: 14 µs, total: 636 µs\n",
      "Wall time: 659 µs\n"
     ]
    }
   ],
   "source": [
    "%%time\n",
    "\n",
    "gnome_sort(x3_sort);\n",
    "a = 0;"
   ]
  },
  {
   "cell_type": "code",
   "execution_count": 14,
   "id": "216a302b-74ba-42da-a7e0-4b9fe5e6f888",
   "metadata": {
    "tags": []
   },
   "outputs": [
    {
     "name": "stdout",
     "output_type": "stream",
     "text": [
      "CPU times: user 11 s, sys: 7.99 ms, total: 11.1 s\n",
      "Wall time: 11.1 s\n"
     ]
    }
   ],
   "source": [
    "%%time\n",
    "\n",
    "gnome_sort(x3_reverse);\n",
    "a = 0;"
   ]
  },
  {
   "cell_type": "code",
   "execution_count": 15,
   "id": "920f57e8-aeb9-4e18-8124-db4355564979",
   "metadata": {
    "tags": []
   },
   "outputs": [
    {
     "name": "stdout",
     "output_type": "stream",
     "text": [
      "CPU times: user 5.62 s, sys: 23.8 ms, total: 5.65 s\n",
      "Wall time: 6.15 s\n"
     ]
    }
   ],
   "source": [
    "%%time\n",
    "\n",
    "gnome_sort(x3_random);\n",
    "a = 0;"
   ]
  },
  {
   "cell_type": "code",
   "execution_count": 16,
   "id": "870434a3",
   "metadata": {},
   "outputs": [
    {
     "name": "stdout",
     "output_type": "stream",
     "text": [
      "CPU times: user 1.91 ms, sys: 0 ns, total: 1.91 ms\n",
      "Wall time: 1.91 ms\n"
     ]
    }
   ],
   "source": [
    "%%time\n",
    "\n",
    "gnome_sort(x4_sort);\n",
    "a = 0;"
   ]
  },
  {
   "cell_type": "code",
   "execution_count": 17,
   "id": "7cca15fd",
   "metadata": {},
   "outputs": [
    {
     "name": "stdout",
     "output_type": "stream",
     "text": [
      "CPU times: user 1min 39s, sys: 16.2 ms, total: 1min 39s\n",
      "Wall time: 1min 39s\n"
     ]
    }
   ],
   "source": [
    "%%time\n",
    "\n",
    "gnome_sort(x4_reverse);\n",
    "a = 0;"
   ]
  },
  {
   "cell_type": "code",
   "execution_count": 18,
   "id": "b435ce8c",
   "metadata": {},
   "outputs": [
    {
     "name": "stdout",
     "output_type": "stream",
     "text": [
      "CPU times: user 48.4 s, sys: 3.94 ms, total: 48.4 s\n",
      "Wall time: 48.4 s\n"
     ]
    }
   ],
   "source": [
    "%%time\n",
    "\n",
    "gnome_sort(x4_random);\n",
    "a = 0;"
   ]
  },
  {
   "cell_type": "markdown",
   "id": "a47dc615",
   "metadata": {},
   "source": [
    "### Диаграмма"
   ]
  },
  {
   "cell_type": "code",
   "execution_count": 23,
   "id": "0906508f",
   "metadata": {
    "scrolled": true
   },
   "outputs": [
    {
     "data": {
      "image/png": "[encoded data removed]",
      "text/plain": [
       "<wand.image.Image: ed53ad1 'PNG' (1055x591)>"
      ]
     },
     "execution_count": 23,
     "metadata": {},
     "output_type": "execute_result"
    }
   ],
   "source": [
    "img = WImage(filename='./img/diagramm.png')\n",
    "img"
   ]
  },
  {
   "cell_type": "markdown",
   "id": "43826772",
   "metadata": {},
   "source": [
    "### Иллюстрация работы алгоритма"
   ]
  },
  {
   "cell_type": "code",
   "execution_count": 19,
   "id": "45b2cba9",
   "metadata": {
    "tags": []
   },
   "outputs": [
    {
     "name": "stdout",
     "output_type": "stream",
     "text": [
      "52424  |82424|   |1224|  7222  6  \n",
      "       \\_____/<->\\____/  \n",
      "\n",
      "|52424|   |1224|  82424  7222  6  \n",
      "\\_____/<->\\____/  \n",
      "\n",
      "1224  52424  |82424|   |7222|  6  \n",
      "             \\_____/<->\\____/  \n",
      "\n",
      "1224  |52424|   |7222|  82424  6  \n",
      "      \\_____/<->\\____/  \n",
      "\n",
      "1224  7222  52424  |82424|   |6|  \n",
      "                   \\_____/<->\\_/  \n",
      "\n",
      "1224  7222  |52424|   |6|  82424  \n",
      "            \\_____/<->\\_/  \n",
      "\n",
      "1224  |7222|   |6|  52424  82424  \n",
      "      \\____/<->\\_/  \n",
      "\n",
      "|1224|   |6|  7222  52424  82424  \n",
      "\\____/<->\\_/  \n",
      "\n",
      "[6, 1224, 7222, 52424, 82424]\n"
     ]
    }
   ],
   "source": [
    "A = [52424, 82424, 1224, 7222, 6]\n",
    "A = gnome_sort_with_print(A)\n",
    "print(A)"
   ]
  }
 ],
 "metadata": {
  "kernelspec": {
   "display_name": "Python 3 (ipykernel)",
   "language": "python",
   "name": "python3"
  },
  "language_info": {
   "codemirror_mode": {
    "name": "ipython",
    "version": 3
   },
   "file_extension": ".py",
   "mimetype": "text/x-python",
   "name": "python",
   "nbconvert_exporter": "python",
   "pygments_lexer": "ipython3",
   "version": "3.10.6"
  }
 },
 "nbformat": 4,
 "nbformat_minor": 5
}
