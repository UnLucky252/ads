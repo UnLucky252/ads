{
 "cells": [
  {
   "cell_type": "code",
   "execution_count": 25,
   "id": "8f29f8e7",
   "metadata": {
    "scrolled": true
   },
   "outputs": [
    {
     "name": "stdout",
     "output_type": "stream",
     "text": [
      "Collecting tabulate\n",
      "  Downloading tabulate-0.9.0-py3-none-any.whl (35 kB)\n",
      "Installing collected packages: tabulate\n",
      "Successfully installed tabulate-0.9.0\n"
     ]
    }
   ],
   "source": [
    "!pip3 install tabulate"
   ]
  },
  {
   "cell_type": "code",
   "execution_count": null,
   "id": "d8308b8d",
   "metadata": {},
   "outputs": [],
   "source": [
    "!pip3 install matplotlib"
   ]
  },
  {
   "cell_type": "code",
   "execution_count": 92,
   "id": "b6dffc0f",
   "metadata": {
    "scrolled": true
   },
   "outputs": [
    {
     "name": "stdout",
     "output_type": "stream",
     "text": [
      "Requirement already satisfied: seaborn in /opt/homebrew/lib/python3.10/site-packages (0.12.2)\r\n",
      "Requirement already satisfied: pandas>=0.25 in /opt/homebrew/lib/python3.10/site-packages (from seaborn) (1.5.3)\r\n",
      "Requirement already satisfied: matplotlib!=3.6.1,>=3.1 in /opt/homebrew/lib/python3.10/site-packages (from seaborn) (3.6.3)\r\n",
      "Requirement already satisfied: numpy!=1.24.0,>=1.17 in /opt/homebrew/lib/python3.10/site-packages (from seaborn) (1.24.2)\r\n",
      "Requirement already satisfied: cycler>=0.10 in /opt/homebrew/lib/python3.10/site-packages (from matplotlib!=3.6.1,>=3.1->seaborn) (0.11.0)\r\n",
      "Requirement already satisfied: pillow>=6.2.0 in /opt/homebrew/lib/python3.10/site-packages (from matplotlib!=3.6.1,>=3.1->seaborn) (9.4.0)\r\n",
      "Requirement already satisfied: contourpy>=1.0.1 in /opt/homebrew/lib/python3.10/site-packages (from matplotlib!=3.6.1,>=3.1->seaborn) (1.0.7)\r\n",
      "Requirement already satisfied: pyparsing>=2.2.1 in /opt/homebrew/lib/python3.10/site-packages (from matplotlib!=3.6.1,>=3.1->seaborn) (3.0.9)\r\n",
      "Requirement already satisfied: python-dateutil>=2.7 in /opt/homebrew/lib/python3.10/site-packages (from matplotlib!=3.6.1,>=3.1->seaborn) (2.8.2)\r\n",
      "Requirement already satisfied: fonttools>=4.22.0 in /opt/homebrew/lib/python3.10/site-packages (from matplotlib!=3.6.1,>=3.1->seaborn) (4.38.0)\r\n",
      "Requirement already satisfied: kiwisolver>=1.0.1 in /opt/homebrew/lib/python3.10/site-packages (from matplotlib!=3.6.1,>=3.1->seaborn) (1.4.4)\r\n",
      "Requirement already satisfied: packaging>=20.0 in /opt/homebrew/lib/python3.10/site-packages (from matplotlib!=3.6.1,>=3.1->seaborn) (23.0)\r\n",
      "Requirement already satisfied: pytz>=2020.1 in /opt/homebrew/lib/python3.10/site-packages (from pandas>=0.25->seaborn) (2022.7.1)\r\n",
      "Requirement already satisfied: six>=1.5 in /opt/homebrew/lib/python3.10/site-packages (from python-dateutil>=2.7->matplotlib!=3.6.1,>=3.1->seaborn) (1.16.0)\r\n"
     ]
    }
   ],
   "source": [
    "!pip3 install seaborn"
   ]
  },
  {
   "cell_type": "code",
   "execution_count": 87,
   "id": "f68415ee",
   "metadata": {
    "scrolled": true
   },
   "outputs": [],
   "source": [
    "import random\n",
    "import timeit\n",
    "from typing import List, Tuple\n",
    "from tabulate import tabulate\n",
    "import seaborn as sns\n",
    "import pandas as pd\n",
    "import matplotlib.pyplot as plt"
   ]
  },
  {
   "cell_type": "markdown",
   "id": "93a4f2bc",
   "metadata": {},
   "source": [
    "# Лабораторная работа 1. Методы сортировки\n",
    "\n",
    "Вариант: 20"
   ]
  },
  {
   "cell_type": "markdown",
   "id": "fd19520b",
   "metadata": {},
   "source": [
    "# Сортировка подсчетом"
   ]
  },
  {
   "cell_type": "markdown",
   "id": "e5103e92",
   "metadata": {},
   "source": [
    "### 1. Классификация алгоритма:\n",
    "\n",
    "- По типу алгоритма: сортировка без сравнений\n",
    "\n",
    "- По устойчивости: устойчивый\n",
    "\n",
    "- По месту хранения данных: требует выделения дополнительной памяти\n",
    "\n",
    "- По выделению дополнительного пространства: сортировка на месте\n",
    "\n",
    "- По дополнительным затратам памяти: $O(k)$, где $k$ - диапазон значений сортируемых элементов\n",
    "   \n",
    "- Время выполнения: \n",
    "  \n",
    "  - В худшем случае: $O(n+k)$\n",
    "  \n",
    "  - В лучшем случае: $O(n+k)$\n",
    "  \n",
    "  - В среднем: $O(n+k)$"
   ]
  },
  {
   "cell_type": "markdown",
   "id": "6ad8dff4",
   "metadata": {},
   "source": [
    "### 2. Теоретическое описание алгоритма:\n",
    "\n",
    "Сортировка подсчетом (Counting Sort) - это несравнительный алгоритм сортировки, который сортирует массив путем подсчета количества элементов с определенным значением.\n",
    "\n",
    "Алгоритм состоит из трех основных шагов:\n",
    "\n",
    "1. Подсчет количества элементов каждого значения в сортируемом массиве и сохранение этой информации во вспомогательном массиве (массиве подсчета).\n",
    "2. Вычисление кумулятивной суммы количества элементов во вспомогательном массиве.\n",
    "3. Распределение элементов сортируемого массива на основе кумулятивной суммы во вспомогательном массиве."
   ]
  },
  {
   "cell_type": "markdown",
   "id": "d9ea727b",
   "metadata": {},
   "source": [
    "### 3. Блок-схема алгоритма"
   ]
  },
  {
   "cell_type": "markdown",
   "id": "372cb469",
   "metadata": {
    "scrolled": true
   },
   "source": [
    "![diagram_counting_sort](diagram.png)"
   ]
  },
  {
   "cell_type": "markdown",
   "id": "1184e973",
   "metadata": {},
   "source": [
    "### 4. Псевдокод алгоритма\n",
    "\n",
    "```\n",
    "counting_sort(arr):\n",
    "    if length of arr is 0, return arr\n",
    "\n",
    "    min_val = minimum value in arr\n",
    "    max_val = maximum value in arr\n",
    "\n",
    "    count_arr = array of 0s with length (max_val - min_val + 1)\n",
    "\n",
    "    for num in arr:\n",
    "        count_arr[num - min_val] += 1\n",
    "\n",
    "    sorted_arr = empty array\n",
    "    for i in range(length of count_arr):\n",
    "        for j in range(count_arr[i]):\n",
    "            sorted_arr.append(i + min_val)\n",
    "\n",
    "    return sorted_arr\n",
    "```\n"
   ]
  },
  {
   "cell_type": "markdown",
   "id": "9a5db9b3",
   "metadata": {},
   "source": [
    "### 5. Достоинства и недостатки алгоритма\n",
    "\n",
    "Достоинства алгоритма:\n",
    "    \n",
    "    -- Эффективен для сортировки массивов, у которых значение k не слишком велико.\n",
    "    -- Устойчивый алгоритм сортировки, сохраняющий порядок равных элементов.\n",
    "    \n",
    "Недостатки:\n",
    "\n",
    "    -- Требует выделения дополнительной памяти для массива подсчета и результирующего массива.\n",
    "    -- Неэффективен для сортировки массивов, у которых диапазон значений слишком велик."
   ]
  },
  {
   "cell_type": "markdown",
   "id": "011d3310",
   "metadata": {},
   "source": [
    "### 6. Реализация алгоритма"
   ]
  },
  {
   "cell_type": "code",
   "execution_count": 8,
   "id": "0959b1f5",
   "metadata": {},
   "outputs": [],
   "source": [
    "def counting_sort(arr):\n",
    "    if len(arr) == 0:\n",
    "        return arr\n",
    "\n",
    "    # определяем максимальное и минимальное значения\n",
    "    min_val = min(arr)\n",
    "    max_val = max(arr)\n",
    "\n",
    "    # создаем массив для подсчета количества элементов\n",
    "    count_arr = [0] * (max_val - min_val + 1)\n",
    "\n",
    "    # подсчитываем количество элементов\n",
    "    for num in arr:\n",
    "        count_arr[num - min_val] += 1\n",
    "\n",
    "    # создаем выходной массив\n",
    "    sorted_arr = []\n",
    "    for i in range(len(count_arr)):\n",
    "        for j in range(count_arr[i]):\n",
    "            sorted_arr.append(i + min_val)\n",
    "\n",
    "    return sorted_arr"
   ]
  },
  {
   "cell_type": "code",
   "execution_count": 9,
   "id": "45b2cba9",
   "metadata": {},
   "outputs": [
    {
     "name": "stdout",
     "output_type": "stream",
     "text": [
      "MIN =  5   MAX =  12 \n",
      "\n",
      "12  -  5  + 1 =  число нулей \n",
      "\n",
      "       [0, 0, 0, 0, 0, 0, 0, 0] \n",
      "\n",
      "Число  5 в массиве. Значит добавим в массив с нулями единицу на  0  позицию\n",
      "       [1, 0, 0, 0, 0, 0, 0, 0] \n",
      "\n",
      "\n",
      "Число  8 в массиве. Значит добавим в массив с нулями единицу на  3  позицию\n",
      "       [1, 0, 0, 1, 0, 0, 0, 0] \n",
      "\n",
      "\n",
      "Число  12 в массиве. Значит добавим в массив с нулями единицу на  7  позицию\n",
      "       [1, 0, 0, 1, 0, 0, 0, 1] \n",
      "\n",
      "\n",
      "Число  7 в массиве. Значит добавим в массив с нулями единицу на  2  позицию\n",
      "       [1, 0, 1, 1, 0, 0, 0, 1] \n",
      "\n",
      "\n",
      "Число  6 в массиве. Значит добавим в массив с нулями единицу на  1  позицию\n",
      "       [1, 1, 1, 1, 0, 0, 0, 1] \n",
      "\n",
      "\n",
      "Прошлись по всем цифрам, теперь создаем пустой массив\n",
      "\n",
      " Встретили  1  раз позицию  0 . Значит, в итоговый массив добавим позицию + минимальное число =  5   1  раз.\n",
      "       [5]\n",
      "\n",
      " Встретили  1  раз позицию  1 . Значит, в итоговый массив добавим позицию + минимальное число =  6   1  раз.\n",
      "       [5, 6]\n",
      "\n",
      " Встретили  1  раз позицию  2 . Значит, в итоговый массив добавим позицию + минимальное число =  7   1  раз.\n",
      "       [5, 6, 7]\n",
      "\n",
      " Встретили  1  раз позицию  3 . Значит, в итоговый массив добавим позицию + минимальное число =  8   1  раз.\n",
      "       [5, 6, 7, 8]\n",
      "\n",
      " Встретили  1  раз позицию  7 . Значит, в итоговый массив добавим позицию + минимальное число =  12   1  раз.\n",
      "       [5, 6, 7, 8, 12]\n"
     ]
    }
   ],
   "source": [
    "def counting_sort_example(arr):\n",
    "    if len(arr) == 0:\n",
    "        return arr\n",
    "\n",
    "    min_val = min(arr)\n",
    "    max_val = max(arr)\n",
    "\n",
    "    print(\"MIN = \", min_val, \"  MAX = \", max_val, \"\\n\")\n",
    "    print(max_val, \" - \", min_val, \" + 1 = \", \"число нулей\", \"\\n\")\n",
    "\n",
    "    count_arr = [0] * (max_val - min_val + 1)\n",
    "    print(\" \"*6, count_arr, \"\\n\")\n",
    "\n",
    "    for num in arr:\n",
    "        count_arr[num - min_val] += 1\n",
    "        print(\"Число \", num, \"в массиве. Значит добавим в массив с нулями единицу на \", num - min_val, \" позицию\")\n",
    "        print(\" \" * 6, count_arr, \"\\n\\n\")\n",
    "\n",
    "    print(\"Прошлись по всем цифрам, теперь создаем пустой массив\")\n",
    "\n",
    "    sorted_arr = []\n",
    "    for i in range(len(count_arr)):\n",
    "        for j in range(count_arr[i]):\n",
    "            sorted_arr.append(i + min_val)\n",
    "        if count_arr[i] != 0:\n",
    "            print(\"\\n\", \"Встретили \", count_arr[i], \" раз позицию \", i, \". Значит, в итоговый массив добавим позицию + минимальное число = \", i + min_val, \" \", count_arr[i], \" раз.\")\n",
    "            print(\" \" * 6, sorted_arr)\n",
    "\n",
    "    return sorted_arr\n",
    "\n",
    "A = [5, 8, 12, 7, 6]\n",
    "A = counting_sort_example(A)"
   ]
  },
  {
   "cell_type": "markdown",
   "id": "a0789412",
   "metadata": {},
   "source": [
    "### 7. Тестировка корректности работы"
   ]
  },
  {
   "cell_type": "code",
   "execution_count": 11,
   "id": "0de87daa",
   "metadata": {},
   "outputs": [],
   "source": [
    "# Тест 1: пустой массив\n",
    "assert counting_sort([]) == []\n",
    "\n",
    "# Тест 2: массив из одного элемента\n",
    "assert counting_sort([5]) == [5]\n",
    "\n",
    "# Тест 3: массив из нескольких элементов\n",
    "assert counting_sort([5, 3, 1, 8, 5, 2]) == [1, 2, 3, 5, 5, 8]\n",
    "\n",
    "# Тест 4: массив с отрицательными элементами\n",
    "assert counting_sort([-3, 5, -1, 8, 0, -2]) == [-3, -2, -1, 0, 5, 8]\n"
   ]
  },
  {
   "cell_type": "markdown",
   "id": "1f981a9d",
   "metadata": {},
   "source": [
    "### 8. Ручная трассировка алгоритма"
   ]
  },
  {
   "cell_type": "markdown",
   "id": "739d1c88",
   "metadata": {
    "scrolled": false
   },
   "source": [
    "    Давайте произведем ручную трассировку алгоритма сортировки подсчетом на примере неупорядоченного списка \n",
    "           [5, 3, 1, 6, 4, 3]:\n",
    "\n",
    "1. Создаем список счетчиков размером 6 (максимальное значение - минимальное + 1), заполненный нулями: \n",
    "           [0, 0, 0, 0, 0, 0].\n",
    "           \n",
    "2. Проходим по списку и для каждого элемента увеличиваем значение в соответствующей ячейке счетчика минус минимальное значение.\n",
    "    Для первого элемента 5, увеличиваем значение в ячейке 4: [0, 0, 0, 0, 1, 0].\n",
    "    Для второго элемента 3, увеличиваем значение в ячейке 2: [0, 0, 1, 0, 1, 0].\n",
    "    Для третьего элемента 1, увеличиваем значение в ячейке 0: [1, 0, 1, 0, 1, 0].\n",
    "    Для четвертого элемента 6, увеличиваем значение в ячейке 5: [1, 0, 1, 0, 1, 1].\n",
    "    Для пятого элемента 4, увеличиваем значение в ячейке 3: [1, 0, 1, 1, 1, 1].\n",
    "    Для шестого элемента 3, увеличиваем значение в ячейке 2: [1, 0, 2, 0, 1, 1, 1].\n",
    "    \n",
    "3. Проходим по списку счетчиков и для каждого значения в ячейке i добавляем i + минимальное значение к результирующему списку столько раз, сколько значение i встречается в списке счетчиков.\n",
    "    Добавляем 1 один раз: [1].\n",
    "    Добавляем 3 два раза: [1, 3, 3].\n",
    "    Добавляем 4 один раз: [1, 3, 3, 4].\n",
    "    Добавляем 5 один раз: [1, 3, 3, 4, 5].\n",
    "    Добавляем 6 один раз: [1, 3, 3, 4, 5, 6].\n",
    "    \n",
    "4. Итоговый отсортированный список: [1, 3, 3, 4, 5, 6]."
   ]
  },
  {
   "cell_type": "markdown",
   "id": "7ea81236",
   "metadata": {},
   "source": [
    "### 9-10. Сравнение сортировки массивов, содержащих n1, n2, n3 и n4 для упорядоченного массива, массива, упорядоченного в обратном порядке и неупорядоченного массива."
   ]
  },
  {
   "cell_type": "code",
   "execution_count": 6,
   "id": "feb278f3",
   "metadata": {},
   "outputs": [],
   "source": [
    "# Набор данных для тестирования алгоритма\n",
    "\n",
    "def get_sort_array(n:int)->Tuple:\n",
    "    '''Возвращает отсортированный массив'''\n",
    "    return tuple(range(n))\n",
    "\n",
    "def get_reverse_array(n:int)->Tuple:\n",
    "    '''Возвращает отсортированный в обратном порядке массив'''\n",
    "    return tuple(range(n))[::-1]\n",
    "\n",
    "def get_random_array(n:int)->Tuple:\n",
    "    '''Возвращает перемешанный массив'''\n",
    "    return tuple(random.sample(range(n), n))\n"
   ]
  },
  {
   "cell_type": "code",
   "execution_count": 48,
   "id": "aef1990b",
   "metadata": {},
   "outputs": [],
   "source": [
    "n = 1000\n",
    "multipliers = [1, 5, 2, 10]\n",
    "results_n = []\n",
    "for i in multipliers:\n",
    "    n *= i\n",
    "    results_n.append(timeit.timeit(lambda: counting_sort(get_sort_array(n)), number=10) * 1000)\n",
    "    results_n.append(timeit.timeit(lambda: counting_sort(get_reverse_array(n)), number=10) * 1000)\n",
    "    results_n.append(timeit.timeit(lambda: counting_sort(get_random_array(n)), number=10) * 1000)"
   ]
  },
  {
   "cell_type": "markdown",
   "id": "c4bc6b3a",
   "metadata": {},
   "source": [
    "### Время выполнения"
   ]
  },
  {
   "cell_type": "code",
   "execution_count": 50,
   "id": "7785e541",
   "metadata": {
    "scrolled": true
   },
   "outputs": [
    {
     "name": "stdout",
     "output_type": "stream",
     "text": [
      "*************************\n",
      "Тип        Время для 1000\n",
      "-------  ----------------\n",
      "Sort                3.46\n",
      "Reverse             3.911\n",
      "Random              7.807\n",
      "\n",
      "*************************\n",
      "Тип        Время для 5000\n",
      "-------  ----------------\n",
      "Sort               17.02\n",
      "Reverse            13.727\n",
      "Random             23.67\n",
      "\n",
      "*************************\n",
      "Тип        Время для 10000\n",
      "-------  -----------------\n",
      "Sort                18.98\n",
      "Reverse             18.862\n",
      "Random              40.793\n",
      "\n",
      "*************************\n",
      "Тип        Время для 100000\n",
      "-------  ------------------\n",
      "Sort                197.31\n",
      "Reverse             197.119\n",
      "Random              433.864\n",
      "\n"
     ]
    }
   ],
   "source": [
    "name1 = \"Sort\"\n",
    "name2 = \"Reverse\"\n",
    "name3 = \"Random\"\n",
    "n = [1000, 5000, 10000, 100000]\n",
    "for i in range(0, 12, 3):\n",
    "    print(\"*\"*25)\n",
    "    headers = [\"Тип\", f\"Время для {n[i//3]}\"]\n",
    "    data = [[name1, f\"{results_n[i]:.2f}\"], [name2, f\"{results_n[i+1]:.3f}\"], [name3, f\"{results_n[i+2]:.3f}\"]]\n",
    "    print(tabulate(data, headers=headers))\n",
    "    print()\n"
   ]
  },
  {
   "cell_type": "markdown",
   "id": "d3bee5ab",
   "metadata": {},
   "source": [
    "### 11. Иллюстрация эффективности алгоритмов сортировок по заданному критерию"
   ]
  },
  {
   "cell_type": "code",
   "execution_count": 69,
   "id": "8e6c651d",
   "metadata": {
    "scrolled": false
   },
   "outputs": [
    {
     "data": {
      "image/png": "[encoded data removed]",
      "text/plain": [
       "<Figure size 640x480 with 1 Axes>"
      ]
     },
     "metadata": {},
     "output_type": "display_data"
    }
   ],
   "source": [
    "data = {\n",
    "    name1: [f\"{results_n[0]:.2f}\", f\"{results_n[1]:.2f}\", f\"{results_n[2]:.2f}\", f\"{results_n[3]:.2f}\"],\n",
    "    name2: [f\"{results_n[4]:.2f}\", f\"{results_n[5]:.2f}\", f\"{results_n[6]:.2f}\", f\"{results_n[7]:.2f}\"],\n",
    "    name3: [f\"{results_n[8]:.2f}\", f\"{results_n[9]:.2f}\", f\"{results_n[10]:.2f}\", f\"{results_n[11]:.2f}\"]\n",
    "}\n",
    "results_df = pd.DataFrame(data=data, index=n)\n",
    "df_t = df.transpose().reset_index().rename(columns={'index': 'Type'})\n",
    "\n",
    "df_melted = pd.melt(df_t, id_vars=['Type'], var_name='Numbers', value_name='Time')\n",
    "\n",
    "sns.lineplot(x='Numbers', y='Time', hue='Type', data=df_melted)\n",
    "plt.show()"
   ]
  }
 ],
 "metadata": {
  "kernelspec": {
   "display_name": "Python 3 (ipykernel)",
   "language": "python",
   "name": "python3"
  },
  "language_info": {
   "codemirror_mode": {
    "name": "ipython",
    "version": 3
   },
   "file_extension": ".py",
   "mimetype": "text/x-python",
   "name": "python",
   "nbconvert_exporter": "python",
   "pygments_lexer": "ipython3",
   "version": "3.10.8"
  }
 },
 "nbformat": 4,
 "nbformat_minor": 5
}
