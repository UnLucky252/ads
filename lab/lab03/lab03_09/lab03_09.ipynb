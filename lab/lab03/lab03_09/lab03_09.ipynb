{
 "cells": [
  {
   "cell_type": "markdown",
   "id": "d3d67758",
   "metadata": {
    "slideshow": {
     "slide_type": "slide"
    }
   },
   "source": [
    "# Лабораторная работа 3. Итеративные и рекурсивные алгоритмы\n",
    "\n",
    "**Цель работы:** изучить рекурсивные алгоритмы и рекурсивные структуры данных; научиться проводить анализ итеративных и рекурсивных процедур; исследовать эффективность итеративных и  рекурсивных процедур при реализации на ПЭВМ."
   ]
  },
  {
   "cell_type": "markdown",
   "id": "f3bd251c",
   "metadata": {},
   "source": [
    "## Вариант 9\n",
    "1. Рекурсивный алгоритм решения уравнений вида $F(x) = x$ методом простых итераций.\n",
    "\n",
    "\n",
    "2. Реализуйте алгоритмы из задания 1 не используя рекурсию.\n",
    "\n",
    "3. Для каждого реализованного алгоритма:\n",
    "- составьте блок-схему;\n",
    "\n",
    "- оцените верхнюю границу размерности задачи, для которой при рекурсивной реализации не происходит переполнение стека вызовов;\n",
    "\n",
    "- модернизируйте рекурсивную реализацию так, чтобы сохранялись промежуточные результаты вызова рекурсии (реализуйте подобный механизм вручную, а также, с помощью декоратора @memoized);\n",
    "\n",
    "- сравните производительность реализованных алгоритмов (количество итераций (соответственно вызовов рекурсии) подбирайте исходя из условий задачи)."
   ]
  },
  {
   "cell_type": "code",
   "execution_count": 1,
   "id": "fb7b6596",
   "metadata": {},
   "outputs": [],
   "source": [
    "from wand.image import Image as WImage"
   ]
  },
  {
   "cell_type": "code",
   "execution_count": 39,
   "id": "38af9b58",
   "metadata": {},
   "outputs": [
    {
     "name": "stdout",
     "output_type": "stream",
     "text": [
      "-0.5358983848622454\n",
      "0.00012111663818359375\n"
     ]
    }
   ],
   "source": [
    "#Рекурсивный алгоритм решения уравнения методом простых итераций\n",
    "import time\n",
    "\n",
    "def Recursive(a, b, c, x_old=1, max_iterations=100):\n",
    "    x_new = (a*x_old**2 + c) / -b\n",
    "    if max_iterations == 0:\n",
    "        return x_new\n",
    "    #print(x_new)\n",
    "    return Recursive(a, b, c, x_new, max_iterations - 1)\n",
    "\n",
    "a, b, c = 1, 8, 4\n",
    "start_time = time.time()\n",
    "x = Recursive(a, b, c)\n",
    "print(x)\n",
    "print(str(time.time() - start_time))"
   ]
  },
  {
   "cell_type": "code",
   "execution_count": 87,
   "id": "d64a3b52",
   "metadata": {},
   "outputs": [
    {
     "name": "stdout",
     "output_type": "stream",
     "text": [
      "-0.5358983848622454\n",
      "0.00015997886657714844\n"
     ]
    }
   ],
   "source": [
    "#Модернизация алгоритма с помощью декоратора @memoized\n",
    "def memoized(func):\n",
    "    cache = {}\n",
    "    def wrapper(*args):\n",
    "        if args in cache:\n",
    "            return cache[args]\n",
    "        result = func(*args)\n",
    "        cache[args] = result\n",
    "        return result\n",
    "    return wrapper\n",
    "\n",
    "@memoized\n",
    "def recursive(a, b, c, x_old=1, max_iterations=100):\n",
    "    x_new = (a*x_old**2 + c) / -b\n",
    "    if max_iterations == 0:\n",
    "        return x_new\n",
    "    return recursive(a, b, c, x_new, max_iterations - 1)\n",
    "\n",
    "a, b, c = 1, 8, 4\n",
    "start_time = time.time()\n",
    "result = recursive(a, b, c)\n",
    "print(x)\n",
    "print(str(time.time() - start_time))"
   ]
  },
  {
   "cell_type": "code",
   "execution_count": 88,
   "id": "652f2516",
   "metadata": {},
   "outputs": [
    {
     "name": "stdout",
     "output_type": "stream",
     "text": [
      "-0.5358983848622454\n",
      "0.000133514404296875\n"
     ]
    }
   ],
   "source": [
    "#Модернизация без использования декоратора\n",
    "import time\n",
    "\n",
    "def mod_new_Recursive(a, b, c, x_new=1, max_iterations=100, cache={}):\n",
    "    #print(\"Call function\")\n",
    "    key = (x_new)\n",
    "    if key in cache:\n",
    "        return cache[key]\n",
    "    x_new = (a*x_new**2 + c) / -b\n",
    "    if max_iterations == 0:\n",
    "        cache[key] = x_new\n",
    "        return x_new\n",
    "    return mod_new_Recursive(a, b, c, x_new, max_iterations - 1)\n",
    "    \n",
    "a, b, c = 1, 8, 4\n",
    "start_time = time.time()\n",
    "x = mod_new_Recursive(a, b, c)\n",
    "print(x)\n",
    "print(str(time.time() - start_time))"
   ]
  },
  {
   "cell_type": "markdown",
   "id": "61794ec1",
   "metadata": {},
   "source": [
    "## Рекурсивный алгоритм решения уравнения методом простых итераций\n",
    "Верхняя граница для такого алгоритма 2971 итерация, после нее происходит переполнение стека вызовов."
   ]
  },
  {
   "cell_type": "code",
   "execution_count": 69,
   "id": "f0e06a2a",
   "metadata": {},
   "outputs": [
    {
     "data": {
      "image/png": "[encoded data removed]",
      "text/plain": [
       "<wand.image.Image: 426e366 'PDF' (612x792)>"
      ]
     },
     "execution_count": 69,
     "metadata": {},
     "output_type": "execute_result"
    }
   ],
   "source": [
    "img = WImage(filename='./img/test_2-1.pdf')\n",
    "img"
   ]
  },
  {
   "cell_type": "code",
   "execution_count": null,
   "id": "080231b5",
   "metadata": {},
   "outputs": [],
   "source": [
    "#Алгоритм решения уравнения методом простых итераций без рекурсии\n",
    "def Without_recursive(a, b, c, max_iterations=100):\n",
    "    x_old = 0\n",
    "    for i in range(max_iterations):\n",
    "        x_new = (a*x_old**2 + c) / -b  \n",
    "        x_old = x_new\n",
    "    #print(x_new)\n",
    "    return x_new\n",
    "a, b, c = 1, 8, 4\n",
    "start_time = time.time()\n",
    "x = Without_recursive(a, b, c)\n",
    "print(x)\n",
    "print(str(time.time() - start_time))"
   ]
  },
  {
   "cell_type": "markdown",
   "id": "374bb384",
   "metadata": {},
   "source": [
    "## Алгоритм решения уравнения методом простых итераций без рекурсии\n",
    "Так как рекурсия не используется, то переполнение стека вызовов не происходит"
   ]
  },
  {
   "cell_type": "code",
   "execution_count": 5,
   "id": "7a6caf60",
   "metadata": {},
   "outputs": [
    {
     "data": {
      "image/png": "[encoded data removed]",
      "text/plain": [
       "<wand.image.Image: b30aa23 'PDF' (612x792)>"
      ]
     },
     "execution_count": 5,
     "metadata": {},
     "output_type": "execute_result"
    }
   ],
   "source": [
    "img = WImage(filename='./img/test_2-2.pdf')\n",
    "img"
   ]
  }
 ],
 "metadata": {
  "celltoolbar": "Slideshow",
  "kernelspec": {
   "display_name": "Python 3 (ipykernel)",
   "language": "python",
   "name": "python3"
  },
  "language_info": {
   "codemirror_mode": {
    "name": "ipython",
    "version": 3
   },
   "file_extension": ".py",
   "mimetype": "text/x-python",
   "name": "python",
   "nbconvert_exporter": "python",
   "pygments_lexer": "ipython3",
   "version": "3.8.10"
  }
 },
 "nbformat": 4,
 "nbformat_minor": 5
}
