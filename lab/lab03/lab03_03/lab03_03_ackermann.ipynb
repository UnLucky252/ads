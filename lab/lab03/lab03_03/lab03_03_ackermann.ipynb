{
 "cells": [
  {
   "cell_type": "markdown",
   "id": "c581b76b-e27c-45ac-91b4-0406ba480c87",
   "metadata": {
    "slideshow": {
     "slide_type": "slide"
    },
    "tags": []
   },
   "source": [
    "# Лабораторная работа 3. Итеративные и рекурсивные алгоритмы\n",
    "\n",
    "Вариант: 3"
   ]
  },
  {
   "cell_type": "markdown",
   "id": "a6c0d653-108e-4eec-b49a-e9c952aba5b3",
   "metadata": {},
   "source": [
    "### Задание:\n",
    "\n",
    "Функция Аккермана определяется следующим образом:\n",
    "$$A(0,y) = y+1;$$\n",
    "$$A(x,0) = A(x-1,1);$$\n",
    "$$A(x,y) = A(x-1,A(x,y-1)).$$\n",
    "Здесь $x$ и $y$ – целые неотрицательные числа. Определим модулярную функцию Аккермана как $A \\mod m$, где параметр $m$ - целое неотрицательное число. Реализуйте рекурсивный алгоритм построения таблицы значений этой функции.\n",
    "\n"
   ]
  },
  {
   "cell_type": "markdown",
   "id": "2fa9283d-690e-484b-a4ef-265dde20583c",
   "metadata": {
    "tags": []
   },
   "source": [
    "### Реализация алгоритма"
   ]
  },
  {
   "cell_type": "markdown",
   "id": "83acbdcb-6d1f-4fbd-88df-4ad9d0770108",
   "metadata": {},
   "source": [
    "## Задание 1:"
   ]
  },
  {
   "cell_type": "code",
   "execution_count": 43,
   "id": "c86d496f-1d0c-4ed5-8cb4-d3832c466c97",
   "metadata": {},
   "outputs": [
    {
     "name": "stdout",
     "output_type": "stream",
     "text": [
      "9\n"
     ]
    }
   ],
   "source": [
    "def ackermann_rec(m, n):\n",
    "    if m == 0:\n",
    "        return n + 1\n",
    "    elif n == 0:\n",
    "        return ackermann_rec(m - 1, 1)\n",
    "    else:\n",
    "        return ackermann_rec(m - 1, ackermann_rec(m, n - 1))\n",
    "\n",
    "print(ackermann_rec(2, 3))"
   ]
  },
  {
   "cell_type": "markdown",
   "id": "f91c9c5c-8772-40fb-b7d9-073713aae5bf",
   "metadata": {},
   "source": [
    "## Задание 2:"
   ]
  },
  {
   "cell_type": "code",
   "execution_count": 40,
   "id": "5d7ffb3b-71c5-45ba-89b0-7f18606f0eea",
   "metadata": {},
   "outputs": [
    {
     "name": "stdout",
     "output_type": "stream",
     "text": [
      "9\n"
     ]
    }
   ],
   "source": [
    "def ackermann_non_rec(m, n):\n",
    "\n",
    "    stack = deque([])\n",
    "    stack.extend([m, n])\n",
    "\n",
    "    while  len(stack) > 1:\n",
    "        n, m = stack.pop(), stack.pop()\n",
    "\n",
    "        if   m == 0:\n",
    "            stack.append(n + 1)\n",
    "        elif n == 0:\n",
    "            stack.extend([m-1, 1])\n",
    "        else:\n",
    "            stack.extend([m-1, m, n-1])\n",
    "\n",
    "    return stack[0]\n",
    "\n",
    "print(ackermann_non_rec(2, 3))"
   ]
  },
  {
   "cell_type": "markdown",
   "id": "b658e104-55cb-4a75-9e94-3764c861f0d2",
   "metadata": {
    "tags": []
   },
   "source": [
    "## Задание 3:"
   ]
  },
  {
   "attachments": {
    "b9ac16b7-5d88-48ac-bd3e-9cf67896d5f6.png": {
     "image/png": "[encoded data removed]"
    }
   },
   "cell_type": "markdown",
   "id": "847dcce4-940f-4ae2-8c84-7f7a60bbf7f7",
   "metadata": {
    "tags": []
   },
   "source": [
    "### Блок-схема алгоритма\n",
    "\n",
    "![diagram.png](attachment:b9ac16b7-5d88-48ac-bd3e-9cf67896d5f6.png)"
   ]
  },
  {
   "cell_type": "markdown",
   "id": "55e3d4cb-541d-496f-a363-cf2ffa05f220",
   "metadata": {
    "tags": []
   },
   "source": [
    "### Оценка:"
   ]
  },
  {
   "cell_type": "markdown",
   "id": "f1dab2ba-352b-4f9d-84d4-49ad823da77a",
   "metadata": {},
   "source": [
    "Оценить точную верхнюю границу размерности задачи, для которой при рекурсивной реализации не происходит переполнение стека вызовов, довольно трудно. Однако, можно сделать некоторые предположения и оценки, исходя из характеристик реализации рекурсии в конкретной среде исполнения.\n",
    "\n",
    "Для функции Аккермана известно, что она растет очень быстро, поэтому уже для относительно небольших значений аргументов может потребоваться много рекурсивных вызовов. Например, для значений $m=4$ и $n=2$ функция Аккермана требует 2,048 вызовов.\n",
    "\n",
    "Верхняя граница размерности задачи, для которой при рекурсивной реализации не происходит переполнение стека вызовов, будет зависеть от доступной памяти и глубины стека вызовов в конкретной среде исполнения. Например, в Python стандартная глубина стека вызовов составляет 1000, но она может быть изменена при необходимости.\n",
    "\n",
    "В целом, для большинства практических задач, при рекурсивной реализации функции Аккермана можно столкнуться с переполнением стека вызовов уже для относительно небольших значений аргументов, например, при $m=4$ и $n=2$. Поэтому для больших значений аргументов лучше использовать реализацию без рекурсии или с использованием дополнительной оптимизации, такой как хвостовая рекурсия."
   ]
  },
  {
   "cell_type": "markdown",
   "id": "64da46e4-4b76-4e15-add3-a5a041a07a08",
   "metadata": {
    "tags": []
   },
   "source": [
    "### Модернизация:"
   ]
  },
  {
   "cell_type": "code",
   "execution_count": 41,
   "id": "c60d8071-2e46-4e1f-9c91-408abf3c9cb1",
   "metadata": {},
   "outputs": [
    {
     "name": "stdout",
     "output_type": "stream",
     "text": [
      "125\n"
     ]
    }
   ],
   "source": [
    "def memoized(func):\n",
    "    cache = {}\n",
    "    def memoizer(x, y):\n",
    "        if (x, y) not in cache:\n",
    "            cache[(x, y)] = func(x, y)\n",
    "        return cache[(x, y)]\n",
    "    return memoizer\n",
    "\n",
    "@memoized\n",
    "def ackermann_mod(x, y):\n",
    "    if x == 0:\n",
    "        return y + 1\n",
    "    elif y == 0:\n",
    "        return ackermann_mod(x - 1, 1)\n",
    "    else:\n",
    "        return ackermann_mod(x - 1, ackermann_mod(x, y - 1))\n",
    "\n",
    "print(ackermann_mod(3, 4))"
   ]
  },
  {
   "cell_type": "markdown",
   "id": "b9962966-7780-42a2-86d1-ca99df2e7fec",
   "metadata": {
    "tags": []
   },
   "source": [
    "### Сравнение:"
   ]
  },
  {
   "cell_type": "code",
   "execution_count": 42,
   "id": "292bac52-62b6-44cc-b774-a84b2bbfb1c8",
   "metadata": {},
   "outputs": [
    {
     "name": "stdout",
     "output_type": "stream",
     "text": [
      "Рекурсивная реализация: 2045, время: 1.7487742900848389\n",
      "Рекурсивная реализация: 2045, время: 2.9930455684661865\n",
      "Модернизированная реализация: 2045, время: 0.0\n"
     ]
    }
   ],
   "source": [
    "import time\n",
    "\n",
    "def measure_time(func, *args, **kwargs):\n",
    "    start = time.time()\n",
    "    result = func(*args, **kwargs)\n",
    "    end = time.time()\n",
    "    return result, end - start\n",
    "\n",
    "m = 3\n",
    "n = 8\n",
    "\n",
    "# Рекурсивная реализация\n",
    "result_rec, time_rec = measure_time(ackermann_rec, m, n)\n",
    "\n",
    "# Рекурсивная реализация\n",
    "result_non_rec, time_non_rec = measure_time(ackermann_non_rec, m, n)\n",
    "\n",
    "# Модернизированная реализация\n",
    "result_mod, time_mod = measure_time(ackermann_mod, m, n)\n",
    "\n",
    "print(f\"Рекурсивная реализация: {result_rec}, время: {time_rec}\")\n",
    "print(f\"Рекурсивная реализация: {result_non_rec}, время: {time_non_rec}\")\n",
    "print(f\"Модернизированная реализация: {result_mod}, время: {time_mod}\")\n"
   ]
  },
  {
   "cell_type": "code",
   "execution_count": null,
   "id": "718a0200-96dc-466f-bbfc-2abfc247afc3",
   "metadata": {},
   "outputs": [],
   "source": []
  }
 ],
 "metadata": {
  "kernelspec": {
   "display_name": "Python 3 (ipykernel)",
   "language": "python",
   "name": "python3"
  },
  "language_info": {
   "codemirror_mode": {
    "name": "ipython",
    "version": 3
   },
   "file_extension": ".py",
   "mimetype": "text/x-python",
   "name": "python",
   "nbconvert_exporter": "python",
   "pygments_lexer": "ipython3",
   "version": "3.10.9"
  }
 },
 "nbformat": 4,
 "nbformat_minor": 5
}
