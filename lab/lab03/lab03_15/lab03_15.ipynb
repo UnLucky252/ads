{
 "cells": [
  {
   "cell_type": "markdown",
   "id": "3a36e9fe-069f-4a14-93bd-949de61fe608",
   "metadata": {},
   "source": [
    "# Лабораторная работа 3. Итеративные и рекурсивные алгоритмы"
   ]
  },
  {
   "cell_type": "markdown",
   "id": "b51b6253-d878-46e7-9ab9-111a4e97e567",
   "metadata": {},
   "source": [
    "Вариант: 15"
   ]
  },
  {
   "cell_type": "markdown",
   "id": "f1a32293-e600-46e6-b988-684d2302ed4c",
   "metadata": {},
   "source": [
    "## Числа Фибоначи(Fibonacci numbers)\n",
    "\n",
    "Числа Фибоначчи — элементы числовой последовательности:\n",
    "\n",
    "0, 1, 1, 2, 3, 5, 8, 13, 21, 34, 55, 89, 144, 233, 377, 610, 987, 1597, 2584, 4181, 6765, 10946, 17711, … \n",
    "\n",
    "в которой первые два числа равны 0 и 1, а каждое последующее число равно сумме двух предыдущих чисел. Названы в честь средневекового математика Леонардо Пизанского (известного как Фибоначчи).\n",
    "\n",
    "### История происхождения\n",
    "\n",
    "Последовательность Фибоначчи была хорошо известна в древней Индии, где она применялась в метрических науках (просодии, другими словами — стихосложении) намного раньше, чем стала известна в Европе.\n",
    "\n",
    "Образец длиной n может быть построен путём добавления S к образцу длиной n − 1, либо L к образцу длиной n − 2 — и просодицисты показали, что число образцов длиною n является суммой двух предыдущих чисел в последовательности. Дональд Кнут рассматривает этот эффект в книге «Искусство программирования».\n",
    "\n",
    "На Западе эта последовательность была исследована Леонардо Пизанским, известным как Фибоначчи, в его труде «Книга абака» (1202). Он рассматривает развитие идеализированной (биологически нереальной) популяции кроликов, где условия таковы: изначально дана новорождённая пара кроликов (самец и самка); со второго месяца после своего рождения кролики начинают спариваться и производить новую пару кроликов, причём уже каждый месяц; кролики никогда не умирают, — а в качестве искомого выдвигает количество пар кроликов через год.\n",
    "\n",
    "- В начале первого месяца есть только одна новорождённая пара.\n",
    "- В конце первого месяца по-прежнему только одна пара кроликов, но уже спарившаяся.\n",
    "- В конце второго месяца первая пара рождает новую пару и опять спаривается.\n",
    "- В конце третьего месяца первая пара рождает ещё одну новую пару и спаривается, вторая пара только спаривается.\n",
    "- В конце четвёртого месяца первая пара рождает ещё одну новую пару и спаривается, вторая пара рождает новую пару и спаривается, третья пара только спаривается.\n",
    "- В концеn-го месяца количество пар кроликов будет равно количеству пар в предыдущем месяце плюс количеству новорождённых пар, которых будет столько же, сколько пар было два месяца назад\n",
    "\n",
    "Возможно, эта задача также оказалась первой, моделирующей экспоненциальный рост популяции.\n",
    "\n",
    "Название «последовательность Фибоначчи» впервые было использовано теоретиком XIX века Эдуардом Люка.\n",
    "\n",
    "Количество пар кроликов образуют последовательность Фибоначчи:\n",
    "\n",
    "![img](./src/FibonacciRabbit.svg.png)\n",
    "\n",
    "Спираль Фибоначчи: приближение золотой спирали, созданной путём рисования круговых дуг, соединяющих противоположные углы квадратов в мозаике Фибоначчи:\n",
    "\n",
    "![img](./src/FibonacciSpiral.svg.png)\n"
   ]
  },
  {
   "cell_type": "markdown",
   "id": "aaed97f9-8e69-48d1-b85b-e182ba0da217",
   "metadata": {},
   "source": [
    "## Задание 1\n",
    "\n",
    "Алгоритм, который определяет N членов ряда Фибоначчи рекурсивно."
   ]
  },
  {
   "cell_type": "code",
   "execution_count": 1,
   "id": "53575eea-c2bc-4a5d-bc87-9cad62a03625",
   "metadata": {
    "tags": []
   },
   "outputs": [
    {
     "name": "stdout",
     "output_type": "stream",
     "text": [
      "0\n",
      "1\n",
      "1\n",
      "2\n",
      "3\n",
      "5\n",
      "8\n",
      "13\n",
      "21\n",
      "34\n"
     ]
    }
   ],
   "source": [
    "def recFibonacci(n):\n",
    "    if n == 0:\n",
    "        return 0\n",
    "    elif n == 1:\n",
    "        return 1\n",
    "    else:\n",
    "        return recFibonacci(n-1) + recFibonacci(n-2)\n",
    "    \n",
    "n=10\n",
    "for i in range(n):\n",
    "    print(recFibonacci(i))"
   ]
  },
  {
   "cell_type": "markdown",
   "id": "bd919a52-250e-4907-aa76-168f01f2d443",
   "metadata": {
    "tags": []
   },
   "source": [
    "## Задание 2\n",
    "\n",
    "Алгоритм, который определяет N членов ряда Фибоначчи итеративно."
   ]
  },
  {
   "cell_type": "code",
   "execution_count": 2,
   "id": "29c8bff1-d89a-4cfd-90b8-634060ba1086",
   "metadata": {
    "tags": []
   },
   "outputs": [
    {
     "name": "stdout",
     "output_type": "stream",
     "text": [
      "0\n",
      "1\n",
      "1\n",
      "2\n",
      "3\n",
      "5\n",
      "8\n",
      "13\n",
      "21\n",
      "34\n"
     ]
    }
   ],
   "source": [
    "def iterFibonacci(n):\n",
    "    x, y = 0, 1\n",
    "    if n == 0:\n",
    "        return 0\n",
    "    for i in range(n-1):\n",
    "        x, y = y, x + y\n",
    "    return y\n",
    "\n",
    "n=10\n",
    "for i in range(n):\n",
    "    print(recFibonacci(i))"
   ]
  },
  {
   "cell_type": "markdown",
   "id": "1b8149e3-a5f9-4390-ab40-8e06398e0800",
   "metadata": {},
   "source": [
    "## Задание 3 \n",
    "\n",
    "Блок-схема рекурсивной реализации\n",
    "\n",
    "![img](./src/recursiveFlowchart.jpg)\n",
    "\n",
    "Блок-схема итеративной реализации\n",
    "\n",
    "![img](./src/iterrativeFlowchart.jpg)"
   ]
  },
  {
   "cell_type": "markdown",
   "id": "2a583128-4c89-4d74-9144-53a99cb2f2da",
   "metadata": {},
   "source": [
    "Верхняя граница размерности, для которой при рекурсивной реализации не происходит stack overflow"
   ]
  },
  {
   "cell_type": "code",
   "execution_count": 3,
   "id": "b9a401c9-ea7d-4185-bf69-c6dec759984b",
   "metadata": {
    "tags": []
   },
   "outputs": [
    {
     "name": "stdout",
     "output_type": "stream",
     "text": [
      "Maximum deps of reqursuon: 3000\n"
     ]
    }
   ],
   "source": [
    "import sys\n",
    "\n",
    "\n",
    "print(\"Maximum deps of reqursuon:\", sys.getrecursionlimit())"
   ]
  },
  {
   "cell_type": "markdown",
   "id": "a9d68499-267c-4a03-92a5-dbf71cf59b31",
   "metadata": {
    "tags": []
   },
   "source": [
    "Встроенная мемоизация в рекурсивной реализации "
   ]
  },
  {
   "cell_type": "code",
   "execution_count": 7,
   "id": "fab471c6-efc9-4d91-821d-b37731b0183d",
   "metadata": {
    "tags": []
   },
   "outputs": [
    {
     "name": "stdout",
     "output_type": "stream",
     "text": [
      "0\n",
      "1\n",
      "1\n",
      "2\n",
      "3\n",
      "5\n",
      "8\n",
      "13\n",
      "21\n",
      "34\n"
     ]
    }
   ],
   "source": [
    "cache = {0: 0, 1: 1}\n",
    "def recFibonacci(n):\n",
    "    if n in cache:\n",
    "        return cache[n]\n",
    "    cache[n] = recFibonacci(n-1) + recFibonacci(n-2)\n",
    "    return cache[n]\n",
    "\n",
    "n=10\n",
    "for i in range(n):\n",
    "    print(recFibonacci(i))"
   ]
  },
  {
   "cell_type": "markdown",
   "id": "3233e1b7-e847-473c-a0b1-10be30053f1d",
   "metadata": {},
   "source": [
    "Использование глобальных переменных не рекомендуется, поэтому замкнем лексическое окружение функции, которое будет хранить промежуточне значения вызова рекурсии с помощью декоратора @memoized"
   ]
  },
  {
   "cell_type": "code",
   "execution_count": 5,
   "id": "fc30fcc0-a02e-4e45-b290-325517a4628d",
   "metadata": {
    "tags": []
   },
   "outputs": [
    {
     "name": "stdout",
     "output_type": "stream",
     "text": [
      "0\n",
      "1\n",
      "1\n",
      "2\n",
      "3\n",
      "5\n",
      "8\n",
      "13\n",
      "21\n",
      "34\n"
     ]
    }
   ],
   "source": [
    "from functools import wraps\n",
    "\n",
    "def memoized(f):\n",
    "    cache = {}\n",
    "    @wraps(f)\n",
    "    def wrap(*args):\n",
    "        if args not in cache:\n",
    "            cache[args] = f(*args)\n",
    "        return cache[args]\n",
    "    return wrap\n",
    "\n",
    "@memoized\n",
    "def recFibonacci(n):\n",
    "    if n == 0:\n",
    "        return 0\n",
    "    elif n == 1:\n",
    "        return 1\n",
    "    else:\n",
    "        return recFibonacci(n-1) + recFibonacci(n-2)\n",
    "    \n",
    "n=10\n",
    "for i in range(n):\n",
    "    print(recFibonacci(i))"
   ]
  },
  {
   "cell_type": "markdown",
   "id": "4fcdff37-6e2a-4f1d-b2c0-20c0771d85b3",
   "metadata": {},
   "source": [
    "Сравнение производительности реализованных алгоритмов"
   ]
  },
  {
   "cell_type": "code",
   "execution_count": 9,
   "id": "daa69686-04e3-4e81-8ba2-1c99d6d1cf18",
   "metadata": {
    "tags": []
   },
   "outputs": [
    {
     "name": "stdout",
     "output_type": "stream",
     "text": [
      "0:00:00.001368\n",
      "0:00:00.000884\n"
     ]
    }
   ],
   "source": [
    "from datetime import datetime\n",
    "\n",
    "start = datetime.now()\n",
    "recFibonacci(2500)\n",
    "stop = datetime.now()\n",
    "delta = stop - start\n",
    "print(delta)\n",
    "\n",
    "start = datetime.now()\n",
    "iterFibonacci(2500)\n",
    "stop = datetime.now()\n",
    "delta = stop - start\n",
    "print(delta)"
   ]
  },
  {
   "cell_type": "markdown",
   "id": "8a9d8fb3-d100-4ff5-9b43-57d80fe4e7ed",
   "metadata": {},
   "source": [
    "## Вывод\n",
    "\n",
    "Рекурсивные алгоритмы работают дольше итеративных и имеют ограничение по глубине рекурсии. Одним из преимуществ рекурсивного подхода является быстрота написания кода и его компактность, но при этом иногда возрастает когнетивная сложность кода (не всегда). Таким образом для оптимизации рекурсивные алгоритмы стоит почти всегда заменять итеративными,в случае если это возможно."
   ]
  }
 ],
 "metadata": {
  "kernelspec": {
   "display_name": "Python 3 (ipykernel)",
   "language": "python",
   "name": "python3"
  },
  "language_info": {
   "codemirror_mode": {
    "name": "ipython",
    "version": 3
   },
   "file_extension": ".py",
   "mimetype": "text/x-python",
   "name": "python",
   "nbconvert_exporter": "python",
   "pygments_lexer": "ipython3",
   "version": "3.11.1"
  }
 },
 "nbformat": 4,
 "nbformat_minor": 5
}
