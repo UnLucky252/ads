{
 "cells": [
  {
   "cell_type": "markdown",
   "id": "d3d67758",
   "metadata": {
    "slideshow": {
     "slide_type": "slide"
    }
   },
   "source": [
    "# Лабораторная работа 3. Итеративные и рекурсивные алгоритмы\n",
    "\n",
    "**Цель работы:** изучить рекурсивные алгоритмы и рекурсивные структуры данных; научиться проводить анализ итеративных и рекурсивных процедур; исследовать эффективность итеративных и  рекурсивных процедур при реализации на ПЭВМ.\n",
    "\n",
    "**Продолжительность работы:** - 4 часа. \n",
    "\n",
    "**Мягкий дедлайн (10 баллов)**: 15.04.2023 \n",
    "\n",
    "**Жесткий дедлайн (5 баллов)**: 29.04.2023\n",
    "\n"
   ]
  },
  {
   "cell_type": "markdown",
   "id": "f3bd251c",
   "metadata": {},
   "source": [
    "# Задание 1\n",
    "\n",
    "## Реализуйте алгоритм вычисления цепной дроби для произвольного значения $n \\geq 0$ с помощью рекурсии\n",
    "\n",
    "$$\n",
    "\\cfrac{1}\n",
    "  {1 + \\cfrac{1}{\n",
    "     3 + \\cfrac{1}{\n",
    "       5 + \\cfrac{1}{\n",
    "         7 + \\cfrac{1}{\n",
    "           9 + \\cfrac{1}{\n",
    "             11 + \\cdots\n",
    "           }\n",
    "         }  \n",
    "       }\n",
    "     }\n",
    "  }\n",
    "}\n",
    "$$\n",
    "\n"
   ]
  },
  {
   "cell_type": "code",
   "execution_count": 1,
   "id": "4bb8a832",
   "metadata": {},
   "outputs": [
    {
     "name": "stdout",
     "output_type": "stream",
     "text": [
      "Цепная дробь для числа 4 и глубины 5 равна 4.236068111455109\n"
     ]
    }
   ],
   "source": [
    "def continued_fraction(n, depth):\n",
    "    if depth == 0:\n",
    "        return n\n",
    "    return n + 1 / continued_fraction(n, depth - 1)\n",
    "\n",
    "def compute_chain_fraction(n, depth):\n",
    "    if n < 0:\n",
    "        raise ValueError(\"n должно быть неотрицательным числом\")\n",
    "    return continued_fraction(n, depth)\n",
    "\n",
    "n = 4\n",
    "depth = 5\n",
    "result = compute_chain_fraction(n, depth)\n",
    "print(f\"Цепная дробь для числа {n} и глубины {depth} равна {result}\")\n"
   ]
  },
  {
   "cell_type": "markdown",
   "id": "ce5f718f",
   "metadata": {},
   "source": [
    "# Задание 2\n",
    "\n",
    "## Реализуйте алгоритм из задания 1 не используя рекурсию."
   ]
  },
  {
   "cell_type": "code",
   "execution_count": 2,
   "id": "d329e203",
   "metadata": {},
   "outputs": [
    {
     "name": "stdout",
     "output_type": "stream",
     "text": [
      "Цепная дробь для числа 4 и глубины 5 равна 4.236068111455109\n"
     ]
    }
   ],
   "source": [
    "def continued_fraction_iter(n, depth):\n",
    "    result = n\n",
    "    for _ in range(depth):\n",
    "        result = n + 1 / result\n",
    "    return result\n",
    "\n",
    "def compute_chain_fraction_iter(n, depth):\n",
    "    if n < 0:\n",
    "        raise ValueError(\"n должно быть неотрицательным числом\")\n",
    "    return continued_fraction_iter(n, depth)\n",
    "\n",
    "n = 4\n",
    "depth = 5\n",
    "result = compute_chain_fraction_iter(n, depth)\n",
    "print(f\"Цепная дробь для числа {n} и глубины {depth} равна {result}\")\n"
   ]
  },
  {
   "cell_type": "markdown",
   "id": "e73d43d0",
   "metadata": {},
   "source": [
    "# Задание 3\n",
    "\n",
    "## Для каждого реализованного алгоритма"
   ]
  },
  {
   "cell_type": "markdown",
   "id": "8963ccb0",
   "metadata": {},
   "source": [
    "### -составьте блок-схему"
   ]
  },
  {
   "cell_type": "markdown",
   "id": "92d30f3f",
   "metadata": {},
   "source": [
    "Итеративная"
   ]
  },
  {
   "cell_type": "markdown",
   "id": "6503bbbc",
   "metadata": {},
   "source": [
    "![iter_diagram](iter_diagram.png)"
   ]
  },
  {
   "cell_type": "markdown",
   "id": "43913031",
   "metadata": {},
   "source": [
    "рекурсивная"
   ]
  },
  {
   "cell_type": "markdown",
   "id": "d7dddb90",
   "metadata": {},
   "source": [
    "![recursive_diagram](recursive_diagram.png)"
   ]
  },
  {
   "cell_type": "markdown",
   "id": "73d6eb49",
   "metadata": {},
   "source": [
    "### -оцените верхнюю границу размерности задачи, для которой при рекурсивной реализации не происходит переполнение стека вызовов"
   ]
  },
  {
   "cell_type": "markdown",
   "id": "2f5b9742",
   "metadata": {},
   "source": [
    "Верхняя граница размерности алгоритма для рекурсивной реализации зависит от максимальной глубины рекурсии, которую может обрабатывать Python. По умолчанию максимальная глубина рекурсии составляет примерно 3000 вызовов. Однако это значение может меняться в зависимости от операционной системы, архитектуры процессора и версии языка программирования.\n",
    "Чтобы проверить текущую максимальную глубину рекурсии, можно использовать функцию\n",
    "\n",
    "- sys.getrecursionlimit() \n",
    "\n",
    "Если хочется увеличить или уменьшить значение глубины рекурсии, можно воспользоваться функцией\n",
    "\n",
    "- sys.setrecursionlimit(new_limit)\n",
    "\n",
    "Но следует быть осторожным с увеличением значения максимальной глубины рекурсии, так как это может привести к исчерпанию стека вызовов и, как следствие, сбою программы."
   ]
  },
  {
   "cell_type": "code",
   "execution_count": 4,
   "id": "3c89bfbd",
   "metadata": {},
   "outputs": [
    {
     "name": "stdout",
     "output_type": "stream",
     "text": [
      "3000\n"
     ]
    }
   ],
   "source": [
    "import sys\n",
    "print(sys.getrecursionlimit())"
   ]
  },
  {
   "cell_type": "markdown",
   "id": "fbc8df9d",
   "metadata": {},
   "source": [
    "### -модернизируйте рекурсивную реализацию так, чтобы сохранялись промежуточные результаты вызова рекурсии (реализуйте подобный механизм вручную, а также, с помощью декоратора @memoized)"
   ]
  },
  {
   "cell_type": "code",
   "execution_count": 5,
   "id": "26733e0f",
   "metadata": {},
   "outputs": [],
   "source": [
    "def continued_fraction_manual_memoization(n, depth, cache=None):\n",
    "    if cache is None:\n",
    "        cache = {}\n",
    "\n",
    "    if (n, depth) in cache:\n",
    "        return cache[(n, depth)]\n",
    "\n",
    "    if depth == 0:\n",
    "        result = n\n",
    "    else:\n",
    "        result = n + 1 / continued_fraction_manual_memoization(n, depth - 1, cache)\n",
    "    \n",
    "    cache[(n, depth)] = result\n",
    "    return result\n",
    "\n",
    "def memoize(func):\n",
    "    cache = {}\n",
    "    def memoized_func(*args):\n",
    "        if args in cache:\n",
    "            return cache[args]\n",
    "        result = func(*args)\n",
    "        cache[args] = result\n",
    "        return result\n",
    "    return memoized_func\n",
    "\n",
    "@memoize\n",
    "def continued_fraction_memoized(n, depth):\n",
    "    if depth == 0:\n",
    "        return n\n",
    "    return n + 1 / continued_fraction_memoized(n, depth - 1)\n"
   ]
  },
  {
   "cell_type": "markdown",
   "id": "8fe44409",
   "metadata": {},
   "source": [
    "### -сравните производительность реализованных алгоритмов (количество итераций (соответственно вызовов рекурсии) подбирайте исходя из условий задачи)."
   ]
  },
  {
   "cell_type": "code",
   "execution_count": 6,
   "id": "241cded8",
   "metadata": {},
   "outputs": [
    {
     "name": "stdout",
     "output_type": "stream",
     "text": [
      "Рекурсивный алгоритм: 4.23606797749979 (время выполнения 0.000920 сек)\n",
      "Итерационный алгоритм: 4.23606797749979 (время выполнения 0.000325 сек)\n",
      "Рекурсивный алгоритм с мемоизацией: 4.23606797749979 (время выполнения 0.001337 сек)\n",
      "Рекурсивный алгоритм с мемоизацией вручную: 4.23606797749979 (время выполнения 0.001463 сек)\n"
     ]
    }
   ],
   "source": [
    "import time\n",
    "\n",
    "n = 4\n",
    "depth = 1000\n",
    "\n",
    "# Рекурсивный алгоритм\n",
    "start = time.time()\n",
    "result_recursive = continued_fraction(n, depth)\n",
    "end = time.time()\n",
    "print(f\"Рекурсивный алгоритм: {result_recursive} (время выполнения {end - start:.6f} сек)\")\n",
    "\n",
    "# Итерационный алгоритм\n",
    "start = time.time()\n",
    "result_iterative = continued_fraction_iter(n, depth)\n",
    "end = time.time()\n",
    "print(f\"Итерационный алгоритм: {result_iterative} (время выполнения {end - start:.6f} сек)\")\n",
    "\n",
    "# Рекурсивный алгоритм с мемоизацией\n",
    "start = time.time()\n",
    "result_memoized = continued_fraction_memoized(n, depth)\n",
    "end = time.time()\n",
    "print(f\"Рекурсивный алгоритм с мемоизацией: {result_memoized} (время выполнения {end - start:.6f} сек)\")\n",
    "\n",
    "# Рекурсивный алгоритм с мемоизацией вручную\n",
    "start = time.time()\n",
    "result_manual_memoization = continued_fraction_manual_memoization(n, depth)\n",
    "end = time.time()\n",
    "print(f\"Рекурсивный алгоритм с мемоизацией вручную: {result_manual_memoization} (время выполнения {end - start:.6f} сек)\")"
   ]
  },
  {
   "cell_type": "markdown",
   "id": "3d264181",
   "metadata": {},
   "source": [
    "## Литература\n",
    "\n",
    "Вирт. Н. Алгоритмы и структуры данных: пер. с англ. / Н.Вирт. Изд. 2-е,\n",
    "испр. – СПб.: Невский диалект, 2005. – 352 с.\n",
    "\n",
    "Седжвик Р. Фундаментальные алгоритмы на C. Анализ/Структуры данных/Сортировка/Поиск = Algorithms in C. Fundamentals/Data Structures/Sorting/Searching. — СПб.: ДиаСофтЮП, 2003. — С. 672. — ISBN 5-93772-081-4.\n",
    "\n",
    "Копец Д. Классические задачи Computer Science на языке Python. Питер, 2010, 256 с."
   ]
  }
 ],
 "metadata": {
  "celltoolbar": "Slideshow",
  "kernelspec": {
   "display_name": "Python 3 (ipykernel)",
   "language": "python",
   "name": "python3"
  },
  "language_info": {
   "codemirror_mode": {
    "name": "ipython",
    "version": 3
   },
   "file_extension": ".py",
   "mimetype": "text/x-python",
   "name": "python",
   "nbconvert_exporter": "python",
   "pygments_lexer": "ipython3",
   "version": "3.11.2"
  }
 },
 "nbformat": 4,
 "nbformat_minor": 5
}
