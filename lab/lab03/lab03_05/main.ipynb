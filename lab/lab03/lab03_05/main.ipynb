{
 "cells": [
  {
   "cell_type": "markdown",
   "id": "91987b80-288d-4639-a7ee-3811d4a0f0b3",
   "metadata": {},
   "source": [
    "# Лабораторная работа 3. Итеративные и рекурсивные алгоритмы\n",
    "\n",
    "$Цель$ $работы:$ изучить рекурсивные алгоритмы и рекурсивные структуры данных; научиться проводить анализ итеративных и рекурсивных процедур; исследовать эффективность итеративных и рекурсивных процедур при реализации на ПЭВМ.\n",
    "\n",
    "Вариант : 5 - Барышев Михаил\n",
    "\n",
    "Задание 1 : 5 - Реализуйте рекурсивный алгоритм вычисления суммы $n$ первых членов ряда\n",
    "\n",
    "Задание 2 : Реализуйте алгоритмы из задания 1 не используя рекурсию.\n",
    "\n",
    "Задание 3 :\n",
    "\n",
    "- составьте блок-схему;\n",
    "\n",
    "- оцените верхнюю границу размерности задачи, для которой при рекурсивной реализации не происходит переполнение стека вызовов;\n",
    "\n",
    "- модернизируйте рекурсивную реализацию так, чтобы сохранялись промежуточные результаты вызова рекурсии (реализуйте подобный механизм вручную, а также, с помощью декоратора @memoized);\n",
    "\n",
    "- сравните производительность реализованных алгоритмов (количество итераций (соответственно вызовов рекурсии) подбирайте исходя из условий задачи)."
   ]
  },
  {
   "cell_type": "code",
   "execution_count": 2,
   "id": "1ec5aeff-65a3-4502-9ec7-9c8daf0f1938",
   "metadata": {
    "tags": []
   },
   "outputs": [
    {
     "name": "stdout",
     "output_type": "stream",
     "text": [
      "7.27\n",
      "7.27\n"
     ]
    }
   ],
   "source": [
    "def SUM(x, n):\n",
    "    total = 1\n",
    "    for i in range(1, n + 1):\n",
    "        total = total + ((x**i)/factorial(i))\n",
    "    return total\n",
    "\n",
    "def recursive_sum(x, n):\n",
    "    if n == 0:\n",
    "        return 1\n",
    "    else:\n",
    "        return (x ** n) / factorial(n) + recursive_sum(x, n-1)\n",
    "\n",
    "def factorial(n):\n",
    "    result = 1\n",
    "    for i in range(1, n+1):\n",
    "        result *= i\n",
    "    return result\n",
    "\n",
    "\n",
    "x = 2\n",
    "n = 5\n",
    "s = SUM(x, n)\n",
    "f = recursive_sum(x, n)\n",
    "print(round(s, 2))\n",
    "print(round(f, 2))"
   ]
  },
  {
   "attachments": {
    "1cf04e19-5faa-4a6c-830a-748095cfbec5.jpg": {
     "image/jpeg": "[encoded data removed]"
    }
   },
   "cell_type": "markdown",
   "id": "dab77bfe-b9a9-4fbb-b325-88d1720874cf",
   "metadata": {},
   "source": [
    "![Снимок экрана 2023-04-13 152616.jpg](attachment:1cf04e19-5faa-4a6c-830a-748095cfbec5.jpg)"
   ]
  },
  {
   "cell_type": "markdown",
   "id": "de38a278-1abb-417c-a890-9fa1e14c5297",
   "metadata": {},
   "source": [
    "Рекурсивная реализация может привести к переполнению стека вызовов, если глубина рекурсии слишком велика и стек вызовов становится слишком большим. В данном случае, размерность задачи, для которой при рекурсивной реализации не происходит переполнение стека вызовов, зависит от доступной памяти и глубины рекурсии.\n",
    "\n",
    "Для данной задачи, глубина рекурсии определяется параметром n - количество членов ряда, которые необходимо просуммировать. Таким образом, чем больше значение n, тем больше глубина рекурсии и тем больше вероятность переполнения стека вызовов.\n",
    "\n",
    "Однако, в Python можно увеличить максимальную глубину рекурсии, используя функцию sys.setrecursionlimit(). По умолчанию она установлена на 1000 вызовов, но ее можно изменить на большее значение.\n",
    "\n",
    "Таким образом, чтобы избежать переполнения стека вызовов, мы можем увеличить максимальную глубину рекурсии или использовать итеративную реализацию функции. Однако, на практике рекурсивный алгоритм может быть менее эффективным, чем итеративный, из-за переключения контекста между вызовами функции и создания множества объектов на стеке вызовов."
   ]
  },
  {
   "cell_type": "code",
   "execution_count": 3,
   "id": "b5fe08a1-d855-461a-bded-065ce59b1b4f",
   "metadata": {
    "tags": []
   },
   "outputs": [],
   "source": [
    "# Чтобы сохранять промежуточные результаты вызовов рекурсии, мы можем использовать механизм кэширования, \n",
    "# который сохраняет результаты предыдущих вызовов функции и возвращает их при повторном вызове с теми же параметрами. \n",
    "# Мы можем реализовать кэширование вручную или с помощью декоратора @memoized.\n",
    "# Вручную мы можем создать словарь для хранения результатов предыдущих вызовов и проверять его перед рекурсивным вызовом функции:\n",
    "\n",
    "def recursive_sum_cache(x, n, cache={}):\n",
    "    if n == 0:\n",
    "        return 1\n",
    "    elif n in cache:\n",
    "        return cache[n]\n",
    "    else:\n",
    "        result = (x ** n) / factorial(n) + recursive_sum(x, n-1)\n",
    "        cache[n] = result\n",
    "        return result\n",
    "    \n",
    "# Здесь мы создаем пустой словарь по умолчанию для хранения результатов и проверяем, есть ли уже результат для данного значения n в словаре. \n",
    "# Если есть, то мы возвращаем сохраненное значение из словаря, вместо того чтобы рекурсивно вызывать функцию. \n",
    "# Если же результат еще не вычислен, то мы вычисляем его рекурсивно, сохраняем его в словаре и возвращаем его.\n",
    "# С помощью декоратора @memoized можно автоматически добавить механизм кэширования к функции:\n",
    "\n",
    "def memoized(func):\n",
    "    cache = {}\n",
    "    def wrapper(*args):\n",
    "        if args in cache:\n",
    "            return cache[args]\n",
    "        else:\n",
    "            result = func(*args)\n",
    "            cache[args] = result\n",
    "            return result\n",
    "    return wrapper\n",
    "\n",
    "@memoized\n",
    "def recursive_sum_mem(x, n):\n",
    "    if n == 0:\n",
    "        return 1\n",
    "    else:\n",
    "        return (x ** n) / factorial(n) + recursive_sum(x, n-1)\n",
    "\n",
    "# Здесь мы определяем декоратор memoized, который создает словарь для хранения результатов и возвращает функцию-обертку, \n",
    "# которая проверяет, есть ли уже результат для данного набора аргументов в словаре. \n",
    "# Если результат уже вычислен, то функция-обертка возвращает сохраненное значение, \n",
    "# иначе она вызывает исходную функцию и сохраняет ее результат в словаре.\n",
    "# Теперь при каждом вызове функции recursive_sum с определенными аргументами, \n",
    "# ее результат будет сохраняться в словаре, и при повторном вызове с теми же аргументами функция будет возвращать сохраненное значение из кэша. \n",
    "# Это позволит избежать повторных вычислений и ускорит выполнение функции при больших значениях n."
   ]
  },
  {
   "cell_type": "code",
   "execution_count": 4,
   "id": "ba59696b-c482-41ab-b9c3-d900515b4a19",
   "metadata": {
    "tags": []
   },
   "outputs": [
    {
     "name": "stdout",
     "output_type": "stream",
     "text": [
      "7.266666666666667\n",
      "{5: 7.266666666666667}\n",
      "7.266666666666667\n"
     ]
    }
   ],
   "source": [
    "cache = {}\n",
    "result1 = recursive_sum_cache(2, 5, cache)\n",
    "print(result1)\n",
    "print(cache)\n",
    "print(recursive_sum_mem(2, 5))"
   ]
  },
  {
   "cell_type": "code",
   "execution_count": 6,
   "id": "31056fec-ee7c-45b0-a401-9f8eec251109",
   "metadata": {
    "tags": []
   },
   "outputs": [
    {
     "name": "stdout",
     "output_type": "stream",
     "text": [
      "Iterative time: 0.03523290005978197\n",
      "Recursive time: 0.038000599946826696\n",
      "Cached recursive time: 0.0015532000688835979\n"
     ]
    }
   ],
   "source": [
    "# Сравнение реализаций\n",
    "import timeit\n",
    "\n",
    "n = 5\n",
    "x = 2\n",
    "\n",
    "# Измеряем время выполнения итеративной функции\n",
    "iterative_time = timeit.timeit(lambda: SUM(x, n), number=10000)\n",
    "\n",
    "# Измеряем время выполнения рекурсивной функции без кэширования\n",
    "recursive_time = timeit.timeit(lambda: recursive_sum(x, n), number=10000)\n",
    "\n",
    "# Измеряем время выполнения рекурсивной функции с кэшированием\n",
    "cache = {}\n",
    "cached_recursive_time = timeit.timeit(lambda: recursive_sum_cache(x, n, cache), number=10000)\n",
    "\n",
    "print(f\"Iterative time: {iterative_time}\")\n",
    "print(f\"Recursive time: {recursive_time}\")\n",
    "print(f\"Cached recursive time: {cached_recursive_time}\")\n",
    "\n"
   ]
  },
  {
   "cell_type": "code",
   "execution_count": null,
   "id": "87fcdf9c-4220-4944-a431-eb730127e755",
   "metadata": {},
   "outputs": [],
   "source": []
  }
 ],
 "metadata": {
  "kernelspec": {
   "display_name": "Python 3 (ipykernel)",
   "language": "python",
   "name": "python3"
  },
  "language_info": {
   "codemirror_mode": {
    "name": "ipython",
    "version": 3
   },
   "file_extension": ".py",
   "mimetype": "text/x-python",
   "name": "python",
   "nbconvert_exporter": "python",
   "pygments_lexer": "ipython3",
   "version": "3.10.9"
  }
 },
 "nbformat": 4,
 "nbformat_minor": 5
}
