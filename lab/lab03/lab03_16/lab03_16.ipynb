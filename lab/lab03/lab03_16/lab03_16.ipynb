{
 "cells": [
  {
   "cell_type": "markdown",
   "id": "f67ae7ed-a7c6-42c0-80a6-7cd075e7e1a9",
   "metadata": {
    "tags": []
   },
   "source": [
    "# Лабораторная работа 3. Итеративные и рекурсивные алгоритмы\n",
    "\n",
    "Вариант: 16"
   ]
  },
  {
   "cell_type": "code",
   "execution_count": 37,
   "id": "18fcc380-3c59-4883-abb6-076d1eca5f6a",
   "metadata": {
    "tags": []
   },
   "outputs": [],
   "source": [
    "from copy import deepcopy\n",
    "import time"
   ]
  },
  {
   "cell_type": "markdown",
   "id": "b1b10ac3-9d66-45a3-a20e-0157ea6d2975",
   "metadata": {},
   "source": [
    "**Цель работы:** изучить рекурсивные алгоритмы и рекурсивные структуры данных; научиться проводить анализ итеративных и рекурсивных процедур; исследовать эффективность итеративных и  рекурсивных процедур при реализации на ПЭВМ."
   ]
  },
  {
   "cell_type": "markdown",
   "id": "277cee28-c124-472d-a202-9e9a776a8945",
   "metadata": {},
   "source": [
    "**Задача:** Реализуйте рекурсивный алгоритм, распечатывающий все перестановки натуральных чисел  1,2,…,𝑁\n",
    " . по одному разу. Перестановка - последовательность длины  𝑁\n",
    " , в которую каждое из этих чисел входит по одному разу."
   ]
  },
  {
   "cell_type": "markdown",
   "id": "dc8e8dc9-a137-4f4f-80e4-ef5933c69d46",
   "metadata": {
    "tags": []
   },
   "source": [
    "## Задание 1"
   ]
  },
  {
   "cell_type": "markdown",
   "id": "f139c7b8-3676-4f2a-9e84-3dac28865fa3",
   "metadata": {
    "tags": []
   },
   "source": [
    "### Реализация алгоритма"
   ]
  },
  {
   "cell_type": "code",
   "execution_count": 38,
   "id": "fe537a8e-4293-4c8c-b643-580f81bd7cd4",
   "metadata": {
    "tags": []
   },
   "outputs": [
    {
     "name": "stdout",
     "output_type": "stream",
     "text": [
      "[[1, 2, 3], [1, 3, 2], [2, 1, 3], [2, 3, 1], [3, 2, 1], [3, 1, 2]]\n"
     ]
    }
   ],
   "source": [
    "def gen_all_permutations(size: int, print_borders = False) -> list:\n",
    "    permuts = []\n",
    "    numbers = [x + 1 for x in range(size)]\n",
    "    def permute(arr, left: int, right: int):\n",
    "        if (left == right):\n",
    "            permuts.append(deepcopy(arr))\n",
    "        else:\n",
    "            for i in range(left, right + 1):\n",
    "                arr[left], arr[i] = arr[i], arr[left]\n",
    "                if print_borders:\n",
    "                    print('l', left+1, 'r', right)\n",
    "                permute(arr, left + 1, right)\n",
    "                arr[left], arr[i] = arr[i], arr[left]\n",
    "    permute(numbers, 0, len(numbers) - 1)\n",
    "    return permuts\n",
    "\n",
    "print(gen_all_permutations(3))"
   ]
  },
  {
   "cell_type": "markdown",
   "id": "3c215d36-b5d6-43c6-aac4-2057cf2a734d",
   "metadata": {
    "tags": []
   },
   "source": [
    "### Псевдокод"
   ]
  },
  {
   "cell_type": "markdown",
   "id": "a6cb7395-6893-4999-8f66-651f9d6c4df3",
   "metadata": {},
   "source": [
    "```\n",
    "std::vector<std::pair<std::vector<int>, bool>> gen_all_permutations(int size) {\n",
    "    std::vector<std::vector<int>> result;\n",
    "    std::vector<int> range;\n",
    "    range.resize(size);\n",
    "    std::iota(range.begin(), range.end(), 1);\n",
    "    std::function<void(std::vector<int> &vec, int l, int r)> permute = [&permute, &result] (std::vector<int> &vec, int l, int r) {\n",
    "        if (l == r) {\n",
    "            result.push_back(vec);\n",
    "        } else {\n",
    "            for (int i = l; i <= r; i++) {\n",
    "                std::swap(vec[l], vec[i]);\n",
    "                permute(vec, l + 1, r);\n",
    "                std::swap(vec[l], vec[i]);\n",
    "            }\n",
    "        }\n",
    "    };\n",
    "    permute(range, 0, range.size() - 1);\n",
    "    return result;\n",
    "}\n",
    "```"
   ]
  },
  {
   "cell_type": "markdown",
   "id": "89ed02ad-2fac-486a-9dcf-72b2fc4c47b8",
   "metadata": {
    "tags": []
   },
   "source": [
    "### Тесты"
   ]
  },
  {
   "cell_type": "code",
   "execution_count": 39,
   "id": "aa1b6dd6-a187-484a-a680-1e3e06ed7ae0",
   "metadata": {},
   "outputs": [],
   "source": [
    "assert gen_all_permutations(3) == [[1, 2, 3], [1, 3, 2], [2, 1, 3], [2, 3, 1], [3, 2, 1], [3, 1, 2]], 'Ошибка при генерации перестановок'\n",
    "\n",
    "assert gen_all_permutations(0) == [], 'Ошибка при перестаноки 0 элементов'"
   ]
  },
  {
   "cell_type": "markdown",
   "id": "32f2a940-1209-4281-9c48-902ad226aa44",
   "metadata": {
    "tags": []
   },
   "source": [
    "## Задание 2"
   ]
  },
  {
   "cell_type": "markdown",
   "id": "af1cccf6-54c8-4839-869f-3fc73276c357",
   "metadata": {
    "tags": []
   },
   "source": [
    "### Реализация функции без рекурсии"
   ]
  },
  {
   "cell_type": "code",
   "execution_count": 41,
   "id": "f2b9070c-071f-4b54-8a8e-a3b63a556d00",
   "metadata": {},
   "outputs": [
    {
     "data": {
      "text/plain": [
       "[[1, 2, 3], [1, 3, 2], [2, 1, 3], [2, 3, 1], [3, 1, 2], [3, 2, 1]]"
      ]
     },
     "execution_count": 41,
     "metadata": {},
     "output_type": "execute_result"
    }
   ],
   "source": [
    "def gen_permuts_without_rec(size):\n",
    "    arr = []\n",
    "    arr.extend([x + 1 for x in range(size)])\n",
    "    def inner_func(arr):\n",
    "        result = []\n",
    "        if len(arr) == 2:\n",
    "            return [[arr[0], arr[1]],\n",
    "                    [arr[1], arr[0]]]\n",
    "        else:\n",
    "            tmp = []\n",
    "            for k in arr:\n",
    "                tmp.append(k)\n",
    "                for x in inner_func([y for x in arr if x != k and (y := x)]):\n",
    "                    tmp.extend(x)\n",
    "                    result.append(tmp)\n",
    "                    tmp = tmp[0:1:]\n",
    "                tmp.clear()\n",
    "        return result\n",
    "    return inner_func(arr)\n",
    "\n",
    "gen_permuts_without_rec(3)"
   ]
  },
  {
   "cell_type": "markdown",
   "id": "f542a236-6888-4f9c-8faf-a574340e8a77",
   "metadata": {},
   "source": [
    "## Задание 3"
   ]
  },
  {
   "cell_type": "markdown",
   "id": "9765020a-e2b7-4953-8c45-7b99073a9bce",
   "metadata": {
    "tags": []
   },
   "source": [
    "### Блок-схема"
   ]
  },
  {
   "cell_type": "markdown",
   "id": "acf86f9e-ae0a-4f53-b011-cf0db631ffd6",
   "metadata": {},
   "source": [
    "![img](permuts.jpg)"
   ]
  },
  {
   "cell_type": "markdown",
   "id": "1138862d-3f33-4a7e-b2b5-6ac075bafcd7",
   "metadata": {
    "tags": []
   },
   "source": [
    "### Оценка верхней границы"
   ]
  },
  {
   "cell_type": "code",
   "execution_count": 6,
   "id": "9a27787c-4c4a-4bba-87fc-9b3f3c2a9d33",
   "metadata": {},
   "outputs": [
    {
     "ename": "MemoryError",
     "evalue": "",
     "output_type": "error",
     "traceback": [
      "\u001b[1;31m---------------------------------------------------------------------------\u001b[0m",
      "\u001b[1;31mMemoryError\u001b[0m                               Traceback (most recent call last)",
      "Cell \u001b[1;32mIn[6], line 1\u001b[0m\n\u001b[1;32m----> 1\u001b[0m \u001b[43mgen_all_permutations\u001b[49m\u001b[43m(\u001b[49m\u001b[38;5;241;43m20\u001b[39;49m\u001b[43m)\u001b[49m\n",
      "Cell \u001b[1;32mIn[5], line 15\u001b[0m, in \u001b[0;36mgen_all_permutations\u001b[1;34m(size, print_borders)\u001b[0m\n\u001b[0;32m     13\u001b[0m             permute(arr, left \u001b[38;5;241m+\u001b[39m \u001b[38;5;241m1\u001b[39m, right)\n\u001b[0;32m     14\u001b[0m             arr[left], arr[i] \u001b[38;5;241m=\u001b[39m arr[i], arr[left]\n\u001b[1;32m---> 15\u001b[0m \u001b[43mpermute\u001b[49m\u001b[43m(\u001b[49m\u001b[43mnumbers\u001b[49m\u001b[43m,\u001b[49m\u001b[43m \u001b[49m\u001b[38;5;241;43m0\u001b[39;49m\u001b[43m,\u001b[49m\u001b[43m \u001b[49m\u001b[38;5;28;43mlen\u001b[39;49m\u001b[43m(\u001b[49m\u001b[43mnumbers\u001b[49m\u001b[43m)\u001b[49m\u001b[43m \u001b[49m\u001b[38;5;241;43m-\u001b[39;49m\u001b[43m \u001b[49m\u001b[38;5;241;43m1\u001b[39;49m\u001b[43m)\u001b[49m\n\u001b[0;32m     16\u001b[0m \u001b[38;5;28;01mreturn\u001b[39;00m permuts\n",
      "Cell \u001b[1;32mIn[5], line 13\u001b[0m, in \u001b[0;36mgen_all_permutations.<locals>.permute\u001b[1;34m(arr, left, right)\u001b[0m\n\u001b[0;32m     11\u001b[0m \u001b[38;5;28;01mif\u001b[39;00m print_borders:\n\u001b[0;32m     12\u001b[0m     \u001b[38;5;28mprint\u001b[39m(\u001b[38;5;124m'\u001b[39m\u001b[38;5;124ml\u001b[39m\u001b[38;5;124m'\u001b[39m, left\u001b[38;5;241m+\u001b[39m\u001b[38;5;241m1\u001b[39m, \u001b[38;5;124m'\u001b[39m\u001b[38;5;124mr\u001b[39m\u001b[38;5;124m'\u001b[39m, right)\n\u001b[1;32m---> 13\u001b[0m \u001b[43mpermute\u001b[49m\u001b[43m(\u001b[49m\u001b[43marr\u001b[49m\u001b[43m,\u001b[49m\u001b[43m \u001b[49m\u001b[43mleft\u001b[49m\u001b[43m \u001b[49m\u001b[38;5;241;43m+\u001b[39;49m\u001b[43m \u001b[49m\u001b[38;5;241;43m1\u001b[39;49m\u001b[43m,\u001b[49m\u001b[43m \u001b[49m\u001b[43mright\u001b[49m\u001b[43m)\u001b[49m\n\u001b[0;32m     14\u001b[0m arr[left], arr[i] \u001b[38;5;241m=\u001b[39m arr[i], arr[left]\n",
      "Cell \u001b[1;32mIn[5], line 13\u001b[0m, in \u001b[0;36mgen_all_permutations.<locals>.permute\u001b[1;34m(arr, left, right)\u001b[0m\n\u001b[0;32m     11\u001b[0m \u001b[38;5;28;01mif\u001b[39;00m print_borders:\n\u001b[0;32m     12\u001b[0m     \u001b[38;5;28mprint\u001b[39m(\u001b[38;5;124m'\u001b[39m\u001b[38;5;124ml\u001b[39m\u001b[38;5;124m'\u001b[39m, left\u001b[38;5;241m+\u001b[39m\u001b[38;5;241m1\u001b[39m, \u001b[38;5;124m'\u001b[39m\u001b[38;5;124mr\u001b[39m\u001b[38;5;124m'\u001b[39m, right)\n\u001b[1;32m---> 13\u001b[0m \u001b[43mpermute\u001b[49m\u001b[43m(\u001b[49m\u001b[43marr\u001b[49m\u001b[43m,\u001b[49m\u001b[43m \u001b[49m\u001b[43mleft\u001b[49m\u001b[43m \u001b[49m\u001b[38;5;241;43m+\u001b[39;49m\u001b[43m \u001b[49m\u001b[38;5;241;43m1\u001b[39;49m\u001b[43m,\u001b[49m\u001b[43m \u001b[49m\u001b[43mright\u001b[49m\u001b[43m)\u001b[49m\n\u001b[0;32m     14\u001b[0m arr[left], arr[i] \u001b[38;5;241m=\u001b[39m arr[i], arr[left]\n",
      "    \u001b[1;31m[... skipping similar frames: gen_all_permutations.<locals>.permute at line 13 (16 times)]\u001b[0m\n",
      "Cell \u001b[1;32mIn[5], line 13\u001b[0m, in \u001b[0;36mgen_all_permutations.<locals>.permute\u001b[1;34m(arr, left, right)\u001b[0m\n\u001b[0;32m     11\u001b[0m \u001b[38;5;28;01mif\u001b[39;00m print_borders:\n\u001b[0;32m     12\u001b[0m     \u001b[38;5;28mprint\u001b[39m(\u001b[38;5;124m'\u001b[39m\u001b[38;5;124ml\u001b[39m\u001b[38;5;124m'\u001b[39m, left\u001b[38;5;241m+\u001b[39m\u001b[38;5;241m1\u001b[39m, \u001b[38;5;124m'\u001b[39m\u001b[38;5;124mr\u001b[39m\u001b[38;5;124m'\u001b[39m, right)\n\u001b[1;32m---> 13\u001b[0m \u001b[43mpermute\u001b[49m\u001b[43m(\u001b[49m\u001b[43marr\u001b[49m\u001b[43m,\u001b[49m\u001b[43m \u001b[49m\u001b[43mleft\u001b[49m\u001b[43m \u001b[49m\u001b[38;5;241;43m+\u001b[39;49m\u001b[43m \u001b[49m\u001b[38;5;241;43m1\u001b[39;49m\u001b[43m,\u001b[49m\u001b[43m \u001b[49m\u001b[43mright\u001b[49m\u001b[43m)\u001b[49m\n\u001b[0;32m     14\u001b[0m arr[left], arr[i] \u001b[38;5;241m=\u001b[39m arr[i], arr[left]\n",
      "Cell \u001b[1;32mIn[5], line 7\u001b[0m, in \u001b[0;36mgen_all_permutations.<locals>.permute\u001b[1;34m(arr, left, right)\u001b[0m\n\u001b[0;32m      5\u001b[0m \u001b[38;5;28;01mdef\u001b[39;00m \u001b[38;5;21mpermute\u001b[39m(arr, left: \u001b[38;5;28mint\u001b[39m, right: \u001b[38;5;28mint\u001b[39m):\n\u001b[0;32m      6\u001b[0m     \u001b[38;5;28;01mif\u001b[39;00m (left \u001b[38;5;241m==\u001b[39m right):\n\u001b[1;32m----> 7\u001b[0m         permuts\u001b[38;5;241m.\u001b[39mappend(deepcopy(arr))\n\u001b[0;32m      8\u001b[0m     \u001b[38;5;28;01melse\u001b[39;00m:\n\u001b[0;32m      9\u001b[0m         \u001b[38;5;28;01mfor\u001b[39;00m i \u001b[38;5;129;01min\u001b[39;00m \u001b[38;5;28mrange\u001b[39m(left, right \u001b[38;5;241m+\u001b[39m \u001b[38;5;241m1\u001b[39m):\n",
      "\u001b[1;31mMemoryError\u001b[0m: "
     ]
    }
   ],
   "source": [
    "gen_all_permutations(20)"
   ]
  },
  {
   "cell_type": "code",
   "execution_count": null,
   "id": "836cb862-7d4e-4928-bd7a-8d0400a41710",
   "metadata": {
    "tags": []
   },
   "outputs": [],
   "source": [
    "gen_permuts_without_rec(20)"
   ]
  },
  {
   "cell_type": "markdown",
   "id": "508281c5-b8ab-4d59-a974-31bf5a056312",
   "metadata": {
    "tags": []
   },
   "source": [
    "### Меморизация"
   ]
  },
  {
   "cell_type": "markdown",
   "id": "8df2d799-2430-4a26-a522-2b7d97a82cbb",
   "metadata": {},
   "source": [
    "С помощью декоратора memoized"
   ]
  },
  {
   "cell_type": "code",
   "execution_count": 5,
   "id": "7c8c9c18-5e64-4e42-9d07-d9957d13f328",
   "metadata": {
    "tags": []
   },
   "outputs": [
    {
     "data": {
      "text/plain": [
       "[[3, 2, 1], [2, 3, 1], [2, 1, 3], [3, 1, 2], [1, 3, 2], [1, 2, 3]]"
      ]
     },
     "execution_count": 5,
     "metadata": {},
     "output_type": "execute_result"
    }
   ],
   "source": [
    "def memoized(func):\n",
    "    cache = {}\n",
    "    def wrapper(n):\n",
    "        if n not in cache:\n",
    "            cache[n] = func(n)\n",
    "        return cache[n]\n",
    "    return wrapper\n",
    "\n",
    "@memoized\n",
    "def permutations(n):\n",
    "    if n == 0:\n",
    "        return [[]]\n",
    "    else:\n",
    "        result = []\n",
    "        for permut in permutations(n-1):\n",
    "            for i in range(n):\n",
    "                result.append(permut[:i] + [n] + permut[i:])\n",
    "        return result\n",
    "\n",
    "permutations(3)"
   ]
  },
  {
   "cell_type": "markdown",
   "id": "803dca99-26a2-42a4-b497-371eaeed65f4",
   "metadata": {},
   "source": [
    "Своими руками"
   ]
  },
  {
   "cell_type": "code",
   "execution_count": 6,
   "id": "cf141d0c-4d1b-4da9-926c-1d67b60078c2",
   "metadata": {},
   "outputs": [
    {
     "name": "stdout",
     "output_type": "stream",
     "text": [
      "[4, 3, 2, 1]\n",
      "[3, 4, 2, 1]\n",
      "[3, 2, 4, 1]\n",
      "[3, 2, 1, 4]\n",
      "[4, 2, 3, 1]\n",
      "[2, 4, 3, 1]\n",
      "[2, 3, 4, 1]\n",
      "[2, 3, 1, 4]\n",
      "[4, 2, 1, 3]\n",
      "[2, 4, 1, 3]\n",
      "[2, 1, 4, 3]\n",
      "[2, 1, 3, 4]\n",
      "[4, 3, 1, 2]\n",
      "[3, 4, 1, 2]\n",
      "[3, 1, 4, 2]\n",
      "[3, 1, 2, 4]\n",
      "[4, 1, 3, 2]\n",
      "[1, 4, 3, 2]\n",
      "[1, 3, 4, 2]\n",
      "[1, 3, 2, 4]\n",
      "[4, 1, 2, 3]\n",
      "[1, 4, 2, 3]\n",
      "[1, 2, 4, 3]\n",
      "[1, 2, 3, 4]\n"
     ]
    }
   ],
   "source": [
    "cache = {}\n",
    "\n",
    "def permutations(n):\n",
    "    if n in cache:\n",
    "        return cache[n]\n",
    "    else:\n",
    "        if n == 0:\n",
    "            return [[]]\n",
    "        else:\n",
    "            result = []\n",
    "            for permut in permutations(n-1):\n",
    "                for i in range(n):\n",
    "                    result.append(permut[:i] + [n] + permut[i:])\n",
    "            cache[n] = result\n",
    "            return result\n",
    "\n",
    "for permut in permutations(4):\n",
    "    print(permut)"
   ]
  },
  {
   "cell_type": "markdown",
   "id": "53e4d523-ed63-4247-b0cf-0207600b4dc9",
   "metadata": {},
   "source": [
    "### Сравнение производительности"
   ]
  },
  {
   "cell_type": "code",
   "execution_count": 23,
   "id": "4300f044-6306-4fe8-b389-948a8046e8ac",
   "metadata": {
    "tags": []
   },
   "outputs": [],
   "source": [
    "times_rec = {}\n",
    "times_without_rec = {}\n",
    "times_mem = {}"
   ]
  },
  {
   "cell_type": "markdown",
   "id": "8bd0d89c-5526-4146-bbd7-fbb605eaaf0b",
   "metadata": {
    "tags": []
   },
   "source": [
    "**Рекурсивно без мемоизации**"
   ]
  },
  {
   "cell_type": "code",
   "execution_count": 45,
   "id": "a234131c-87d9-4bc5-8b14-4d61e49e2d13",
   "metadata": {},
   "outputs": [],
   "source": [
    "start = time.time()\n",
    "\n",
    "gen_all_permutations(5)\n",
    "\n",
    "end = time.time()\n",
    "t = round((end - start) * 10**3, 2)\n",
    "times_rec[5] = t"
   ]
  },
  {
   "cell_type": "code",
   "execution_count": 46,
   "id": "8d479cd9-66f6-450f-a881-b57140ee8c56",
   "metadata": {},
   "outputs": [],
   "source": [
    "start = time.time()\n",
    "\n",
    "gen_all_permutations(6)\n",
    "\n",
    "end = time.time()\n",
    "t = round((end - start) * 10**3, 2)\n",
    "times_rec[6] = t"
   ]
  },
  {
   "cell_type": "code",
   "execution_count": 47,
   "id": "3de891ae-467f-46c2-a611-3ce0a41d40f7",
   "metadata": {},
   "outputs": [],
   "source": [
    "start = time.time()\n",
    "\n",
    "gen_all_permutations(7)\n",
    "\n",
    "end = time.time()\n",
    "t = round((end - start) * 10**3, 2)\n",
    "times_rec[7] = t"
   ]
  },
  {
   "cell_type": "code",
   "execution_count": 48,
   "id": "14b5842b-5262-4ca3-b608-b01bf209423b",
   "metadata": {
    "tags": []
   },
   "outputs": [],
   "source": [
    "start = time.time()\n",
    "\n",
    "gen_all_permutations(8)\n",
    "\n",
    "end = time.time()\n",
    "t = round((end - start) * 10**3, 2)\n",
    "times_rec[8] = t"
   ]
  },
  {
   "cell_type": "markdown",
   "id": "5489b72b-af5e-46e5-b49e-5659ca587d0a",
   "metadata": {
    "tags": []
   },
   "source": [
    "**Без рекурсии без мемоизации**"
   ]
  },
  {
   "cell_type": "code",
   "execution_count": 49,
   "id": "f8f6858f-a5ca-4e2e-b7df-3d041dc8e39c",
   "metadata": {},
   "outputs": [],
   "source": [
    "start = time.time()\n",
    "\n",
    "gen_permuts_without_rec(5)\n",
    "\n",
    "end = time.time()\n",
    "t = round((end - start) * 10**3, 2)\n",
    "times_without_rec[5] = t"
   ]
  },
  {
   "cell_type": "code",
   "execution_count": 50,
   "id": "abcab879-3bf0-4d16-88af-c0962495111b",
   "metadata": {},
   "outputs": [],
   "source": [
    "start = time.time()\n",
    "\n",
    "gen_permuts_without_rec(6)\n",
    "\n",
    "end = time.time()\n",
    "t = round((end - start) * 10**3, 2)\n",
    "times_without_rec[6] = t"
   ]
  },
  {
   "cell_type": "code",
   "execution_count": 51,
   "id": "7d44f846-b895-4f7b-b4e0-57eacb19aba5",
   "metadata": {},
   "outputs": [],
   "source": [
    "start = time.time()\n",
    "\n",
    "gen_permuts_without_rec(7)\n",
    "\n",
    "end = time.time()\n",
    "t = round((end - start) * 10**3, 2)\n",
    "times_without_rec[7] = t"
   ]
  },
  {
   "cell_type": "code",
   "execution_count": 52,
   "id": "6361b8b7-0fb5-422c-bb72-f120e6bf56b3",
   "metadata": {
    "tags": []
   },
   "outputs": [],
   "source": [
    "start = time.time()\n",
    "\n",
    "gen_permuts_without_rec(8)\n",
    "\n",
    "end = time.time()\n",
    "t = round((end - start) * 10**3, 2)\n",
    "times_without_rec[8] = t"
   ]
  },
  {
   "cell_type": "markdown",
   "id": "6c0f07f1-fd6c-4f10-b69a-97f61b4f774a",
   "metadata": {},
   "source": [
    "**Рекурсивно с мемоизацией**"
   ]
  },
  {
   "cell_type": "code",
   "execution_count": 53,
   "id": "ce5ba3e7-08c7-4495-a65f-359e111de36e",
   "metadata": {},
   "outputs": [],
   "source": [
    "start = time.time()\n",
    "\n",
    "permutations(5)\n",
    "\n",
    "end = time.time()\n",
    "t = round((end - start) * 10**3, 2)\n",
    "times_mem[5] = t"
   ]
  },
  {
   "cell_type": "code",
   "execution_count": 54,
   "id": "9c85b48e-7da9-4980-94b0-331add7852e3",
   "metadata": {},
   "outputs": [],
   "source": [
    "start = time.time()\n",
    "\n",
    "permutations(6)\n",
    "\n",
    "end = time.time()\n",
    "t = round((end - start) * 10**3, 2)\n",
    "times_mem[6] = t"
   ]
  },
  {
   "cell_type": "code",
   "execution_count": 55,
   "id": "4b7d1bad-c0ca-4b7c-b247-63c84f5d7987",
   "metadata": {},
   "outputs": [],
   "source": [
    "start = time.time()\n",
    "\n",
    "permutations(7)\n",
    "\n",
    "end = time.time()\n",
    "t = round((end - start) * 10**3, 2)\n",
    "times_mem[7] = t"
   ]
  },
  {
   "cell_type": "code",
   "execution_count": 56,
   "id": "e97072df-77f2-4818-8e1e-e2d9b067e7e3",
   "metadata": {
    "tags": []
   },
   "outputs": [],
   "source": [
    "start = time.time()\n",
    "\n",
    "permutations(8)\n",
    "\n",
    "end = time.time()\n",
    "t = round((end - start) * 10**3, 2)\n",
    "times_mem[8] = t"
   ]
  },
  {
   "cell_type": "code",
   "execution_count": 57,
   "id": "318447b5-7555-4a72-902b-b1470ff97a2a",
   "metadata": {
    "tags": []
   },
   "outputs": [
    {
     "data": {
      "image/png": "[encoded data removed]",
      "text/plain": [
       "<Figure size 640x480 with 1 Axes>"
      ]
     },
     "metadata": {},
     "output_type": "display_data"
    }
   ],
   "source": [
    "import matplotlib.pyplot as plt\n",
    "import numpy as np\n",
    "plt.plot(times_rec.keys(), times_rec.values(), times_without_rec.keys(), times_without_rec.values(), times_mem.keys(), times_mem.values())\n",
    "plt.ylabel('time, ms')\n",
    "plt.xlabel('number of elements')\n",
    "plt.legend([\"rec\", \"wr\", \"mem\"])\n",
    "plt.grid(True)\n",
    "plt.show()\n",
    "#зелёный - мем\n",
    "#синий - rec\n",
    "#оранжевый - без рекурсии"
   ]
  },
  {
   "cell_type": "code",
   "execution_count": null,
   "id": "a9b1657e-8806-44c7-849c-6f189a9e3246",
   "metadata": {},
   "outputs": [],
   "source": []
  }
 ],
 "metadata": {
  "kernelspec": {
   "display_name": "Python 3 (ipykernel)",
   "language": "python",
   "name": "python3"
  },
  "language_info": {
   "codemirror_mode": {
    "name": "ipython",
    "version": 3
   },
   "file_extension": ".py",
   "mimetype": "text/x-python",
   "name": "python",
   "nbconvert_exporter": "python",
   "pygments_lexer": "ipython3",
   "version": "3.11.1"
  }
 },
 "nbformat": 4,
 "nbformat_minor": 5
}
