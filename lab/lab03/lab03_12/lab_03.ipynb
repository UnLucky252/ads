{
 "cells": [
  {
   "cell_type": "markdown",
   "id": "33176c8d",
   "metadata": {},
   "source": [
    "# Лабораторная работа 3. Итеративные и рекурсивные алгоритмы."
   ]
  },
  {
   "cell_type": "markdown",
   "id": "ee0256ae",
   "metadata": {},
   "source": [
    "### Вариант 12"
   ]
  },
  {
   "cell_type": "markdown",
   "id": "ca7357f9",
   "metadata": {},
   "source": [
    "## Задание 1"
   ]
  },
  {
   "cell_type": "markdown",
   "id": "7c4361df",
   "metadata": {},
   "source": [
    "### Классификация алгоритма\n",
    "\n",
    "* По типу алгоритма: рекурсивный\n",
    "* По устойчивости: устойчивый\n",
    "* По месту хранения данных: на месте\n",
    "* По выделению дополнительного места: не выделяет\n",
    "* По адаптивности: не адаптивный\n",
    "* По сложности:\n",
    "    * Худшее значение: O(n)\n",
    "    * Среднее значение: O(n)\n",
    "    * Лучшее значение: O(1)"
   ]
  },
  {
   "cell_type": "markdown",
   "id": "0d801961",
   "metadata": {},
   "source": [
    "### Описание алгоритма\n",
    "\n",
    "Алгоритм рекурсивно проверяет символы симметричной части строки, начиная с крайних символов, и проверяет, совпадают ли они. Если символы не совпадают, то строка не является симметричной. Если символы совпадают, то рекурсивно вызывается функция, чтобы проверить следующие символы в симметричной части строки. Когда достигнута базовая ситуация, и все символы симметричной части строки являются симметричными, возвращается True."
   ]
  },
  {
   "cell_type": "markdown",
   "id": "e282ad78",
   "metadata": {},
   "source": [
    "### Псевдокод"
   ]
  },
  {
   "cell_type": "code",
   "execution_count": 1,
   "id": "a8f8344b",
   "metadata": {},
   "outputs": [
    {
     "ename": "SyntaxError",
     "evalue": "invalid syntax (2797921342.py, line 1)",
     "output_type": "error",
     "traceback": [
      "\u001b[1;36m  Cell \u001b[1;32mIn[1], line 1\u001b[1;36m\u001b[0m\n\u001b[1;33m    function symmetric(s, i, j):\u001b[0m\n\u001b[1;37m             ^\u001b[0m\n\u001b[1;31mSyntaxError\u001b[0m\u001b[1;31m:\u001b[0m invalid syntax\n"
     ]
    }
   ],
   "source": [
    "function symmetric(s, i, j):\n",
    "    if i >= j:\n",
    "        return True\n",
    "    \n",
    "    if s[i] != s[j]:\n",
    "        return False\n",
    "    \n",
    "    return symmetric(s, i+1, j-1)"
   ]
  },
  {
   "cell_type": "markdown",
   "id": "f4a36fd6",
   "metadata": {},
   "source": [
    "### Достоинства и недостатки\n",
    "\n",
    "* Достоинства:\n",
    "    * Простота реализации\n",
    "    * Не изменяет порядок элементов входной строки\n",
    "* Недостатки:\n",
    "    * Алгоритм неоптимален для длинных строк из-за множества рекурсивных вызовов и может привести к переполнению стека при больших значениях j-i\n",
    "    * Не эффективен для строк, где симметричная часть расположена в середине строки, т.к. алгоритм сначала проверяет символы на краях строки, а затем перемещается внутрь\n",
    "    * Не обрабатывает случай, когда строка содержит символы, которые не могут быть сопоставлены, например, пробелы, знаки препинания и т.д."
   ]
  },
  {
   "cell_type": "markdown",
   "id": "dae9afd3",
   "metadata": {},
   "source": [
    "### Реализация сортировки"
   ]
  },
  {
   "cell_type": "code",
   "execution_count": 11,
   "id": "8eeafc19",
   "metadata": {},
   "outputs": [],
   "source": [
    "def symmetric(s, i, j):\n",
    "    if i >= j:\n",
    "        return True\n",
    "    elif s[i] != s[j]:\n",
    "        return False\n",
    "    else:\n",
    "        return symmetric(s, i+1, j-1)"
   ]
  },
  {
   "cell_type": "markdown",
   "id": "f1b881d0",
   "metadata": {},
   "source": [
    "### Тесты"
   ]
  },
  {
   "cell_type": "code",
   "execution_count": 16,
   "id": "d39c1d22",
   "metadata": {},
   "outputs": [],
   "source": [
    "sortmethod = symmetric\n",
    "\n",
    "assert sortmethod('racecar', 0, 6) == True # Тесты на симметричность\n",
    "assert sortmethod('noon', 0, 3) == True\n",
    "assert sortmethod('abccba', 0, 5) == True\n",
    "assert sortmethod('xyz', 0, 2) == False # Тесты на несимметричность\n",
    "assert sortmethod('abcdef', 1, 3) == False\n",
    "assert sortmethod('hello', 0, 4) == False\n",
    "assert sortmethod('', 0, 0) == True # Тест для пустой строки\n",
    "assert sortmethod('1', 0, 0) == True # Тест для строки из одного символа"
   ]
  },
  {
   "cell_type": "markdown",
   "id": "a4cdc144",
   "metadata": {},
   "source": [
    "## Задание 2"
   ]
  },
  {
   "cell_type": "markdown",
   "id": "86a53e9b",
   "metadata": {},
   "source": [
    "### Реализация сортировки"
   ]
  },
  {
   "cell_type": "code",
   "execution_count": 50,
   "id": "6364e83e",
   "metadata": {},
   "outputs": [],
   "source": [
    "def symmetric(s, i, j):\n",
    "    while (i < j):\n",
    "        if (s[i] != s[j]):\n",
    "            return False\n",
    "        i += 1\n",
    "        j -= 1\n",
    "    return True"
   ]
  },
  {
   "cell_type": "markdown",
   "id": "189303db",
   "metadata": {},
   "source": [
    "## Задание 3"
   ]
  },
  {
   "cell_type": "markdown",
   "id": "5dedc0aa",
   "metadata": {},
   "source": [
    "### Сравнение производительности"
   ]
  },
  {
   "cell_type": "markdown",
   "id": "0597b870",
   "metadata": {},
   "source": [
    "### Рекурсия с сохранением промежуточного результата"
   ]
  },
  {
   "cell_type": "code",
   "execution_count": 33,
   "id": "1b5dc197",
   "metadata": {},
   "outputs": [
    {
     "name": "stdout",
     "output_type": "stream",
     "text": [
      "[1:1]\n",
      "[2:2]\n",
      "[3:3]\n",
      "[4:4]\n",
      "[5:5]\n",
      "[6:6]\n",
      "The string 'racecar' is symmetric: True\n"
     ]
    }
   ],
   "source": [
    "def symmetric(s, i, j):\n",
    "    if (i >= j):\n",
    "        return True\n",
    "    for k in range(i, j+1):\n",
    "        if (s[i:k+1][::-1] == s[i:k+1]):\n",
    "            print(f\"[{i+1}:{k+1}]\")\n",
    "            if symmetric(s, k+1, j):\n",
    "                return True\n",
    "    return False\n",
    "\n",
    "s = \"racecar\"\n",
    "result = symmetric(s, 0, len(s)-1)\n",
    "print(f\"The string '{s}' is symmetric: {result}\")"
   ]
  },
  {
   "cell_type": "code",
   "execution_count": 34,
   "id": "ca492259",
   "metadata": {},
   "outputs": [
    {
     "name": "stdout",
     "output_type": "stream",
     "text": [
      "[1:4]\n",
      "The string 'hello' is symmetric: False\n"
     ]
    }
   ],
   "source": [
    "def memoized(func):\n",
    "    cache = {}\n",
    "    def wrapped(*args):\n",
    "        if args in cache:\n",
    "            return cache[args]\n",
    "        result = func(*args)\n",
    "        cache[args] = result\n",
    "        return result\n",
    "    return wrapped\n",
    "\n",
    "@memoized\n",
    "def symmetric2(s, i, j):\n",
    "    if (i >= j):\n",
    "        return True\n",
    "    else:\n",
    "        result = (s[i] == s[j] and symmetric2(s, i+1, j-1))\n",
    "        print(f\"[{i+1}:{j}]\")\n",
    "        return result\n",
    "\n",
    "s = \"hello\"\n",
    "result = symmetric2(s, 0, len(s)-1)\n",
    "print(f\"The string '{s}' is symmetric: {result}\")"
   ]
  },
  {
   "cell_type": "markdown",
   "id": "57a7358a",
   "metadata": {},
   "source": [
    "### Сравнение производительности"
   ]
  },
  {
   "cell_type": "code",
   "execution_count": 49,
   "id": "974716f0",
   "metadata": {},
   "outputs": [
    {
     "name": "stdout",
     "output_type": "stream",
     "text": [
      "CPU times: total: 0 ns\n",
      "Wall time: 0 ns\n",
      "[1:1]\n",
      "[2:2]\n",
      "[3:3]\n",
      "[4:4]\n",
      "[5:5]\n",
      "[6:6]\n",
      "[1:1]\n",
      "[2:2]\n",
      "[3:3]\n",
      "[4:4]\n",
      "[1:1]\n",
      "[2:2]\n",
      "[3:3]\n",
      "[4:4]\n",
      "[5:5]\n",
      "[6:6]\n",
      "[7:7]\n",
      "[8:8]\n",
      "[9:9]\n",
      "[10:10]\n",
      "[11:11]\n",
      "[12:12]\n",
      "[13:13]\n",
      "[14:14]\n",
      "[15:15]\n",
      "[16:16]\n",
      "[17:17]\n",
      "[18:18]\n",
      "[19:19]\n",
      "[20:20]\n",
      "[21:21]\n",
      "[22:22]\n",
      "[23:23]\n",
      "[24:24]\n",
      "[25:25]\n",
      "[26:26]\n",
      "[27:27]\n",
      "[28:28]\n",
      "[29:29]\n",
      "[30:30]\n",
      "[31:31]\n",
      "[32:32]\n",
      "[33:33]\n",
      "[34:34]\n",
      "[35:35]\n",
      "[36:36]\n",
      "[37:37]\n",
      "[38:38]\n",
      "[39:39]\n",
      "[40:40]\n",
      "[41:41]\n",
      "[42:42]\n",
      "[43:43]\n",
      "[44:44]\n",
      "[45:45]\n",
      "[46:46]\n",
      "[47:47]\n",
      "[48:48]\n",
      "[49:49]\n",
      "[50:50]\n",
      "[51:51]\n",
      "[52:52]\n",
      "[53:53]\n",
      "[54:54]\n",
      "[55:55]\n",
      "[56:56]\n",
      "[57:57]\n",
      "[58:58]\n",
      "[59:59]\n",
      "[60:60]\n",
      "[61:61]\n",
      "[62:62]\n",
      "[63:63]\n",
      "[64:64]\n",
      "[65:65]\n",
      "[66:66]\n",
      "[67:67]\n",
      "[68:68]\n",
      "[69:69]\n",
      "[70:70]\n",
      "[71:71]\n",
      "[72:72]\n",
      "[73:73]\n",
      "[74:74]\n",
      "[75:75]\n",
      "[76:76]\n",
      "[77:77]\n",
      "[78:78]\n",
      "[79:79]\n",
      "[80:80]\n",
      "[81:81]\n",
      "[82:82]\n",
      "[83:83]\n",
      "[84:84]\n",
      "[85:85]\n",
      "[86:86]\n",
      "[87:87]\n",
      "[88:88]\n",
      "[89:89]\n",
      "[90:90]\n",
      "[91:91]\n",
      "[92:92]\n",
      "[93:93]\n",
      "[94:94]\n",
      "[95:95]\n",
      "[96:96]\n",
      "[97:97]\n",
      "[98:98]\n",
      "[99:99]\n",
      "[100:100]\n",
      "[101:101]\n",
      "[102:102]\n",
      "[103:103]\n",
      "[104:104]\n",
      "[105:105]\n",
      "[106:106]\n",
      "[107:107]\n",
      "[108:108]\n",
      "[109:109]\n",
      "[110:110]\n",
      "[111:111]\n",
      "[112:112]\n",
      "[113:113]\n",
      "[114:114]\n",
      "[115:115]\n",
      "[116:116]\n",
      "[117:117]\n",
      "[118:118]\n",
      "[119:119]\n",
      "[120:120]\n",
      "[121:121]\n",
      "[122:122]\n",
      "[123:123]\n",
      "[124:124]\n",
      "[125:125]\n",
      "[126:126]\n",
      "[127:127]\n",
      "[128:128]\n",
      "[129:129]\n",
      "[130:130]\n",
      "[131:131]\n",
      "[132:132]\n",
      "[133:133]\n",
      "[134:134]\n",
      "[135:135]\n",
      "[136:136]\n",
      "[137:137]\n",
      "[138:138]\n",
      "[139:139]\n",
      "[140:140]\n",
      "[141:141]\n",
      "[142:142]\n",
      "[143:143]\n",
      "[144:144]\n",
      "[145:145]\n",
      "[146:146]\n",
      "[147:147]\n",
      "[148:148]\n",
      "[149:149]\n",
      "[150:150]\n",
      "[151:151]\n",
      "[152:152]\n",
      "[153:153]\n",
      "[154:154]\n",
      "[155:155]\n",
      "[156:156]\n",
      "[157:157]\n",
      "[158:158]\n",
      "[159:159]\n",
      "[160:160]\n",
      "[161:161]\n",
      "[162:162]\n",
      "[163:163]\n",
      "[164:164]\n",
      "[165:165]\n",
      "[166:166]\n",
      "[167:167]\n",
      "[168:168]\n",
      "[169:169]\n",
      "[170:170]\n",
      "[171:171]\n",
      "[172:172]\n",
      "[173:173]\n",
      "[174:174]\n",
      "[175:175]\n",
      "[176:176]\n",
      "[177:177]\n",
      "[178:178]\n",
      "[179:179]\n",
      "[180:180]\n",
      "[181:181]\n",
      "[182:182]\n",
      "[183:183]\n",
      "[184:184]\n",
      "[185:185]\n",
      "[186:186]\n",
      "[187:187]\n",
      "[188:188]\n",
      "[189:189]\n",
      "[190:190]\n",
      "[191:191]\n",
      "[192:192]\n",
      "[193:193]\n",
      "[194:194]\n",
      "[195:195]\n",
      "[196:196]\n",
      "[197:197]\n",
      "[198:198]\n",
      "[199:199]\n",
      "[200:200]\n",
      "[201:201]\n",
      "[202:202]\n",
      "[203:203]\n",
      "[204:204]\n",
      "[205:205]\n",
      "[206:206]\n",
      "[207:207]\n",
      "[208:208]\n",
      "[209:209]\n",
      "[210:210]\n",
      "[211:211]\n",
      "[212:212]\n",
      "[213:213]\n",
      "[214:214]\n",
      "[215:215]\n",
      "[216:216]\n",
      "[217:217]\n",
      "[218:218]\n",
      "[219:219]\n",
      "[220:220]\n",
      "[221:221]\n",
      "[222:222]\n",
      "[223:223]\n",
      "[224:224]\n",
      "[225:225]\n",
      "[226:226]\n",
      "[227:227]\n",
      "[228:228]\n",
      "[229:229]\n",
      "[230:230]\n",
      "[231:231]\n",
      "[232:232]\n",
      "[233:233]\n",
      "[234:234]\n",
      "[235:235]\n",
      "[236:236]\n",
      "[237:237]\n",
      "[238:238]\n",
      "[239:239]\n",
      "[240:240]\n",
      "[241:241]\n",
      "[242:242]\n",
      "[243:243]\n",
      "[244:244]\n",
      "[245:245]\n",
      "[246:246]\n",
      "[247:247]\n",
      "[248:248]\n",
      "[249:249]\n",
      "[250:250]\n",
      "[251:251]\n",
      "[252:252]\n",
      "[253:253]\n",
      "[254:254]\n",
      "[255:255]\n",
      "[256:256]\n",
      "[257:257]\n",
      "[258:258]\n",
      "[259:259]\n",
      "Time symmetric1: 0.000000000, 0.000000000, 0.003027439\n",
      "Time symmetric2: 0.000000000, 0.000000000, 0.000000000\n"
     ]
    }
   ],
   "source": [
    "%time\n",
    "def test_symmetric(s, i, j):\n",
    "    start_time = time.time()\n",
    "    symmetric(s, i, j)\n",
    "    end_time = time.time()\n",
    "    return end_time - start_time\n",
    "\n",
    "def test_symmetric2(s, i, j):\n",
    "    start_time = time.time()\n",
    "    symmetric2(s, i, j)\n",
    "    end_time = time.time()\n",
    "    return end_time - start_time\n",
    "\n",
    "s1 = \"racecar\"\n",
    "s2 = \"hello\"\n",
    "s3 = \"abcdefghijklmnopqrstuvwxyz\" * 10\n",
    "\n",
    "t1 = test_symmetric(s1, 0, len(s1)-1)\n",
    "t2 = test_symmetric(s2, 0, len(s2)-1)\n",
    "t3 = test_symmetric(s3, 0, len(s3)-1)\n",
    "print(f\"Time symmetric1: {t1:.9f}, {t2:.9f}, {t3:.9f}\")\n",
    "\n",
    "t1 = test_symmetric2(s1, 0, len(s1)-1)\n",
    "t2 = test_symmetric2(s2, 0, len(s2)-1)\n",
    "t3 = test_symmetric2(s3, 0, len(s3)-1)\n",
    "print(f\"Time symmetric2: {t1:.9f}, {t2:.9f}, {t3:.9f}\")"
   ]
  },
  {
   "cell_type": "markdown",
   "id": "397efb83",
   "metadata": {},
   "source": [
    "### Оценка верхней границы размерности"
   ]
  },
  {
   "cell_type": "code",
   "execution_count": 52,
   "id": "f5cbf87b",
   "metadata": {},
   "outputs": [
    {
     "name": "stdout",
     "output_type": "stream",
     "text": [
      "Результат: True\n",
      "Верхняя граница размерности: 128\n"
     ]
    }
   ],
   "source": [
    "def symmetric(s, i, j):\n",
    "    if i >= j:\n",
    "        return True\n",
    "    for k in range(i, j+1):\n",
    "        if s[i:k+1][::-1] == s[i:k+1]:\n",
    "            if symmetric(s, k+1, j):\n",
    "                return True\n",
    "    return False\n",
    "\n",
    "s = \"racecar\"\n",
    "result = symmetric(s, 0, len(s)-1)\n",
    "up = 2**(len(s))\n",
    "\n",
    "print(\"Результат:\", result)\n",
    "print(\"Верхняя граница размерности:\", up)"
   ]
  },
  {
   "cell_type": "code",
   "execution_count": 36,
   "id": "c4eb8c26",
   "metadata": {},
   "outputs": [
    {
     "name": "stdout",
     "output_type": "stream",
     "text": [
      "Результат: False\n",
      "Верхняя граница размерности: 32\n"
     ]
    }
   ],
   "source": [
    "def memoized(func):\n",
    "    cache = {}\n",
    "    def wrapped(*args):\n",
    "        if args in cache:\n",
    "            return cache[args]\n",
    "        result = func(*args)\n",
    "        cache[args] = result\n",
    "        return result\n",
    "    return wrapped\n",
    "\n",
    "@memoized\n",
    "def symmetric2(s, i, j):\n",
    "    if (i >= j):\n",
    "        return True\n",
    "    else:\n",
    "        result = (s[i] == s[j] and symmetric2(s, i+1, j-1))\n",
    "        return result\n",
    "\n",
    "s = \"hello\"\n",
    "result = symmetric2(s, 0, len(s)-1)\n",
    "up = 2**(len(s))\n",
    "\n",
    "print(\"Результат:\", result)\n",
    "print(\"Верхняя граница размерности:\", up)"
   ]
  }
 ],
 "metadata": {
  "kernelspec": {
   "display_name": "Python 3 (ipykernel)",
   "language": "python",
   "name": "python3"
  },
  "language_info": {
   "codemirror_mode": {
    "name": "ipython",
    "version": 3
   },
   "file_extension": ".py",
   "mimetype": "text/x-python",
   "name": "python",
   "nbconvert_exporter": "python",
   "pygments_lexer": "ipython3",
   "version": "3.10.9"
  }
 },
 "nbformat": 4,
 "nbformat_minor": 5
}
