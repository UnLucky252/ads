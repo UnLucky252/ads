{
 "cells": [
  {
   "cell_type": "markdown",
   "id": "b326174e-a91c-4191-9889-b4e08028e025",
   "metadata": {},
   "source": [
    "# Лабораторная работа 3. Итеративные и рекурсивные алгоритмы\n",
    "\n",
    "Вариант: 10"
   ]
  },
  {
   "cell_type": "markdown",
   "id": "40305152-e350-480e-9025-bcd657cf3e4a",
   "metadata": {
    "tags": []
   },
   "source": [
    "## Рекурсивный алгоритм перевода натурального числа из десятичной системы счисления в систему счисления с основанием $N$, $N \\leq 10$"
   ]
  },
  {
   "cell_type": "markdown",
   "id": "7ebbd73d-c2bd-4dcf-a13c-a4ea1f7f600a",
   "metadata": {
    "tags": []
   },
   "source": [
    "### Классификация алгоритма:\n",
    "\n",
    "- **Класс** - Перевод в другую систему счисления\n",
    "\n",
    "- **Структура данных** - Числа\n",
    "\n",
    "- **Алгоритмическая сложность в худшем случае** - $??$\n",
    "\n",
    "- **Сложность по затратам памяти в худшем случае** - $??$"
   ]
  },
  {
   "cell_type": "markdown",
   "id": "59808f24-7abb-49fa-b08e-b00497f3124c",
   "metadata": {
    "tags": []
   },
   "source": [
    "### Описание алгоритма\n",
    "\n",
    "Алгоритм переводит натуральное число из десятичной систему счисления в систему счисления с основанием N ¯\\\\_(ツ)_/¯"
   ]
  },
  {
   "cell_type": "markdown",
   "id": "0489262d-7178-4b12-9856-bab248fa9b83",
   "metadata": {
    "tags": []
   },
   "source": [
    "### Блок-схемы алгоритма"
   ]
  },
  {
   "cell_type": "markdown",
   "id": "0d87f7ef-8239-4866-b7e2-2d365164d6c4",
   "metadata": {},
   "source": [
    "#### С рекурсией"
   ]
  },
  {
   "cell_type": "markdown",
   "id": "4d5521de-d1fb-4285-853e-361dacfb1eea",
   "metadata": {},
   "source": [
    "![1](src/ASD_LW3_1.jpg)"
   ]
  },
  {
   "cell_type": "markdown",
   "id": "d4f97828-e907-41e1-8c12-23a25d4b9ece",
   "metadata": {},
   "source": [
    "#### Без рекурсиии"
   ]
  },
  {
   "cell_type": "markdown",
   "id": "74be15a1-5f35-4b03-a685-265d797ec5db",
   "metadata": {},
   "source": [
    "![1](src/ASD_LW3_2.jpg)"
   ]
  },
  {
   "cell_type": "markdown",
   "id": "1f4f835e-58af-454b-8611-2ee115fdb8ac",
   "metadata": {
    "tags": []
   },
   "source": [
    "### Реализация алгоритма"
   ]
  },
  {
   "cell_type": "code",
   "execution_count": 1,
   "id": "deca41ce-8304-4616-833b-0554de03b7fe",
   "metadata": {},
   "outputs": [],
   "source": [
    "from functools import wraps\n",
    "import time\n",
    "\n",
    "def time_deco(func):\n",
    "    def wrap(*args, **kwargs):\n",
    "        time_beg = time.time()\n",
    "        a = func(*args, **kwargs)\n",
    "        time_end = time.time()\n",
    "        print(\"Time spent:\", (time_end - time_beg))\n",
    "        return a\n",
    "    return wrap"
   ]
  },
  {
   "cell_type": "markdown",
   "id": "1d47526a-06cb-4300-9743-1cfa3f27c945",
   "metadata": {
    "tags": []
   },
   "source": [
    "#### С рекурсией"
   ]
  },
  {
   "cell_type": "code",
   "execution_count": 2,
   "id": "2d808623-35af-43bb-bd64-ecf9aa587d41",
   "metadata": {},
   "outputs": [],
   "source": [
    "def dec_to_n_base(number: int, n: int, is_main=True):\n",
    "    result = []\n",
    "    if number >= n:\n",
    "        result = dec_to_n_base(number // n, n, is_main=False)\n",
    "    result.append(number % n)\n",
    "    if not is_main:\n",
    "        return result\n",
    "    if is_main:\n",
    "        result = ''.join([str(x) for x in result])\n",
    "        return result"
   ]
  },
  {
   "cell_type": "markdown",
   "id": "08217f96-3789-45c1-81aa-82a8ba2d86b4",
   "metadata": {},
   "source": [
    "#### Без рекурсии"
   ]
  },
  {
   "cell_type": "code",
   "execution_count": 3,
   "id": "37412076-1e57-4564-b37a-7b014b757917",
   "metadata": {},
   "outputs": [],
   "source": [
    "@time_deco\n",
    "def dec_to_n_base2(number: int, n: int):\n",
    "    elements = []\n",
    "    while number >= 1:\n",
    "        elements.append(number % n)\n",
    "        number = number // n\n",
    "    elements.reverse()\n",
    "    result = ''.join([str(x) for x in elements])\n",
    "    return result"
   ]
  },
  {
   "cell_type": "markdown",
   "id": "37fea1c0-e620-4f18-9bb9-923e46ecc4d8",
   "metadata": {},
   "source": [
    "### Тестирование алгоритма"
   ]
  },
  {
   "cell_type": "markdown",
   "id": "fd24cd69-7199-4d62-99af-e3796a094aed",
   "metadata": {},
   "source": [
    "#### С рекурсией"
   ]
  },
  {
   "cell_type": "code",
   "execution_count": 4,
   "id": "cc91d0fd-abb8-46b6-892a-39f2d22594db",
   "metadata": {},
   "outputs": [],
   "source": [
    "assert int(dec_to_n_base(7, 2)) == 111, 'Ошибка в 1 тесте перевода в двоичный формат'\n",
    "assert int(dec_to_n_base(22, 2)) == 10110, 'Ошибка в 2 тесте перевода в двоичный формат'\n",
    "assert int(dec_to_n_base(22, 4)) == 112, 'Ошибка при переводе в систему счисления с основанием 4'\n",
    "assert int(dec_to_n_base(22, 6)) == 34, 'Ошибка при переводе в систему счисления с основанием 6'\n",
    "assert int(dec_to_n_base(22, 9)) == 24, 'Ошибка при переводе в систему счисления с основанием 9'\n",
    "assert int(dec_to_n_base(22, 10)) == 22, 'Ошибка при переводе в систему счисления с основанием 10'"
   ]
  },
  {
   "cell_type": "markdown",
   "id": "bec97d14-5d6c-4745-b5ad-7e96db763279",
   "metadata": {},
   "source": [
    "#### Без рекурсии"
   ]
  },
  {
   "cell_type": "code",
   "execution_count": 5,
   "id": "9a220a5d-25d3-4d70-bd7c-a9b0cd6c00a1",
   "metadata": {},
   "outputs": [
    {
     "name": "stdout",
     "output_type": "stream",
     "text": [
      "Time spent: 0.0\n",
      "Time spent: 0.0\n",
      "Time spent: 0.0\n",
      "Time spent: 0.0\n",
      "Time spent: 0.0\n",
      "Time spent: 0.0\n"
     ]
    }
   ],
   "source": [
    "assert int(dec_to_n_base2(7, 2)) == 111, 'Ошибка в 1 тесте перевода в двоичный формат'\n",
    "assert int(dec_to_n_base2(22, 2)) == 10110, 'Ошибка в 2 тесте перевода в двоичный формат'\n",
    "assert int(dec_to_n_base2(22, 4)) == 112, 'Ошибка при переводе в систему счисления с основанием 4'\n",
    "assert int(dec_to_n_base2(22, 6)) == 34, 'Ошибка при переводе в систему счисления с основанием 6'\n",
    "assert int(dec_to_n_base2(22, 9)) == 24, 'Ошибка при переводе в систему счисления с основанием 9'\n",
    "assert int(dec_to_n_base2(22, 10)) == 22, 'Ошибка при переводе в систему счисления с основанием 10'"
   ]
  },
  {
   "cell_type": "markdown",
   "id": "0a19079a-a7f8-4631-b1c6-78e9ee945e45",
   "metadata": {},
   "source": [
    "### Оценка верхней границы размерности"
   ]
  },
  {
   "cell_type": "markdown",
   "id": "451311da-5793-4c91-9be6-a9e7fe257460",
   "metadata": {},
   "source": [
    "#### С рекурсией"
   ]
  },
  {
   "cell_type": "code",
   "execution_count": 15,
   "id": "f73e1dd7-ce10-4c78-b621-713bf830f521",
   "metadata": {},
   "outputs": [],
   "source": [
    "a = dec_to_n_base(2**2950, 2) # Приблизительно при этих значениях алгоритм \"убивает\" ядро Jupyter-notebook"
   ]
  },
  {
   "cell_type": "markdown",
   "id": "9f85a3a1-2c61-417d-915b-67f89fc4fc22",
   "metadata": {},
   "source": [
    "#### Без рекурсии"
   ]
  },
  {
   "cell_type": "code",
   "execution_count": 7,
   "id": "89d8c54b-593d-419b-979f-c21bd4252fcf",
   "metadata": {},
   "outputs": [
    {
     "name": "stdout",
     "output_type": "stream",
     "text": [
      "Time spent: 9.379109859466553\n"
     ]
    }
   ],
   "source": [
    "a = dec_to_n_base2(3 ** 100000, 2) # Можно и больше, но тогда уже потребуется значительно больше времени на выполнение"
   ]
  },
  {
   "cell_type": "markdown",
   "id": "8d8af213-a633-4906-b55c-889427683893",
   "metadata": {},
   "source": [
    "### Мемоизация"
   ]
  },
  {
   "cell_type": "code",
   "execution_count": 8,
   "id": "c6fd72a8-1e80-46f5-859b-5ccd6bc0f267",
   "metadata": {},
   "outputs": [],
   "source": [
    "def memoized(func):\n",
    "    cache = {}\n",
    "    @wraps(func)\n",
    "    def wrap(*args, **kwargs):\n",
    "        if args not in cache:\n",
    "            cache[args] = func(*args, **kwargs)\n",
    "        return cache[args]\n",
    "    return wrap"
   ]
  },
  {
   "cell_type": "code",
   "execution_count": 9,
   "id": "1c6bbb8c-16b8-4420-90d1-97b0ae849ea4",
   "metadata": {
    "tags": []
   },
   "outputs": [],
   "source": [
    "@memoized\n",
    "def dec_to_n_base_mem(number: int, n: int, is_main=True):\n",
    "    result = []\n",
    "    if number >= n:\n",
    "        result = dec_to_n_base_mem(number // n, n, is_main=False)\n",
    "        if type(result) == str:\n",
    "            result = list(result)\n",
    "    result.append(number % n)\n",
    "    if not is_main:\n",
    "        return result\n",
    "    if is_main:\n",
    "        result = ''.join([str(x) for x in result])\n",
    "        return result"
   ]
  },
  {
   "cell_type": "code",
   "execution_count": 10,
   "id": "cb25e758-ba6b-4d31-bc90-1931069048e5",
   "metadata": {},
   "outputs": [],
   "source": [
    "assert int(dec_to_n_base_mem(22, 2)) == 10110, 'Ошибка при переводе в двоичный формат'\n",
    "assert int(dec_to_n_base_mem(22, 4)) == 112, 'Ошибка при переводе в систему счисления с основанием 4'\n",
    "assert int(dec_to_n_base_mem(22, 6)) == 34, 'Ошибка при переводе в систему счисления с основанием 6'\n",
    "assert int(dec_to_n_base_mem(22, 9)) == 24, 'Ошибка при переводе в систему счисления с основанием 9'\n",
    "assert int(dec_to_n_base_mem(22, 10)) == 22, 'Ошибка при переводе в систему счисления с основанием 10'"
   ]
  },
  {
   "cell_type": "code",
   "execution_count": 11,
   "id": "7a557f4a-9683-4f70-adf5-99758df7f496",
   "metadata": {},
   "outputs": [
    {
     "name": "stdout",
     "output_type": "stream",
     "text": [
      "--- 0.004999876022338867 seconds ---\n"
     ]
    }
   ],
   "source": [
    "start_time = time.time()\n",
    "a = dec_to_n_base_mem(2**1400, 2)\n",
    "print(\"--- %s seconds ---\" % (time.time() - start_time))"
   ]
  },
  {
   "cell_type": "code",
   "execution_count": 12,
   "id": "622ef119-80c3-460e-b821-77a78a5083fc",
   "metadata": {},
   "outputs": [
    {
     "name": "stdout",
     "output_type": "stream",
     "text": [
      "--- 0.01200103759765625 seconds ---\n"
     ]
    }
   ],
   "source": [
    "start_time = time.time()\n",
    "a = dec_to_n_base_mem(2**2500, 2)\n",
    "print(\"--- %s seconds ---\" % (time.time() - start_time))"
   ]
  },
  {
   "cell_type": "code",
   "execution_count": 13,
   "id": "423d58cc-4202-4be3-a5f7-dd6d46c473b5",
   "metadata": {},
   "outputs": [
    {
     "name": "stdout",
     "output_type": "stream",
     "text": [
      "--- 0.0 seconds ---\n"
     ]
    }
   ],
   "source": [
    "start_time = time.time()\n",
    "a = dec_to_n_base_mem(2**2000, 2)\n",
    "print(\"--- %s seconds ---\" % (time.time() - start_time))"
   ]
  },
  {
   "cell_type": "markdown",
   "id": "da70437a-8d1e-4f02-80e8-a9cc1a483e1a",
   "metadata": {},
   "source": [
    "### Сравнение Memoized-версии рекурсии с версией без рекурсии"
   ]
  },
  {
   "cell_type": "markdown",
   "id": "b24e2e51-3085-468a-a03f-756d2d3f37eb",
   "metadata": {},
   "source": [
    "Результаты Memoized-версии приведены выше, ниже запустим версию без рекурсии"
   ]
  },
  {
   "cell_type": "code",
   "execution_count": 14,
   "id": "9e39e351-13d3-4fc8-be70-627f4d867321",
   "metadata": {},
   "outputs": [
    {
     "name": "stdout",
     "output_type": "stream",
     "text": [
      "Time spent: 0.0010020732879638672\n",
      "Time spent: 0.0029973983764648438\n",
      "Time spent: 0.002002716064453125\n"
     ]
    }
   ],
   "source": [
    "a = dec_to_n_base2(2**1400, 2)\n",
    "a = dec_to_n_base2(2**2500, 2)\n",
    "a = dec_to_n_base2(2**2000, 2)"
   ]
  },
  {
   "cell_type": "markdown",
   "id": "d7c3083a-3541-42b9-ba70-739289b8f2b7",
   "metadata": {},
   "source": [
    "Мы можем наглядно заметить, что **версия без рекурсии** получается значительно быстрее в случае единичных запусков. Также версия без рекурсии не обладает ограничением на входные данные.\n",
    "Однако, в случае множественных запусков **Memorize-версии**, мы можем получить мгновенные решения, в связи с особенностями реализации."
   ]
  },
  {
   "cell_type": "markdown",
   "id": "da8279db-5f39-44a2-bec0-22b274509749",
   "metadata": {},
   "source": [
    "### Подведение итогов"
   ]
  },
  {
   "cell_type": "markdown",
   "id": "d1b6c328-349b-4589-93d2-1c0c669a703d",
   "metadata": {},
   "source": [
    "Как мы видим, у всех подходов есть свои преимущества и недостатки. Однако в общем случае при числе **number**, которое необходимо перевести в другую систему счисления, меньшем $2^{1000}$, разницы между алгоритмами нет. При необходимости проводить постоянные подсчеты огромных чисел рекомендуется использовать **Memorize-версию**. Для точечных расчетов для любых чисел имеет смысл использовать **версию алгоритма без рекурсии**."
   ]
  }
 ],
 "metadata": {
  "kernelspec": {
   "display_name": "Python 3 (ipykernel)",
   "language": "python",
   "name": "python3"
  },
  "language_info": {
   "codemirror_mode": {
    "name": "ipython",
    "version": 3
   },
   "file_extension": ".py",
   "mimetype": "text/x-python",
   "name": "python",
   "nbconvert_exporter": "python",
   "pygments_lexer": "ipython3",
   "version": "3.10.9"
  }
 },
 "nbformat": 4,
 "nbformat_minor": 5
}
