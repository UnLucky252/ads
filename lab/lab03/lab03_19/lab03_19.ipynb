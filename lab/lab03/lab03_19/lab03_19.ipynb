{
 "cells": [
  {
   "cell_type": "markdown",
   "id": "04dd8651-a9eb-4ac3-8793-2b65eb162964",
   "metadata": {},
   "source": [
    "# Лабораторная работа 3. Итеративные и рекурсивные алгоритмы\n",
    "\n",
    "### Вариант 19\n",
    "\n",
    "**Цель работы:** изучить рекурсивные алгоритмы и рекурсивные структуры данных; научиться проводить анализ итеративных и рекурсивных процедур; исследовать эффективность итеративных и  рекурсивных процедур при реализации на ПЭВМ."
   ]
  },
  {
   "cell_type": "code",
   "execution_count": 55,
   "id": "7001df31-51d6-463e-b5da-980cee1aff45",
   "metadata": {
    "tags": []
   },
   "outputs": [],
   "source": [
    "import time\n",
    "import pylab\n",
    "import numpy"
   ]
  },
  {
   "cell_type": "markdown",
   "id": "a75f5795-5696-4b62-935b-ef40549f9dce",
   "metadata": {},
   "source": [
    "### **Задача:**"
   ]
  },
  {
   "cell_type": "markdown",
   "id": "efaacd93-0e5c-400e-b974-4051c5fe8803",
   "metadata": {},
   "source": [
    "1.  Функция  $f(n)$ определена  для целых следующим образом:\n",
    "$$ f(n) =  \n",
    "\\left\\{\n",
    "  \\begin{array}{ll}\n",
    "    1, & \\text{если} n = 1,\\\\\n",
    "    \\sum\\limits_{i=2}^n f(n \\; div \\; i), & \\text{если} n \\geq 2.\\\\\n",
    "  \\end{array}\n",
    "\\right.$$"
   ]
  },
  {
   "cell_type": "markdown",
   "id": "3b0bd303-fdc0-4979-83c5-b7904d3d5e9f",
   "metadata": {},
   "source": [
    "### Реализация алгоритма"
   ]
  },
  {
   "cell_type": "code",
   "execution_count": 41,
   "id": "4aa8e76f-06fc-4470-a2c1-4ee4d70428d6",
   "metadata": {
    "tags": []
   },
   "outputs": [
    {
     "name": "stdout",
     "output_type": "stream",
     "text": [
      "6\n"
     ]
    }
   ],
   "source": [
    "def f_r(n):\n",
    "    if n == 1:\n",
    "        return 1\n",
    "    else:\n",
    "        s = 0  \n",
    "        for i in range(2, n+1):\n",
    "            s += f_r(n // i)\n",
    "        return s\n",
    "print(f_r(6))"
   ]
  },
  {
   "cell_type": "markdown",
   "id": "e02837a3-50b3-477a-a5ec-bdf38812d97e",
   "metadata": {
    "tags": []
   },
   "source": [
    "### Псевдокод"
   ]
  },
  {
   "cell_type": "code",
   "execution_count": null,
   "id": "0fc577b1-2a63-42a4-b88f-0fa86eaa1d53",
   "metadata": {},
   "outputs": [],
   "source": [
    "если n == 1\n",
    "    вернуть 1\n",
    "иначе \n",
    "    для i от 2 до n\n",
    "        сумма += функция(n // i)\n",
    "    вернуть сумму"
   ]
  },
  {
   "cell_type": "markdown",
   "id": "59187e47-0d1c-4c53-b17a-d1a650e54cbf",
   "metadata": {
    "tags": []
   },
   "source": [
    "### Тесты"
   ]
  },
  {
   "cell_type": "code",
   "execution_count": 88,
   "id": "47161bd6-a66e-4b19-912d-255bab6a702d",
   "metadata": {
    "tags": []
   },
   "outputs": [],
   "source": [
    "assert f_r(1) == 1, \"Ошибка при n = 1\"\n",
    "assert f_r(27) == 68, \"Ошибка при вычислении суммы\""
   ]
  },
  {
   "cell_type": "markdown",
   "id": "b819c8a9-ff37-4ccf-a1b8-f8a0f5e487a8",
   "metadata": {
    "tags": []
   },
   "source": [
    "## Задание 2"
   ]
  },
  {
   "cell_type": "markdown",
   "id": "29658368-3cc9-42b9-bebc-de815f6517ab",
   "metadata": {},
   "source": [
    "### Реализация функции без рекурсии"
   ]
  },
  {
   "cell_type": "code",
   "execution_count": 42,
   "id": "bfdd2b9a-35f1-4c51-b3f1-a748c9def5df",
   "metadata": {
    "tags": []
   },
   "outputs": [
    {
     "data": {
      "text/plain": [
       "68"
      ]
     },
     "execution_count": 42,
     "metadata": {},
     "output_type": "execute_result"
    }
   ],
   "source": [
    "def f_wr(n):\n",
    "    result = {1: 1}\n",
    "    for i in range(2, n+1):\n",
    "        s = 0\n",
    "        for j in range(2, i+1):\n",
    "            s += result[i // j]\n",
    "        result[i] = s\n",
    "    return result[n]\n",
    "\n",
    "f_wr(27)"
   ]
  },
  {
   "cell_type": "markdown",
   "id": "86ff4e37-4736-4cfb-a3d6-3afc7455117b",
   "metadata": {
    "tags": []
   },
   "source": [
    "## Задание 3"
   ]
  },
  {
   "cell_type": "markdown",
   "id": "215300d1-e3eb-4706-a487-b07e621cd516",
   "metadata": {},
   "source": [
    "![img](./rec.jpg)"
   ]
  },
  {
   "cell_type": "markdown",
   "id": "ed586867-c1de-41cc-818e-7dc7e681d60d",
   "metadata": {},
   "source": [
    "### Оценка верхней границы"
   ]
  },
  {
   "cell_type": "code",
   "execution_count": 86,
   "id": "ec994877-7335-4782-9b57-0a8b20444aa0",
   "metadata": {
    "tags": []
   },
   "outputs": [
    {
     "data": {
      "text/plain": [
       "1817299"
      ]
     },
     "execution_count": 86,
     "metadata": {},
     "output_type": "execute_result"
    }
   ],
   "source": [
    "f_r(10**4)"
   ]
  },
  {
   "cell_type": "code",
   "execution_count": 85,
   "id": "03b40f18-9176-4db2-bea4-64aafb1b2b6a",
   "metadata": {
    "tags": []
   },
   "outputs": [
    {
     "data": {
      "text/plain": [
       "1817299"
      ]
     },
     "execution_count": 85,
     "metadata": {},
     "output_type": "execute_result"
    }
   ],
   "source": [
    "f_wr(10**4)"
   ]
  },
  {
   "cell_type": "code",
   "execution_count": 87,
   "id": "59922794-2208-409c-a045-4f5b37603db3",
   "metadata": {
    "tags": []
   },
   "outputs": [
    {
     "ename": "KeyboardInterrupt",
     "evalue": "",
     "output_type": "error",
     "traceback": [
      "\u001b[1;31m---------------------------------------------------------------------------\u001b[0m",
      "\u001b[1;31mKeyboardInterrupt\u001b[0m                         Traceback (most recent call last)",
      "Cell \u001b[1;32mIn[87], line 1\u001b[0m\n\u001b[1;32m----> 1\u001b[0m \u001b[43mf_r\u001b[49m\u001b[43m(\u001b[49m\u001b[38;5;241;43m10\u001b[39;49m\u001b[38;5;241;43m*\u001b[39;49m\u001b[38;5;241;43m*\u001b[39;49m\u001b[38;5;241;43m5\u001b[39;49m\u001b[43m)\u001b[49m\n",
      "Cell \u001b[1;32mIn[41], line 8\u001b[0m, in \u001b[0;36mf_r\u001b[1;34m(n)\u001b[0m\n\u001b[0;32m      5\u001b[0m s \u001b[38;5;241m=\u001b[39m \u001b[38;5;241m0\u001b[39m  \n\u001b[0;32m      6\u001b[0m \u001b[38;5;28;01mfor\u001b[39;00m i \u001b[38;5;129;01min\u001b[39;00m \u001b[38;5;28mrange\u001b[39m(\u001b[38;5;241m2\u001b[39m, n\u001b[38;5;241m+\u001b[39m\u001b[38;5;241m1\u001b[39m):\n\u001b[0;32m      7\u001b[0m     \u001b[38;5;66;03m# print (\"i\", i)\u001b[39;00m\n\u001b[1;32m----> 8\u001b[0m     s \u001b[38;5;241m+\u001b[39m\u001b[38;5;241m=\u001b[39m \u001b[43mf_r\u001b[49m\u001b[43m(\u001b[49m\u001b[43mn\u001b[49m\u001b[43m \u001b[49m\u001b[38;5;241;43m/\u001b[39;49m\u001b[38;5;241;43m/\u001b[39;49m\u001b[43m \u001b[49m\u001b[43mi\u001b[49m\u001b[43m)\u001b[49m\n\u001b[0;32m      9\u001b[0m \u001b[38;5;28;01mreturn\u001b[39;00m s\n",
      "Cell \u001b[1;32mIn[41], line 8\u001b[0m, in \u001b[0;36mf_r\u001b[1;34m(n)\u001b[0m\n\u001b[0;32m      5\u001b[0m s \u001b[38;5;241m=\u001b[39m \u001b[38;5;241m0\u001b[39m  \n\u001b[0;32m      6\u001b[0m \u001b[38;5;28;01mfor\u001b[39;00m i \u001b[38;5;129;01min\u001b[39;00m \u001b[38;5;28mrange\u001b[39m(\u001b[38;5;241m2\u001b[39m, n\u001b[38;5;241m+\u001b[39m\u001b[38;5;241m1\u001b[39m):\n\u001b[0;32m      7\u001b[0m     \u001b[38;5;66;03m# print (\"i\", i)\u001b[39;00m\n\u001b[1;32m----> 8\u001b[0m     s \u001b[38;5;241m+\u001b[39m\u001b[38;5;241m=\u001b[39m \u001b[43mf_r\u001b[49m\u001b[43m(\u001b[49m\u001b[43mn\u001b[49m\u001b[43m \u001b[49m\u001b[38;5;241;43m/\u001b[39;49m\u001b[38;5;241;43m/\u001b[39;49m\u001b[43m \u001b[49m\u001b[43mi\u001b[49m\u001b[43m)\u001b[49m\n\u001b[0;32m      9\u001b[0m \u001b[38;5;28;01mreturn\u001b[39;00m s\n",
      "    \u001b[1;31m[... skipping similar frames: f_r at line 8 (5 times)]\u001b[0m\n",
      "Cell \u001b[1;32mIn[41], line 8\u001b[0m, in \u001b[0;36mf_r\u001b[1;34m(n)\u001b[0m\n\u001b[0;32m      5\u001b[0m s \u001b[38;5;241m=\u001b[39m \u001b[38;5;241m0\u001b[39m  \n\u001b[0;32m      6\u001b[0m \u001b[38;5;28;01mfor\u001b[39;00m i \u001b[38;5;129;01min\u001b[39;00m \u001b[38;5;28mrange\u001b[39m(\u001b[38;5;241m2\u001b[39m, n\u001b[38;5;241m+\u001b[39m\u001b[38;5;241m1\u001b[39m):\n\u001b[0;32m      7\u001b[0m     \u001b[38;5;66;03m# print (\"i\", i)\u001b[39;00m\n\u001b[1;32m----> 8\u001b[0m     s \u001b[38;5;241m+\u001b[39m\u001b[38;5;241m=\u001b[39m \u001b[43mf_r\u001b[49m\u001b[43m(\u001b[49m\u001b[43mn\u001b[49m\u001b[43m \u001b[49m\u001b[38;5;241;43m/\u001b[39;49m\u001b[38;5;241;43m/\u001b[39;49m\u001b[43m \u001b[49m\u001b[43mi\u001b[49m\u001b[43m)\u001b[49m\n\u001b[0;32m      9\u001b[0m \u001b[38;5;28;01mreturn\u001b[39;00m s\n",
      "Cell \u001b[1;32mIn[41], line 1\u001b[0m, in \u001b[0;36mf_r\u001b[1;34m(n)\u001b[0m\n\u001b[1;32m----> 1\u001b[0m \u001b[38;5;28;01mdef\u001b[39;00m \u001b[38;5;21mf_r\u001b[39m(n):\n\u001b[0;32m      2\u001b[0m     \u001b[38;5;28;01mif\u001b[39;00m n \u001b[38;5;241m==\u001b[39m \u001b[38;5;241m1\u001b[39m:\n\u001b[0;32m      3\u001b[0m         \u001b[38;5;28;01mreturn\u001b[39;00m \u001b[38;5;241m1\u001b[39m\n",
      "\u001b[1;31mKeyboardInterrupt\u001b[0m: "
     ]
    }
   ],
   "source": [
    "f_r(10**5)"
   ]
  },
  {
   "cell_type": "code",
   "execution_count": null,
   "id": "627d0012-ed13-448f-93d5-a52b5acb5323",
   "metadata": {
    "tags": []
   },
   "outputs": [],
   "source": [
    "f_wr(10**5)"
   ]
  },
  {
   "cell_type": "markdown",
   "id": "79593a4d-5334-43e6-bf66-c8bb0924be5b",
   "metadata": {},
   "source": [
    "### Мемоизация"
   ]
  },
  {
   "cell_type": "code",
   "execution_count": 64,
   "id": "56b68e90-fba9-40f0-b2ec-7973b2cdff64",
   "metadata": {
    "tags": []
   },
   "outputs": [
    {
     "name": "stdout",
     "output_type": "stream",
     "text": [
      "68\n"
     ]
    }
   ],
   "source": [
    "def memoized(func):\n",
    "    cache = {}\n",
    "    def wrapper(n):\n",
    "        if n not in cache:\n",
    "            cache[n] = func(n)\n",
    "        return cache[n]\n",
    "    return wrapper\n",
    "\n",
    "@memoized\n",
    "def function_m(n):\n",
    "    if n == 1:\n",
    "        return 1\n",
    "    s = 0\n",
    "    for i in range(2, n+1):\n",
    "        s += f(n // i)\n",
    "    return s\n",
    "print(function_m(27))"
   ]
  },
  {
   "cell_type": "code",
   "execution_count": 65,
   "id": "9af055ff-adf9-4ce6-9b5e-08a5f29f7978",
   "metadata": {
    "tags": []
   },
   "outputs": [
    {
     "name": "stdout",
     "output_type": "stream",
     "text": [
      "68\n"
     ]
    }
   ],
   "source": [
    "cache = {}\n",
    "\n",
    "def function(n):\n",
    "    if n in cache:\n",
    "        return cache[n]\n",
    "    else:\n",
    "        if n == 1:\n",
    "            cache[1] = 1\n",
    "            return 1\n",
    "        s = 0\n",
    "        for i in range(2, n+1):\n",
    "            s += f(n // i)\n",
    "        cache[n] = s\n",
    "        return s\n",
    "print(function(27))"
   ]
  },
  {
   "cell_type": "markdown",
   "id": "d3ceec0d-8c74-448b-931f-23f7c3c71a1e",
   "metadata": {
    "tags": []
   },
   "source": [
    "### График"
   ]
  },
  {
   "cell_type": "code",
   "execution_count": 66,
   "id": "d340a468-57a5-408a-8305-d2875442044a",
   "metadata": {
    "tags": []
   },
   "outputs": [],
   "source": [
    "times_rec = {}\n",
    "times_without_rec = {}\n",
    "times_memo = {}"
   ]
  },
  {
   "cell_type": "markdown",
   "id": "d6dae90b-a70b-4b79-ba99-c2bc4ec15d1a",
   "metadata": {},
   "source": [
    "##### Рекурсивно"
   ]
  },
  {
   "cell_type": "code",
   "execution_count": 67,
   "id": "c0031dcc-d182-4d65-ad8e-d597109846c9",
   "metadata": {
    "tags": []
   },
   "outputs": [
    {
     "name": "stdout",
     "output_type": "stream",
     "text": [
      "0.0\n"
     ]
    }
   ],
   "source": [
    "n = 50\n",
    "start = time.time()\n",
    "\n",
    "f_r(n)\n",
    "\n",
    "end = time.time()\n",
    "t = end * 10**6 - start * 10**6\n",
    "times_rec[n] = t\n",
    "print(t)"
   ]
  },
  {
   "cell_type": "code",
   "execution_count": 68,
   "id": "2d42dbe2-73e3-45f4-882f-52ffbe33e1f3",
   "metadata": {
    "tags": []
   },
   "outputs": [
    {
     "name": "stdout",
     "output_type": "stream",
     "text": [
      "3988.5\n"
     ]
    }
   ],
   "source": [
    "n = 500\n",
    "start = time.time()\n",
    "\n",
    "f_r(n)\n",
    "\n",
    "end = time.time()\n",
    "t = end * 10**6 - start * 10**6\n",
    "times_rec[n] = t\n",
    "print(t)"
   ]
  },
  {
   "cell_type": "code",
   "execution_count": 69,
   "id": "a85069c4-d159-4347-8185-7d71c151330f",
   "metadata": {
    "tags": []
   },
   "outputs": [
    {
     "name": "stdout",
     "output_type": "stream",
     "text": [
      "172537.25\n"
     ]
    }
   ],
   "source": [
    "n = 5000\n",
    "start = time.time()\n",
    "\n",
    "f_r(n)\n",
    "\n",
    "end = time.time()\n",
    "t = end * 10**6 - start * 10**6\n",
    "times_rec[n] = t\n",
    "print(t)"
   ]
  },
  {
   "cell_type": "markdown",
   "id": "9b09a0bd-9c7b-48bb-81b4-8bcd7dc21d4b",
   "metadata": {},
   "source": [
    "##### Без рекурсии"
   ]
  },
  {
   "cell_type": "code",
   "execution_count": 70,
   "id": "8ce7a15e-61b5-446b-a0e8-c78fe4b0fdf4",
   "metadata": {
    "tags": []
   },
   "outputs": [
    {
     "name": "stdout",
     "output_type": "stream",
     "text": [
      "0.0\n"
     ]
    }
   ],
   "source": [
    "n = 50\n",
    "start = time.time()\n",
    "\n",
    "f_wr(n)\n",
    "\n",
    "end = time.time()\n",
    "t = end * 10**6 - start * 10**6\n",
    "times_without_rec[n] = t\n",
    "print(t)"
   ]
  },
  {
   "cell_type": "code",
   "execution_count": 71,
   "id": "915f8983-6d0d-4f2d-bef9-75eaeb141069",
   "metadata": {
    "tags": []
   },
   "outputs": [
    {
     "name": "stdout",
     "output_type": "stream",
     "text": [
      "12000.0\n"
     ]
    }
   ],
   "source": [
    "n = 500\n",
    "start = time.time()\n",
    "\n",
    "f_wr(n)\n",
    "\n",
    "end = time.time()\n",
    "t = end * 10**6 - start * 10**6\n",
    "times_without_rec[n] = t\n",
    "print(t)"
   ]
  },
  {
   "cell_type": "code",
   "execution_count": 72,
   "id": "9d1feea5-ba22-4eec-912c-4c92060ad30d",
   "metadata": {
    "tags": []
   },
   "outputs": [
    {
     "name": "stdout",
     "output_type": "stream",
     "text": [
      "1308503.0\n"
     ]
    }
   ],
   "source": [
    "n = 5000\n",
    "start = time.time()\n",
    "\n",
    "f_wr(n)\n",
    "\n",
    "end = time.time()\n",
    "t = end * 10**6 - start * 10**6\n",
    "times_without_rec[n] = t\n",
    "print(t)"
   ]
  },
  {
   "cell_type": "markdown",
   "id": "f5b7e76d-080a-4968-b34a-e299e5a3f15e",
   "metadata": {
    "tags": []
   },
   "source": [
    "##### Memoized"
   ]
  },
  {
   "cell_type": "code",
   "execution_count": 73,
   "id": "6883f50e-d4b7-4830-9e63-0b2be74a361c",
   "metadata": {
    "tags": []
   },
   "outputs": [
    {
     "name": "stdout",
     "output_type": "stream",
     "text": [
      "997.75\n"
     ]
    }
   ],
   "source": [
    "n = 50\n",
    "start = time.time()\n",
    "\n",
    "function_m(n)\n",
    "\n",
    "end = time.time()\n",
    "t = end * 10**6 - start * 10**6\n",
    "times_memo[n] = t\n",
    "print(t)"
   ]
  },
  {
   "cell_type": "code",
   "execution_count": 74,
   "id": "41dc5778-cb76-4115-9189-42d9a808eb9c",
   "metadata": {
    "tags": []
   },
   "outputs": [
    {
     "name": "stdout",
     "output_type": "stream",
     "text": [
      "16962.25\n"
     ]
    }
   ],
   "source": [
    "n = 500\n",
    "start = time.time()\n",
    "\n",
    "function_m(n)\n",
    "\n",
    "end = time.time()\n",
    "t = end * 10**6 - start * 10**6\n",
    "times_memo[n] = t\n",
    "print(t)"
   ]
  },
  {
   "cell_type": "code",
   "execution_count": 75,
   "id": "ac963ea3-42d1-4408-8999-bce84124c580",
   "metadata": {
    "tags": []
   },
   "outputs": [
    {
     "name": "stdout",
     "output_type": "stream",
     "text": [
      "637294.5\n"
     ]
    }
   ],
   "source": [
    "n = 5000\n",
    "start = time.time()\n",
    "\n",
    "function_m(n)\n",
    "\n",
    "end = time.time()\n",
    "t = end * 10**6 - start * 10**6\n",
    "times_memo[n] = t\n",
    "print(t)"
   ]
  },
  {
   "cell_type": "code",
   "execution_count": 82,
   "id": "749863b0-86b5-4115-a646-687cbdbdfb64",
   "metadata": {
    "tags": []
   },
   "outputs": [
    {
     "data": {
      "image/png": "[encoded data removed]",
      "text/plain": [
       "<Figure size 640x480 with 1 Axes>"
      ]
     },
     "metadata": {},
     "output_type": "display_data"
    }
   ],
   "source": [
    "import matplotlib.pyplot as plt\n",
    "import numpy as np\n",
    "plt.plot(times_rec.keys(), times_rec.values(), times_without_rec.keys(), times_without_rec.values(), times_memo.keys(), times_memo.values())\n",
    "plt.legend([\"r\", \"wr\", \"mem\"])\n",
    "plt.ylabel('time, ms')\n",
    "plt.xlabel('epsilon')\n",
    "plt.grid(True)\n",
    "plt.show()"
   ]
  }
 ],
 "metadata": {
  "kernelspec": {
   "display_name": "Python 3 (ipykernel)",
   "language": "python",
   "name": "python3"
  },
  "language_info": {
   "codemirror_mode": {
    "name": "ipython",
    "version": 3
   },
   "file_extension": ".py",
   "mimetype": "text/x-python",
   "name": "python",
   "nbconvert_exporter": "python",
   "pygments_lexer": "ipython3",
   "version": "3.11.1"
  }
 },
 "nbformat": 4,
 "nbformat_minor": 5
}
