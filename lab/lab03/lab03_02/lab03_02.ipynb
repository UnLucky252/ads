{
 "cells": [
  {
   "cell_type": "code",
   "execution_count": 2,
   "id": "a8be70c8",
   "metadata": {
    "slideshow": {
     "slide_type": "skip"
    }
   },
   "outputs": [],
   "source": [
    "from wand.image import Image as WImage"
   ]
  },
  {
   "cell_type": "markdown",
   "id": "d3d67758",
   "metadata": {
    "slideshow": {
     "slide_type": "slide"
    }
   },
   "source": [
    "# Лабораторная работа 3. Инеративные и рекурсивные алгоритмы\n",
    "\n",
    "**Цель работы:** изучить рекурсивные алгоритмы и рекурсивные структуры данных; научиться проводить анализ итеративных и рекурсивных процедур; исследовать эффективность итеративных и  рекурсивных процедур при реализации на ПЭВМ.\n",
    "\n",
    "**Продолжительность работы:** - 4 часа. \n",
    "\n",
    "**Мягкий дедлайн (10 баллов)**: 15.04.2023 \n",
    "\n",
    "**Жесткий дедлайн (5 баллов)**: 29.04.2023\n",
    "\n"
   ]
  },
  {
   "cell_type": "markdown",
   "id": "6a64dda7",
   "metadata": {
    "slideshow": {
     "slide_type": "slide"
    }
   },
   "source": [
    "## Теоретические сведения\n",
    "\n"
   ]
  },
  {
   "cell_type": "markdown",
   "id": "d53f183e",
   "metadata": {},
   "source": [
    "Реализуйте рекурсивный алгоритм для вычисления квадратного корня числа. В качестве исходных данных используйте тройку чисел \n",
    "N, A, E, где \n",
    "N - число, из которого требуется извлечь квадратный корень, \n",
    "A - приближенное значение корня, \n",
    "E - допустимая ошибка результата."
   ]
  },
  {
   "cell_type": "markdown",
   "id": "11bddc85",
   "metadata": {
    "slideshow": {
     "slide_type": "slide"
    }
   },
   "source": [
    "### Классификация алгоритмов"
   ]
  },
  {
   "cell_type": "markdown",
   "id": "0cd3d9d7",
   "metadata": {
    "slideshow": {
     "slide_type": "slide"
    }
   },
   "source": [
    "### Реализация с рекурсией"
   ]
  },
  {
   "cell_type": "code",
   "execution_count": 1,
   "id": "0cf784ce",
   "metadata": {
    "slideshow": {
     "slide_type": "-"
    }
   },
   "outputs": [
    {
     "name": "stdout",
     "output_type": "stream",
     "text": [
      "Квадратный корень числа 9 с допустимой ошибкой 0.0001 равен 3.000000001396984\n"
     ]
    }
   ],
   "source": [
    "def sqrt_recursive(N, A, E):\n",
    "    if abs(A * A - N) < E:\n",
    "        return A\n",
    "    else:\n",
    "        next_approximation = (A + N / A) / 2\n",
    "        return sqrt_recursive(N, next_approximation, E)\n",
    "\n",
    "N = 9\n",
    "A = 1\n",
    "E = 0.0001\n",
    "result = sqrt_recursive(N, A, E)\n",
    "print(\"Квадратный корень числа\", N, \"с допустимой ошибкой\", E, \"равен\", result)\n"
   ]
  },
  {
   "cell_type": "markdown",
   "id": "64866eb8",
   "metadata": {
    "slideshow": {
     "slide_type": "slide"
    }
   },
   "source": [
    "### Реализация без рекурсии"
   ]
  },
  {
   "cell_type": "code",
   "execution_count": 2,
   "id": "7fcb034a",
   "metadata": {},
   "outputs": [
    {
     "name": "stdout",
     "output_type": "stream",
     "text": [
      "Квадратный корень числа 9 с допустимой ошибкой 0.0001 равен 3.000000001396984\n"
     ]
    }
   ],
   "source": [
    "def sqrt_non_recursive(N, A, E):\n",
    "    while abs(A * A - N) >= E:\n",
    "        A = (A + N / A) / 2\n",
    "    return A\n",
    "\n",
    "N = 9\n",
    "A = 1\n",
    "E = 0.0001\n",
    "result = sqrt_non_recursive(N, A, E)\n",
    "print(\"Квадратный корень числа\", N, \"с допустимой ошибкой\", E, \"равен\", result)\n"
   ]
  },
  {
   "attachments": {
    "diagram.png": {
     "image/png": "[encoded data removed]"
    }
   },
   "cell_type": "markdown",
   "id": "77375732",
   "metadata": {},
   "source": [
    "### Блок-схема![diagram.png](attachment:diagram.png)"
   ]
  },
  {
   "cell_type": "markdown",
   "id": "fd40e477",
   "metadata": {
    "slideshow": {
     "slide_type": "slide"
    }
   },
   "source": [
    "### Оцените верхнюю границу размерности задачи, для которой при рекурсивной реализации не происходит переполнение стека вызовов;"
   ]
  },
  {
   "cell_type": "code",
   "execution_count": 7,
   "id": "af04a3d5",
   "metadata": {},
   "outputs": [
    {
     "name": "stdout",
     "output_type": "stream",
     "text": [
      "3000\n"
     ]
    }
   ],
   "source": [
    "import sys\n",
    "print(sys.getrecursionlimit())"
   ]
  },
  {
   "cell_type": "markdown",
   "id": "97b7f05b",
   "metadata": {
    "slideshow": {
     "slide_type": "slide"
    }
   },
   "source": [
    "### Mодернизируйте рекурсивную реализацию так, чтобы сохранялись промежуточные результаты вызова рекурсии (реализуйте подобный механизм вручную, а также, с помощью декоратора @memoized);"
   ]
  },
  {
   "cell_type": "code",
   "execution_count": 10,
   "id": "515c2367",
   "metadata": {},
   "outputs": [],
   "source": [
    "def sqrt_recursive_modified(N, A, E, memo=None):\n",
    "    if memo is None:\n",
    "        memo = {}\n",
    "    \n",
    "    if abs(A * A - N) < E:\n",
    "        return A\n",
    "\n",
    "    if A not in memo:\n",
    "        next_approximation = (A + N / A) / 2\n",
    "        memo[A] = sqrt_recursive_modified(N, next_approximation, E, memo)\n",
    "\n",
    "    return memo[A]\n",
    "\n",
    "def memoized(func):\n",
    "    cache = {}\n",
    "    \n",
    "    def memoized_func(*args, **kwargs):\n",
    "        key = (args, tuple(kwargs.items()))\n",
    "        if key not in cache:\n",
    "            cache[key] = func(*args, **kwargs)\n",
    "        return cache[key]\n",
    "    \n",
    "    return memoized_func\n",
    "\n",
    "@memoized\n",
    "def sqrt_recursive_memoized(N, A, E):\n",
    "    if abs(A * A - N) < E:\n",
    "        return A\n",
    "    else:\n",
    "        next_approximation = (A + N / A) / 2\n",
    "        return sqrt_recursive_memoized(N, next_approximation, E)\n"
   ]
  },
  {
   "cell_type": "markdown",
   "id": "be51823b",
   "metadata": {
    "slideshow": {
     "slide_type": "slide"
    }
   },
   "source": [
    "### Сравните производительность реализованных алгоритмов (количество итераций (соответственно вызовов рекурсии) подбирайте исходя из условий задачи)."
   ]
  },
  {
   "cell_type": "code",
   "execution_count": 11,
   "id": "42427ee7",
   "metadata": {},
   "outputs": [
    {
     "name": "stdout",
     "output_type": "stream",
     "text": [
      "Нерекурсивный алгоритм: 0.003166871960274875\n",
      "Обычный рекурсивный алгоритм: 0.0040139720076695085\n",
      "Модифицированный рекурсивный алгоритм: 0.006062737025786191\n",
      "Рекурсивный алгоритм с декоратором @memoized: 0.0005767979891970754\n"
     ]
    }
   ],
   "source": [
    "import timeit\n",
    "\n",
    "N = 1234567\n",
    "A = 1\n",
    "E = 0.00001\n",
    "\n",
    "# Нерекурсивная функция\n",
    "def sqrt_iterative(N, A, E):\n",
    "    while abs(A * A - N) >= E:\n",
    "        A = (A + N / A) / 2\n",
    "    return A\n",
    "\n",
    "# Обычная рекурсивная функция\n",
    "def sqrt_recursive(N, A, E):\n",
    "    if abs(A * A - N) < E:\n",
    "        return A\n",
    "    else:\n",
    "        return sqrt_recursive(N, (A + N / A) / 2, E)\n",
    "\n",
    "# Модифицированный рекурсивный алгоритм с ручной мемоизацией\n",
    "def sqrt_recursive_modified(N, A, E, memo=None):\n",
    "    if memo is None:\n",
    "        memo = {}\n",
    "    \n",
    "    if abs(A * A - N) < E:\n",
    "        return A\n",
    "\n",
    "    if A not in memo:\n",
    "        next_approximation = (A + N / A) / 2\n",
    "        memo[A] = sqrt_recursive_modified(N, next_approximation, E, memo)\n",
    "\n",
    "    return memo[A]\n",
    "\n",
    "# Рекурсивный алгоритм с декоратором @memoized\n",
    "@memoized\n",
    "def sqrt_recursive_memoized(N, A, E):\n",
    "    if abs(A * A - N) < E:\n",
    "        return A\n",
    "    else:\n",
    "        next_approximation = (A + N / A) / 2\n",
    "        return sqrt_recursive_memoized(N, next_approximation, E)\n",
    "\n",
    "# Сравнение производительности\n",
    "iterative_time = timeit.timeit(lambda: sqrt_iterative(N, A, E), number=1000)\n",
    "recursive_time = timeit.timeit(lambda: sqrt_recursive(N, A, E), number=1000)\n",
    "modified_recursive_time = timeit.timeit(lambda: sqrt_recursive_modified(N, A, E), number=1000)\n",
    "memoized_recursive_time = timeit.timeit(lambda: sqrt_recursive_memoized(N, A, E), number=1000)\n",
    "\n",
    "print(\"Нерекурсивный алгоритм:\", iterative_time)\n",
    "print(\"Обычный рекурсивный алгоритм:\", recursive_time)\n",
    "print(\"Модифицированный рекурсивный алгоритм:\", modified_recursive_time)\n",
    "print(\"Рекурсивный алгоритм с декоратором @memoized:\", memoized_recursive_time)\n"
   ]
  },
  {
   "cell_type": "markdown",
   "id": "3d264181",
   "metadata": {},
   "source": [
    "## Литература\n",
    "\n",
    "Дональд Э. Кнут. Искусство программирования, том 2. Получисленные алгоритмы = The Art of Computer Programming, vol.2. Seminumerical Algorithms, 3-ed. — Вильямс, 2007. — С. 832. — ISBN 978-5-8459-0081-4.\n",
    "\n",
    "Роберт Седжвик. Фундаментальные алгоритмы на C. Анализ/Структуры данных/Сортировка/Поиск = Algorithms in C. Fundamentals/Data Structures/Sorting/Searching. — СПб.: ДиаСофтЮП, 2003. — С. 672. — ISBN 5-93772-081-4."
   ]
  }
 ],
 "metadata": {
  "celltoolbar": "Slideshow",
  "kernelspec": {
   "display_name": "Python 3 (ipykernel)",
   "language": "python",
   "name": "python3"
  },
  "language_info": {
   "codemirror_mode": {
    "name": "ipython",
    "version": 3
   },
   "file_extension": ".py",
   "mimetype": "text/x-python",
   "name": "python",
   "nbconvert_exporter": "python",
   "pygments_lexer": "ipython3",
   "version": "3.11.2"
  }
 },
 "nbformat": 4,
 "nbformat_minor": 5
}
